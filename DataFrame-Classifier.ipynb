{
 "cells": [
  {
   "cell_type": "code",
   "execution_count": 43,
   "metadata": {},
   "outputs": [],
   "source": [
    "import pandas as pd\n",
    "import numpy as np\n",
    "from sklearn.model_selection import train_test_split\n",
    "from sklearn.pipeline import Pipeline\n",
    "from sklearn.compose import ColumnTransformer\n",
    "from sklearn.preprocessing import OneHotEncoder, MinMaxScaler\n",
    "from sklearn.impute import SimpleImputer\n",
    "from sklearn.linear_model import LogisticRegression\n",
    "from lightgbm import LGBMClassifier\n",
    "from xgboost import XGBClassifier\n",
    "import optuna\n",
    "import optuna.visualization as vis\n",
    "from sklearn.metrics import accuracy_score, roc_auc_score, recall_score, precision_score\n",
    "from imblearn.over_sampling import RandomOverSampler\n",
    "import tensorflow as tf"
   ]
  },
  {
   "cell_type": "code",
   "execution_count": 2,
   "metadata": {},
   "outputs": [],
   "source": [
    "testPath = r'C:\\Users\\LENOVO\\OneDrive\\Desktop\\Python\\Datasets\\isis\\test-metadata.csv'\n",
    "trainPath = r'C:\\Users\\LENOVO\\OneDrive\\Desktop\\Python\\Datasets\\isis\\train-metadata.csv'"
   ]
  },
  {
   "cell_type": "code",
   "execution_count": 3,
   "metadata": {},
   "outputs": [
    {
     "name": "stderr",
     "output_type": "stream",
     "text": [
      "C:\\Users\\LENOVO\\AppData\\Local\\Temp\\ipykernel_34344\\1749218175.py:2: DtypeWarning: Columns (51,52) have mixed types. Specify dtype option on import or set low_memory=False.\n",
      "  trainData = pd.read_csv(trainPath)\n"
     ]
    }
   ],
   "source": [
    "testData = pd.read_csv(testPath)\n",
    "trainData = pd.read_csv(trainPath)"
   ]
  },
  {
   "cell_type": "code",
   "execution_count": 4,
   "metadata": {},
   "outputs": [],
   "source": [
    "trainColumns = set(trainData.columns)\n",
    "testColumns = set(testData.columns)"
   ]
  },
  {
   "cell_type": "code",
   "execution_count": 5,
   "metadata": {},
   "outputs": [
    {
     "data": {
      "text/plain": [
       "{'age_approx',\n",
       " 'anatom_site_general',\n",
       " 'attribution',\n",
       " 'clin_size_long_diam_mm',\n",
       " 'copyright_license',\n",
       " 'iddx_1',\n",
       " 'iddx_2',\n",
       " 'iddx_3',\n",
       " 'iddx_4',\n",
       " 'iddx_5',\n",
       " 'iddx_full',\n",
       " 'image_type',\n",
       " 'isic_id',\n",
       " 'lesion_id',\n",
       " 'mel_mitotic_index',\n",
       " 'mel_thick_mm',\n",
       " 'patient_id',\n",
       " 'sex',\n",
       " 'target',\n",
       " 'tbp_lv_A',\n",
       " 'tbp_lv_Aext',\n",
       " 'tbp_lv_B',\n",
       " 'tbp_lv_Bext',\n",
       " 'tbp_lv_C',\n",
       " 'tbp_lv_Cext',\n",
       " 'tbp_lv_H',\n",
       " 'tbp_lv_Hext',\n",
       " 'tbp_lv_L',\n",
       " 'tbp_lv_Lext',\n",
       " 'tbp_lv_areaMM2',\n",
       " 'tbp_lv_area_perim_ratio',\n",
       " 'tbp_lv_color_std_mean',\n",
       " 'tbp_lv_deltaA',\n",
       " 'tbp_lv_deltaB',\n",
       " 'tbp_lv_deltaL',\n",
       " 'tbp_lv_deltaLB',\n",
       " 'tbp_lv_deltaLBnorm',\n",
       " 'tbp_lv_dnn_lesion_confidence',\n",
       " 'tbp_lv_eccentricity',\n",
       " 'tbp_lv_location',\n",
       " 'tbp_lv_location_simple',\n",
       " 'tbp_lv_minorAxisMM',\n",
       " 'tbp_lv_nevi_confidence',\n",
       " 'tbp_lv_norm_border',\n",
       " 'tbp_lv_norm_color',\n",
       " 'tbp_lv_perimeterMM',\n",
       " 'tbp_lv_radial_color_std_max',\n",
       " 'tbp_lv_stdL',\n",
       " 'tbp_lv_stdLExt',\n",
       " 'tbp_lv_symm_2axis',\n",
       " 'tbp_lv_symm_2axis_angle',\n",
       " 'tbp_lv_x',\n",
       " 'tbp_lv_y',\n",
       " 'tbp_lv_z',\n",
       " 'tbp_tile_type'}"
      ]
     },
     "execution_count": 5,
     "metadata": {},
     "output_type": "execute_result"
    }
   ],
   "source": [
    "trainColumns"
   ]
  },
  {
   "cell_type": "code",
   "execution_count": 6,
   "metadata": {},
   "outputs": [
    {
     "data": {
      "text/plain": [
       "{'age_approx',\n",
       " 'anatom_site_general',\n",
       " 'attribution',\n",
       " 'clin_size_long_diam_mm',\n",
       " 'copyright_license',\n",
       " 'image_type',\n",
       " 'isic_id',\n",
       " 'patient_id',\n",
       " 'sex',\n",
       " 'tbp_lv_A',\n",
       " 'tbp_lv_Aext',\n",
       " 'tbp_lv_B',\n",
       " 'tbp_lv_Bext',\n",
       " 'tbp_lv_C',\n",
       " 'tbp_lv_Cext',\n",
       " 'tbp_lv_H',\n",
       " 'tbp_lv_Hext',\n",
       " 'tbp_lv_L',\n",
       " 'tbp_lv_Lext',\n",
       " 'tbp_lv_areaMM2',\n",
       " 'tbp_lv_area_perim_ratio',\n",
       " 'tbp_lv_color_std_mean',\n",
       " 'tbp_lv_deltaA',\n",
       " 'tbp_lv_deltaB',\n",
       " 'tbp_lv_deltaL',\n",
       " 'tbp_lv_deltaLB',\n",
       " 'tbp_lv_deltaLBnorm',\n",
       " 'tbp_lv_eccentricity',\n",
       " 'tbp_lv_location',\n",
       " 'tbp_lv_location_simple',\n",
       " 'tbp_lv_minorAxisMM',\n",
       " 'tbp_lv_nevi_confidence',\n",
       " 'tbp_lv_norm_border',\n",
       " 'tbp_lv_norm_color',\n",
       " 'tbp_lv_perimeterMM',\n",
       " 'tbp_lv_radial_color_std_max',\n",
       " 'tbp_lv_stdL',\n",
       " 'tbp_lv_stdLExt',\n",
       " 'tbp_lv_symm_2axis',\n",
       " 'tbp_lv_symm_2axis_angle',\n",
       " 'tbp_lv_x',\n",
       " 'tbp_lv_y',\n",
       " 'tbp_lv_z',\n",
       " 'tbp_tile_type'}"
      ]
     },
     "execution_count": 6,
     "metadata": {},
     "output_type": "execute_result"
    }
   ],
   "source": [
    "testColumns"
   ]
  },
  {
   "cell_type": "code",
   "execution_count": 7,
   "metadata": {},
   "outputs": [
    {
     "data": {
      "text/plain": [
       "['mel_thick_mm',\n",
       " 'lesion_id',\n",
       " 'iddx_full',\n",
       " 'iddx_2',\n",
       " 'mel_mitotic_index',\n",
       " 'iddx_1',\n",
       " 'iddx_5',\n",
       " 'tbp_lv_dnn_lesion_confidence',\n",
       " 'iddx_3',\n",
       " 'iddx_4']"
      ]
     },
     "execution_count": 7,
     "metadata": {},
     "output_type": "execute_result"
    }
   ],
   "source": [
    "ColumnsOnlyInTrain = list(trainColumns.difference(testColumns))\n",
    "ColumnsOnlyInTrain.remove('target')\n",
    "ColumnsOnlyInTrain"
   ]
  },
  {
   "cell_type": "code",
   "execution_count": 8,
   "metadata": {},
   "outputs": [],
   "source": [
    "trainCopy = trainData.copy()"
   ]
  },
  {
   "cell_type": "code",
   "execution_count": 9,
   "metadata": {},
   "outputs": [],
   "source": [
    "trainCopy.drop(columns=ColumnsOnlyInTrain, inplace=True)"
   ]
  },
  {
   "cell_type": "code",
   "execution_count": 10,
   "metadata": {},
   "outputs": [
    {
     "data": {
      "application/vnd.microsoft.datawrangler.viewer.v0+json": {
       "columns": [
        {
         "name": "index",
         "rawType": "int64",
         "type": "integer"
        },
        {
         "name": "isic_id",
         "rawType": "object",
         "type": "string"
        },
        {
         "name": "target",
         "rawType": "int64",
         "type": "integer"
        },
        {
         "name": "patient_id",
         "rawType": "object",
         "type": "string"
        },
        {
         "name": "age_approx",
         "rawType": "float64",
         "type": "float"
        },
        {
         "name": "sex",
         "rawType": "object",
         "type": "unknown"
        },
        {
         "name": "anatom_site_general",
         "rawType": "object",
         "type": "unknown"
        },
        {
         "name": "clin_size_long_diam_mm",
         "rawType": "float64",
         "type": "float"
        },
        {
         "name": "image_type",
         "rawType": "object",
         "type": "string"
        },
        {
         "name": "tbp_tile_type",
         "rawType": "object",
         "type": "string"
        },
        {
         "name": "tbp_lv_A",
         "rawType": "float64",
         "type": "float"
        },
        {
         "name": "tbp_lv_Aext",
         "rawType": "float64",
         "type": "float"
        },
        {
         "name": "tbp_lv_B",
         "rawType": "float64",
         "type": "float"
        },
        {
         "name": "tbp_lv_Bext",
         "rawType": "float64",
         "type": "float"
        },
        {
         "name": "tbp_lv_C",
         "rawType": "float64",
         "type": "float"
        },
        {
         "name": "tbp_lv_Cext",
         "rawType": "float64",
         "type": "float"
        },
        {
         "name": "tbp_lv_H",
         "rawType": "float64",
         "type": "float"
        },
        {
         "name": "tbp_lv_Hext",
         "rawType": "float64",
         "type": "float"
        },
        {
         "name": "tbp_lv_L",
         "rawType": "float64",
         "type": "float"
        },
        {
         "name": "tbp_lv_Lext",
         "rawType": "float64",
         "type": "float"
        },
        {
         "name": "tbp_lv_areaMM2",
         "rawType": "float64",
         "type": "float"
        },
        {
         "name": "tbp_lv_area_perim_ratio",
         "rawType": "float64",
         "type": "float"
        },
        {
         "name": "tbp_lv_color_std_mean",
         "rawType": "float64",
         "type": "float"
        },
        {
         "name": "tbp_lv_deltaA",
         "rawType": "float64",
         "type": "float"
        },
        {
         "name": "tbp_lv_deltaB",
         "rawType": "float64",
         "type": "float"
        },
        {
         "name": "tbp_lv_deltaL",
         "rawType": "float64",
         "type": "float"
        },
        {
         "name": "tbp_lv_deltaLB",
         "rawType": "float64",
         "type": "float"
        },
        {
         "name": "tbp_lv_deltaLBnorm",
         "rawType": "float64",
         "type": "float"
        },
        {
         "name": "tbp_lv_eccentricity",
         "rawType": "float64",
         "type": "float"
        },
        {
         "name": "tbp_lv_location",
         "rawType": "object",
         "type": "string"
        },
        {
         "name": "tbp_lv_location_simple",
         "rawType": "object",
         "type": "string"
        },
        {
         "name": "tbp_lv_minorAxisMM",
         "rawType": "float64",
         "type": "float"
        },
        {
         "name": "tbp_lv_nevi_confidence",
         "rawType": "float64",
         "type": "float"
        },
        {
         "name": "tbp_lv_norm_border",
         "rawType": "float64",
         "type": "float"
        },
        {
         "name": "tbp_lv_norm_color",
         "rawType": "float64",
         "type": "float"
        },
        {
         "name": "tbp_lv_perimeterMM",
         "rawType": "float64",
         "type": "float"
        },
        {
         "name": "tbp_lv_radial_color_std_max",
         "rawType": "float64",
         "type": "float"
        },
        {
         "name": "tbp_lv_stdL",
         "rawType": "float64",
         "type": "float"
        },
        {
         "name": "tbp_lv_stdLExt",
         "rawType": "float64",
         "type": "float"
        },
        {
         "name": "tbp_lv_symm_2axis",
         "rawType": "float64",
         "type": "float"
        },
        {
         "name": "tbp_lv_symm_2axis_angle",
         "rawType": "int64",
         "type": "integer"
        },
        {
         "name": "tbp_lv_x",
         "rawType": "float64",
         "type": "float"
        },
        {
         "name": "tbp_lv_y",
         "rawType": "float64",
         "type": "float"
        },
        {
         "name": "tbp_lv_z",
         "rawType": "float64",
         "type": "float"
        },
        {
         "name": "attribution",
         "rawType": "object",
         "type": "string"
        },
        {
         "name": "copyright_license",
         "rawType": "object",
         "type": "string"
        }
       ],
       "conversionMethod": "pd.DataFrame",
       "ref": "8e7f1278-6e00-4e07-9b7d-b81b9c23ca47",
       "rows": [
        [
         "0",
         "ISIC_0015670",
         "0",
         "IP_1235828",
         "60.0",
         "male",
         "lower extremity",
         "3.04",
         "TBP tile: close-up",
         "3D: white",
         "20.2444222995213",
         "16.2619751791219",
         "26.9224473862421",
         "23.954773134576",
         "33.6846375593731",
         "28.9531171492014",
         "53.0585445070501",
         "55.8289238915569",
         "54.3674478530884",
         "62.0257012013125",
         "3.15256145618315",
         "27.4761698440053",
         "0.0",
         "3.98244712039942",
         "2.96767425166613",
         "-7.65825334822409",
         "8.36056573901858",
         "5.78430238218227",
         "0.901301769055263",
         "Right Leg - Upper",
         "Right Leg",
         "1.54301591115455",
         "0.0026285923013347",
         "7.09135958738072",
         "0.0",
         "9.30700349273346",
         "0.0",
         "2.03619534985743",
         "2.63778008066265",
         "0.59047619047619",
         "85",
         "-182.703552246094",
         "613.49365234375",
         "-42.4279479980469",
         "Memorial Sloan Kettering Cancer Center",
         "CC-BY"
        ],
        [
         "1",
         "ISIC_0015845",
         "0",
         "IP_8170065",
         "60.0",
         "male",
         "head/neck",
         "1.1",
         "TBP tile: close-up",
         "3D: white",
         "31.71257",
         "25.36474",
         "26.331",
         "24.54929",
         "41.21903",
         "35.29926",
         "39.70291",
         "44.06404",
         "48.86152",
         "55.36236",
         "0.9194971",
         "12.23529",
         "0.0",
         "6.34783",
         "1.781713",
         "-6.500838",
         "6.839008",
         "4.987244",
         "0.639885",
         "Head & Neck",
         "Head & Neck",
         "0.8219178",
         "1.334303e-07",
         "2.116402",
         "0.0",
         "3.354148",
         "0.0",
         "0.8532267",
         "3.912844",
         "0.2857143",
         "55",
         "-0.07830811",
         "1575.687",
         "57.1745",
         "Memorial Sloan Kettering Cancer Center",
         "CC-BY"
        ],
        [
         "2",
         "ISIC_0015864",
         "0",
         "IP_6724798",
         "60.0",
         "male",
         "posterior torso",
         "3.4",
         "TBP tile: close-up",
         "3D: XP",
         "22.57583",
         "17.12817",
         "37.97046",
         "33.48541",
         "44.17492",
         "37.6118",
         "59.26585",
         "62.90973",
         "53.96118",
         "61.67052",
         "3.265153",
         "24.18462",
         "0.0",
         "5.447655",
         "4.485044",
         "-7.709336",
         "9.092376",
         "6.290359",
         "0.932147",
         "Torso Back Top Third",
         "Torso Back",
         "1.194905",
         "0.0002959177",
         "4.798335",
         "0.0",
         "8.886309",
         "0.0",
         "1.743651",
         "1.950777",
         "0.3619048",
         "105",
         "123.6497",
         "1472.01",
         "232.9089",
         "Memorial Sloan Kettering Cancer Center",
         "CC-BY"
        ],
        [
         "3",
         "ISIC_0015902",
         "0",
         "IP_4111386",
         "65.0",
         "male",
         "anterior torso",
         "3.22",
         "TBP tile: close-up",
         "3D: XP",
         "14.2423288822174",
         "12.1647572742568",
         "21.4481442651631",
         "21.1213562925657",
         "25.7462001935915",
         "24.3740232866691",
         "56.4144285170649",
         "60.0603876362602",
         "18.6495183426657",
         "23.3148413340251",
         "6.07993995121036",
         "14.8892416135771",
         "0.514520296995049",
         "2.07757160796059",
         "0.326787972597426",
         "-4.66532299135938",
         "4.78341293261375",
         "6.40019612363943",
         "0.654458375002421",
         "Torso Front Top Half",
         "Torso Front",
         "2.48132784072667",
         "21.9894528388977",
         "1.97587443743163",
         "1.77170459478913",
         "9.51449919489256",
         "0.66468987772986",
         "1.25854054346649",
         "1.57373265038448",
         "0.209580838323353",
         "130",
         "-141.024780273438",
         "1442.18579101562",
         "58.3598022460938",
         "ACEMID MIA",
         "CC-0"
        ],
        [
         "4",
         "ISIC_0024200",
         "0",
         "IP_8313778",
         "55.0",
         "male",
         "anterior torso",
         "2.73",
         "TBP tile: close-up",
         "3D: white",
         "24.72552",
         "20.05747",
         "26.4649",
         "25.71046",
         "36.21798",
         "32.60874",
         "46.94607",
         "52.04118",
         "46.27631",
         "54.85574",
         "2.101708",
         "19.90256",
         "0.0",
         "4.668053",
         "0.7544338",
         "-8.579431",
         "9.148495",
         "6.531302",
         "0.9464478",
         "Torso Front Top Half",
         "Torso Front",
         "0.929916",
         "0.001378832",
         "3.658854",
         "0.0",
         "6.467562",
         "0.0",
         "2.085409",
         "2.480509",
         "0.3134328",
         "20",
         "-72.31564",
         "1488.72",
         "21.42896",
         "Memorial Sloan Kettering Cancer Center",
         "CC-BY"
        ],
        [
         "5",
         "ISIC_0035502",
         "0",
         "IP_3026693",
         "75.0",
         "female",
         "head/neck",
         "2.54",
         "TBP tile: close-up",
         "3D: white",
         "22.1291833949994",
         "19.9114243631406",
         "24.1066143180751",
         "23.6496420205976",
         "32.7235329940082",
         "30.9155363510239",
         "47.4489561784157",
         "49.9048531319318",
         "38.8141699440872",
         "43.9132061403785",
         "2.9649089885532",
         "20.8935064800874",
         "0.0",
         "2.21775903185888",
         "0.456972297477474",
         "-5.09903619629133",
         "5.29260393486747",
         "4.51860941036353",
         "0.810116217431195",
         "Head & Neck",
         "Head & Neck",
         "1.72824271737713",
         "0.0752889609429985",
         "5.36120075806674",
         "0.0",
         "7.8706635784542",
         "0.0",
         "0.773993412070278",
         "2.7903368726121",
         "0.518867924528302",
         "55",
         "-11.9599609375",
         "1436.02746582031",
         "101.334655761719",
         "Memorial Sloan Kettering Cancer Center",
         "CC-BY"
        ],
        [
         "6",
         "ISIC_0051648",
         "0",
         "IP_0218255",
         "65.0",
         "male",
         "upper extremity",
         "3.74",
         "TBP tile: close-up",
         "3D: XP",
         "14.3191882037786",
         "10.0561348568775",
         "26.6852625084583",
         "23.3470284092903",
         "30.2843587675316",
         "25.4206527021615",
         "61.7821992692273",
         "66.6972759642117",
         "29.7962879326104",
         "35.8178101495823",
         "5.42315631450554",
         "22.5172845465924",
         "0.486497195564571",
         "4.26305334690117",
         "3.33823409916808",
         "-6.02152221697192",
         "6.98597936399255",
         "7.34668962624627",
         "0.864356603027704",
         "Right Arm - Upper",
         "Right Arm",
         "2.02165028820299",
         "0.487033277750015",
         "4.83624008118697",
         "1.25819875528952",
         "11.0505544600428",
         "0.355595996026473",
         "1.16025809634852",
         "2.41341235011973",
         "0.408045977011494",
         "55",
         "-286.593933105469",
         "1494.98095703125",
         "33.0778198242188",
         "ACEMID MIA",
         "CC-0"
        ],
        [
         "7",
         "ISIC_0051665",
         "0",
         "IP_7734648",
         "50.0",
         "male",
         "posterior torso",
         "4.31",
         "TBP tile: close-up",
         "3D: XP",
         "20.10261",
         "16.00481",
         "24.82563",
         "24.22086",
         "31.94412",
         "29.03109",
         "51.00111",
         "56.54382",
         "27.65838",
         "32.32557",
         "9.87052",
         "23.34433",
         "0.8399444",
         "4.0978",
         "0.6047755",
         "-4.667194",
         "4.855003",
         "5.176521",
         "0.6470805",
         "Torso Back Top Third",
         "Torso Back",
         "3.273682",
         "7.18589",
         "3.949403",
         "2.757602",
         "15.17961",
         "0.9969645",
         "1.202774",
         "1.753673",
         "0.2679739",
         "35",
         "-80.92709",
         "1535.127",
         "161.4908",
         "Department of Dermatology, Hospital Clínic de Barcelona",
         "CC-BY-NC"
        ],
        [
         "8",
         "ISIC_0051710",
         "0",
         "IP_1307115",
         "50.0",
         "male",
         "anterior torso",
         "3.17",
         "TBP tile: close-up",
         "3D: white",
         "14.1668052069748",
         "11.1297033664102",
         "27.7436347671702",
         "23.5919039015288",
         "31.1513665810427",
         "26.085402560115",
         "62.9496605412878",
         "64.7439624381479",
         "58.9782350033144",
         "64.9262521382354",
         "5.9298179771064",
         "16.7576195846912",
         "0.871346896685955",
         "3.03710184056466",
         "4.15173086564134",
         "-5.94801713492099",
         "7.44180511221101",
         "5.00590237105128",
         "0.57931619271865",
         "Torso Front Top Half",
         "Torso Front",
         "2.50812007956309",
         "0.0038706664781784",
         "3.34405432054166",
         "3.04997360769528",
         "9.96843186598636",
         "1.15809871889741",
         "1.59721874091944",
         "2.05416021379819",
         "0.348314606741573",
         "135",
         "-97.7151260375977",
         "1089.935546875",
         "-165.714782714844",
         "Memorial Sloan Kettering Cancer Center",
         "CC-BY"
        ],
        [
         "9",
         "ISIC_0051758",
         "0",
         "IP_2180091",
         "60.0",
         "female",
         "upper extremity",
         "3.97",
         "TBP tile: close-up",
         "3D: XP",
         "16.2514898500272",
         "12.224407529738",
         "25.6183925569057",
         "23.7131060392071",
         "30.3383084489769",
         "26.6785969923419",
         "57.6102633244797",
         "62.7283193718973",
         "26.2094754576683",
         "32.9264590568245",
         "8.40683054982173",
         "15.9103084312058",
         "0.610791054178527",
         "4.02708232028924",
         "1.90528651769863",
         "-6.7169835991562",
         "7.0751440929515",
         "7.73379268487764",
         "0.769454281116478",
         "Right Arm - Upper",
         "Right Arm",
         "2.6027397260274",
         "79.6326160430908",
         "1.93573597055928",
         "1.90155025967989",
         "11.5652612152319",
         "0.657096109307971",
         "1.21788793827642",
         "1.76524751493543",
         "0.179039301310044",
         "100",
         "207.517272949219",
         "1269.95947265625",
         "64.8379516601562",
         "Department of Dermatology, Hospital Clínic de Barcelona",
         "CC-BY-NC"
        ],
        [
         "10",
         "ISIC_0051812",
         "0",
         "IP_7792811",
         "60.0",
         "female",
         "lower extremity",
         "4.25",
         "TBP tile: close-up",
         "3D: XP",
         "19.80819",
         "14.86749",
         "30.426",
         "29.2739",
         "36.30573",
         "32.83296",
         "56.93473",
         "63.0751",
         "43.2033",
         "52.89545",
         "9.945581",
         "20.95947",
         "1.613667",
         "4.940699",
         "1.152102",
         "-9.692149",
         "9.836962",
         "7.781181",
         "0.7410236",
         "Left Leg - Upper",
         "Left Leg",
         "3.109699",
         "69.74771",
         "3.754508",
         "5.776974",
         "14.43794",
         "2.228904",
         "3.201712",
         "1.992669",
         "0.3003413",
         "165",
         "-147.5017",
         "706.8179",
         "101.2655",
         "Department of Dermatology, Hospital Clínic de Barcelona",
         "CC-BY-NC"
        ],
        [
         "11",
         "ISIC_0051822",
         "0",
         "IP_4934005",
         "60.0",
         "male",
         "posterior torso",
         "3.37",
         "TBP tile: close-up",
         "3D: white",
         "20.0042140491572",
         "16.7148517678879",
         "27.7677277561916",
         "26.2988342662675",
         "34.2230227254472",
         "31.1611128393559",
         "54.2305559868712",
         "57.561026943089",
         "50.3826442335802",
         "57.8429848261615",
         "5.79846124976543",
         "25.6413286655233",
         "0.510417605040417",
         "3.28936228126934",
         "1.46889348992409",
         "-7.46034059258132",
         "7.71547319048045",
         "5.65331620183925",
         "0.623825283372457",
         "Torso Back Top Third",
         "Torso Back",
         "2.82306775654832",
         "0.0014018528418091",
         "6.40122092149089",
         "1.76656331074351",
         "12.1934511381945",
         "0.665270178451745",
         "1.27152650018566",
         "3.07937290976463",
         "0.542452830188679",
         "140",
         "-38.8423690795898",
         "1424.79565429688",
         "231.19287109375",
         "Memorial Sloan Kettering Cancer Center",
         "CC-BY"
        ],
        [
         "12",
         "ISIC_0051896",
         "0",
         "IP_7438238",
         "70.0",
         "male",
         "anterior torso",
         "4.0",
         "TBP tile: close-up",
         "3D: XP",
         "22.16881",
         "18.87471",
         "31.36237",
         "28.75606",
         "38.40643",
         "34.39717",
         "54.74503",
         "56.72017",
         "40.9679",
         "46.09486",
         "9.832989",
         "17.52944",
         "0.900724",
         "3.294098",
         "2.606311",
         "-5.126959",
         "5.923538",
         "4.947245",
         "0.5313491",
         "Torso Front Bottom Half",
         "Torso Front",
         "3.483167",
         "0.1112138",
         "3.126836",
         "2.846256",
         "13.12885",
         "0.9965395",
         "1.527705",
         "1.551853",
         "0.3",
         "75",
         "328.5996",
         "1189.842",
         "-103.5305",
         "University Hospital of Basel",
         "CC-BY-NC"
        ],
        [
         "13",
         "ISIC_0051897",
         "0",
         "IP_5516884",
         "60.0",
         "male",
         "upper extremity",
         "4.6",
         "TBP tile: close-up",
         "3D: XP",
         "16.48989",
         "13.83021",
         "32.37504",
         "31.82854",
         "36.33263",
         "34.70347",
         "63.00845",
         "66.51399",
         "42.6462",
         "50.97471",
         "6.192531",
         "22.76219",
         "1.294259",
         "2.659686",
         "0.5465031",
         "-8.32851",
         "8.674083",
         "6.858771",
         "0.9049373",
         "Left Arm - Upper",
         "Left Arm",
         "2.171911",
         "3.94796",
         "3.610603",
         "3.192097",
         "11.87247",
         "0.8444726",
         "2.074147",
         "2.980136",
         "0.2365591",
         "110",
         "282.2696",
         "1261.653",
         "152.9075",
         "ACEMID MIA",
         "CC-0"
        ],
        [
         "14",
         "ISIC_0051958",
         "0",
         "IP_9726832",
         "85.0",
         "male",
         "posterior torso",
         "3.56",
         "TBP tile: close-up",
         "3D: XP",
         "12.91218",
         "10.23901",
         "26.99213",
         "26.70327",
         "29.92155",
         "28.59899",
         "64.43503",
         "69.02135",
         "30.85833",
         "36.54112",
         "7.036968",
         "16.6478",
         "0.9866129",
         "2.673165",
         "0.2888502",
         "-5.682785",
         "5.863815",
         "5.961945",
         "0.7339323",
         "Torso Back Top Third",
         "Torso Back",
         "2.618573",
         "0.01436051",
         "2.406819",
         "3.01933",
         "10.82359",
         "1.027217",
         "1.560966",
         "2.176099",
         "0.2244898",
         "20",
         "-23.97464",
         "1213.993",
         "187.0327",
         "Memorial Sloan Kettering Cancer Center",
         "CC-BY"
        ],
        [
         "15",
         "ISIC_0051983",
         "0",
         "IP_5579051",
         "55.0",
         "female",
         "anterior torso",
         "2.9",
         "TBP tile: close-up",
         "3D: XP",
         "16.77504",
         "10.52024",
         "31.63102",
         "26.83974",
         "35.80396",
         "28.82789",
         "62.06141",
         "68.59656",
         "43.63541",
         "53.10534",
         "6.136236",
         "14.60723",
         "1.330712",
         "6.254808",
         "4.791276",
         "-9.469926",
         "10.70005",
         "8.571995",
         "0.5091818",
         "Torso Front Top Half",
         "Torso Front",
         "2.578277",
         "96.98343",
         "1.722789",
         "3.547253",
         "9.467493",
         "1.041837",
         "3.323607",
         "1.700185",
         "0.1823529",
         "40",
         "109.2332",
         "1233.615",
         "-40.70795",
         "University Hospital of Basel",
         "CC-BY-NC"
        ],
        [
         "16",
         "ISIC_0052003",
         "0",
         "IP_7977194",
         "65.0",
         "male",
         "upper extremity",
         "2.82",
         "TBP tile: close-up",
         "3D: XP",
         "30.6983",
         "19.66395",
         "28.2797",
         "29.68606",
         "41.7388",
         "35.60805",
         "42.6517",
         "56.47964",
         "57.65166",
         "67.14658",
         "4.559955",
         "14.66629",
         "1.425933",
         "11.03435",
         "-1.406364",
         "-9.494915",
         "9.95075",
         "6.304648",
         "0.6397339",
         "Right Arm - Upper",
         "Right Arm",
         "2.165943",
         "0.02729045",
         "2.326578",
         "3.976931",
         "8.177875",
         "1.231463",
         "2.409766",
         "2.418324",
         "0.2624113",
         "170",
         "324.5905",
         "1427.573",
         "-23.505",
         "Frazer Institute, The University of Queensland, Dermatology Research Centre",
         "CC-BY"
        ],
        [
         "17",
         "ISIC_0052004",
         "0",
         "IP_2608033",
         "50.0",
         "male",
         "lower extremity",
         "3.3",
         "TBP tile: close-up",
         "3D: XP",
         "22.4993702391057",
         "16.9026717068104",
         "29.3772089695218",
         "29.0296974586934",
         "37.0032710445348",
         "33.5920175841149",
         "52.5522757388159",
         "59.7897041360401",
         "37.9308537518067",
         "51.2029330912005",
         "5.64833927566147",
         "16.3646546039226",
         "1.31352495221895",
         "5.59669853229531",
         "0.347511510828312",
         "-13.2720793393938",
         "13.3656802731891",
         "10.722788554782",
         "0.750015382242431",
         "Right Leg - Upper",
         "Right Leg",
         "2.19278779748368",
         "98.3045220375061",
         "2.32288743496386",
         "3.41028247520026",
         "9.6142145457635",
         "0.968728627363055",
         "6.05523120882768",
         "2.61582919515348",
         "0.220125786163522",
         "165",
         "206.731262207031",
         "744.22607421875",
         "-9.1146240234375",
         "Department of Dermatology, University of Athens, Andreas Syggros Hospital of Skin and Venereal Diseases, Alexander Stratigos, Konstantinos Liopyris",
         "CC-BY"
        ],
        [
         "18",
         "ISIC_0052026",
         "0",
         "IP_6422845",
         "70.0",
         "male",
         "lower extremity",
         "2.52",
         "TBP tile: close-up",
         "3D: white",
         "19.4104",
         "13.54244",
         "25.05215",
         "22.25796",
         "31.69186",
         "26.05407",
         "52.23149",
         "58.68235",
         "60.13607",
         "70.02414",
         "3.227622",
         "17.13245",
         "0.5654496",
         "5.867955",
         "2.794192",
         "-9.888063",
         "10.34517",
         "6.641414",
         "0.8011848",
         "Right Leg",
         "Right Leg",
         "1.646687",
         "2.693015",
         "4.006865",
         "1.432466",
         "7.436202",
         "0.3937231",
         "2.320389",
         "2.850419",
         "0.4285714",
         "150",
         "-278.6346",
         "243.7309",
         "26.31647",
         "Memorial Sloan Kettering Cancer Center",
         "CC-BY"
        ],
        [
         "19",
         "ISIC_0052042",
         "0",
         "IP_6725180",
         "55.0",
         "female",
         "anterior torso",
         "2.84",
         "TBP tile: close-up",
         "3D: white",
         "18.31406",
         "14.92811",
         "27.68457",
         "26.93259",
         "33.19398",
         "30.79307",
         "56.51433",
         "61.00142",
         "51.15448",
         "58.82705",
         "5.423156",
         "17.04416",
         "1.147059",
         "3.385953",
         "0.7519775",
         "-7.672571",
         "7.992576",
         "5.68572",
         "0.4748051",
         "Torso Front Top Half",
         "Torso Front",
         "2.419775",
         "1.667745",
         "2.939311",
         "3.530993",
         "9.614215",
         "1.20778",
         "1.881537",
         "1.819836",
         "0.2866242",
         "35",
         "134.8346",
         "1249.434",
         "68.71265",
         "Memorial Sloan Kettering Cancer Center",
         "CC-BY"
        ],
        [
         "20",
         "ISIC_0052068",
         "0",
         "IP_7424727",
         "50.0",
         "male",
         "posterior torso",
         "3.88",
         "TBP tile: close-up",
         "3D: XP",
         "24.43579",
         "15.04548",
         "40.76574",
         "36.34",
         "47.52845",
         "39.33144",
         "59.0607",
         "67.50947",
         "51.42505",
         "65.84814",
         "8.3693",
         "14.80347",
         "2.06736",
         "9.390307",
         "4.425745",
         "-14.42309",
         "15.25402",
         "10.19967",
         "0.753766",
         "Torso Back Middle Third",
         "Torso Back",
         "2.633787",
         "99.41373",
         "2.112671",
         "6.18557",
         "11.1308",
         "2.060061",
         "5.22815",
         "2.264992",
         "0.2301587",
         "130",
         "-49.04086",
         "1208.955",
         "140.5942",
         "Frazer Institute, The University of Queensland, Dermatology Research Centre",
         "CC-BY"
        ],
        [
         "21",
         "ISIC_0052094",
         "0",
         "IP_9179679",
         "70.0",
         "male",
         "head/neck",
         "3.95",
         "TBP tile: close-up",
         "3D: XP",
         "19.48332",
         "17.52216",
         "24.20181",
         "23.30301",
         "31.06972",
         "29.15572",
         "51.1647",
         "53.05951",
         "26.27654",
         "30.2787",
         "7.918934",
         "39.25696",
         "0.479868",
         "1.961163",
         "0.8988072",
         "-4.002157",
         "4.229319",
         "4.6161",
         "0.471671",
         "Head & Neck",
         "Head & Neck",
         "3.563585",
         "0.3253764",
         "9.187762",
         "1.307422",
         "17.6316",
         "0.3941816",
         "0.9046215",
         "1.685955",
         "0.5836299",
         "105",
         "90.2583",
         "1692.21",
         "-53.84058",
         "Department of Dermatology, Hospital Clínic de Barcelona",
         "CC-BY-NC"
        ],
        [
         "22",
         "ISIC_0052109",
         "0",
         "IP_3927284",
         "55.0",
         "male",
         "posterior torso",
         "16.7",
         "TBP tile: close-up",
         "3D: white",
         "18.3598946442311",
         "14.1983937991092",
         "19.5165378522955",
         "24.0503851421517",
         "26.7951671218402",
         "27.9287560045272",
         "46.7491136743441",
         "59.444082265989",
         "35.5638842119516",
         "59.3617676993149",
         "76.6935635203603",
         "22.2092411973393",
         "3.17600812529236",
         "4.1615008451219",
         "-4.5338472898562",
         "-23.7978834873633",
         "24.427635228806",
         "17.7530663749172",
         "0.936265673756003",
         "Torso Back Middle Third",
         "Torso Back",
         "6.12343252521672",
         "11.2279467284679",
         "2.63870019024457",
         "8.63828465506525",
         "41.2711261114492",
         "2.59914719970972",
         "6.77877387173338",
         "3.00431588871143",
         "0.118957345971564",
         "105",
         "159.91552734375",
         "1119.337890625",
         "132.397430419922",
         "Memorial Sloan Kettering Cancer Center",
         "CC-BY"
        ],
        [
         "23",
         "ISIC_0052122",
         "0",
         "IP_1117889",
         "55.0",
         "female",
         "anterior torso",
         "2.6",
         "TBP tile: close-up",
         "3D: XP",
         "23.0826974875514",
         "14.6024888192267",
         "25.3714681160324",
         "25.1711571325285",
         "34.3004710997482",
         "29.1001689188582",
         "47.7044010412387",
         "59.8807865777103",
         "30.869906267092",
         "39.2459769727249",
         "5.31056483392757",
         "16.5447814745655",
         "1.02962424507243",
         "8.48020866832475",
         "0.200310983503886",
         "-8.37607070563289",
         "8.48041506116887",
         "8.15762051659487",
         "0.371562247902972",
         "Torso Front Top Half",
         "Torso Front",
         "2.46575342465753",
         "0.062580726807937",
         "2.54021527920955",
         "3.8885065266329",
         "9.37348039331408",
         "1.5546502696542",
         "2.55460649388283",
         "2.15909550002868",
         "0.245033112582781",
         "5",
         "-17.5148677825928",
         "1117.232421875",
         "-54.2003173828125",
         "Department of Dermatology, Hospital Clínic de Barcelona",
         "CC-BY-NC"
        ],
        [
         "24",
         "ISIC_0052164",
         "0",
         "IP_6356898",
         "60.0",
         "male",
         "upper extremity",
         "3.49",
         "TBP tile: close-up",
         "3D: XP",
         "19.14376",
         "15.65793",
         "25.27081",
         "25.45193",
         "31.70327",
         "29.88262",
         "52.85445",
         "58.40033",
         "21.0568",
         "26.94648",
         "6.492775",
         "17.93249",
         "1.13477",
         "3.485834",
         "-0.1811199",
         "-5.889679",
         "6.099334",
         "7.178071",
         "0.7238037",
         "Left Arm - Upper",
         "Left Arm",
         "2.585262",
         "69.04716",
         "2.923453",
         "3.119465",
         "10.79035",
         "0.9502913",
         "2.065971",
         "1.847328",
         "0.2626263",
         "80",
         "-442.2213",
         "1258.09",
         "83.70868",
         "Department of Dermatology, Hospital Clínic de Barcelona",
         "CC-BY-NC"
        ],
        [
         "25",
         "ISIC_0052205",
         "0",
         "IP_4923309",
         "70.0",
         "male",
         "upper extremity",
         "3.3",
         "TBP tile: close-up",
         "3D: XP",
         "19.0234759436713",
         "16.0866021404737",
         "30.2357530487908",
         "29.144809900801",
         "35.7224495157724",
         "33.2896186908129",
         "57.8230645405756",
         "61.1033108603895",
         "33.9305549621582",
         "38.3802346465271",
         "3.37774441733909",
         "23.7295574642202",
         "0.14074978268261",
         "2.93687380319768",
         "1.09094314798983",
         "-4.44967968436895",
         "4.70994629859924",
         "4.58655099168457",
         "0.916799082464402",
         "Right Arm - Lower",
         "Right Arm",
         "1.45295913905314",
         "0.0001052475795404",
         "6.60788973180803",
         "0.413541254949269",
         "8.9527861725106",
         "0.135289840101717",
         "0.911477163156552",
         "1.41424111387576",
         "0.617391304347826",
         "140",
         "406.64599609375",
         "1168.79248046875",
         "-20.4802856445312",
         "University Hospital of Basel",
         "CC-BY-NC"
        ],
        [
         "26",
         "ISIC_0052213",
         "0",
         "IP_1836571",
         "65.0",
         "male",
         "posterior torso",
         "4.25",
         "TBP tile: close-up",
         "3D: white",
         "19.7854247857596",
         "14.8172917099311",
         "28.7580826397767",
         "28.9160344998584",
         "34.9068811421069",
         "32.4913709285126",
         "55.472212346135",
         "62.8682751772119",
         "55.8793893285077",
         "69.4222329310148",
         "7.37474197785701",
         "16.4009267423309",
         "1.73939825085062",
         "4.96813307582849",
         "-0.157951860081667",
         "-13.5428436025071",
         "13.8077706295722",
         "8.80012969970977",
         "0.862139359832956",
         "Torso Back Middle Third",
         "Torso Back",
         "2.05479452054794",
         "91.0918176174164",
         "1.91042872184876",
         "5.47378959223677",
         "10.9978453763646",
         "1.90960856834774",
         "4.45237448581462",
         "2.56694747010387",
         "0.163551401869159",
         "85",
         "-194.058349609375",
         "1232.58508300781",
         "88.6661987304688",
         "Memorial Sloan Kettering Cancer Center",
         "CC-BY"
        ],
        [
         "27",
         "ISIC_0052220",
         "0",
         "IP_8128046",
         "55.0",
         "male",
         "posterior torso",
         "3.69",
         "TBP tile: close-up",
         "3D: XP",
         "23.66354",
         "18.11407",
         "30.17639",
         "28.51584",
         "38.34811",
         "33.78272",
         "51.89737",
         "57.57514",
         "33.77708",
         "41.35029",
         "9.795459",
         "22.43819",
         "0.7173266",
         "5.549478",
         "1.660547",
         "-7.573212",
         "7.895456",
         "7.212246",
         "0.2040142",
         "Torso Back Top Third",
         "Torso Back",
         "3.433321",
         "79.2695",
         "4.41639",
         "2.263208",
         "14.8254",
         "0.7913303",
         "1.595762",
         "1.932435",
         "0.3533123",
         "0",
         "-120.5208",
         "1546.752",
         "113.1157",
         "Frazer Institute, The University of Queensland, Dermatology Research Centre",
         "CC-BY"
        ],
        [
         "28",
         "ISIC_0052231",
         "0",
         "IP_7404721",
         "75.0",
         "male",
         "anterior torso",
         "3.3",
         "TBP tile: close-up",
         "3D: XP",
         "14.05176",
         "10.99367",
         "25.83806",
         "23.71304",
         "29.41186",
         "26.1375",
         "61.4609",
         "65.12695",
         "44.12691",
         "49.99138",
         "2.908613",
         "23.63553",
         "0.0",
         "3.058085",
         "2.125021",
         "-5.864472",
         "6.480913",
         "5.253304",
         "0.9457842",
         "Torso Front Top Half",
         "Torso Front",
         "1.193578",
         "0.2157876",
         "5.192087",
         "0.0",
         "8.291358",
         "0.0",
         "1.586514",
         "2.579669",
         "0.4285714",
         "115",
         "-68.91751",
         "1147.62",
         "-97.13159",
         "University Hospital of Basel",
         "CC-BY-NC"
        ],
        [
         "29",
         "ISIC_0052241",
         "0",
         "IP_3880252",
         "75.0",
         "male",
         "lower extremity",
         "4.07",
         "TBP tile: close-up",
         "3D: XP",
         "15.8001109018884",
         "10.6980259319926",
         "23.5140595132765",
         "23.2178245805933",
         "28.3293928509928",
         "25.563942127473",
         "56.1011437788219",
         "65.2612716356647",
         "30.1275138660848",
         "40.3436171543155",
         "7.37474197785701",
         "20.6488395270676",
         "1.27375003313153",
         "5.10208496989577",
         "0.296234932683166",
         "-10.2161032882307",
         "10.489960762684",
         "10.0239590468887",
         "0.745475596583964",
         "Right Leg - Lower",
         "Right Leg",
         "2.71219018387468",
         "94.1479623317718",
         "4.66039372530579",
         "4.261959962762",
         "12.3401727562582",
         "1.564310141093",
         "5.33197566093607",
         "2.37901032708333",
         "0.430278884462151",
         "130",
         "176.6025390625",
         "322.538238525391",
         "87.9788818359375",
         "Department of Dermatology, Hospital Clínic de Barcelona",
         "CC-BY-NC"
        ],
        [
         "30",
         "ISIC_0052259",
         "0",
         "IP_6949284",
         "45.0",
         "male",
         "anterior torso",
         "2.81",
         "TBP tile: close-up",
         "3D: white",
         "22.50777",
         "15.01896",
         "29.10553",
         "27.04948",
         "36.79309",
         "30.93935",
         "52.28465",
         "60.95921",
         "54.76516",
         "66.0856",
         "4.710077",
         "15.4555",
         "0.8882443",
         "7.488812",
         "2.056048",
         "-11.32044",
         "11.64575",
         "7.740809",
         "0.7304554",
         "Torso Front Bottom Half",
         "Torso Front",
         "2.005864",
         "93.16785",
         "2.295561",
         "2.633602",
         "8.532092",
         "0.8693783",
         "2.655804",
         "3.05015",
         "0.238806",
         "165",
         "-64.39981",
         "1081.379",
         "-58.74402",
         "Memorial Sloan Kettering Cancer Center",
         "CC-BY"
        ],
        [
         "31",
         "ISIC_0052270",
         "0",
         "IP_7637042",
         "45.0",
         "female",
         "lower extremity",
         "3.11",
         "TBP tile: close-up",
         "3D: white",
         "21.62795",
         "14.97053",
         "27.91714",
         "25.55166",
         "35.31479",
         "29.61425",
         "52.23436",
         "59.63428",
         "48.44443",
         "58.9292",
         "5.573278",
         "16.19584",
         "0.8663238",
         "6.657419",
         "2.365474",
         "-10.48477",
         "10.82697",
         "7.904052",
         "0.727118",
         "Left Leg - Lower",
         "Left Leg",
         "2.213482",
         "81.14051",
         "2.267983",
         "2.844076",
         "9.500731",
         "1.028189",
         "2.33113",
         "2.527209",
         "0.2168675",
         "145",
         "-286.2152",
         "237.2912",
         "71.24567",
         "Memorial Sloan Kettering Cancer Center",
         "CC-BY"
        ],
        [
         "32",
         "ISIC_0052310",
         "0",
         "IP_7259384",
         "45.0",
         "male",
         "posterior torso",
         "2.77",
         "TBP tile: close-up",
         "3D: XP",
         "21.54081",
         "13.49374",
         "42.45657",
         "35.19085",
         "47.60848",
         "37.68921",
         "63.09854",
         "69.02096",
         "71.5057",
         "83.38013",
         "3.865641",
         "13.87149",
         "1.555732",
         "8.047072",
         "7.265725",
         "-11.87443",
         "14.04434",
         "7.885261",
         "0.7953513",
         "Torso Back Top Third",
         "Torso Back",
         "1.643836",
         "96.27185",
         "1.804885",
         "3.171461",
         "7.322718",
         "0.5795605",
         "4.351335",
         "1.765863",
         "0.2115385",
         "130",
         "176.9725",
         "1329.578",
         "130.9724",
         "Frazer Institute, The University of Queensland, Dermatology Research Centre",
         "CC-BY"
        ],
        [
         "33",
         "ISIC_0052313",
         "0",
         "IP_4177511",
         "65.0",
         "male",
         "posterior torso",
         "3.15",
         "TBP tile: close-up",
         "3D: XP",
         "14.473369245176",
         "12.1755652809504",
         "22.695471563457",
         "23.9905861713847",
         "26.9177050803907",
         "26.9033941122179",
         "57.4735041225082",
         "63.0915554579118",
         "32.9429841453646",
         "37.769336363707",
         "3.03996997560518",
         "23.3137084989847",
         "0.168864366762398",
         "2.29780396422558",
         "-1.29511460792775",
         "-4.82635221834239",
         "5.0823488191322",
         "4.9453636217223",
         "0.866139393091103",
         "Torso Back Middle Third",
         "Torso Back",
         "1.50684931506849",
         "0.0015530651580775",
         "6.56343461462588",
         "0.408347491063707",
         "8.41860878393366",
         "0.104858740365853",
         "0.782970063294137",
         "1.79652756674568",
         "0.621621621621622",
         "80",
         "44.16259765625",
         "1175.67443847656",
         "204.100219726562",
         "ACEMID MIA",
         "CC-0"
        ],
        [
         "34",
         "ISIC_0052328",
         "0",
         "IP_7797815",
         "75.0",
         "male",
         "anterior torso",
         "3.27",
         "TBP tile: close-up",
         "3D: white",
         "18.14791",
         "16.94405",
         "23.14016",
         "24.79836",
         "29.40771",
         "30.03431",
         "51.89432",
         "55.65627",
         "45.39058",
         "54.25327",
         "4.916495",
         "20.48195",
         "0.9839653",
         "1.203859",
         "-1.658201",
         "-8.86269",
         "9.187463",
         "7.001693",
         "0.7873903",
         "Torso Front Bottom Half",
         "Torso Front",
         "2.050982",
         "0.003765256",
         "4.150261",
         "3.034634",
         "10.03491",
         "1.039777",
         "2.182352",
         "3.331544",
         "0.3655172",
         "35",
         "-61.21442",
         "904.9018",
         "-59.25241",
         "Memorial Sloan Kettering Cancer Center",
         "CC-BY"
        ],
        [
         "35",
         "ISIC_0052332",
         "0",
         "IP_3896746",
         "65.0",
         "male",
         "lower extremity",
         "2.81",
         "TBP tile: close-up",
         "3D: white",
         "18.8216410604846",
         "16.4387043600497",
         "26.8993239522982",
         "27.1852172934491",
         "32.8302878650249",
         "31.7689634758385",
         "55.019254252312",
         "58.8389498170796",
         "47.6764921460833",
         "53.9407702459805",
         "4.46612872959279",
         "17.0483065843226",
         "0.489580852299871",
         "2.38293670043485",
         "-0.285893341150867",
         "-6.26427809989724",
         "6.48461279047637",
         "4.90629709227083",
         "0.693380965027455",
         "Left Leg - Lower",
         "Left Leg",
         "2.15380577191915",
         "0.011532474309206",
         "3.26749632622775",
         "1.94408856023727",
         "8.72581983696369",
         "0.801477334387836",
         "1.29345813148428",
         "2.65867366284964",
         "0.330827067669173",
         "125",
         "-256.070617675781",
         "336.525329589844",
         "128.998596191406",
         "Memorial Sloan Kettering Cancer Center",
         "CC-BY"
        ],
        [
         "36",
         "ISIC_0052355",
         "0",
         "IP_0909149",
         "50.0",
         "female",
         "anterior torso",
         "4.8",
         "TBP tile: close-up",
         "3D: XP",
         "21.4290548221252",
         "12.3594453775618",
         "29.7923067988445",
         "29.2525582724677",
         "36.6985821928603",
         "31.7563860589497",
         "54.273234468056",
         "67.095544139945",
         "52.0032276170787",
         "61.7761731499566",
         "16.6260086320135",
         "14.2150560659612",
         "1.37872744192913",
         "9.06960944456344",
         "0.539748526376798",
         "-9.77294553287795",
         "9.87636694951197",
         "7.0550310203387",
         "0.448685684217689",
         "Torso Front Bottom Half",
         "Torso Front",
         "4.24657560374639",
         "99.6123373508453",
         "1.25477903340587",
         "3.64228001895918",
         "15.373342019783",
         "1.05785532915796",
         "2.562086264868",
         "2.30113176965861",
         "0.12882096069869",
         "30",
         "-162.621704101562",
         "961.312561035156",
         "-67.8925170898438",
         "Department of Dermatology, University of Athens, Andreas Syggros Hospital of Skin and Venereal Diseases, Alexander Stratigos, Konstantinos Liopyris",
         "CC-BY"
        ],
        [
         "37",
         "ISIC_0052357",
         "0",
         "IP_7797815",
         "75.0",
         "male",
         "anterior torso",
         "3.81",
         "TBP tile: close-up",
         "3D: white",
         "17.20089",
         "14.28821",
         "24.10194",
         "23.57493",
         "29.61037",
         "27.56684",
         "54.4856",
         "58.78093",
         "41.32986",
         "49.48109",
         "6.511541",
         "23.56465",
         "0.4613383",
         "2.912674",
         "0.5270082",
         "-8.151228",
         "8.263767",
         "6.83837",
         "0.6879371",
         "Torso Front Bottom Half",
         "Torso Front",
         "2.80257",
         "0.01080454",
         "5.169549",
         "1.529536",
         "12.38718",
         "0.5573497",
         "1.370834",
         "3.882269",
         "0.4272727",
         "25",
         "146.6677",
         "787.8099",
         "13.46497",
         "Memorial Sloan Kettering Cancer Center",
         "CC-BY"
        ],
        [
         "38",
         "ISIC_0052367",
         "0",
         "IP_9577633",
         "50.0",
         "male",
         "lower extremity",
         "3.15",
         "TBP tile: close-up",
         "3D: XP",
         "19.38771",
         "15.79356",
         "28.06599",
         "26.52148",
         "34.11133",
         "30.86788",
         "55.36366",
         "59.22617",
         "32.69012",
         "37.71694",
         "2.589604",
         "26.54715",
         "0.0",
         "3.594144",
         "1.544503",
         "-5.026822",
         "5.454398",
         "5.267712",
         "0.9355397",
         "Right Leg - Upper",
         "Right Leg",
         "1.232877",
         "5.891174e-08",
         "7.438471",
         "0.0",
         "8.291358",
         "0.0",
         "0.8687015",
         "2.52435",
         "0.6601942",
         "175",
         "240.3368",
         "573.3918",
         "47.41742",
         "Department of Dermatology, Hospital Clínic de Barcelona",
         "CC-BY-NC"
        ],
        [
         "39",
         "ISIC_0061318",
         "0",
         "IP_0878241",
         "70.0",
         "male",
         "lower extremity",
         "3.15",
         "TBP tile: close-up",
         "3D: white",
         "19.2685517076055",
         "13.4567289745498",
         "24.9820150748191",
         "20.7522505395535",
         "31.5496142941107",
         "24.7333672829012",
         "52.3571079455546",
         "57.0387398729157",
         "50.5125066416797",
         "64.5980958859982",
         "6.62413210733721",
         "14.4237518761234",
         "0.983092104383859",
         "5.81182273305569",
         "4.22976453526558",
         "-14.0855892443185",
         "14.7746998622127",
         "10.1027830465392",
         "0.524718748460586",
         "Right Leg - Upper",
         "Right Leg",
         "2.6027397260274",
         "93.0204033851624",
         "2.35526203622979",
         "3.5341200940831",
         "9.77470398072977",
         "1.36748065341048",
         "4.60466128282998",
         "2.59444855205138",
         "0.272251308900524",
         "50",
         "170.70458984375",
         "790.0712890625",
         "122.382202148438",
         "Memorial Sloan Kettering Cancer Center",
         "CC-BY"
        ],
        [
         "40",
         "ISIC_0062556",
         "0",
         "IP_5539318",
         "70.0",
         "female",
         "anterior torso",
         "3.81",
         "TBP tile: close-up",
         "3D: XP",
         "15.77072",
         "12.92436",
         "25.73383",
         "23.14017",
         "30.18187",
         "26.50484",
         "58.49837",
         "60.81555",
         "36.66515",
         "40.62866",
         "4.334772",
         "29.75908",
         "0.0",
         "2.846358",
         "2.59366",
         "-3.963512",
         "4.834337",
         "4.58328",
         "0.9182028",
         "Torso Front Top Half",
         "Torso Front",
         "1.753425",
         "0.0009063483",
         "6.464383",
         "0.0",
         "11.35777",
         "0.0",
         "0.9523917",
         "2.034007",
         "0.4496644",
         "50",
         "63.16828",
         "1135.504",
         "-59.15332",
         "Department of Dermatology, Hospital Clínic de Barcelona",
         "CC-BY-NC"
        ],
        [
         "41",
         "ISIC_0065755",
         "0",
         "IP_6059757",
         "55.0",
         "female",
         "anterior torso",
         "8.91",
         "TBP tile: close-up",
         "3D: XP",
         "20.04554",
         "12.76025",
         "34.26882",
         "31.64647",
         "39.70108",
         "34.12218",
         "59.67451",
         "68.04009",
         "45.57013",
         "59.22885",
         "28.52318",
         "18.86539",
         "1.772149",
         "7.285287",
         "2.622353",
         "-13.65872",
         "14.0639",
         "10.291",
         "0.9035192",
         "Torso Front Bottom Half",
         "Torso Front",
         "4.016499",
         "8.221246",
         "3.131599",
         "6.407753",
         "23.197",
         "2.489305",
         "4.367711",
         "1.710779",
         "0.2677725",
         "55",
         "-112.8973",
         "904.5392",
         "-77.6553",
         "Department of Dermatology, Hospital Clínic de Barcelona",
         "CC-BY-NC"
        ],
        [
         "42",
         "ISIC_0067881",
         "0",
         "IP_0753755",
         "55.0",
         "male",
         "upper extremity",
         "4.4",
         "TBP tile: close-up",
         "3D: XP",
         "21.8135049921433",
         "12.9345987745859",
         "32.3726650918593",
         "28.7867488481907",
         "39.0361171889822",
         "31.5591627694451",
         "56.0269325152195",
         "65.8044365200448",
         "43.5788854978081",
         "55.4260158635817",
         "11.9909926815538",
         "14.5509420063988",
         "1.63626275206346",
         "8.87890621755737",
         "3.58591624366865",
         "-11.8471303657736",
         "12.5986944565751",
         "9.60070008007226",
         "0.650261708132437",
         "Right Arm - Upper",
         "Right Arm",
         "3.28767123287671",
         "99.7639179229736",
         "1.17746343593652",
         "4.55027863887982",
         "13.2090968316702",
         "1.40442825231685",
         "4.31312746981465",
         "1.70184769129184",
         "0.110119047619048",
         "70",
         "336.320373535156",
         "1402.12365722656",
         "147.762268066406",
         "University Hospital of Basel",
         "CC-BY-NC"
        ],
        [
         "43",
         "ISIC_0068212",
         "0",
         "IP_5543025",
         "55.0",
         "male",
         "upper extremity",
         "3.01",
         "TBP tile: close-up",
         "3D: XP",
         "22.26063",
         "20.26185",
         "32.1802",
         "31.16224",
         "39.12929",
         "37.17025",
         "55.32648",
         "56.96787",
         "35.6684",
         "41.5723",
         "3.227622",
         "24.83326",
         "0.1829236",
         "1.998787",
         "1.017962",
         "-5.903899",
         "6.136238",
         "5.459756",
         "0.9145219",
         "Left Arm - Upper",
         "Left Arm",
         "1.452055",
         "0.008732911",
         "5.505713",
         "0.2687682",
         "8.952786",
         "0.0",
         "1.099778",
         "1.646362",
         "0.4414414",
         "130",
         "-450.8306",
         "1384.466",
         "22.78741",
         "Memorial Sloan Kettering Cancer Center",
         "CC-BY"
        ],
        [
         "44",
         "ISIC_0070972",
         "0",
         "IP_3260480",
         "50.0",
         "male",
         "upper extremity",
         "3.0",
         "TBP tile: close-up",
         "3D: XP",
         "19.4266726656964",
         "16.833085825949",
         "24.1287336600454",
         "23.3967597883524",
         "30.9772722959515",
         "28.822927453984",
         "51.1615520946441",
         "54.2664089238615",
         "26.2817845470027",
         "31.2980460140545",
         "2.85231750797523",
         "22.0866712095645",
         "0.0",
         "2.59358683974739",
         "0.731973871693068",
         "-5.0162614670518",
         "5.25961204422148",
         "5.63681891999992",
         "0.910209662267577",
         "Left Arm - Upper",
         "Left Arm",
         "1.29176766905066",
         "0.367171340622008",
         "5.93272646264553",
         "0.0",
         "7.93714047903483",
         "0.0",
         "1.29413453856938",
         "1.36280337462082",
         "0.566666666666667",
         "120",
         "-369.251586914062",
         "1380.98522949219",
         "54.355224609375",
         "ACEMID MIA",
         "CC-0"
        ],
        [
         "45",
         "ISIC_0071851",
         "0",
         "IP_1669227",
         "60.0",
         "male",
         "anterior torso",
         "3.4",
         "TBP tile: close-up",
         "3D: XP",
         "17.2878525001297",
         "10.4501450116707",
         "29.0231747484003",
         "25.7662870904171",
         "33.7818666823256",
         "27.8048032035967",
         "59.2195682673367",
         "67.9237877041996",
         "33.8254409184272",
         "47.2915662360914",
         "8.74460499155564",
         "14.2880478512908",
         "1.62861143472148",
         "6.837707488459",
         "3.25688765798314",
         "-13.4661253176642",
         "13.9936758049568",
         "12.167122932088",
         "0.419070201599646",
         "Torso Front Top Half",
         "Torso Front",
         "3.15068493150685",
         "99.8180270195007",
         "1.74656128477364",
         "3.88884835426238",
         "11.1778054447187",
         "0.97894505053777",
         "5.50383322817141",
         "2.0809250738493",
         "0.193415637860082",
         "80",
         "150.654724121094",
         "1361.11706542969",
         "18.7442626953125",
         "University Hospital of Basel",
         "CC-BY-NC"
        ],
        [
         "46",
         "ISIC_0071852",
         "0",
         "IP_9144368",
         "65.0",
         "male",
         "anterior torso",
         "3.23",
         "TBP tile: close-up",
         "3D: XP",
         "24.88019",
         "9.363491",
         "21.68469",
         "24.37183",
         "33.00378",
         "26.10864",
         "41.07426",
         "68.98356",
         "38.57724",
         "56.67475",
         "6.886846",
         "13.32905",
         "2.48344",
         "15.5167",
         "-2.687137",
         "-18.09751",
         "18.50128",
         "14.13436",
         "0.6148875",
         "Torso Front Bottom Half",
         "Torso Front",
         "2.545542",
         "9.736948e-07",
         "0.7057569",
         "7.115397",
         "9.580976",
         "2.268477",
         "9.139633",
         "1.530705",
         "0.07650273",
         "60",
         "167.0849",
         "995.8899",
         "-49.68069",
         "Department of Dermatology, Hospital Clínic de Barcelona",
         "CC-BY-NC"
        ],
        [
         "47",
         "ISIC_0073261",
         "0",
         "IP_1117889",
         "55.0",
         "female",
         "anterior torso",
         "6.19",
         "TBP tile: close-up",
         "3D: XP",
         "21.0283286641856",
         "17.1987045297329",
         "33.744833286473",
         "32.0299892564181",
         "39.7605882745825",
         "36.3554074281573",
         "58.0706144907039",
         "61.7661449605216",
         "45.3600704755939",
         "52.8142298906062",
         "11.4468005254269",
         "24.4902419825081",
         "0.691443887799089",
         "3.82962413445268",
         "1.71484403005487",
         "-7.45415941501221",
         "7.72271868205461",
         "6.02455846790781",
         "0.923398233517208",
         "Torso Front Bottom Half",
         "Torso Front",
         "2.62114119856325",
         "0.0016664032955304",
         "4.87857383005042",
         "1.82159786770019",
         "16.7432050334817",
         "0.52722719711239",
         "1.39901480540459",
         "2.79198688858379",
         "0.365217391304348",
         "65",
         "-95.4307861328125",
         "829.196533203125",
         "-42.93017578125",
         "Department of Dermatology, Hospital Clínic de Barcelona",
         "CC-BY-NC"
        ],
        [
         "48",
         "ISIC_0073270",
         "0",
         "IP_6647281",
         "70.0",
         "male",
         "anterior torso",
         "3.3",
         "TBP tile: close-up",
         "3D: XP",
         "27.14006",
         "24.52516",
         "29.57146",
         "29.25193",
         "40.13794",
         "38.17275",
         "47.45495",
         "50.02314",
         "41.42593",
         "47.94334",
         "4.203415",
         "17.83888",
         "0.5617049",
         "2.614899",
         "0.3195313",
         "-6.517418",
         "6.744166",
         "5.338383",
         "0.8945194",
         "Torso Front Bottom Half",
         "Torso Front",
         "1.486347",
         "0.07830824",
         "3.615333",
         "1.629908",
         "8.659343",
         "0.52653",
         "1.038814",
         "3.420974",
         "0.3583333",
         "75",
         "-131.4259",
         "968.6838",
         "-22.76193",
         "University Hospital of Basel",
         "CC-BY-NC"
        ],
        [
         "49",
         "ISIC_0073301",
         "0",
         "IP_2536274",
         "40.0",
         "female",
         "posterior torso",
         "9.59",
         "TBP tile: close-up",
         "3D: XP",
         "24.2370186171062",
         "14.2917728413334",
         "28.0422270342778",
         "26.9654222012563",
         "37.0648022858335",
         "30.5186625762055",
         "49.1630016576882",
         "62.0762459377235",
         "46.7637467686559",
         "72.0982585389725",
         "31.9759804841434",
         "22.6620009473464",
         "3.94727617190851",
         "9.94524577577271",
         "1.07680483302143",
         "-25.3345117703166",
         "25.5948031614644",
         "15.9966562369134",
         "0.900678350565066",
         "Torso Back Middle Third",
         "Torso Back",
         "4.92594157179741",
         "99.6482014656067",
         "2.91090612442842",
         "9.9136837182892",
         "26.9191326016272",
         "3.21551462524845",
         "11.1566173864052",
         "2.10814170892813",
         "0.144565217391304",
         "105",
         "179.450317382812",
         "1042.49584960938",
         "180.077301025391",
         "Frazer Institute, The University of Queensland, Dermatology Research Centre",
         "CC-BY"
        ]
       ],
       "shape": {
        "columns": 45,
        "rows": 401059
       }
      },
      "text/html": [
       "<div>\n",
       "<style scoped>\n",
       "    .dataframe tbody tr th:only-of-type {\n",
       "        vertical-align: middle;\n",
       "    }\n",
       "\n",
       "    .dataframe tbody tr th {\n",
       "        vertical-align: top;\n",
       "    }\n",
       "\n",
       "    .dataframe thead th {\n",
       "        text-align: right;\n",
       "    }\n",
       "</style>\n",
       "<table border=\"1\" class=\"dataframe\">\n",
       "  <thead>\n",
       "    <tr style=\"text-align: right;\">\n",
       "      <th></th>\n",
       "      <th>isic_id</th>\n",
       "      <th>target</th>\n",
       "      <th>patient_id</th>\n",
       "      <th>age_approx</th>\n",
       "      <th>sex</th>\n",
       "      <th>anatom_site_general</th>\n",
       "      <th>clin_size_long_diam_mm</th>\n",
       "      <th>image_type</th>\n",
       "      <th>tbp_tile_type</th>\n",
       "      <th>tbp_lv_A</th>\n",
       "      <th>...</th>\n",
       "      <th>tbp_lv_radial_color_std_max</th>\n",
       "      <th>tbp_lv_stdL</th>\n",
       "      <th>tbp_lv_stdLExt</th>\n",
       "      <th>tbp_lv_symm_2axis</th>\n",
       "      <th>tbp_lv_symm_2axis_angle</th>\n",
       "      <th>tbp_lv_x</th>\n",
       "      <th>tbp_lv_y</th>\n",
       "      <th>tbp_lv_z</th>\n",
       "      <th>attribution</th>\n",
       "      <th>copyright_license</th>\n",
       "    </tr>\n",
       "  </thead>\n",
       "  <tbody>\n",
       "    <tr>\n",
       "      <th>0</th>\n",
       "      <td>ISIC_0015670</td>\n",
       "      <td>0</td>\n",
       "      <td>IP_1235828</td>\n",
       "      <td>60.0</td>\n",
       "      <td>male</td>\n",
       "      <td>lower extremity</td>\n",
       "      <td>3.04</td>\n",
       "      <td>TBP tile: close-up</td>\n",
       "      <td>3D: white</td>\n",
       "      <td>20.244422</td>\n",
       "      <td>...</td>\n",
       "      <td>0.000000</td>\n",
       "      <td>2.036195</td>\n",
       "      <td>2.637780</td>\n",
       "      <td>0.590476</td>\n",
       "      <td>85</td>\n",
       "      <td>-182.703552</td>\n",
       "      <td>613.493652</td>\n",
       "      <td>-42.427948</td>\n",
       "      <td>Memorial Sloan Kettering Cancer Center</td>\n",
       "      <td>CC-BY</td>\n",
       "    </tr>\n",
       "    <tr>\n",
       "      <th>1</th>\n",
       "      <td>ISIC_0015845</td>\n",
       "      <td>0</td>\n",
       "      <td>IP_8170065</td>\n",
       "      <td>60.0</td>\n",
       "      <td>male</td>\n",
       "      <td>head/neck</td>\n",
       "      <td>1.10</td>\n",
       "      <td>TBP tile: close-up</td>\n",
       "      <td>3D: white</td>\n",
       "      <td>31.712570</td>\n",
       "      <td>...</td>\n",
       "      <td>0.000000</td>\n",
       "      <td>0.853227</td>\n",
       "      <td>3.912844</td>\n",
       "      <td>0.285714</td>\n",
       "      <td>55</td>\n",
       "      <td>-0.078308</td>\n",
       "      <td>1575.687000</td>\n",
       "      <td>57.174500</td>\n",
       "      <td>Memorial Sloan Kettering Cancer Center</td>\n",
       "      <td>CC-BY</td>\n",
       "    </tr>\n",
       "    <tr>\n",
       "      <th>2</th>\n",
       "      <td>ISIC_0015864</td>\n",
       "      <td>0</td>\n",
       "      <td>IP_6724798</td>\n",
       "      <td>60.0</td>\n",
       "      <td>male</td>\n",
       "      <td>posterior torso</td>\n",
       "      <td>3.40</td>\n",
       "      <td>TBP tile: close-up</td>\n",
       "      <td>3D: XP</td>\n",
       "      <td>22.575830</td>\n",
       "      <td>...</td>\n",
       "      <td>0.000000</td>\n",
       "      <td>1.743651</td>\n",
       "      <td>1.950777</td>\n",
       "      <td>0.361905</td>\n",
       "      <td>105</td>\n",
       "      <td>123.649700</td>\n",
       "      <td>1472.010000</td>\n",
       "      <td>232.908900</td>\n",
       "      <td>Memorial Sloan Kettering Cancer Center</td>\n",
       "      <td>CC-BY</td>\n",
       "    </tr>\n",
       "    <tr>\n",
       "      <th>3</th>\n",
       "      <td>ISIC_0015902</td>\n",
       "      <td>0</td>\n",
       "      <td>IP_4111386</td>\n",
       "      <td>65.0</td>\n",
       "      <td>male</td>\n",
       "      <td>anterior torso</td>\n",
       "      <td>3.22</td>\n",
       "      <td>TBP tile: close-up</td>\n",
       "      <td>3D: XP</td>\n",
       "      <td>14.242329</td>\n",
       "      <td>...</td>\n",
       "      <td>0.664690</td>\n",
       "      <td>1.258541</td>\n",
       "      <td>1.573733</td>\n",
       "      <td>0.209581</td>\n",
       "      <td>130</td>\n",
       "      <td>-141.024780</td>\n",
       "      <td>1442.185791</td>\n",
       "      <td>58.359802</td>\n",
       "      <td>ACEMID MIA</td>\n",
       "      <td>CC-0</td>\n",
       "    </tr>\n",
       "    <tr>\n",
       "      <th>4</th>\n",
       "      <td>ISIC_0024200</td>\n",
       "      <td>0</td>\n",
       "      <td>IP_8313778</td>\n",
       "      <td>55.0</td>\n",
       "      <td>male</td>\n",
       "      <td>anterior torso</td>\n",
       "      <td>2.73</td>\n",
       "      <td>TBP tile: close-up</td>\n",
       "      <td>3D: white</td>\n",
       "      <td>24.725520</td>\n",
       "      <td>...</td>\n",
       "      <td>0.000000</td>\n",
       "      <td>2.085409</td>\n",
       "      <td>2.480509</td>\n",
       "      <td>0.313433</td>\n",
       "      <td>20</td>\n",
       "      <td>-72.315640</td>\n",
       "      <td>1488.720000</td>\n",
       "      <td>21.428960</td>\n",
       "      <td>Memorial Sloan Kettering Cancer Center</td>\n",
       "      <td>CC-BY</td>\n",
       "    </tr>\n",
       "    <tr>\n",
       "      <th>...</th>\n",
       "      <td>...</td>\n",
       "      <td>...</td>\n",
       "      <td>...</td>\n",
       "      <td>...</td>\n",
       "      <td>...</td>\n",
       "      <td>...</td>\n",
       "      <td>...</td>\n",
       "      <td>...</td>\n",
       "      <td>...</td>\n",
       "      <td>...</td>\n",
       "      <td>...</td>\n",
       "      <td>...</td>\n",
       "      <td>...</td>\n",
       "      <td>...</td>\n",
       "      <td>...</td>\n",
       "      <td>...</td>\n",
       "      <td>...</td>\n",
       "      <td>...</td>\n",
       "      <td>...</td>\n",
       "      <td>...</td>\n",
       "      <td>...</td>\n",
       "    </tr>\n",
       "    <tr>\n",
       "      <th>401054</th>\n",
       "      <td>ISIC_9999937</td>\n",
       "      <td>0</td>\n",
       "      <td>IP_1140263</td>\n",
       "      <td>70.0</td>\n",
       "      <td>male</td>\n",
       "      <td>anterior torso</td>\n",
       "      <td>6.80</td>\n",
       "      <td>TBP tile: close-up</td>\n",
       "      <td>3D: XP</td>\n",
       "      <td>22.574335</td>\n",
       "      <td>...</td>\n",
       "      <td>2.328066</td>\n",
       "      <td>7.054819</td>\n",
       "      <td>2.169398</td>\n",
       "      <td>0.288920</td>\n",
       "      <td>100</td>\n",
       "      <td>147.187256</td>\n",
       "      <td>1182.317505</td>\n",
       "      <td>122.652588</td>\n",
       "      <td>Department of Dermatology, Hospital Clínic de ...</td>\n",
       "      <td>CC-BY-NC</td>\n",
       "    </tr>\n",
       "    <tr>\n",
       "      <th>401055</th>\n",
       "      <td>ISIC_9999951</td>\n",
       "      <td>0</td>\n",
       "      <td>IP_5678181</td>\n",
       "      <td>60.0</td>\n",
       "      <td>male</td>\n",
       "      <td>posterior torso</td>\n",
       "      <td>3.11</td>\n",
       "      <td>TBP tile: close-up</td>\n",
       "      <td>3D: white</td>\n",
       "      <td>19.977640</td>\n",
       "      <td>...</td>\n",
       "      <td>1.048147</td>\n",
       "      <td>1.879502</td>\n",
       "      <td>2.910780</td>\n",
       "      <td>0.460000</td>\n",
       "      <td>25</td>\n",
       "      <td>52.349740</td>\n",
       "      <td>1393.187000</td>\n",
       "      <td>127.261700</td>\n",
       "      <td>Memorial Sloan Kettering Cancer Center</td>\n",
       "      <td>CC-BY</td>\n",
       "    </tr>\n",
       "    <tr>\n",
       "      <th>401056</th>\n",
       "      <td>ISIC_9999960</td>\n",
       "      <td>0</td>\n",
       "      <td>IP_0076153</td>\n",
       "      <td>65.0</td>\n",
       "      <td>female</td>\n",
       "      <td>anterior torso</td>\n",
       "      <td>2.05</td>\n",
       "      <td>TBP tile: close-up</td>\n",
       "      <td>3D: XP</td>\n",
       "      <td>17.332567</td>\n",
       "      <td>...</td>\n",
       "      <td>0.607554</td>\n",
       "      <td>1.702824</td>\n",
       "      <td>2.205272</td>\n",
       "      <td>0.183099</td>\n",
       "      <td>40</td>\n",
       "      <td>54.622246</td>\n",
       "      <td>1065.263672</td>\n",
       "      <td>-106.833740</td>\n",
       "      <td>Frazer Institute, The University of Queensland...</td>\n",
       "      <td>CC-BY</td>\n",
       "    </tr>\n",
       "    <tr>\n",
       "      <th>401057</th>\n",
       "      <td>ISIC_9999964</td>\n",
       "      <td>0</td>\n",
       "      <td>IP_5231513</td>\n",
       "      <td>30.0</td>\n",
       "      <td>female</td>\n",
       "      <td>anterior torso</td>\n",
       "      <td>2.80</td>\n",
       "      <td>TBP tile: close-up</td>\n",
       "      <td>3D: XP</td>\n",
       "      <td>22.288570</td>\n",
       "      <td>...</td>\n",
       "      <td>1.078204</td>\n",
       "      <td>3.680175</td>\n",
       "      <td>1.957157</td>\n",
       "      <td>0.161850</td>\n",
       "      <td>140</td>\n",
       "      <td>-9.861557</td>\n",
       "      <td>877.527000</td>\n",
       "      <td>-76.982120</td>\n",
       "      <td>University Hospital of Basel</td>\n",
       "      <td>CC-BY-NC</td>\n",
       "    </tr>\n",
       "    <tr>\n",
       "      <th>401058</th>\n",
       "      <td>ISIC_9999967</td>\n",
       "      <td>0</td>\n",
       "      <td>IP_6426047</td>\n",
       "      <td>50.0</td>\n",
       "      <td>male</td>\n",
       "      <td>lower extremity</td>\n",
       "      <td>3.30</td>\n",
       "      <td>TBP tile: close-up</td>\n",
       "      <td>3D: XP</td>\n",
       "      <td>16.792900</td>\n",
       "      <td>...</td>\n",
       "      <td>1.088073</td>\n",
       "      <td>3.068755</td>\n",
       "      <td>3.199104</td>\n",
       "      <td>0.197917</td>\n",
       "      <td>45</td>\n",
       "      <td>-258.872300</td>\n",
       "      <td>148.606200</td>\n",
       "      <td>107.710600</td>\n",
       "      <td>Department of Dermatology, University of Athen...</td>\n",
       "      <td>CC-BY</td>\n",
       "    </tr>\n",
       "  </tbody>\n",
       "</table>\n",
       "<p>401059 rows × 45 columns</p>\n",
       "</div>"
      ],
      "text/plain": [
       "             isic_id  target  patient_id  age_approx     sex  \\\n",
       "0       ISIC_0015670       0  IP_1235828        60.0    male   \n",
       "1       ISIC_0015845       0  IP_8170065        60.0    male   \n",
       "2       ISIC_0015864       0  IP_6724798        60.0    male   \n",
       "3       ISIC_0015902       0  IP_4111386        65.0    male   \n",
       "4       ISIC_0024200       0  IP_8313778        55.0    male   \n",
       "...              ...     ...         ...         ...     ...   \n",
       "401054  ISIC_9999937       0  IP_1140263        70.0    male   \n",
       "401055  ISIC_9999951       0  IP_5678181        60.0    male   \n",
       "401056  ISIC_9999960       0  IP_0076153        65.0  female   \n",
       "401057  ISIC_9999964       0  IP_5231513        30.0  female   \n",
       "401058  ISIC_9999967       0  IP_6426047        50.0    male   \n",
       "\n",
       "       anatom_site_general  clin_size_long_diam_mm          image_type  \\\n",
       "0          lower extremity                    3.04  TBP tile: close-up   \n",
       "1                head/neck                    1.10  TBP tile: close-up   \n",
       "2          posterior torso                    3.40  TBP tile: close-up   \n",
       "3           anterior torso                    3.22  TBP tile: close-up   \n",
       "4           anterior torso                    2.73  TBP tile: close-up   \n",
       "...                    ...                     ...                 ...   \n",
       "401054      anterior torso                    6.80  TBP tile: close-up   \n",
       "401055     posterior torso                    3.11  TBP tile: close-up   \n",
       "401056      anterior torso                    2.05  TBP tile: close-up   \n",
       "401057      anterior torso                    2.80  TBP tile: close-up   \n",
       "401058     lower extremity                    3.30  TBP tile: close-up   \n",
       "\n",
       "       tbp_tile_type   tbp_lv_A  ...  tbp_lv_radial_color_std_max  \\\n",
       "0          3D: white  20.244422  ...                     0.000000   \n",
       "1          3D: white  31.712570  ...                     0.000000   \n",
       "2             3D: XP  22.575830  ...                     0.000000   \n",
       "3             3D: XP  14.242329  ...                     0.664690   \n",
       "4          3D: white  24.725520  ...                     0.000000   \n",
       "...              ...        ...  ...                          ...   \n",
       "401054        3D: XP  22.574335  ...                     2.328066   \n",
       "401055     3D: white  19.977640  ...                     1.048147   \n",
       "401056        3D: XP  17.332567  ...                     0.607554   \n",
       "401057        3D: XP  22.288570  ...                     1.078204   \n",
       "401058        3D: XP  16.792900  ...                     1.088073   \n",
       "\n",
       "        tbp_lv_stdL  tbp_lv_stdLExt  tbp_lv_symm_2axis  \\\n",
       "0          2.036195        2.637780           0.590476   \n",
       "1          0.853227        3.912844           0.285714   \n",
       "2          1.743651        1.950777           0.361905   \n",
       "3          1.258541        1.573733           0.209581   \n",
       "4          2.085409        2.480509           0.313433   \n",
       "...             ...             ...                ...   \n",
       "401054     7.054819        2.169398           0.288920   \n",
       "401055     1.879502        2.910780           0.460000   \n",
       "401056     1.702824        2.205272           0.183099   \n",
       "401057     3.680175        1.957157           0.161850   \n",
       "401058     3.068755        3.199104           0.197917   \n",
       "\n",
       "        tbp_lv_symm_2axis_angle    tbp_lv_x     tbp_lv_y    tbp_lv_z  \\\n",
       "0                            85 -182.703552   613.493652  -42.427948   \n",
       "1                            55   -0.078308  1575.687000   57.174500   \n",
       "2                           105  123.649700  1472.010000  232.908900   \n",
       "3                           130 -141.024780  1442.185791   58.359802   \n",
       "4                            20  -72.315640  1488.720000   21.428960   \n",
       "...                         ...         ...          ...         ...   \n",
       "401054                      100  147.187256  1182.317505  122.652588   \n",
       "401055                       25   52.349740  1393.187000  127.261700   \n",
       "401056                       40   54.622246  1065.263672 -106.833740   \n",
       "401057                      140   -9.861557   877.527000  -76.982120   \n",
       "401058                       45 -258.872300   148.606200  107.710600   \n",
       "\n",
       "                                              attribution  copyright_license  \n",
       "0                  Memorial Sloan Kettering Cancer Center              CC-BY  \n",
       "1                  Memorial Sloan Kettering Cancer Center              CC-BY  \n",
       "2                  Memorial Sloan Kettering Cancer Center              CC-BY  \n",
       "3                                              ACEMID MIA               CC-0  \n",
       "4                  Memorial Sloan Kettering Cancer Center              CC-BY  \n",
       "...                                                   ...                ...  \n",
       "401054  Department of Dermatology, Hospital Clínic de ...           CC-BY-NC  \n",
       "401055             Memorial Sloan Kettering Cancer Center              CC-BY  \n",
       "401056  Frazer Institute, The University of Queensland...              CC-BY  \n",
       "401057                       University Hospital of Basel           CC-BY-NC  \n",
       "401058  Department of Dermatology, University of Athen...              CC-BY  \n",
       "\n",
       "[401059 rows x 45 columns]"
      ]
     },
     "execution_count": 10,
     "metadata": {},
     "output_type": "execute_result"
    }
   ],
   "source": [
    "trainCopy"
   ]
  },
  {
   "cell_type": "code",
   "execution_count": 11,
   "metadata": {},
   "outputs": [
    {
     "data": {
      "text/plain": [
       "401059"
      ]
     },
     "execution_count": 11,
     "metadata": {},
     "output_type": "execute_result"
    }
   ],
   "source": [
    "size = trainCopy.shape[0]\n",
    "size"
   ]
  },
  {
   "cell_type": "code",
   "execution_count": 12,
   "metadata": {},
   "outputs": [
    {
     "data": {
      "text/plain": [
       "isic_id                            0\n",
       "target                             0\n",
       "patient_id                         0\n",
       "age_approx                      2798\n",
       "sex                            11517\n",
       "anatom_site_general             5756\n",
       "clin_size_long_diam_mm             0\n",
       "image_type                         0\n",
       "tbp_tile_type                      0\n",
       "tbp_lv_A                           0\n",
       "tbp_lv_Aext                        0\n",
       "tbp_lv_B                           0\n",
       "tbp_lv_Bext                        0\n",
       "tbp_lv_C                           0\n",
       "tbp_lv_Cext                        0\n",
       "tbp_lv_H                           0\n",
       "tbp_lv_Hext                        0\n",
       "tbp_lv_L                           0\n",
       "tbp_lv_Lext                        0\n",
       "tbp_lv_areaMM2                     0\n",
       "tbp_lv_area_perim_ratio            0\n",
       "tbp_lv_color_std_mean              0\n",
       "tbp_lv_deltaA                      0\n",
       "tbp_lv_deltaB                      0\n",
       "tbp_lv_deltaL                      0\n",
       "tbp_lv_deltaLB                     0\n",
       "tbp_lv_deltaLBnorm                 0\n",
       "tbp_lv_eccentricity                0\n",
       "tbp_lv_location                    0\n",
       "tbp_lv_location_simple             0\n",
       "tbp_lv_minorAxisMM                 0\n",
       "tbp_lv_nevi_confidence             0\n",
       "tbp_lv_norm_border                 0\n",
       "tbp_lv_norm_color                  0\n",
       "tbp_lv_perimeterMM                 0\n",
       "tbp_lv_radial_color_std_max        0\n",
       "tbp_lv_stdL                        0\n",
       "tbp_lv_stdLExt                     0\n",
       "tbp_lv_symm_2axis                  0\n",
       "tbp_lv_symm_2axis_angle            0\n",
       "tbp_lv_x                           0\n",
       "tbp_lv_y                           0\n",
       "tbp_lv_z                           0\n",
       "attribution                        0\n",
       "copyright_license                  0\n",
       "dtype: int64"
      ]
     },
     "execution_count": 12,
     "metadata": {},
     "output_type": "execute_result"
    }
   ],
   "source": [
    "trainCopy.isnull().sum()"
   ]
  },
  {
   "cell_type": "code",
   "execution_count": 13,
   "metadata": {},
   "outputs": [],
   "source": [
    "columnsDrop = ['isic_id', 'patient_id', 'attribution', 'copyright_license', 'image_type']\n",
    "trainCopy.drop(columns=columnsDrop, inplace=True)\n",
    "testCopy = testData.copy()\n",
    "testCopy.drop(columns=columnsDrop, inplace=True)"
   ]
  },
  {
   "cell_type": "code",
   "execution_count": 14,
   "metadata": {},
   "outputs": [
    {
     "data": {
      "application/vnd.microsoft.datawrangler.viewer.v0+json": {
       "columns": [
        {
         "name": "index",
         "rawType": "int64",
         "type": "integer"
        },
        {
         "name": "target",
         "rawType": "int64",
         "type": "integer"
        },
        {
         "name": "age_approx",
         "rawType": "float64",
         "type": "float"
        },
        {
         "name": "sex",
         "rawType": "object",
         "type": "unknown"
        },
        {
         "name": "anatom_site_general",
         "rawType": "object",
         "type": "unknown"
        },
        {
         "name": "clin_size_long_diam_mm",
         "rawType": "float64",
         "type": "float"
        },
        {
         "name": "tbp_tile_type",
         "rawType": "object",
         "type": "string"
        },
        {
         "name": "tbp_lv_A",
         "rawType": "float64",
         "type": "float"
        },
        {
         "name": "tbp_lv_Aext",
         "rawType": "float64",
         "type": "float"
        },
        {
         "name": "tbp_lv_B",
         "rawType": "float64",
         "type": "float"
        },
        {
         "name": "tbp_lv_Bext",
         "rawType": "float64",
         "type": "float"
        },
        {
         "name": "tbp_lv_C",
         "rawType": "float64",
         "type": "float"
        },
        {
         "name": "tbp_lv_Cext",
         "rawType": "float64",
         "type": "float"
        },
        {
         "name": "tbp_lv_H",
         "rawType": "float64",
         "type": "float"
        },
        {
         "name": "tbp_lv_Hext",
         "rawType": "float64",
         "type": "float"
        },
        {
         "name": "tbp_lv_L",
         "rawType": "float64",
         "type": "float"
        },
        {
         "name": "tbp_lv_Lext",
         "rawType": "float64",
         "type": "float"
        },
        {
         "name": "tbp_lv_areaMM2",
         "rawType": "float64",
         "type": "float"
        },
        {
         "name": "tbp_lv_area_perim_ratio",
         "rawType": "float64",
         "type": "float"
        },
        {
         "name": "tbp_lv_color_std_mean",
         "rawType": "float64",
         "type": "float"
        },
        {
         "name": "tbp_lv_deltaA",
         "rawType": "float64",
         "type": "float"
        },
        {
         "name": "tbp_lv_deltaB",
         "rawType": "float64",
         "type": "float"
        },
        {
         "name": "tbp_lv_deltaL",
         "rawType": "float64",
         "type": "float"
        },
        {
         "name": "tbp_lv_deltaLB",
         "rawType": "float64",
         "type": "float"
        },
        {
         "name": "tbp_lv_deltaLBnorm",
         "rawType": "float64",
         "type": "float"
        },
        {
         "name": "tbp_lv_eccentricity",
         "rawType": "float64",
         "type": "float"
        },
        {
         "name": "tbp_lv_location",
         "rawType": "object",
         "type": "string"
        },
        {
         "name": "tbp_lv_location_simple",
         "rawType": "object",
         "type": "string"
        },
        {
         "name": "tbp_lv_minorAxisMM",
         "rawType": "float64",
         "type": "float"
        },
        {
         "name": "tbp_lv_nevi_confidence",
         "rawType": "float64",
         "type": "float"
        },
        {
         "name": "tbp_lv_norm_border",
         "rawType": "float64",
         "type": "float"
        },
        {
         "name": "tbp_lv_norm_color",
         "rawType": "float64",
         "type": "float"
        },
        {
         "name": "tbp_lv_perimeterMM",
         "rawType": "float64",
         "type": "float"
        },
        {
         "name": "tbp_lv_radial_color_std_max",
         "rawType": "float64",
         "type": "float"
        },
        {
         "name": "tbp_lv_stdL",
         "rawType": "float64",
         "type": "float"
        },
        {
         "name": "tbp_lv_stdLExt",
         "rawType": "float64",
         "type": "float"
        },
        {
         "name": "tbp_lv_symm_2axis",
         "rawType": "float64",
         "type": "float"
        },
        {
         "name": "tbp_lv_symm_2axis_angle",
         "rawType": "int64",
         "type": "integer"
        },
        {
         "name": "tbp_lv_x",
         "rawType": "float64",
         "type": "float"
        },
        {
         "name": "tbp_lv_y",
         "rawType": "float64",
         "type": "float"
        },
        {
         "name": "tbp_lv_z",
         "rawType": "float64",
         "type": "float"
        }
       ],
       "conversionMethod": "pd.DataFrame",
       "ref": "e994b76a-e458-42cb-8405-7d21d8c88a77",
       "rows": [
        [
         "0",
         "0",
         "60.0",
         "male",
         "lower extremity",
         "3.04",
         "3D: white",
         "20.2444222995213",
         "16.2619751791219",
         "26.9224473862421",
         "23.954773134576",
         "33.6846375593731",
         "28.9531171492014",
         "53.0585445070501",
         "55.8289238915569",
         "54.3674478530884",
         "62.0257012013125",
         "3.15256145618315",
         "27.4761698440053",
         "0.0",
         "3.98244712039942",
         "2.96767425166613",
         "-7.65825334822409",
         "8.36056573901858",
         "5.78430238218227",
         "0.901301769055263",
         "Right Leg - Upper",
         "Right Leg",
         "1.54301591115455",
         "0.0026285923013347",
         "7.09135958738072",
         "0.0",
         "9.30700349273346",
         "0.0",
         "2.03619534985743",
         "2.63778008066265",
         "0.59047619047619",
         "85",
         "-182.703552246094",
         "613.49365234375",
         "-42.4279479980469"
        ],
        [
         "1",
         "0",
         "60.0",
         "male",
         "head/neck",
         "1.1",
         "3D: white",
         "31.71257",
         "25.36474",
         "26.331",
         "24.54929",
         "41.21903",
         "35.29926",
         "39.70291",
         "44.06404",
         "48.86152",
         "55.36236",
         "0.9194971",
         "12.23529",
         "0.0",
         "6.34783",
         "1.781713",
         "-6.500838",
         "6.839008",
         "4.987244",
         "0.639885",
         "Head & Neck",
         "Head & Neck",
         "0.8219178",
         "1.334303e-07",
         "2.116402",
         "0.0",
         "3.354148",
         "0.0",
         "0.8532267",
         "3.912844",
         "0.2857143",
         "55",
         "-0.07830811",
         "1575.687",
         "57.1745"
        ],
        [
         "2",
         "0",
         "60.0",
         "male",
         "posterior torso",
         "3.4",
         "3D: XP",
         "22.57583",
         "17.12817",
         "37.97046",
         "33.48541",
         "44.17492",
         "37.6118",
         "59.26585",
         "62.90973",
         "53.96118",
         "61.67052",
         "3.265153",
         "24.18462",
         "0.0",
         "5.447655",
         "4.485044",
         "-7.709336",
         "9.092376",
         "6.290359",
         "0.932147",
         "Torso Back Top Third",
         "Torso Back",
         "1.194905",
         "0.0002959177",
         "4.798335",
         "0.0",
         "8.886309",
         "0.0",
         "1.743651",
         "1.950777",
         "0.3619048",
         "105",
         "123.6497",
         "1472.01",
         "232.9089"
        ],
        [
         "3",
         "0",
         "65.0",
         "male",
         "anterior torso",
         "3.22",
         "3D: XP",
         "14.2423288822174",
         "12.1647572742568",
         "21.4481442651631",
         "21.1213562925657",
         "25.7462001935915",
         "24.3740232866691",
         "56.4144285170649",
         "60.0603876362602",
         "18.6495183426657",
         "23.3148413340251",
         "6.07993995121036",
         "14.8892416135771",
         "0.514520296995049",
         "2.07757160796059",
         "0.326787972597426",
         "-4.66532299135938",
         "4.78341293261375",
         "6.40019612363943",
         "0.654458375002421",
         "Torso Front Top Half",
         "Torso Front",
         "2.48132784072667",
         "21.9894528388977",
         "1.97587443743163",
         "1.77170459478913",
         "9.51449919489256",
         "0.66468987772986",
         "1.25854054346649",
         "1.57373265038448",
         "0.209580838323353",
         "130",
         "-141.024780273438",
         "1442.18579101562",
         "58.3598022460938"
        ],
        [
         "4",
         "0",
         "55.0",
         "male",
         "anterior torso",
         "2.73",
         "3D: white",
         "24.72552",
         "20.05747",
         "26.4649",
         "25.71046",
         "36.21798",
         "32.60874",
         "46.94607",
         "52.04118",
         "46.27631",
         "54.85574",
         "2.101708",
         "19.90256",
         "0.0",
         "4.668053",
         "0.7544338",
         "-8.579431",
         "9.148495",
         "6.531302",
         "0.9464478",
         "Torso Front Top Half",
         "Torso Front",
         "0.929916",
         "0.001378832",
         "3.658854",
         "0.0",
         "6.467562",
         "0.0",
         "2.085409",
         "2.480509",
         "0.3134328",
         "20",
         "-72.31564",
         "1488.72",
         "21.42896"
        ],
        [
         "5",
         "0",
         "75.0",
         "female",
         "head/neck",
         "2.54",
         "3D: white",
         "22.1291833949994",
         "19.9114243631406",
         "24.1066143180751",
         "23.6496420205976",
         "32.7235329940082",
         "30.9155363510239",
         "47.4489561784157",
         "49.9048531319318",
         "38.8141699440872",
         "43.9132061403785",
         "2.9649089885532",
         "20.8935064800874",
         "0.0",
         "2.21775903185888",
         "0.456972297477474",
         "-5.09903619629133",
         "5.29260393486747",
         "4.51860941036353",
         "0.810116217431195",
         "Head & Neck",
         "Head & Neck",
         "1.72824271737713",
         "0.0752889609429985",
         "5.36120075806674",
         "0.0",
         "7.8706635784542",
         "0.0",
         "0.773993412070278",
         "2.7903368726121",
         "0.518867924528302",
         "55",
         "-11.9599609375",
         "1436.02746582031",
         "101.334655761719"
        ],
        [
         "6",
         "0",
         "65.0",
         "male",
         "upper extremity",
         "3.74",
         "3D: XP",
         "14.3191882037786",
         "10.0561348568775",
         "26.6852625084583",
         "23.3470284092903",
         "30.2843587675316",
         "25.4206527021615",
         "61.7821992692273",
         "66.6972759642117",
         "29.7962879326104",
         "35.8178101495823",
         "5.42315631450554",
         "22.5172845465924",
         "0.486497195564571",
         "4.26305334690117",
         "3.33823409916808",
         "-6.02152221697192",
         "6.98597936399255",
         "7.34668962624627",
         "0.864356603027704",
         "Right Arm - Upper",
         "Right Arm",
         "2.02165028820299",
         "0.487033277750015",
         "4.83624008118697",
         "1.25819875528952",
         "11.0505544600428",
         "0.355595996026473",
         "1.16025809634852",
         "2.41341235011973",
         "0.408045977011494",
         "55",
         "-286.593933105469",
         "1494.98095703125",
         "33.0778198242188"
        ],
        [
         "7",
         "0",
         "50.0",
         "male",
         "posterior torso",
         "4.31",
         "3D: XP",
         "20.10261",
         "16.00481",
         "24.82563",
         "24.22086",
         "31.94412",
         "29.03109",
         "51.00111",
         "56.54382",
         "27.65838",
         "32.32557",
         "9.87052",
         "23.34433",
         "0.8399444",
         "4.0978",
         "0.6047755",
         "-4.667194",
         "4.855003",
         "5.176521",
         "0.6470805",
         "Torso Back Top Third",
         "Torso Back",
         "3.273682",
         "7.18589",
         "3.949403",
         "2.757602",
         "15.17961",
         "0.9969645",
         "1.202774",
         "1.753673",
         "0.2679739",
         "35",
         "-80.92709",
         "1535.127",
         "161.4908"
        ],
        [
         "8",
         "0",
         "50.0",
         "male",
         "anterior torso",
         "3.17",
         "3D: white",
         "14.1668052069748",
         "11.1297033664102",
         "27.7436347671702",
         "23.5919039015288",
         "31.1513665810427",
         "26.085402560115",
         "62.9496605412878",
         "64.7439624381479",
         "58.9782350033144",
         "64.9262521382354",
         "5.9298179771064",
         "16.7576195846912",
         "0.871346896685955",
         "3.03710184056466",
         "4.15173086564134",
         "-5.94801713492099",
         "7.44180511221101",
         "5.00590237105128",
         "0.57931619271865",
         "Torso Front Top Half",
         "Torso Front",
         "2.50812007956309",
         "0.0038706664781784",
         "3.34405432054166",
         "3.04997360769528",
         "9.96843186598636",
         "1.15809871889741",
         "1.59721874091944",
         "2.05416021379819",
         "0.348314606741573",
         "135",
         "-97.7151260375977",
         "1089.935546875",
         "-165.714782714844"
        ],
        [
         "9",
         "0",
         "60.0",
         "female",
         "upper extremity",
         "3.97",
         "3D: XP",
         "16.2514898500272",
         "12.224407529738",
         "25.6183925569057",
         "23.7131060392071",
         "30.3383084489769",
         "26.6785969923419",
         "57.6102633244797",
         "62.7283193718973",
         "26.2094754576683",
         "32.9264590568245",
         "8.40683054982173",
         "15.9103084312058",
         "0.610791054178527",
         "4.02708232028924",
         "1.90528651769863",
         "-6.7169835991562",
         "7.0751440929515",
         "7.73379268487764",
         "0.769454281116478",
         "Right Arm - Upper",
         "Right Arm",
         "2.6027397260274",
         "79.6326160430908",
         "1.93573597055928",
         "1.90155025967989",
         "11.5652612152319",
         "0.657096109307971",
         "1.21788793827642",
         "1.76524751493543",
         "0.179039301310044",
         "100",
         "207.517272949219",
         "1269.95947265625",
         "64.8379516601562"
        ],
        [
         "10",
         "0",
         "60.0",
         "female",
         "lower extremity",
         "4.25",
         "3D: XP",
         "19.80819",
         "14.86749",
         "30.426",
         "29.2739",
         "36.30573",
         "32.83296",
         "56.93473",
         "63.0751",
         "43.2033",
         "52.89545",
         "9.945581",
         "20.95947",
         "1.613667",
         "4.940699",
         "1.152102",
         "-9.692149",
         "9.836962",
         "7.781181",
         "0.7410236",
         "Left Leg - Upper",
         "Left Leg",
         "3.109699",
         "69.74771",
         "3.754508",
         "5.776974",
         "14.43794",
         "2.228904",
         "3.201712",
         "1.992669",
         "0.3003413",
         "165",
         "-147.5017",
         "706.8179",
         "101.2655"
        ],
        [
         "11",
         "0",
         "60.0",
         "male",
         "posterior torso",
         "3.37",
         "3D: white",
         "20.0042140491572",
         "16.7148517678879",
         "27.7677277561916",
         "26.2988342662675",
         "34.2230227254472",
         "31.1611128393559",
         "54.2305559868712",
         "57.561026943089",
         "50.3826442335802",
         "57.8429848261615",
         "5.79846124976543",
         "25.6413286655233",
         "0.510417605040417",
         "3.28936228126934",
         "1.46889348992409",
         "-7.46034059258132",
         "7.71547319048045",
         "5.65331620183925",
         "0.623825283372457",
         "Torso Back Top Third",
         "Torso Back",
         "2.82306775654832",
         "0.0014018528418091",
         "6.40122092149089",
         "1.76656331074351",
         "12.1934511381945",
         "0.665270178451745",
         "1.27152650018566",
         "3.07937290976463",
         "0.542452830188679",
         "140",
         "-38.8423690795898",
         "1424.79565429688",
         "231.19287109375"
        ],
        [
         "12",
         "0",
         "70.0",
         "male",
         "anterior torso",
         "4.0",
         "3D: XP",
         "22.16881",
         "18.87471",
         "31.36237",
         "28.75606",
         "38.40643",
         "34.39717",
         "54.74503",
         "56.72017",
         "40.9679",
         "46.09486",
         "9.832989",
         "17.52944",
         "0.900724",
         "3.294098",
         "2.606311",
         "-5.126959",
         "5.923538",
         "4.947245",
         "0.5313491",
         "Torso Front Bottom Half",
         "Torso Front",
         "3.483167",
         "0.1112138",
         "3.126836",
         "2.846256",
         "13.12885",
         "0.9965395",
         "1.527705",
         "1.551853",
         "0.3",
         "75",
         "328.5996",
         "1189.842",
         "-103.5305"
        ],
        [
         "13",
         "0",
         "60.0",
         "male",
         "upper extremity",
         "4.6",
         "3D: XP",
         "16.48989",
         "13.83021",
         "32.37504",
         "31.82854",
         "36.33263",
         "34.70347",
         "63.00845",
         "66.51399",
         "42.6462",
         "50.97471",
         "6.192531",
         "22.76219",
         "1.294259",
         "2.659686",
         "0.5465031",
         "-8.32851",
         "8.674083",
         "6.858771",
         "0.9049373",
         "Left Arm - Upper",
         "Left Arm",
         "2.171911",
         "3.94796",
         "3.610603",
         "3.192097",
         "11.87247",
         "0.8444726",
         "2.074147",
         "2.980136",
         "0.2365591",
         "110",
         "282.2696",
         "1261.653",
         "152.9075"
        ],
        [
         "14",
         "0",
         "85.0",
         "male",
         "posterior torso",
         "3.56",
         "3D: XP",
         "12.91218",
         "10.23901",
         "26.99213",
         "26.70327",
         "29.92155",
         "28.59899",
         "64.43503",
         "69.02135",
         "30.85833",
         "36.54112",
         "7.036968",
         "16.6478",
         "0.9866129",
         "2.673165",
         "0.2888502",
         "-5.682785",
         "5.863815",
         "5.961945",
         "0.7339323",
         "Torso Back Top Third",
         "Torso Back",
         "2.618573",
         "0.01436051",
         "2.406819",
         "3.01933",
         "10.82359",
         "1.027217",
         "1.560966",
         "2.176099",
         "0.2244898",
         "20",
         "-23.97464",
         "1213.993",
         "187.0327"
        ],
        [
         "15",
         "0",
         "55.0",
         "female",
         "anterior torso",
         "2.9",
         "3D: XP",
         "16.77504",
         "10.52024",
         "31.63102",
         "26.83974",
         "35.80396",
         "28.82789",
         "62.06141",
         "68.59656",
         "43.63541",
         "53.10534",
         "6.136236",
         "14.60723",
         "1.330712",
         "6.254808",
         "4.791276",
         "-9.469926",
         "10.70005",
         "8.571995",
         "0.5091818",
         "Torso Front Top Half",
         "Torso Front",
         "2.578277",
         "96.98343",
         "1.722789",
         "3.547253",
         "9.467493",
         "1.041837",
         "3.323607",
         "1.700185",
         "0.1823529",
         "40",
         "109.2332",
         "1233.615",
         "-40.70795"
        ],
        [
         "16",
         "0",
         "65.0",
         "male",
         "upper extremity",
         "2.82",
         "3D: XP",
         "30.6983",
         "19.66395",
         "28.2797",
         "29.68606",
         "41.7388",
         "35.60805",
         "42.6517",
         "56.47964",
         "57.65166",
         "67.14658",
         "4.559955",
         "14.66629",
         "1.425933",
         "11.03435",
         "-1.406364",
         "-9.494915",
         "9.95075",
         "6.304648",
         "0.6397339",
         "Right Arm - Upper",
         "Right Arm",
         "2.165943",
         "0.02729045",
         "2.326578",
         "3.976931",
         "8.177875",
         "1.231463",
         "2.409766",
         "2.418324",
         "0.2624113",
         "170",
         "324.5905",
         "1427.573",
         "-23.505"
        ],
        [
         "17",
         "0",
         "50.0",
         "male",
         "lower extremity",
         "3.3",
         "3D: XP",
         "22.4993702391057",
         "16.9026717068104",
         "29.3772089695218",
         "29.0296974586934",
         "37.0032710445348",
         "33.5920175841149",
         "52.5522757388159",
         "59.7897041360401",
         "37.9308537518067",
         "51.2029330912005",
         "5.64833927566147",
         "16.3646546039226",
         "1.31352495221895",
         "5.59669853229531",
         "0.347511510828312",
         "-13.2720793393938",
         "13.3656802731891",
         "10.722788554782",
         "0.750015382242431",
         "Right Leg - Upper",
         "Right Leg",
         "2.19278779748368",
         "98.3045220375061",
         "2.32288743496386",
         "3.41028247520026",
         "9.6142145457635",
         "0.968728627363055",
         "6.05523120882768",
         "2.61582919515348",
         "0.220125786163522",
         "165",
         "206.731262207031",
         "744.22607421875",
         "-9.1146240234375"
        ],
        [
         "18",
         "0",
         "70.0",
         "male",
         "lower extremity",
         "2.52",
         "3D: white",
         "19.4104",
         "13.54244",
         "25.05215",
         "22.25796",
         "31.69186",
         "26.05407",
         "52.23149",
         "58.68235",
         "60.13607",
         "70.02414",
         "3.227622",
         "17.13245",
         "0.5654496",
         "5.867955",
         "2.794192",
         "-9.888063",
         "10.34517",
         "6.641414",
         "0.8011848",
         "Right Leg",
         "Right Leg",
         "1.646687",
         "2.693015",
         "4.006865",
         "1.432466",
         "7.436202",
         "0.3937231",
         "2.320389",
         "2.850419",
         "0.4285714",
         "150",
         "-278.6346",
         "243.7309",
         "26.31647"
        ],
        [
         "19",
         "0",
         "55.0",
         "female",
         "anterior torso",
         "2.84",
         "3D: white",
         "18.31406",
         "14.92811",
         "27.68457",
         "26.93259",
         "33.19398",
         "30.79307",
         "56.51433",
         "61.00142",
         "51.15448",
         "58.82705",
         "5.423156",
         "17.04416",
         "1.147059",
         "3.385953",
         "0.7519775",
         "-7.672571",
         "7.992576",
         "5.68572",
         "0.4748051",
         "Torso Front Top Half",
         "Torso Front",
         "2.419775",
         "1.667745",
         "2.939311",
         "3.530993",
         "9.614215",
         "1.20778",
         "1.881537",
         "1.819836",
         "0.2866242",
         "35",
         "134.8346",
         "1249.434",
         "68.71265"
        ],
        [
         "20",
         "0",
         "50.0",
         "male",
         "posterior torso",
         "3.88",
         "3D: XP",
         "24.43579",
         "15.04548",
         "40.76574",
         "36.34",
         "47.52845",
         "39.33144",
         "59.0607",
         "67.50947",
         "51.42505",
         "65.84814",
         "8.3693",
         "14.80347",
         "2.06736",
         "9.390307",
         "4.425745",
         "-14.42309",
         "15.25402",
         "10.19967",
         "0.753766",
         "Torso Back Middle Third",
         "Torso Back",
         "2.633787",
         "99.41373",
         "2.112671",
         "6.18557",
         "11.1308",
         "2.060061",
         "5.22815",
         "2.264992",
         "0.2301587",
         "130",
         "-49.04086",
         "1208.955",
         "140.5942"
        ],
        [
         "21",
         "0",
         "70.0",
         "male",
         "head/neck",
         "3.95",
         "3D: XP",
         "19.48332",
         "17.52216",
         "24.20181",
         "23.30301",
         "31.06972",
         "29.15572",
         "51.1647",
         "53.05951",
         "26.27654",
         "30.2787",
         "7.918934",
         "39.25696",
         "0.479868",
         "1.961163",
         "0.8988072",
         "-4.002157",
         "4.229319",
         "4.6161",
         "0.471671",
         "Head & Neck",
         "Head & Neck",
         "3.563585",
         "0.3253764",
         "9.187762",
         "1.307422",
         "17.6316",
         "0.3941816",
         "0.9046215",
         "1.685955",
         "0.5836299",
         "105",
         "90.2583",
         "1692.21",
         "-53.84058"
        ],
        [
         "22",
         "0",
         "55.0",
         "male",
         "posterior torso",
         "16.7",
         "3D: white",
         "18.3598946442311",
         "14.1983937991092",
         "19.5165378522955",
         "24.0503851421517",
         "26.7951671218402",
         "27.9287560045272",
         "46.7491136743441",
         "59.444082265989",
         "35.5638842119516",
         "59.3617676993149",
         "76.6935635203603",
         "22.2092411973393",
         "3.17600812529236",
         "4.1615008451219",
         "-4.5338472898562",
         "-23.7978834873633",
         "24.427635228806",
         "17.7530663749172",
         "0.936265673756003",
         "Torso Back Middle Third",
         "Torso Back",
         "6.12343252521672",
         "11.2279467284679",
         "2.63870019024457",
         "8.63828465506525",
         "41.2711261114492",
         "2.59914719970972",
         "6.77877387173338",
         "3.00431588871143",
         "0.118957345971564",
         "105",
         "159.91552734375",
         "1119.337890625",
         "132.397430419922"
        ],
        [
         "23",
         "0",
         "55.0",
         "female",
         "anterior torso",
         "2.6",
         "3D: XP",
         "23.0826974875514",
         "14.6024888192267",
         "25.3714681160324",
         "25.1711571325285",
         "34.3004710997482",
         "29.1001689188582",
         "47.7044010412387",
         "59.8807865777103",
         "30.869906267092",
         "39.2459769727249",
         "5.31056483392757",
         "16.5447814745655",
         "1.02962424507243",
         "8.48020866832475",
         "0.200310983503886",
         "-8.37607070563289",
         "8.48041506116887",
         "8.15762051659487",
         "0.371562247902972",
         "Torso Front Top Half",
         "Torso Front",
         "2.46575342465753",
         "0.062580726807937",
         "2.54021527920955",
         "3.8885065266329",
         "9.37348039331408",
         "1.5546502696542",
         "2.55460649388283",
         "2.15909550002868",
         "0.245033112582781",
         "5",
         "-17.5148677825928",
         "1117.232421875",
         "-54.2003173828125"
        ],
        [
         "24",
         "0",
         "60.0",
         "male",
         "upper extremity",
         "3.49",
         "3D: XP",
         "19.14376",
         "15.65793",
         "25.27081",
         "25.45193",
         "31.70327",
         "29.88262",
         "52.85445",
         "58.40033",
         "21.0568",
         "26.94648",
         "6.492775",
         "17.93249",
         "1.13477",
         "3.485834",
         "-0.1811199",
         "-5.889679",
         "6.099334",
         "7.178071",
         "0.7238037",
         "Left Arm - Upper",
         "Left Arm",
         "2.585262",
         "69.04716",
         "2.923453",
         "3.119465",
         "10.79035",
         "0.9502913",
         "2.065971",
         "1.847328",
         "0.2626263",
         "80",
         "-442.2213",
         "1258.09",
         "83.70868"
        ],
        [
         "25",
         "0",
         "70.0",
         "male",
         "upper extremity",
         "3.3",
         "3D: XP",
         "19.0234759436713",
         "16.0866021404737",
         "30.2357530487908",
         "29.144809900801",
         "35.7224495157724",
         "33.2896186908129",
         "57.8230645405756",
         "61.1033108603895",
         "33.9305549621582",
         "38.3802346465271",
         "3.37774441733909",
         "23.7295574642202",
         "0.14074978268261",
         "2.93687380319768",
         "1.09094314798983",
         "-4.44967968436895",
         "4.70994629859924",
         "4.58655099168457",
         "0.916799082464402",
         "Right Arm - Lower",
         "Right Arm",
         "1.45295913905314",
         "0.0001052475795404",
         "6.60788973180803",
         "0.413541254949269",
         "8.9527861725106",
         "0.135289840101717",
         "0.911477163156552",
         "1.41424111387576",
         "0.617391304347826",
         "140",
         "406.64599609375",
         "1168.79248046875",
         "-20.4802856445312"
        ],
        [
         "26",
         "0",
         "65.0",
         "male",
         "posterior torso",
         "4.25",
         "3D: white",
         "19.7854247857596",
         "14.8172917099311",
         "28.7580826397767",
         "28.9160344998584",
         "34.9068811421069",
         "32.4913709285126",
         "55.472212346135",
         "62.8682751772119",
         "55.8793893285077",
         "69.4222329310148",
         "7.37474197785701",
         "16.4009267423309",
         "1.73939825085062",
         "4.96813307582849",
         "-0.157951860081667",
         "-13.5428436025071",
         "13.8077706295722",
         "8.80012969970977",
         "0.862139359832956",
         "Torso Back Middle Third",
         "Torso Back",
         "2.05479452054794",
         "91.0918176174164",
         "1.91042872184876",
         "5.47378959223677",
         "10.9978453763646",
         "1.90960856834774",
         "4.45237448581462",
         "2.56694747010387",
         "0.163551401869159",
         "85",
         "-194.058349609375",
         "1232.58508300781",
         "88.6661987304688"
        ],
        [
         "27",
         "0",
         "55.0",
         "male",
         "posterior torso",
         "3.69",
         "3D: XP",
         "23.66354",
         "18.11407",
         "30.17639",
         "28.51584",
         "38.34811",
         "33.78272",
         "51.89737",
         "57.57514",
         "33.77708",
         "41.35029",
         "9.795459",
         "22.43819",
         "0.7173266",
         "5.549478",
         "1.660547",
         "-7.573212",
         "7.895456",
         "7.212246",
         "0.2040142",
         "Torso Back Top Third",
         "Torso Back",
         "3.433321",
         "79.2695",
         "4.41639",
         "2.263208",
         "14.8254",
         "0.7913303",
         "1.595762",
         "1.932435",
         "0.3533123",
         "0",
         "-120.5208",
         "1546.752",
         "113.1157"
        ],
        [
         "28",
         "0",
         "75.0",
         "male",
         "anterior torso",
         "3.3",
         "3D: XP",
         "14.05176",
         "10.99367",
         "25.83806",
         "23.71304",
         "29.41186",
         "26.1375",
         "61.4609",
         "65.12695",
         "44.12691",
         "49.99138",
         "2.908613",
         "23.63553",
         "0.0",
         "3.058085",
         "2.125021",
         "-5.864472",
         "6.480913",
         "5.253304",
         "0.9457842",
         "Torso Front Top Half",
         "Torso Front",
         "1.193578",
         "0.2157876",
         "5.192087",
         "0.0",
         "8.291358",
         "0.0",
         "1.586514",
         "2.579669",
         "0.4285714",
         "115",
         "-68.91751",
         "1147.62",
         "-97.13159"
        ],
        [
         "29",
         "0",
         "75.0",
         "male",
         "lower extremity",
         "4.07",
         "3D: XP",
         "15.8001109018884",
         "10.6980259319926",
         "23.5140595132765",
         "23.2178245805933",
         "28.3293928509928",
         "25.563942127473",
         "56.1011437788219",
         "65.2612716356647",
         "30.1275138660848",
         "40.3436171543155",
         "7.37474197785701",
         "20.6488395270676",
         "1.27375003313153",
         "5.10208496989577",
         "0.296234932683166",
         "-10.2161032882307",
         "10.489960762684",
         "10.0239590468887",
         "0.745475596583964",
         "Right Leg - Lower",
         "Right Leg",
         "2.71219018387468",
         "94.1479623317718",
         "4.66039372530579",
         "4.261959962762",
         "12.3401727562582",
         "1.564310141093",
         "5.33197566093607",
         "2.37901032708333",
         "0.430278884462151",
         "130",
         "176.6025390625",
         "322.538238525391",
         "87.9788818359375"
        ],
        [
         "30",
         "0",
         "45.0",
         "male",
         "anterior torso",
         "2.81",
         "3D: white",
         "22.50777",
         "15.01896",
         "29.10553",
         "27.04948",
         "36.79309",
         "30.93935",
         "52.28465",
         "60.95921",
         "54.76516",
         "66.0856",
         "4.710077",
         "15.4555",
         "0.8882443",
         "7.488812",
         "2.056048",
         "-11.32044",
         "11.64575",
         "7.740809",
         "0.7304554",
         "Torso Front Bottom Half",
         "Torso Front",
         "2.005864",
         "93.16785",
         "2.295561",
         "2.633602",
         "8.532092",
         "0.8693783",
         "2.655804",
         "3.05015",
         "0.238806",
         "165",
         "-64.39981",
         "1081.379",
         "-58.74402"
        ],
        [
         "31",
         "0",
         "45.0",
         "female",
         "lower extremity",
         "3.11",
         "3D: white",
         "21.62795",
         "14.97053",
         "27.91714",
         "25.55166",
         "35.31479",
         "29.61425",
         "52.23436",
         "59.63428",
         "48.44443",
         "58.9292",
         "5.573278",
         "16.19584",
         "0.8663238",
         "6.657419",
         "2.365474",
         "-10.48477",
         "10.82697",
         "7.904052",
         "0.727118",
         "Left Leg - Lower",
         "Left Leg",
         "2.213482",
         "81.14051",
         "2.267983",
         "2.844076",
         "9.500731",
         "1.028189",
         "2.33113",
         "2.527209",
         "0.2168675",
         "145",
         "-286.2152",
         "237.2912",
         "71.24567"
        ],
        [
         "32",
         "0",
         "45.0",
         "male",
         "posterior torso",
         "2.77",
         "3D: XP",
         "21.54081",
         "13.49374",
         "42.45657",
         "35.19085",
         "47.60848",
         "37.68921",
         "63.09854",
         "69.02096",
         "71.5057",
         "83.38013",
         "3.865641",
         "13.87149",
         "1.555732",
         "8.047072",
         "7.265725",
         "-11.87443",
         "14.04434",
         "7.885261",
         "0.7953513",
         "Torso Back Top Third",
         "Torso Back",
         "1.643836",
         "96.27185",
         "1.804885",
         "3.171461",
         "7.322718",
         "0.5795605",
         "4.351335",
         "1.765863",
         "0.2115385",
         "130",
         "176.9725",
         "1329.578",
         "130.9724"
        ],
        [
         "33",
         "0",
         "65.0",
         "male",
         "posterior torso",
         "3.15",
         "3D: XP",
         "14.473369245176",
         "12.1755652809504",
         "22.695471563457",
         "23.9905861713847",
         "26.9177050803907",
         "26.9033941122179",
         "57.4735041225082",
         "63.0915554579118",
         "32.9429841453646",
         "37.769336363707",
         "3.03996997560518",
         "23.3137084989847",
         "0.168864366762398",
         "2.29780396422558",
         "-1.29511460792775",
         "-4.82635221834239",
         "5.0823488191322",
         "4.9453636217223",
         "0.866139393091103",
         "Torso Back Middle Third",
         "Torso Back",
         "1.50684931506849",
         "0.0015530651580775",
         "6.56343461462588",
         "0.408347491063707",
         "8.41860878393366",
         "0.104858740365853",
         "0.782970063294137",
         "1.79652756674568",
         "0.621621621621622",
         "80",
         "44.16259765625",
         "1175.67443847656",
         "204.100219726562"
        ],
        [
         "34",
         "0",
         "75.0",
         "male",
         "anterior torso",
         "3.27",
         "3D: white",
         "18.14791",
         "16.94405",
         "23.14016",
         "24.79836",
         "29.40771",
         "30.03431",
         "51.89432",
         "55.65627",
         "45.39058",
         "54.25327",
         "4.916495",
         "20.48195",
         "0.9839653",
         "1.203859",
         "-1.658201",
         "-8.86269",
         "9.187463",
         "7.001693",
         "0.7873903",
         "Torso Front Bottom Half",
         "Torso Front",
         "2.050982",
         "0.003765256",
         "4.150261",
         "3.034634",
         "10.03491",
         "1.039777",
         "2.182352",
         "3.331544",
         "0.3655172",
         "35",
         "-61.21442",
         "904.9018",
         "-59.25241"
        ],
        [
         "35",
         "0",
         "65.0",
         "male",
         "lower extremity",
         "2.81",
         "3D: white",
         "18.8216410604846",
         "16.4387043600497",
         "26.8993239522982",
         "27.1852172934491",
         "32.8302878650249",
         "31.7689634758385",
         "55.019254252312",
         "58.8389498170796",
         "47.6764921460833",
         "53.9407702459805",
         "4.46612872959279",
         "17.0483065843226",
         "0.489580852299871",
         "2.38293670043485",
         "-0.285893341150867",
         "-6.26427809989724",
         "6.48461279047637",
         "4.90629709227083",
         "0.693380965027455",
         "Left Leg - Lower",
         "Left Leg",
         "2.15380577191915",
         "0.011532474309206",
         "3.26749632622775",
         "1.94408856023727",
         "8.72581983696369",
         "0.801477334387836",
         "1.29345813148428",
         "2.65867366284964",
         "0.330827067669173",
         "125",
         "-256.070617675781",
         "336.525329589844",
         "128.998596191406"
        ],
        [
         "36",
         "0",
         "50.0",
         "female",
         "anterior torso",
         "4.8",
         "3D: XP",
         "21.4290548221252",
         "12.3594453775618",
         "29.7923067988445",
         "29.2525582724677",
         "36.6985821928603",
         "31.7563860589497",
         "54.273234468056",
         "67.095544139945",
         "52.0032276170787",
         "61.7761731499566",
         "16.6260086320135",
         "14.2150560659612",
         "1.37872744192913",
         "9.06960944456344",
         "0.539748526376798",
         "-9.77294553287795",
         "9.87636694951197",
         "7.0550310203387",
         "0.448685684217689",
         "Torso Front Bottom Half",
         "Torso Front",
         "4.24657560374639",
         "99.6123373508453",
         "1.25477903340587",
         "3.64228001895918",
         "15.373342019783",
         "1.05785532915796",
         "2.562086264868",
         "2.30113176965861",
         "0.12882096069869",
         "30",
         "-162.621704101562",
         "961.312561035156",
         "-67.8925170898438"
        ],
        [
         "37",
         "0",
         "75.0",
         "male",
         "anterior torso",
         "3.81",
         "3D: white",
         "17.20089",
         "14.28821",
         "24.10194",
         "23.57493",
         "29.61037",
         "27.56684",
         "54.4856",
         "58.78093",
         "41.32986",
         "49.48109",
         "6.511541",
         "23.56465",
         "0.4613383",
         "2.912674",
         "0.5270082",
         "-8.151228",
         "8.263767",
         "6.83837",
         "0.6879371",
         "Torso Front Bottom Half",
         "Torso Front",
         "2.80257",
         "0.01080454",
         "5.169549",
         "1.529536",
         "12.38718",
         "0.5573497",
         "1.370834",
         "3.882269",
         "0.4272727",
         "25",
         "146.6677",
         "787.8099",
         "13.46497"
        ],
        [
         "38",
         "0",
         "50.0",
         "male",
         "lower extremity",
         "3.15",
         "3D: XP",
         "19.38771",
         "15.79356",
         "28.06599",
         "26.52148",
         "34.11133",
         "30.86788",
         "55.36366",
         "59.22617",
         "32.69012",
         "37.71694",
         "2.589604",
         "26.54715",
         "0.0",
         "3.594144",
         "1.544503",
         "-5.026822",
         "5.454398",
         "5.267712",
         "0.9355397",
         "Right Leg - Upper",
         "Right Leg",
         "1.232877",
         "5.891174e-08",
         "7.438471",
         "0.0",
         "8.291358",
         "0.0",
         "0.8687015",
         "2.52435",
         "0.6601942",
         "175",
         "240.3368",
         "573.3918",
         "47.41742"
        ],
        [
         "39",
         "0",
         "70.0",
         "male",
         "lower extremity",
         "3.15",
         "3D: white",
         "19.2685517076055",
         "13.4567289745498",
         "24.9820150748191",
         "20.7522505395535",
         "31.5496142941107",
         "24.7333672829012",
         "52.3571079455546",
         "57.0387398729157",
         "50.5125066416797",
         "64.5980958859982",
         "6.62413210733721",
         "14.4237518761234",
         "0.983092104383859",
         "5.81182273305569",
         "4.22976453526558",
         "-14.0855892443185",
         "14.7746998622127",
         "10.1027830465392",
         "0.524718748460586",
         "Right Leg - Upper",
         "Right Leg",
         "2.6027397260274",
         "93.0204033851624",
         "2.35526203622979",
         "3.5341200940831",
         "9.77470398072977",
         "1.36748065341048",
         "4.60466128282998",
         "2.59444855205138",
         "0.272251308900524",
         "50",
         "170.70458984375",
         "790.0712890625",
         "122.382202148438"
        ],
        [
         "40",
         "0",
         "70.0",
         "female",
         "anterior torso",
         "3.81",
         "3D: XP",
         "15.77072",
         "12.92436",
         "25.73383",
         "23.14017",
         "30.18187",
         "26.50484",
         "58.49837",
         "60.81555",
         "36.66515",
         "40.62866",
         "4.334772",
         "29.75908",
         "0.0",
         "2.846358",
         "2.59366",
         "-3.963512",
         "4.834337",
         "4.58328",
         "0.9182028",
         "Torso Front Top Half",
         "Torso Front",
         "1.753425",
         "0.0009063483",
         "6.464383",
         "0.0",
         "11.35777",
         "0.0",
         "0.9523917",
         "2.034007",
         "0.4496644",
         "50",
         "63.16828",
         "1135.504",
         "-59.15332"
        ],
        [
         "41",
         "0",
         "55.0",
         "female",
         "anterior torso",
         "8.91",
         "3D: XP",
         "20.04554",
         "12.76025",
         "34.26882",
         "31.64647",
         "39.70108",
         "34.12218",
         "59.67451",
         "68.04009",
         "45.57013",
         "59.22885",
         "28.52318",
         "18.86539",
         "1.772149",
         "7.285287",
         "2.622353",
         "-13.65872",
         "14.0639",
         "10.291",
         "0.9035192",
         "Torso Front Bottom Half",
         "Torso Front",
         "4.016499",
         "8.221246",
         "3.131599",
         "6.407753",
         "23.197",
         "2.489305",
         "4.367711",
         "1.710779",
         "0.2677725",
         "55",
         "-112.8973",
         "904.5392",
         "-77.6553"
        ],
        [
         "42",
         "0",
         "55.0",
         "male",
         "upper extremity",
         "4.4",
         "3D: XP",
         "21.8135049921433",
         "12.9345987745859",
         "32.3726650918593",
         "28.7867488481907",
         "39.0361171889822",
         "31.5591627694451",
         "56.0269325152195",
         "65.8044365200448",
         "43.5788854978081",
         "55.4260158635817",
         "11.9909926815538",
         "14.5509420063988",
         "1.63626275206346",
         "8.87890621755737",
         "3.58591624366865",
         "-11.8471303657736",
         "12.5986944565751",
         "9.60070008007226",
         "0.650261708132437",
         "Right Arm - Upper",
         "Right Arm",
         "3.28767123287671",
         "99.7639179229736",
         "1.17746343593652",
         "4.55027863887982",
         "13.2090968316702",
         "1.40442825231685",
         "4.31312746981465",
         "1.70184769129184",
         "0.110119047619048",
         "70",
         "336.320373535156",
         "1402.12365722656",
         "147.762268066406"
        ],
        [
         "43",
         "0",
         "55.0",
         "male",
         "upper extremity",
         "3.01",
         "3D: XP",
         "22.26063",
         "20.26185",
         "32.1802",
         "31.16224",
         "39.12929",
         "37.17025",
         "55.32648",
         "56.96787",
         "35.6684",
         "41.5723",
         "3.227622",
         "24.83326",
         "0.1829236",
         "1.998787",
         "1.017962",
         "-5.903899",
         "6.136238",
         "5.459756",
         "0.9145219",
         "Left Arm - Upper",
         "Left Arm",
         "1.452055",
         "0.008732911",
         "5.505713",
         "0.2687682",
         "8.952786",
         "0.0",
         "1.099778",
         "1.646362",
         "0.4414414",
         "130",
         "-450.8306",
         "1384.466",
         "22.78741"
        ],
        [
         "44",
         "0",
         "50.0",
         "male",
         "upper extremity",
         "3.0",
         "3D: XP",
         "19.4266726656964",
         "16.833085825949",
         "24.1287336600454",
         "23.3967597883524",
         "30.9772722959515",
         "28.822927453984",
         "51.1615520946441",
         "54.2664089238615",
         "26.2817845470027",
         "31.2980460140545",
         "2.85231750797523",
         "22.0866712095645",
         "0.0",
         "2.59358683974739",
         "0.731973871693068",
         "-5.0162614670518",
         "5.25961204422148",
         "5.63681891999992",
         "0.910209662267577",
         "Left Arm - Upper",
         "Left Arm",
         "1.29176766905066",
         "0.367171340622008",
         "5.93272646264553",
         "0.0",
         "7.93714047903483",
         "0.0",
         "1.29413453856938",
         "1.36280337462082",
         "0.566666666666667",
         "120",
         "-369.251586914062",
         "1380.98522949219",
         "54.355224609375"
        ],
        [
         "45",
         "0",
         "60.0",
         "male",
         "anterior torso",
         "3.4",
         "3D: XP",
         "17.2878525001297",
         "10.4501450116707",
         "29.0231747484003",
         "25.7662870904171",
         "33.7818666823256",
         "27.8048032035967",
         "59.2195682673367",
         "67.9237877041996",
         "33.8254409184272",
         "47.2915662360914",
         "8.74460499155564",
         "14.2880478512908",
         "1.62861143472148",
         "6.837707488459",
         "3.25688765798314",
         "-13.4661253176642",
         "13.9936758049568",
         "12.167122932088",
         "0.419070201599646",
         "Torso Front Top Half",
         "Torso Front",
         "3.15068493150685",
         "99.8180270195007",
         "1.74656128477364",
         "3.88884835426238",
         "11.1778054447187",
         "0.97894505053777",
         "5.50383322817141",
         "2.0809250738493",
         "0.193415637860082",
         "80",
         "150.654724121094",
         "1361.11706542969",
         "18.7442626953125"
        ],
        [
         "46",
         "0",
         "65.0",
         "male",
         "anterior torso",
         "3.23",
         "3D: XP",
         "24.88019",
         "9.363491",
         "21.68469",
         "24.37183",
         "33.00378",
         "26.10864",
         "41.07426",
         "68.98356",
         "38.57724",
         "56.67475",
         "6.886846",
         "13.32905",
         "2.48344",
         "15.5167",
         "-2.687137",
         "-18.09751",
         "18.50128",
         "14.13436",
         "0.6148875",
         "Torso Front Bottom Half",
         "Torso Front",
         "2.545542",
         "9.736948e-07",
         "0.7057569",
         "7.115397",
         "9.580976",
         "2.268477",
         "9.139633",
         "1.530705",
         "0.07650273",
         "60",
         "167.0849",
         "995.8899",
         "-49.68069"
        ],
        [
         "47",
         "0",
         "55.0",
         "female",
         "anterior torso",
         "6.19",
         "3D: XP",
         "21.0283286641856",
         "17.1987045297329",
         "33.744833286473",
         "32.0299892564181",
         "39.7605882745825",
         "36.3554074281573",
         "58.0706144907039",
         "61.7661449605216",
         "45.3600704755939",
         "52.8142298906062",
         "11.4468005254269",
         "24.4902419825081",
         "0.691443887799089",
         "3.82962413445268",
         "1.71484403005487",
         "-7.45415941501221",
         "7.72271868205461",
         "6.02455846790781",
         "0.923398233517208",
         "Torso Front Bottom Half",
         "Torso Front",
         "2.62114119856325",
         "0.0016664032955304",
         "4.87857383005042",
         "1.82159786770019",
         "16.7432050334817",
         "0.52722719711239",
         "1.39901480540459",
         "2.79198688858379",
         "0.365217391304348",
         "65",
         "-95.4307861328125",
         "829.196533203125",
         "-42.93017578125"
        ],
        [
         "48",
         "0",
         "70.0",
         "male",
         "anterior torso",
         "3.3",
         "3D: XP",
         "27.14006",
         "24.52516",
         "29.57146",
         "29.25193",
         "40.13794",
         "38.17275",
         "47.45495",
         "50.02314",
         "41.42593",
         "47.94334",
         "4.203415",
         "17.83888",
         "0.5617049",
         "2.614899",
         "0.3195313",
         "-6.517418",
         "6.744166",
         "5.338383",
         "0.8945194",
         "Torso Front Bottom Half",
         "Torso Front",
         "1.486347",
         "0.07830824",
         "3.615333",
         "1.629908",
         "8.659343",
         "0.52653",
         "1.038814",
         "3.420974",
         "0.3583333",
         "75",
         "-131.4259",
         "968.6838",
         "-22.76193"
        ],
        [
         "49",
         "0",
         "40.0",
         "female",
         "posterior torso",
         "9.59",
         "3D: XP",
         "24.2370186171062",
         "14.2917728413334",
         "28.0422270342778",
         "26.9654222012563",
         "37.0648022858335",
         "30.5186625762055",
         "49.1630016576882",
         "62.0762459377235",
         "46.7637467686559",
         "72.0982585389725",
         "31.9759804841434",
         "22.6620009473464",
         "3.94727617190851",
         "9.94524577577271",
         "1.07680483302143",
         "-25.3345117703166",
         "25.5948031614644",
         "15.9966562369134",
         "0.900678350565066",
         "Torso Back Middle Third",
         "Torso Back",
         "4.92594157179741",
         "99.6482014656067",
         "2.91090612442842",
         "9.9136837182892",
         "26.9191326016272",
         "3.21551462524845",
         "11.1566173864052",
         "2.10814170892813",
         "0.144565217391304",
         "105",
         "179.450317382812",
         "1042.49584960938",
         "180.077301025391"
        ]
       ],
       "shape": {
        "columns": 40,
        "rows": 401059
       }
      },
      "text/html": [
       "<div>\n",
       "<style scoped>\n",
       "    .dataframe tbody tr th:only-of-type {\n",
       "        vertical-align: middle;\n",
       "    }\n",
       "\n",
       "    .dataframe tbody tr th {\n",
       "        vertical-align: top;\n",
       "    }\n",
       "\n",
       "    .dataframe thead th {\n",
       "        text-align: right;\n",
       "    }\n",
       "</style>\n",
       "<table border=\"1\" class=\"dataframe\">\n",
       "  <thead>\n",
       "    <tr style=\"text-align: right;\">\n",
       "      <th></th>\n",
       "      <th>target</th>\n",
       "      <th>age_approx</th>\n",
       "      <th>sex</th>\n",
       "      <th>anatom_site_general</th>\n",
       "      <th>clin_size_long_diam_mm</th>\n",
       "      <th>tbp_tile_type</th>\n",
       "      <th>tbp_lv_A</th>\n",
       "      <th>tbp_lv_Aext</th>\n",
       "      <th>tbp_lv_B</th>\n",
       "      <th>tbp_lv_Bext</th>\n",
       "      <th>...</th>\n",
       "      <th>tbp_lv_norm_color</th>\n",
       "      <th>tbp_lv_perimeterMM</th>\n",
       "      <th>tbp_lv_radial_color_std_max</th>\n",
       "      <th>tbp_lv_stdL</th>\n",
       "      <th>tbp_lv_stdLExt</th>\n",
       "      <th>tbp_lv_symm_2axis</th>\n",
       "      <th>tbp_lv_symm_2axis_angle</th>\n",
       "      <th>tbp_lv_x</th>\n",
       "      <th>tbp_lv_y</th>\n",
       "      <th>tbp_lv_z</th>\n",
       "    </tr>\n",
       "  </thead>\n",
       "  <tbody>\n",
       "    <tr>\n",
       "      <th>0</th>\n",
       "      <td>0</td>\n",
       "      <td>60.0</td>\n",
       "      <td>male</td>\n",
       "      <td>lower extremity</td>\n",
       "      <td>3.04</td>\n",
       "      <td>3D: white</td>\n",
       "      <td>20.244422</td>\n",
       "      <td>16.261975</td>\n",
       "      <td>26.922447</td>\n",
       "      <td>23.954773</td>\n",
       "      <td>...</td>\n",
       "      <td>0.000000</td>\n",
       "      <td>9.307003</td>\n",
       "      <td>0.000000</td>\n",
       "      <td>2.036195</td>\n",
       "      <td>2.637780</td>\n",
       "      <td>0.590476</td>\n",
       "      <td>85</td>\n",
       "      <td>-182.703552</td>\n",
       "      <td>613.493652</td>\n",
       "      <td>-42.427948</td>\n",
       "    </tr>\n",
       "    <tr>\n",
       "      <th>1</th>\n",
       "      <td>0</td>\n",
       "      <td>60.0</td>\n",
       "      <td>male</td>\n",
       "      <td>head/neck</td>\n",
       "      <td>1.10</td>\n",
       "      <td>3D: white</td>\n",
       "      <td>31.712570</td>\n",
       "      <td>25.364740</td>\n",
       "      <td>26.331000</td>\n",
       "      <td>24.549290</td>\n",
       "      <td>...</td>\n",
       "      <td>0.000000</td>\n",
       "      <td>3.354148</td>\n",
       "      <td>0.000000</td>\n",
       "      <td>0.853227</td>\n",
       "      <td>3.912844</td>\n",
       "      <td>0.285714</td>\n",
       "      <td>55</td>\n",
       "      <td>-0.078308</td>\n",
       "      <td>1575.687000</td>\n",
       "      <td>57.174500</td>\n",
       "    </tr>\n",
       "    <tr>\n",
       "      <th>2</th>\n",
       "      <td>0</td>\n",
       "      <td>60.0</td>\n",
       "      <td>male</td>\n",
       "      <td>posterior torso</td>\n",
       "      <td>3.40</td>\n",
       "      <td>3D: XP</td>\n",
       "      <td>22.575830</td>\n",
       "      <td>17.128170</td>\n",
       "      <td>37.970460</td>\n",
       "      <td>33.485410</td>\n",
       "      <td>...</td>\n",
       "      <td>0.000000</td>\n",
       "      <td>8.886309</td>\n",
       "      <td>0.000000</td>\n",
       "      <td>1.743651</td>\n",
       "      <td>1.950777</td>\n",
       "      <td>0.361905</td>\n",
       "      <td>105</td>\n",
       "      <td>123.649700</td>\n",
       "      <td>1472.010000</td>\n",
       "      <td>232.908900</td>\n",
       "    </tr>\n",
       "    <tr>\n",
       "      <th>3</th>\n",
       "      <td>0</td>\n",
       "      <td>65.0</td>\n",
       "      <td>male</td>\n",
       "      <td>anterior torso</td>\n",
       "      <td>3.22</td>\n",
       "      <td>3D: XP</td>\n",
       "      <td>14.242329</td>\n",
       "      <td>12.164757</td>\n",
       "      <td>21.448144</td>\n",
       "      <td>21.121356</td>\n",
       "      <td>...</td>\n",
       "      <td>1.771705</td>\n",
       "      <td>9.514499</td>\n",
       "      <td>0.664690</td>\n",
       "      <td>1.258541</td>\n",
       "      <td>1.573733</td>\n",
       "      <td>0.209581</td>\n",
       "      <td>130</td>\n",
       "      <td>-141.024780</td>\n",
       "      <td>1442.185791</td>\n",
       "      <td>58.359802</td>\n",
       "    </tr>\n",
       "    <tr>\n",
       "      <th>4</th>\n",
       "      <td>0</td>\n",
       "      <td>55.0</td>\n",
       "      <td>male</td>\n",
       "      <td>anterior torso</td>\n",
       "      <td>2.73</td>\n",
       "      <td>3D: white</td>\n",
       "      <td>24.725520</td>\n",
       "      <td>20.057470</td>\n",
       "      <td>26.464900</td>\n",
       "      <td>25.710460</td>\n",
       "      <td>...</td>\n",
       "      <td>0.000000</td>\n",
       "      <td>6.467562</td>\n",
       "      <td>0.000000</td>\n",
       "      <td>2.085409</td>\n",
       "      <td>2.480509</td>\n",
       "      <td>0.313433</td>\n",
       "      <td>20</td>\n",
       "      <td>-72.315640</td>\n",
       "      <td>1488.720000</td>\n",
       "      <td>21.428960</td>\n",
       "    </tr>\n",
       "    <tr>\n",
       "      <th>...</th>\n",
       "      <td>...</td>\n",
       "      <td>...</td>\n",
       "      <td>...</td>\n",
       "      <td>...</td>\n",
       "      <td>...</td>\n",
       "      <td>...</td>\n",
       "      <td>...</td>\n",
       "      <td>...</td>\n",
       "      <td>...</td>\n",
       "      <td>...</td>\n",
       "      <td>...</td>\n",
       "      <td>...</td>\n",
       "      <td>...</td>\n",
       "      <td>...</td>\n",
       "      <td>...</td>\n",
       "      <td>...</td>\n",
       "      <td>...</td>\n",
       "      <td>...</td>\n",
       "      <td>...</td>\n",
       "      <td>...</td>\n",
       "      <td>...</td>\n",
       "    </tr>\n",
       "    <tr>\n",
       "      <th>401054</th>\n",
       "      <td>0</td>\n",
       "      <td>70.0</td>\n",
       "      <td>male</td>\n",
       "      <td>anterior torso</td>\n",
       "      <td>6.80</td>\n",
       "      <td>3D: XP</td>\n",
       "      <td>22.574335</td>\n",
       "      <td>14.944666</td>\n",
       "      <td>27.663259</td>\n",
       "      <td>26.767135</td>\n",
       "      <td>...</td>\n",
       "      <td>7.348126</td>\n",
       "      <td>20.210836</td>\n",
       "      <td>2.328066</td>\n",
       "      <td>7.054819</td>\n",
       "      <td>2.169398</td>\n",
       "      <td>0.288920</td>\n",
       "      <td>100</td>\n",
       "      <td>147.187256</td>\n",
       "      <td>1182.317505</td>\n",
       "      <td>122.652588</td>\n",
       "    </tr>\n",
       "    <tr>\n",
       "      <th>401055</th>\n",
       "      <td>0</td>\n",
       "      <td>60.0</td>\n",
       "      <td>male</td>\n",
       "      <td>posterior torso</td>\n",
       "      <td>3.11</td>\n",
       "      <td>3D: white</td>\n",
       "      <td>19.977640</td>\n",
       "      <td>16.026870</td>\n",
       "      <td>34.158840</td>\n",
       "      <td>31.011870</td>\n",
       "      <td>...</td>\n",
       "      <td>2.795246</td>\n",
       "      <td>9.340242</td>\n",
       "      <td>1.048147</td>\n",
       "      <td>1.879502</td>\n",
       "      <td>2.910780</td>\n",
       "      <td>0.460000</td>\n",
       "      <td>25</td>\n",
       "      <td>52.349740</td>\n",
       "      <td>1393.187000</td>\n",
       "      <td>127.261700</td>\n",
       "    </tr>\n",
       "    <tr>\n",
       "      <th>401056</th>\n",
       "      <td>0</td>\n",
       "      <td>65.0</td>\n",
       "      <td>female</td>\n",
       "      <td>anterior torso</td>\n",
       "      <td>2.05</td>\n",
       "      <td>3D: XP</td>\n",
       "      <td>17.332567</td>\n",
       "      <td>12.364397</td>\n",
       "      <td>29.845326</td>\n",
       "      <td>26.500073</td>\n",
       "      <td>...</td>\n",
       "      <td>1.660411</td>\n",
       "      <td>5.999862</td>\n",
       "      <td>0.607554</td>\n",
       "      <td>1.702824</td>\n",
       "      <td>2.205272</td>\n",
       "      <td>0.183099</td>\n",
       "      <td>40</td>\n",
       "      <td>54.622246</td>\n",
       "      <td>1065.263672</td>\n",
       "      <td>-106.833740</td>\n",
       "    </tr>\n",
       "    <tr>\n",
       "      <th>401057</th>\n",
       "      <td>0</td>\n",
       "      <td>30.0</td>\n",
       "      <td>female</td>\n",
       "      <td>anterior torso</td>\n",
       "      <td>2.80</td>\n",
       "      <td>3D: XP</td>\n",
       "      <td>22.288570</td>\n",
       "      <td>9.564721</td>\n",
       "      <td>28.431200</td>\n",
       "      <td>27.012250</td>\n",
       "      <td>...</td>\n",
       "      <td>3.583966</td>\n",
       "      <td>9.113276</td>\n",
       "      <td>1.078204</td>\n",
       "      <td>3.680175</td>\n",
       "      <td>1.957157</td>\n",
       "      <td>0.161850</td>\n",
       "      <td>140</td>\n",
       "      <td>-9.861557</td>\n",
       "      <td>877.527000</td>\n",
       "      <td>-76.982120</td>\n",
       "    </tr>\n",
       "    <tr>\n",
       "      <th>401058</th>\n",
       "      <td>0</td>\n",
       "      <td>50.0</td>\n",
       "      <td>male</td>\n",
       "      <td>lower extremity</td>\n",
       "      <td>3.30</td>\n",
       "      <td>3D: XP</td>\n",
       "      <td>16.792900</td>\n",
       "      <td>11.434730</td>\n",
       "      <td>21.457220</td>\n",
       "      <td>21.214910</td>\n",
       "      <td>...</td>\n",
       "      <td>3.100943</td>\n",
       "      <td>10.128920</td>\n",
       "      <td>1.088073</td>\n",
       "      <td>3.068755</td>\n",
       "      <td>3.199104</td>\n",
       "      <td>0.197917</td>\n",
       "      <td>45</td>\n",
       "      <td>-258.872300</td>\n",
       "      <td>148.606200</td>\n",
       "      <td>107.710600</td>\n",
       "    </tr>\n",
       "  </tbody>\n",
       "</table>\n",
       "<p>401059 rows × 40 columns</p>\n",
       "</div>"
      ],
      "text/plain": [
       "        target  age_approx     sex anatom_site_general  \\\n",
       "0            0        60.0    male     lower extremity   \n",
       "1            0        60.0    male           head/neck   \n",
       "2            0        60.0    male     posterior torso   \n",
       "3            0        65.0    male      anterior torso   \n",
       "4            0        55.0    male      anterior torso   \n",
       "...        ...         ...     ...                 ...   \n",
       "401054       0        70.0    male      anterior torso   \n",
       "401055       0        60.0    male     posterior torso   \n",
       "401056       0        65.0  female      anterior torso   \n",
       "401057       0        30.0  female      anterior torso   \n",
       "401058       0        50.0    male     lower extremity   \n",
       "\n",
       "        clin_size_long_diam_mm tbp_tile_type   tbp_lv_A  tbp_lv_Aext  \\\n",
       "0                         3.04     3D: white  20.244422    16.261975   \n",
       "1                         1.10     3D: white  31.712570    25.364740   \n",
       "2                         3.40        3D: XP  22.575830    17.128170   \n",
       "3                         3.22        3D: XP  14.242329    12.164757   \n",
       "4                         2.73     3D: white  24.725520    20.057470   \n",
       "...                        ...           ...        ...          ...   \n",
       "401054                    6.80        3D: XP  22.574335    14.944666   \n",
       "401055                    3.11     3D: white  19.977640    16.026870   \n",
       "401056                    2.05        3D: XP  17.332567    12.364397   \n",
       "401057                    2.80        3D: XP  22.288570     9.564721   \n",
       "401058                    3.30        3D: XP  16.792900    11.434730   \n",
       "\n",
       "         tbp_lv_B  tbp_lv_Bext  ...  tbp_lv_norm_color  tbp_lv_perimeterMM  \\\n",
       "0       26.922447    23.954773  ...           0.000000            9.307003   \n",
       "1       26.331000    24.549290  ...           0.000000            3.354148   \n",
       "2       37.970460    33.485410  ...           0.000000            8.886309   \n",
       "3       21.448144    21.121356  ...           1.771705            9.514499   \n",
       "4       26.464900    25.710460  ...           0.000000            6.467562   \n",
       "...           ...          ...  ...                ...                 ...   \n",
       "401054  27.663259    26.767135  ...           7.348126           20.210836   \n",
       "401055  34.158840    31.011870  ...           2.795246            9.340242   \n",
       "401056  29.845326    26.500073  ...           1.660411            5.999862   \n",
       "401057  28.431200    27.012250  ...           3.583966            9.113276   \n",
       "401058  21.457220    21.214910  ...           3.100943           10.128920   \n",
       "\n",
       "        tbp_lv_radial_color_std_max  tbp_lv_stdL  tbp_lv_stdLExt  \\\n",
       "0                          0.000000     2.036195        2.637780   \n",
       "1                          0.000000     0.853227        3.912844   \n",
       "2                          0.000000     1.743651        1.950777   \n",
       "3                          0.664690     1.258541        1.573733   \n",
       "4                          0.000000     2.085409        2.480509   \n",
       "...                             ...          ...             ...   \n",
       "401054                     2.328066     7.054819        2.169398   \n",
       "401055                     1.048147     1.879502        2.910780   \n",
       "401056                     0.607554     1.702824        2.205272   \n",
       "401057                     1.078204     3.680175        1.957157   \n",
       "401058                     1.088073     3.068755        3.199104   \n",
       "\n",
       "        tbp_lv_symm_2axis  tbp_lv_symm_2axis_angle    tbp_lv_x     tbp_lv_y  \\\n",
       "0                0.590476                       85 -182.703552   613.493652   \n",
       "1                0.285714                       55   -0.078308  1575.687000   \n",
       "2                0.361905                      105  123.649700  1472.010000   \n",
       "3                0.209581                      130 -141.024780  1442.185791   \n",
       "4                0.313433                       20  -72.315640  1488.720000   \n",
       "...                   ...                      ...         ...          ...   \n",
       "401054           0.288920                      100  147.187256  1182.317505   \n",
       "401055           0.460000                       25   52.349740  1393.187000   \n",
       "401056           0.183099                       40   54.622246  1065.263672   \n",
       "401057           0.161850                      140   -9.861557   877.527000   \n",
       "401058           0.197917                       45 -258.872300   148.606200   \n",
       "\n",
       "          tbp_lv_z  \n",
       "0       -42.427948  \n",
       "1        57.174500  \n",
       "2       232.908900  \n",
       "3        58.359802  \n",
       "4        21.428960  \n",
       "...            ...  \n",
       "401054  122.652588  \n",
       "401055  127.261700  \n",
       "401056 -106.833740  \n",
       "401057  -76.982120  \n",
       "401058  107.710600  \n",
       "\n",
       "[401059 rows x 40 columns]"
      ]
     },
     "execution_count": 14,
     "metadata": {},
     "output_type": "execute_result"
    }
   ],
   "source": [
    "trainCopy"
   ]
  },
  {
   "cell_type": "code",
   "execution_count": 15,
   "metadata": {},
   "outputs": [
    {
     "data": {
      "application/vnd.microsoft.datawrangler.viewer.v0+json": {
       "columns": [
        {
         "name": "index",
         "rawType": "int64",
         "type": "integer"
        },
        {
         "name": "age_approx",
         "rawType": "float64",
         "type": "float"
        },
        {
         "name": "sex",
         "rawType": "object",
         "type": "string"
        },
        {
         "name": "anatom_site_general",
         "rawType": "object",
         "type": "string"
        },
        {
         "name": "clin_size_long_diam_mm",
         "rawType": "float64",
         "type": "float"
        },
        {
         "name": "tbp_tile_type",
         "rawType": "object",
         "type": "string"
        },
        {
         "name": "tbp_lv_A",
         "rawType": "float64",
         "type": "float"
        },
        {
         "name": "tbp_lv_Aext",
         "rawType": "float64",
         "type": "float"
        },
        {
         "name": "tbp_lv_B",
         "rawType": "float64",
         "type": "float"
        },
        {
         "name": "tbp_lv_Bext",
         "rawType": "float64",
         "type": "float"
        },
        {
         "name": "tbp_lv_C",
         "rawType": "float64",
         "type": "float"
        },
        {
         "name": "tbp_lv_Cext",
         "rawType": "float64",
         "type": "float"
        },
        {
         "name": "tbp_lv_H",
         "rawType": "float64",
         "type": "float"
        },
        {
         "name": "tbp_lv_Hext",
         "rawType": "float64",
         "type": "float"
        },
        {
         "name": "tbp_lv_L",
         "rawType": "float64",
         "type": "float"
        },
        {
         "name": "tbp_lv_Lext",
         "rawType": "float64",
         "type": "float"
        },
        {
         "name": "tbp_lv_areaMM2",
         "rawType": "float64",
         "type": "float"
        },
        {
         "name": "tbp_lv_area_perim_ratio",
         "rawType": "float64",
         "type": "float"
        },
        {
         "name": "tbp_lv_color_std_mean",
         "rawType": "float64",
         "type": "float"
        },
        {
         "name": "tbp_lv_deltaA",
         "rawType": "float64",
         "type": "float"
        },
        {
         "name": "tbp_lv_deltaB",
         "rawType": "float64",
         "type": "float"
        },
        {
         "name": "tbp_lv_deltaL",
         "rawType": "float64",
         "type": "float"
        },
        {
         "name": "tbp_lv_deltaLB",
         "rawType": "float64",
         "type": "float"
        },
        {
         "name": "tbp_lv_deltaLBnorm",
         "rawType": "float64",
         "type": "float"
        },
        {
         "name": "tbp_lv_eccentricity",
         "rawType": "float64",
         "type": "float"
        },
        {
         "name": "tbp_lv_location",
         "rawType": "object",
         "type": "string"
        },
        {
         "name": "tbp_lv_location_simple",
         "rawType": "object",
         "type": "string"
        },
        {
         "name": "tbp_lv_minorAxisMM",
         "rawType": "float64",
         "type": "float"
        },
        {
         "name": "tbp_lv_nevi_confidence",
         "rawType": "float64",
         "type": "float"
        },
        {
         "name": "tbp_lv_norm_border",
         "rawType": "float64",
         "type": "float"
        },
        {
         "name": "tbp_lv_norm_color",
         "rawType": "float64",
         "type": "float"
        },
        {
         "name": "tbp_lv_perimeterMM",
         "rawType": "float64",
         "type": "float"
        },
        {
         "name": "tbp_lv_radial_color_std_max",
         "rawType": "float64",
         "type": "float"
        },
        {
         "name": "tbp_lv_stdL",
         "rawType": "float64",
         "type": "float"
        },
        {
         "name": "tbp_lv_stdLExt",
         "rawType": "float64",
         "type": "float"
        },
        {
         "name": "tbp_lv_symm_2axis",
         "rawType": "float64",
         "type": "float"
        },
        {
         "name": "tbp_lv_symm_2axis_angle",
         "rawType": "int64",
         "type": "integer"
        },
        {
         "name": "tbp_lv_x",
         "rawType": "float64",
         "type": "float"
        },
        {
         "name": "tbp_lv_y",
         "rawType": "float64",
         "type": "float"
        },
        {
         "name": "tbp_lv_z",
         "rawType": "float64",
         "type": "float"
        }
       ],
       "conversionMethod": "pd.DataFrame",
       "ref": "c6666d82-1c40-4adc-978b-3b337bee53a5",
       "rows": [
        [
         "0",
         "45.0",
         "male",
         "posterior torso",
         "2.7",
         "3D: XP",
         "22.80433",
         "20.00727",
         "28.38412",
         "27.04364",
         "36.4101",
         "33.64",
         "51.22096",
         "53.50543",
         "24.97985",
         "31.1146",
         "3.846876",
         "22.90701",
         "0.4611487",
         "2.797056",
         "1.340481",
         "-6.134747",
         "6.436557",
         "6.843057",
         "0.6644654",
         "Torso Back Top Third",
         "Torso Back",
         "2.187644",
         "0.01698104",
         "5.435366",
         "1.143374",
         "9.387248",
         "0.3048271",
         "1.281532",
         "2.299935",
         "0.4793388",
         "20",
         "-155.0651",
         "1511.222",
         "113.9801"
        ],
        [
         "1",
         "35.0",
         "female",
         "lower extremity",
         "2.52",
         "3D: XP",
         "16.6486699011474",
         "9.65796440333733",
         "31.3175200572056",
         "27.5243181877795",
         "35.4678061347308",
         "29.169579498482",
         "62.0044942415342",
         "70.6646189342357",
         "59.9040900036297",
         "68.1410711762782",
         "2.12047288421843",
         "18.9578209283949",
         "0.0",
         "6.99070549781003",
         "3.79320186942606",
         "-8.23698117264846",
         "9.15112690799004",
         "6.0833880313068",
         "0.926698386380626",
         "Left Leg - Upper",
         "Left Leg",
         "1.03266604959148",
         "0.210736412554979",
         "4.32220074428742",
         "0.0",
         "6.3403111297893",
         "0.0",
         "1.27193967210918",
         "2.01122296029061",
         "0.426229508196721",
         "25",
         "-112.369239807129",
         "629.535888671875",
         "-15.019287109375"
        ],
        [
         "2",
         "65.0",
         "male",
         "posterior torso",
         "3.16",
         "3D: XP",
         "24.25384",
         "19.93738",
         "30.46368",
         "28.38424",
         "38.9395",
         "34.68666",
         "51.47473",
         "54.91541",
         "35.81945",
         "41.35864",
         "3.39651",
         "19.4644",
         "0.2512358",
         "4.316465",
         "2.079433",
         "-5.539191",
         "6.041092",
         "5.446997",
         "0.8947765",
         "Torso Back Top Third",
         "Torso Back",
         "1.520786",
         "8.052259e-13",
         "3.968912",
         "0.7217392",
         "8.130868",
         "0.2307418",
         "1.080308",
         "2.705857",
         "0.3660714",
         "110",
         "-84.29282",
         "1303.978",
         "-28.57605"
        ]
       ],
       "shape": {
        "columns": 39,
        "rows": 3
       }
      },
      "text/html": [
       "<div>\n",
       "<style scoped>\n",
       "    .dataframe tbody tr th:only-of-type {\n",
       "        vertical-align: middle;\n",
       "    }\n",
       "\n",
       "    .dataframe tbody tr th {\n",
       "        vertical-align: top;\n",
       "    }\n",
       "\n",
       "    .dataframe thead th {\n",
       "        text-align: right;\n",
       "    }\n",
       "</style>\n",
       "<table border=\"1\" class=\"dataframe\">\n",
       "  <thead>\n",
       "    <tr style=\"text-align: right;\">\n",
       "      <th></th>\n",
       "      <th>age_approx</th>\n",
       "      <th>sex</th>\n",
       "      <th>anatom_site_general</th>\n",
       "      <th>clin_size_long_diam_mm</th>\n",
       "      <th>tbp_tile_type</th>\n",
       "      <th>tbp_lv_A</th>\n",
       "      <th>tbp_lv_Aext</th>\n",
       "      <th>tbp_lv_B</th>\n",
       "      <th>tbp_lv_Bext</th>\n",
       "      <th>tbp_lv_C</th>\n",
       "      <th>...</th>\n",
       "      <th>tbp_lv_norm_color</th>\n",
       "      <th>tbp_lv_perimeterMM</th>\n",
       "      <th>tbp_lv_radial_color_std_max</th>\n",
       "      <th>tbp_lv_stdL</th>\n",
       "      <th>tbp_lv_stdLExt</th>\n",
       "      <th>tbp_lv_symm_2axis</th>\n",
       "      <th>tbp_lv_symm_2axis_angle</th>\n",
       "      <th>tbp_lv_x</th>\n",
       "      <th>tbp_lv_y</th>\n",
       "      <th>tbp_lv_z</th>\n",
       "    </tr>\n",
       "  </thead>\n",
       "  <tbody>\n",
       "    <tr>\n",
       "      <th>0</th>\n",
       "      <td>45.0</td>\n",
       "      <td>male</td>\n",
       "      <td>posterior torso</td>\n",
       "      <td>2.70</td>\n",
       "      <td>3D: XP</td>\n",
       "      <td>22.80433</td>\n",
       "      <td>20.007270</td>\n",
       "      <td>28.38412</td>\n",
       "      <td>27.043640</td>\n",
       "      <td>36.410100</td>\n",
       "      <td>...</td>\n",
       "      <td>1.143374</td>\n",
       "      <td>9.387248</td>\n",
       "      <td>0.304827</td>\n",
       "      <td>1.281532</td>\n",
       "      <td>2.299935</td>\n",
       "      <td>0.479339</td>\n",
       "      <td>20</td>\n",
       "      <td>-155.06510</td>\n",
       "      <td>1511.222000</td>\n",
       "      <td>113.980100</td>\n",
       "    </tr>\n",
       "    <tr>\n",
       "      <th>1</th>\n",
       "      <td>35.0</td>\n",
       "      <td>female</td>\n",
       "      <td>lower extremity</td>\n",
       "      <td>2.52</td>\n",
       "      <td>3D: XP</td>\n",
       "      <td>16.64867</td>\n",
       "      <td>9.657964</td>\n",
       "      <td>31.31752</td>\n",
       "      <td>27.524318</td>\n",
       "      <td>35.467806</td>\n",
       "      <td>...</td>\n",
       "      <td>0.000000</td>\n",
       "      <td>6.340311</td>\n",
       "      <td>0.000000</td>\n",
       "      <td>1.271940</td>\n",
       "      <td>2.011223</td>\n",
       "      <td>0.426230</td>\n",
       "      <td>25</td>\n",
       "      <td>-112.36924</td>\n",
       "      <td>629.535889</td>\n",
       "      <td>-15.019287</td>\n",
       "    </tr>\n",
       "    <tr>\n",
       "      <th>2</th>\n",
       "      <td>65.0</td>\n",
       "      <td>male</td>\n",
       "      <td>posterior torso</td>\n",
       "      <td>3.16</td>\n",
       "      <td>3D: XP</td>\n",
       "      <td>24.25384</td>\n",
       "      <td>19.937380</td>\n",
       "      <td>30.46368</td>\n",
       "      <td>28.384240</td>\n",
       "      <td>38.939500</td>\n",
       "      <td>...</td>\n",
       "      <td>0.721739</td>\n",
       "      <td>8.130868</td>\n",
       "      <td>0.230742</td>\n",
       "      <td>1.080308</td>\n",
       "      <td>2.705857</td>\n",
       "      <td>0.366071</td>\n",
       "      <td>110</td>\n",
       "      <td>-84.29282</td>\n",
       "      <td>1303.978000</td>\n",
       "      <td>-28.576050</td>\n",
       "    </tr>\n",
       "  </tbody>\n",
       "</table>\n",
       "<p>3 rows × 39 columns</p>\n",
       "</div>"
      ],
      "text/plain": [
       "   age_approx     sex anatom_site_general  clin_size_long_diam_mm  \\\n",
       "0        45.0    male     posterior torso                    2.70   \n",
       "1        35.0  female     lower extremity                    2.52   \n",
       "2        65.0    male     posterior torso                    3.16   \n",
       "\n",
       "  tbp_tile_type  tbp_lv_A  tbp_lv_Aext  tbp_lv_B  tbp_lv_Bext   tbp_lv_C  ...  \\\n",
       "0        3D: XP  22.80433    20.007270  28.38412    27.043640  36.410100  ...   \n",
       "1        3D: XP  16.64867     9.657964  31.31752    27.524318  35.467806  ...   \n",
       "2        3D: XP  24.25384    19.937380  30.46368    28.384240  38.939500  ...   \n",
       "\n",
       "   tbp_lv_norm_color  tbp_lv_perimeterMM  tbp_lv_radial_color_std_max  \\\n",
       "0           1.143374            9.387248                     0.304827   \n",
       "1           0.000000            6.340311                     0.000000   \n",
       "2           0.721739            8.130868                     0.230742   \n",
       "\n",
       "   tbp_lv_stdL  tbp_lv_stdLExt  tbp_lv_symm_2axis  tbp_lv_symm_2axis_angle  \\\n",
       "0     1.281532        2.299935           0.479339                       20   \n",
       "1     1.271940        2.011223           0.426230                       25   \n",
       "2     1.080308        2.705857           0.366071                      110   \n",
       "\n",
       "    tbp_lv_x     tbp_lv_y    tbp_lv_z  \n",
       "0 -155.06510  1511.222000  113.980100  \n",
       "1 -112.36924   629.535889  -15.019287  \n",
       "2  -84.29282  1303.978000  -28.576050  \n",
       "\n",
       "[3 rows x 39 columns]"
      ]
     },
     "execution_count": 15,
     "metadata": {},
     "output_type": "execute_result"
    }
   ],
   "source": [
    "testCopy"
   ]
  },
  {
   "cell_type": "markdown",
   "metadata": {},
   "source": [
    "## Balanced Dataset"
   ]
  },
  {
   "cell_type": "code",
   "execution_count": 16,
   "metadata": {},
   "outputs": [],
   "source": [
    "X = trainCopy.drop(\"target\", axis=1)  \n",
    "y = trainCopy[\"target\"]    "
   ]
  },
  {
   "cell_type": "code",
   "execution_count": 17,
   "metadata": {},
   "outputs": [],
   "source": [
    "ros = RandomOverSampler(random_state=12)\n",
    "X_resampled, y_resampled = ros.fit_resample(X, y)"
   ]
  },
  {
   "cell_type": "code",
   "execution_count": 18,
   "metadata": {},
   "outputs": [
    {
     "data": {
      "text/plain": [
       "target\n",
       "0    400666\n",
       "1    400666\n",
       "Name: count, dtype: int64"
      ]
     },
     "execution_count": 18,
     "metadata": {},
     "output_type": "execute_result"
    }
   ],
   "source": [
    "y_resampled.value_counts()"
   ]
  },
  {
   "cell_type": "code",
   "execution_count": 19,
   "metadata": {},
   "outputs": [
    {
     "data": {
      "text/plain": [
       "(801332, 39)"
      ]
     },
     "execution_count": 19,
     "metadata": {},
     "output_type": "execute_result"
    }
   ],
   "source": [
    "X_resampled.shape"
   ]
  },
  {
   "cell_type": "code",
   "execution_count": 20,
   "metadata": {},
   "outputs": [],
   "source": [
    "numericalTransformer = Pipeline(steps=[\n",
    "    ('imputer', SimpleImputer(strategy='mean')),\n",
    "    ('scaler', MinMaxScaler())\n",
    "])\n",
    "\n",
    "categoricalTransformer = Pipeline(steps=[\n",
    "    ('imputer', SimpleImputer(strategy='most_frequent')),\n",
    "    ('encoder', OneHotEncoder(handle_unknown='ignore'))\n",
    "])\n",
    "\n",
    "categorical_columns = X_resampled.select_dtypes(include=['object','category']).columns\n",
    "numerical_columns = X_resampled.select_dtypes(include=['int64', 'float64']).columns\n",
    "\n",
    "preprocessor = ColumnTransformer(transformers=[\n",
    "    ('num', numericalTransformer, numerical_columns),\n",
    "    ('categorical', categoricalTransformer, categorical_columns)\n",
    "], remainder='passthrough', sparse_threshold=0.0)\n",
    "\n",
    "pipeline = Pipeline(steps=[\n",
    "    ('preprocessor', preprocessor)\n",
    "])"
   ]
  },
  {
   "cell_type": "code",
   "execution_count": 21,
   "metadata": {},
   "outputs": [
    {
     "data": {
      "text/plain": [
       "Index(['age_approx', 'clin_size_long_diam_mm', 'tbp_lv_A', 'tbp_lv_Aext',\n",
       "       'tbp_lv_B', 'tbp_lv_Bext', 'tbp_lv_C', 'tbp_lv_Cext', 'tbp_lv_H',\n",
       "       'tbp_lv_Hext', 'tbp_lv_L', 'tbp_lv_Lext', 'tbp_lv_areaMM2',\n",
       "       'tbp_lv_area_perim_ratio', 'tbp_lv_color_std_mean', 'tbp_lv_deltaA',\n",
       "       'tbp_lv_deltaB', 'tbp_lv_deltaL', 'tbp_lv_deltaLB',\n",
       "       'tbp_lv_deltaLBnorm', 'tbp_lv_eccentricity', 'tbp_lv_minorAxisMM',\n",
       "       'tbp_lv_nevi_confidence', 'tbp_lv_norm_border', 'tbp_lv_norm_color',\n",
       "       'tbp_lv_perimeterMM', 'tbp_lv_radial_color_std_max', 'tbp_lv_stdL',\n",
       "       'tbp_lv_stdLExt', 'tbp_lv_symm_2axis', 'tbp_lv_symm_2axis_angle',\n",
       "       'tbp_lv_x', 'tbp_lv_y', 'tbp_lv_z'],\n",
       "      dtype='object')"
      ]
     },
     "execution_count": 21,
     "metadata": {},
     "output_type": "execute_result"
    }
   ],
   "source": [
    "numerical_columns"
   ]
  },
  {
   "cell_type": "code",
   "execution_count": 22,
   "metadata": {},
   "outputs": [],
   "source": [
    "x = pipeline.fit_transform(X_resampled)"
   ]
  },
  {
   "cell_type": "code",
   "execution_count": 23,
   "metadata": {},
   "outputs": [],
   "source": [
    "test_data = pipeline.transform(testData)"
   ]
  },
  {
   "cell_type": "code",
   "execution_count": 24,
   "metadata": {},
   "outputs": [
    {
     "data": {
      "text/plain": [
       "(801332, 72)"
      ]
     },
     "execution_count": 24,
     "metadata": {},
     "output_type": "execute_result"
    }
   ],
   "source": [
    "x.shape"
   ]
  },
  {
   "cell_type": "code",
   "execution_count": 25,
   "metadata": {},
   "outputs": [],
   "source": [
    "x_train, x_val, y_train, y_val = train_test_split(x, y_resampled, test_size=0.2, random_state=42)"
   ]
  },
  {
   "cell_type": "markdown",
   "metadata": {},
   "source": [
    "## **Baseline**"
   ]
  },
  {
   "cell_type": "code",
   "execution_count": 41,
   "metadata": {},
   "outputs": [
    {
     "data": {
      "text/html": [
       "<style>#sk-container-id-5 {\n",
       "  /* Definition of color scheme common for light and dark mode */\n",
       "  --sklearn-color-text: #000;\n",
       "  --sklearn-color-text-muted: #666;\n",
       "  --sklearn-color-line: gray;\n",
       "  /* Definition of color scheme for unfitted estimators */\n",
       "  --sklearn-color-unfitted-level-0: #fff5e6;\n",
       "  --sklearn-color-unfitted-level-1: #f6e4d2;\n",
       "  --sklearn-color-unfitted-level-2: #ffe0b3;\n",
       "  --sklearn-color-unfitted-level-3: chocolate;\n",
       "  /* Definition of color scheme for fitted estimators */\n",
       "  --sklearn-color-fitted-level-0: #f0f8ff;\n",
       "  --sklearn-color-fitted-level-1: #d4ebff;\n",
       "  --sklearn-color-fitted-level-2: #b3dbfd;\n",
       "  --sklearn-color-fitted-level-3: cornflowerblue;\n",
       "\n",
       "  /* Specific color for light theme */\n",
       "  --sklearn-color-text-on-default-background: var(--sg-text-color, var(--theme-code-foreground, var(--jp-content-font-color1, black)));\n",
       "  --sklearn-color-background: var(--sg-background-color, var(--theme-background, var(--jp-layout-color0, white)));\n",
       "  --sklearn-color-border-box: var(--sg-text-color, var(--theme-code-foreground, var(--jp-content-font-color1, black)));\n",
       "  --sklearn-color-icon: #696969;\n",
       "\n",
       "  @media (prefers-color-scheme: dark) {\n",
       "    /* Redefinition of color scheme for dark theme */\n",
       "    --sklearn-color-text-on-default-background: var(--sg-text-color, var(--theme-code-foreground, var(--jp-content-font-color1, white)));\n",
       "    --sklearn-color-background: var(--sg-background-color, var(--theme-background, var(--jp-layout-color0, #111)));\n",
       "    --sklearn-color-border-box: var(--sg-text-color, var(--theme-code-foreground, var(--jp-content-font-color1, white)));\n",
       "    --sklearn-color-icon: #878787;\n",
       "  }\n",
       "}\n",
       "\n",
       "#sk-container-id-5 {\n",
       "  color: var(--sklearn-color-text);\n",
       "}\n",
       "\n",
       "#sk-container-id-5 pre {\n",
       "  padding: 0;\n",
       "}\n",
       "\n",
       "#sk-container-id-5 input.sk-hidden--visually {\n",
       "  border: 0;\n",
       "  clip: rect(1px 1px 1px 1px);\n",
       "  clip: rect(1px, 1px, 1px, 1px);\n",
       "  height: 1px;\n",
       "  margin: -1px;\n",
       "  overflow: hidden;\n",
       "  padding: 0;\n",
       "  position: absolute;\n",
       "  width: 1px;\n",
       "}\n",
       "\n",
       "#sk-container-id-5 div.sk-dashed-wrapped {\n",
       "  border: 1px dashed var(--sklearn-color-line);\n",
       "  margin: 0 0.4em 0.5em 0.4em;\n",
       "  box-sizing: border-box;\n",
       "  padding-bottom: 0.4em;\n",
       "  background-color: var(--sklearn-color-background);\n",
       "}\n",
       "\n",
       "#sk-container-id-5 div.sk-container {\n",
       "  /* jupyter's `normalize.less` sets `[hidden] { display: none; }`\n",
       "     but bootstrap.min.css set `[hidden] { display: none !important; }`\n",
       "     so we also need the `!important` here to be able to override the\n",
       "     default hidden behavior on the sphinx rendered scikit-learn.org.\n",
       "     See: https://github.com/scikit-learn/scikit-learn/issues/21755 */\n",
       "  display: inline-block !important;\n",
       "  position: relative;\n",
       "}\n",
       "\n",
       "#sk-container-id-5 div.sk-text-repr-fallback {\n",
       "  display: none;\n",
       "}\n",
       "\n",
       "div.sk-parallel-item,\n",
       "div.sk-serial,\n",
       "div.sk-item {\n",
       "  /* draw centered vertical line to link estimators */\n",
       "  background-image: linear-gradient(var(--sklearn-color-text-on-default-background), var(--sklearn-color-text-on-default-background));\n",
       "  background-size: 2px 100%;\n",
       "  background-repeat: no-repeat;\n",
       "  background-position: center center;\n",
       "}\n",
       "\n",
       "/* Parallel-specific style estimator block */\n",
       "\n",
       "#sk-container-id-5 div.sk-parallel-item::after {\n",
       "  content: \"\";\n",
       "  width: 100%;\n",
       "  border-bottom: 2px solid var(--sklearn-color-text-on-default-background);\n",
       "  flex-grow: 1;\n",
       "}\n",
       "\n",
       "#sk-container-id-5 div.sk-parallel {\n",
       "  display: flex;\n",
       "  align-items: stretch;\n",
       "  justify-content: center;\n",
       "  background-color: var(--sklearn-color-background);\n",
       "  position: relative;\n",
       "}\n",
       "\n",
       "#sk-container-id-5 div.sk-parallel-item {\n",
       "  display: flex;\n",
       "  flex-direction: column;\n",
       "}\n",
       "\n",
       "#sk-container-id-5 div.sk-parallel-item:first-child::after {\n",
       "  align-self: flex-end;\n",
       "  width: 50%;\n",
       "}\n",
       "\n",
       "#sk-container-id-5 div.sk-parallel-item:last-child::after {\n",
       "  align-self: flex-start;\n",
       "  width: 50%;\n",
       "}\n",
       "\n",
       "#sk-container-id-5 div.sk-parallel-item:only-child::after {\n",
       "  width: 0;\n",
       "}\n",
       "\n",
       "/* Serial-specific style estimator block */\n",
       "\n",
       "#sk-container-id-5 div.sk-serial {\n",
       "  display: flex;\n",
       "  flex-direction: column;\n",
       "  align-items: center;\n",
       "  background-color: var(--sklearn-color-background);\n",
       "  padding-right: 1em;\n",
       "  padding-left: 1em;\n",
       "}\n",
       "\n",
       "\n",
       "/* Toggleable style: style used for estimator/Pipeline/ColumnTransformer box that is\n",
       "clickable and can be expanded/collapsed.\n",
       "- Pipeline and ColumnTransformer use this feature and define the default style\n",
       "- Estimators will overwrite some part of the style using the `sk-estimator` class\n",
       "*/\n",
       "\n",
       "/* Pipeline and ColumnTransformer style (default) */\n",
       "\n",
       "#sk-container-id-5 div.sk-toggleable {\n",
       "  /* Default theme specific background. It is overwritten whether we have a\n",
       "  specific estimator or a Pipeline/ColumnTransformer */\n",
       "  background-color: var(--sklearn-color-background);\n",
       "}\n",
       "\n",
       "/* Toggleable label */\n",
       "#sk-container-id-5 label.sk-toggleable__label {\n",
       "  cursor: pointer;\n",
       "  display: flex;\n",
       "  width: 100%;\n",
       "  margin-bottom: 0;\n",
       "  padding: 0.5em;\n",
       "  box-sizing: border-box;\n",
       "  text-align: center;\n",
       "  align-items: start;\n",
       "  justify-content: space-between;\n",
       "  gap: 0.5em;\n",
       "}\n",
       "\n",
       "#sk-container-id-5 label.sk-toggleable__label .caption {\n",
       "  font-size: 0.6rem;\n",
       "  font-weight: lighter;\n",
       "  color: var(--sklearn-color-text-muted);\n",
       "}\n",
       "\n",
       "#sk-container-id-5 label.sk-toggleable__label-arrow:before {\n",
       "  /* Arrow on the left of the label */\n",
       "  content: \"▸\";\n",
       "  float: left;\n",
       "  margin-right: 0.25em;\n",
       "  color: var(--sklearn-color-icon);\n",
       "}\n",
       "\n",
       "#sk-container-id-5 label.sk-toggleable__label-arrow:hover:before {\n",
       "  color: var(--sklearn-color-text);\n",
       "}\n",
       "\n",
       "/* Toggleable content - dropdown */\n",
       "\n",
       "#sk-container-id-5 div.sk-toggleable__content {\n",
       "  max-height: 0;\n",
       "  max-width: 0;\n",
       "  overflow: hidden;\n",
       "  text-align: left;\n",
       "  /* unfitted */\n",
       "  background-color: var(--sklearn-color-unfitted-level-0);\n",
       "}\n",
       "\n",
       "#sk-container-id-5 div.sk-toggleable__content.fitted {\n",
       "  /* fitted */\n",
       "  background-color: var(--sklearn-color-fitted-level-0);\n",
       "}\n",
       "\n",
       "#sk-container-id-5 div.sk-toggleable__content pre {\n",
       "  margin: 0.2em;\n",
       "  border-radius: 0.25em;\n",
       "  color: var(--sklearn-color-text);\n",
       "  /* unfitted */\n",
       "  background-color: var(--sklearn-color-unfitted-level-0);\n",
       "}\n",
       "\n",
       "#sk-container-id-5 div.sk-toggleable__content.fitted pre {\n",
       "  /* unfitted */\n",
       "  background-color: var(--sklearn-color-fitted-level-0);\n",
       "}\n",
       "\n",
       "#sk-container-id-5 input.sk-toggleable__control:checked~div.sk-toggleable__content {\n",
       "  /* Expand drop-down */\n",
       "  max-height: 200px;\n",
       "  max-width: 100%;\n",
       "  overflow: auto;\n",
       "}\n",
       "\n",
       "#sk-container-id-5 input.sk-toggleable__control:checked~label.sk-toggleable__label-arrow:before {\n",
       "  content: \"▾\";\n",
       "}\n",
       "\n",
       "/* Pipeline/ColumnTransformer-specific style */\n",
       "\n",
       "#sk-container-id-5 div.sk-label input.sk-toggleable__control:checked~label.sk-toggleable__label {\n",
       "  color: var(--sklearn-color-text);\n",
       "  background-color: var(--sklearn-color-unfitted-level-2);\n",
       "}\n",
       "\n",
       "#sk-container-id-5 div.sk-label.fitted input.sk-toggleable__control:checked~label.sk-toggleable__label {\n",
       "  background-color: var(--sklearn-color-fitted-level-2);\n",
       "}\n",
       "\n",
       "/* Estimator-specific style */\n",
       "\n",
       "/* Colorize estimator box */\n",
       "#sk-container-id-5 div.sk-estimator input.sk-toggleable__control:checked~label.sk-toggleable__label {\n",
       "  /* unfitted */\n",
       "  background-color: var(--sklearn-color-unfitted-level-2);\n",
       "}\n",
       "\n",
       "#sk-container-id-5 div.sk-estimator.fitted input.sk-toggleable__control:checked~label.sk-toggleable__label {\n",
       "  /* fitted */\n",
       "  background-color: var(--sklearn-color-fitted-level-2);\n",
       "}\n",
       "\n",
       "#sk-container-id-5 div.sk-label label.sk-toggleable__label,\n",
       "#sk-container-id-5 div.sk-label label {\n",
       "  /* The background is the default theme color */\n",
       "  color: var(--sklearn-color-text-on-default-background);\n",
       "}\n",
       "\n",
       "/* On hover, darken the color of the background */\n",
       "#sk-container-id-5 div.sk-label:hover label.sk-toggleable__label {\n",
       "  color: var(--sklearn-color-text);\n",
       "  background-color: var(--sklearn-color-unfitted-level-2);\n",
       "}\n",
       "\n",
       "/* Label box, darken color on hover, fitted */\n",
       "#sk-container-id-5 div.sk-label.fitted:hover label.sk-toggleable__label.fitted {\n",
       "  color: var(--sklearn-color-text);\n",
       "  background-color: var(--sklearn-color-fitted-level-2);\n",
       "}\n",
       "\n",
       "/* Estimator label */\n",
       "\n",
       "#sk-container-id-5 div.sk-label label {\n",
       "  font-family: monospace;\n",
       "  font-weight: bold;\n",
       "  display: inline-block;\n",
       "  line-height: 1.2em;\n",
       "}\n",
       "\n",
       "#sk-container-id-5 div.sk-label-container {\n",
       "  text-align: center;\n",
       "}\n",
       "\n",
       "/* Estimator-specific */\n",
       "#sk-container-id-5 div.sk-estimator {\n",
       "  font-family: monospace;\n",
       "  border: 1px dotted var(--sklearn-color-border-box);\n",
       "  border-radius: 0.25em;\n",
       "  box-sizing: border-box;\n",
       "  margin-bottom: 0.5em;\n",
       "  /* unfitted */\n",
       "  background-color: var(--sklearn-color-unfitted-level-0);\n",
       "}\n",
       "\n",
       "#sk-container-id-5 div.sk-estimator.fitted {\n",
       "  /* fitted */\n",
       "  background-color: var(--sklearn-color-fitted-level-0);\n",
       "}\n",
       "\n",
       "/* on hover */\n",
       "#sk-container-id-5 div.sk-estimator:hover {\n",
       "  /* unfitted */\n",
       "  background-color: var(--sklearn-color-unfitted-level-2);\n",
       "}\n",
       "\n",
       "#sk-container-id-5 div.sk-estimator.fitted:hover {\n",
       "  /* fitted */\n",
       "  background-color: var(--sklearn-color-fitted-level-2);\n",
       "}\n",
       "\n",
       "/* Specification for estimator info (e.g. \"i\" and \"?\") */\n",
       "\n",
       "/* Common style for \"i\" and \"?\" */\n",
       "\n",
       ".sk-estimator-doc-link,\n",
       "a:link.sk-estimator-doc-link,\n",
       "a:visited.sk-estimator-doc-link {\n",
       "  float: right;\n",
       "  font-size: smaller;\n",
       "  line-height: 1em;\n",
       "  font-family: monospace;\n",
       "  background-color: var(--sklearn-color-background);\n",
       "  border-radius: 1em;\n",
       "  height: 1em;\n",
       "  width: 1em;\n",
       "  text-decoration: none !important;\n",
       "  margin-left: 0.5em;\n",
       "  text-align: center;\n",
       "  /* unfitted */\n",
       "  border: var(--sklearn-color-unfitted-level-1) 1pt solid;\n",
       "  color: var(--sklearn-color-unfitted-level-1);\n",
       "}\n",
       "\n",
       ".sk-estimator-doc-link.fitted,\n",
       "a:link.sk-estimator-doc-link.fitted,\n",
       "a:visited.sk-estimator-doc-link.fitted {\n",
       "  /* fitted */\n",
       "  border: var(--sklearn-color-fitted-level-1) 1pt solid;\n",
       "  color: var(--sklearn-color-fitted-level-1);\n",
       "}\n",
       "\n",
       "/* On hover */\n",
       "div.sk-estimator:hover .sk-estimator-doc-link:hover,\n",
       ".sk-estimator-doc-link:hover,\n",
       "div.sk-label-container:hover .sk-estimator-doc-link:hover,\n",
       ".sk-estimator-doc-link:hover {\n",
       "  /* unfitted */\n",
       "  background-color: var(--sklearn-color-unfitted-level-3);\n",
       "  color: var(--sklearn-color-background);\n",
       "  text-decoration: none;\n",
       "}\n",
       "\n",
       "div.sk-estimator.fitted:hover .sk-estimator-doc-link.fitted:hover,\n",
       ".sk-estimator-doc-link.fitted:hover,\n",
       "div.sk-label-container:hover .sk-estimator-doc-link.fitted:hover,\n",
       ".sk-estimator-doc-link.fitted:hover {\n",
       "  /* fitted */\n",
       "  background-color: var(--sklearn-color-fitted-level-3);\n",
       "  color: var(--sklearn-color-background);\n",
       "  text-decoration: none;\n",
       "}\n",
       "\n",
       "/* Span, style for the box shown on hovering the info icon */\n",
       ".sk-estimator-doc-link span {\n",
       "  display: none;\n",
       "  z-index: 9999;\n",
       "  position: relative;\n",
       "  font-weight: normal;\n",
       "  right: .2ex;\n",
       "  padding: .5ex;\n",
       "  margin: .5ex;\n",
       "  width: min-content;\n",
       "  min-width: 20ex;\n",
       "  max-width: 50ex;\n",
       "  color: var(--sklearn-color-text);\n",
       "  box-shadow: 2pt 2pt 4pt #999;\n",
       "  /* unfitted */\n",
       "  background: var(--sklearn-color-unfitted-level-0);\n",
       "  border: .5pt solid var(--sklearn-color-unfitted-level-3);\n",
       "}\n",
       "\n",
       ".sk-estimator-doc-link.fitted span {\n",
       "  /* fitted */\n",
       "  background: var(--sklearn-color-fitted-level-0);\n",
       "  border: var(--sklearn-color-fitted-level-3);\n",
       "}\n",
       "\n",
       ".sk-estimator-doc-link:hover span {\n",
       "  display: block;\n",
       "}\n",
       "\n",
       "/* \"?\"-specific style due to the `<a>` HTML tag */\n",
       "\n",
       "#sk-container-id-5 a.estimator_doc_link {\n",
       "  float: right;\n",
       "  font-size: 1rem;\n",
       "  line-height: 1em;\n",
       "  font-family: monospace;\n",
       "  background-color: var(--sklearn-color-background);\n",
       "  border-radius: 1rem;\n",
       "  height: 1rem;\n",
       "  width: 1rem;\n",
       "  text-decoration: none;\n",
       "  /* unfitted */\n",
       "  color: var(--sklearn-color-unfitted-level-1);\n",
       "  border: var(--sklearn-color-unfitted-level-1) 1pt solid;\n",
       "}\n",
       "\n",
       "#sk-container-id-5 a.estimator_doc_link.fitted {\n",
       "  /* fitted */\n",
       "  border: var(--sklearn-color-fitted-level-1) 1pt solid;\n",
       "  color: var(--sklearn-color-fitted-level-1);\n",
       "}\n",
       "\n",
       "/* On hover */\n",
       "#sk-container-id-5 a.estimator_doc_link:hover {\n",
       "  /* unfitted */\n",
       "  background-color: var(--sklearn-color-unfitted-level-3);\n",
       "  color: var(--sklearn-color-background);\n",
       "  text-decoration: none;\n",
       "}\n",
       "\n",
       "#sk-container-id-5 a.estimator_doc_link.fitted:hover {\n",
       "  /* fitted */\n",
       "  background-color: var(--sklearn-color-fitted-level-3);\n",
       "}\n",
       "</style><div id=\"sk-container-id-5\" class=\"sk-top-container\"><div class=\"sk-text-repr-fallback\"><pre>LogisticRegression(max_iter=1000)</pre><b>In a Jupyter environment, please rerun this cell to show the HTML representation or trust the notebook. <br />On GitHub, the HTML representation is unable to render, please try loading this page with nbviewer.org.</b></div><div class=\"sk-container\" hidden><div class=\"sk-item\"><div class=\"sk-estimator fitted sk-toggleable\"><input class=\"sk-toggleable__control sk-hidden--visually\" id=\"sk-estimator-id-5\" type=\"checkbox\" checked><label for=\"sk-estimator-id-5\" class=\"sk-toggleable__label fitted sk-toggleable__label-arrow\"><div><div>LogisticRegression</div></div><div><a class=\"sk-estimator-doc-link fitted\" rel=\"noreferrer\" target=\"_blank\" href=\"https://scikit-learn.org/1.6/modules/generated/sklearn.linear_model.LogisticRegression.html\">?<span>Documentation for LogisticRegression</span></a><span class=\"sk-estimator-doc-link fitted\">i<span>Fitted</span></span></div></label><div class=\"sk-toggleable__content fitted\"><pre>LogisticRegression(max_iter=1000)</pre></div> </div></div></div></div>"
      ],
      "text/plain": [
       "LogisticRegression(max_iter=1000)"
      ]
     },
     "execution_count": 41,
     "metadata": {},
     "output_type": "execute_result"
    }
   ],
   "source": [
    "lr = LogisticRegression(max_iter=1000)\n",
    "\n",
    "lr.fit(x_train, y_train)"
   ]
  },
  {
   "cell_type": "code",
   "execution_count": 42,
   "metadata": {},
   "outputs": [
    {
     "name": "stdout",
     "output_type": "stream",
     "text": [
      "Accuracy: 0.840091846730768\n",
      "Recall: 0.8249834748880658\n",
      "Precision: 0.8508547393334448\n",
      "ROC_AUC 0.8401008076935147\n"
     ]
    }
   ],
   "source": [
    "val_predictions_lr = lr.predict(x_val)\n",
    "\n",
    "print('Accuracy:', accuracy_score(y_val, val_predictions_lr))\n",
    "print('Recall:', recall_score(y_val, val_predictions_lr))\n",
    "print('Precision:', precision_score(y_val, val_predictions_lr))\n",
    "print('ROC_AUC',roc_auc_score(y_val, val_predictions_lr))"
   ]
  },
  {
   "cell_type": "markdown",
   "metadata": {},
   "source": [
    "## **XGBoost**"
   ]
  },
  {
   "cell_type": "code",
   "execution_count": 28,
   "metadata": {},
   "outputs": [
    {
     "name": "stderr",
     "output_type": "stream",
     "text": [
      "[I 2025-05-08 00:31:42,398] A new study created in memory with name: no-name-dc9414de-481a-4e7e-912b-7b76a4328dc8\n",
      "[I 2025-05-08 00:31:46,574] Trial 0 finished with value: 0.9693817737369202 and parameters: {'n_estimators': 150, 'max_depth': 7, 'learning_rate': 0.006207952248867322, 'colsample_bytree': 0.788094272478499, 'reg_alpha': 0.9246110238175279, 'reg_lambda': 0.6345759178016177}. Best is trial 0 with value: 0.9693817737369202.\n",
      "[I 2025-05-08 00:31:53,871] Trial 1 finished with value: 1.0 and parameters: {'n_estimators': 379, 'max_depth': 12, 'learning_rate': 0.1551825862531018, 'colsample_bytree': 0.7381510595414473, 'reg_alpha': 0.6812914666932334, 'reg_lambda': 0.1569547843554635}. Best is trial 1 with value: 1.0.\n",
      "[I 2025-05-08 00:32:06,646] Trial 2 finished with value: 0.8444269839488158 and parameters: {'n_estimators': 990, 'max_depth': 4, 'learning_rate': 0.00010221102479331568, 'colsample_bytree': 0.7452451185686357, 'reg_alpha': 0.21431332843583462, 'reg_lambda': 0.9556242027560381}. Best is trial 1 with value: 1.0.\n",
      "[I 2025-05-08 00:32:27,987] Trial 3 finished with value: 1.0 and parameters: {'n_estimators': 895, 'max_depth': 9, 'learning_rate': 0.0021744933305772587, 'colsample_bytree': 0.8269534690095595, 'reg_alpha': 0.9740421254028344, 'reg_lambda': 0.7077149914867462}. Best is trial 1 with value: 1.0.\n",
      "[I 2025-05-08 00:32:35,241] Trial 4 finished with value: 0.8639328519225253 and parameters: {'n_estimators': 550, 'max_depth': 4, 'learning_rate': 0.0005711503228078969, 'colsample_bytree': 0.7138673818512156, 'reg_alpha': 0.16667920803668626, 'reg_lambda': 0.5461382937612906}. Best is trial 1 with value: 1.0.\n",
      "[I 2025-05-08 00:32:41,482] Trial 5 finished with value: 0.9120489891620209 and parameters: {'n_estimators': 605, 'max_depth': 3, 'learning_rate': 0.005463032053962916, 'colsample_bytree': 0.72571368875338, 'reg_alpha': 0.9687214446231727, 'reg_lambda': 0.8416438161685801}. Best is trial 1 with value: 1.0.\n",
      "[I 2025-05-08 00:33:03,080] Trial 6 finished with value: 1.0 and parameters: {'n_estimators': 786, 'max_depth': 10, 'learning_rate': 0.0056702735378248255, 'colsample_bytree': 0.8874140474126018, 'reg_alpha': 0.6175374719725247, 'reg_lambda': 0.3008126081967367}. Best is trial 1 with value: 1.0.\n",
      "[I 2025-05-08 00:33:07,126] Trial 7 finished with value: 1.0 and parameters: {'n_estimators': 285, 'max_depth': 4, 'learning_rate': 0.10571023166347428, 'colsample_bytree': 0.7675154540824162, 'reg_alpha': 0.5371141322053321, 'reg_lambda': 0.40503772734525223}. Best is trial 1 with value: 1.0.\n",
      "[I 2025-05-08 00:33:24,861] Trial 8 finished with value: 1.0 and parameters: {'n_estimators': 833, 'max_depth': 8, 'learning_rate': 0.0026296832682838347, 'colsample_bytree': 0.8483708673933111, 'reg_alpha': 0.1998620175606426, 'reg_lambda': 0.28582884706003264}. Best is trial 1 with value: 1.0.\n",
      "[I 2025-05-08 00:33:29,632] Trial 9 finished with value: 1.0 and parameters: {'n_estimators': 146, 'max_depth': 15, 'learning_rate': 0.2616221511356829, 'colsample_bytree': 0.7204773542362881, 'reg_alpha': 0.20271844097262048, 'reg_lambda': 0.41134666910989526}. Best is trial 1 with value: 1.0.\n"
     ]
    },
    {
     "name": "stdout",
     "output_type": "stream",
     "text": [
      "Best params: {'n_estimators': 379, 'max_depth': 12, 'learning_rate': 0.1551825862531018, 'colsample_bytree': 0.7381510595414473, 'reg_alpha': 0.6812914666932334, 'reg_lambda': 0.1569547843554635}\n",
      "Best RMSE: 1.0\n"
     ]
    }
   ],
   "source": [
    "def objective(trial):\n",
    "    param = {\n",
    "        'verbosity': 0,\n",
    "        'objective': 'binary:logistic',\n",
    "        'tree_method': 'hist', \n",
    "        'device': 'cuda', \n",
    "        'predictor': 'gpu_predictor',\n",
    "        'n_estimators': trial.suggest_int('n_estimators', 100, 1000),\n",
    "        'max_depth': trial.suggest_int('max_depth', 3, 15),\n",
    "        'learning_rate': trial.suggest_float('learning_rate', 1e-4, 5e-1, log=True),\n",
    "        'colsample_bytree': trial.suggest_float('colsample_bytree', 0.7, 1.0),\n",
    "        'reg_alpha': trial.suggest_float('reg_alpha', 0.1, 1.0),\n",
    "        'reg_lambda': trial.suggest_float('reg_lambda', 0.0, 1.0),\n",
    "    }\n",
    "\n",
    "    model = XGBClassifier(**param)\n",
    "    model.fit(x_train, y_train)\n",
    "\n",
    "    preds = model.predict(x_val)\n",
    "    return recall_score(y_val, preds, average='binary')\n",
    "\n",
    "\n",
    "study = optuna.create_study(direction=\"maximize\")\n",
    "study.optimize(objective, n_trials=10)\n",
    "\n",
    "print(\"Best params:\", study.best_params)\n",
    "print(\"Best RMSE:\", study.best_value)"
   ]
  },
  {
   "cell_type": "code",
   "execution_count": 29,
   "metadata": {},
   "outputs": [
    {
     "data": {
      "application/vnd.plotly.v1+json": {
       "config": {
        "plotlyServerURL": "https://plot.ly"
       },
       "data": [
        {
         "mode": "markers",
         "name": "Objective Value",
         "type": "scatter",
         "x": [
          0,
          1,
          2,
          3,
          4,
          5,
          6,
          7,
          8,
          9
         ],
         "y": [
          0.9693817737369202,
          1,
          0.8444269839488158,
          1,
          0.8639328519225253,
          0.9120489891620209,
          1,
          1,
          1,
          1
         ]
        },
        {
         "mode": "lines",
         "name": "Best Value",
         "type": "scatter",
         "x": [
          0,
          1,
          2,
          3,
          4,
          5,
          6,
          7,
          8,
          9
         ],
         "y": [
          0.9693817737369202,
          1,
          1,
          1,
          1,
          1,
          1,
          1,
          1,
          1
         ]
        },
        {
         "marker": {
          "color": "#cccccc"
         },
         "mode": "markers",
         "name": "Infeasible Trial",
         "showlegend": false,
         "type": "scatter",
         "x": [],
         "y": []
        }
       ],
       "layout": {
        "template": {
         "data": {
          "bar": [
           {
            "error_x": {
             "color": "#2a3f5f"
            },
            "error_y": {
             "color": "#2a3f5f"
            },
            "marker": {
             "line": {
              "color": "#E5ECF6",
              "width": 0.5
             },
             "pattern": {
              "fillmode": "overlay",
              "size": 10,
              "solidity": 0.2
             }
            },
            "type": "bar"
           }
          ],
          "barpolar": [
           {
            "marker": {
             "line": {
              "color": "#E5ECF6",
              "width": 0.5
             },
             "pattern": {
              "fillmode": "overlay",
              "size": 10,
              "solidity": 0.2
             }
            },
            "type": "barpolar"
           }
          ],
          "carpet": [
           {
            "aaxis": {
             "endlinecolor": "#2a3f5f",
             "gridcolor": "white",
             "linecolor": "white",
             "minorgridcolor": "white",
             "startlinecolor": "#2a3f5f"
            },
            "baxis": {
             "endlinecolor": "#2a3f5f",
             "gridcolor": "white",
             "linecolor": "white",
             "minorgridcolor": "white",
             "startlinecolor": "#2a3f5f"
            },
            "type": "carpet"
           }
          ],
          "choropleth": [
           {
            "colorbar": {
             "outlinewidth": 0,
             "ticks": ""
            },
            "type": "choropleth"
           }
          ],
          "contour": [
           {
            "colorbar": {
             "outlinewidth": 0,
             "ticks": ""
            },
            "colorscale": [
             [
              0,
              "#0d0887"
             ],
             [
              0.1111111111111111,
              "#46039f"
             ],
             [
              0.2222222222222222,
              "#7201a8"
             ],
             [
              0.3333333333333333,
              "#9c179e"
             ],
             [
              0.4444444444444444,
              "#bd3786"
             ],
             [
              0.5555555555555556,
              "#d8576b"
             ],
             [
              0.6666666666666666,
              "#ed7953"
             ],
             [
              0.7777777777777778,
              "#fb9f3a"
             ],
             [
              0.8888888888888888,
              "#fdca26"
             ],
             [
              1,
              "#f0f921"
             ]
            ],
            "type": "contour"
           }
          ],
          "contourcarpet": [
           {
            "colorbar": {
             "outlinewidth": 0,
             "ticks": ""
            },
            "type": "contourcarpet"
           }
          ],
          "heatmap": [
           {
            "colorbar": {
             "outlinewidth": 0,
             "ticks": ""
            },
            "colorscale": [
             [
              0,
              "#0d0887"
             ],
             [
              0.1111111111111111,
              "#46039f"
             ],
             [
              0.2222222222222222,
              "#7201a8"
             ],
             [
              0.3333333333333333,
              "#9c179e"
             ],
             [
              0.4444444444444444,
              "#bd3786"
             ],
             [
              0.5555555555555556,
              "#d8576b"
             ],
             [
              0.6666666666666666,
              "#ed7953"
             ],
             [
              0.7777777777777778,
              "#fb9f3a"
             ],
             [
              0.8888888888888888,
              "#fdca26"
             ],
             [
              1,
              "#f0f921"
             ]
            ],
            "type": "heatmap"
           }
          ],
          "histogram": [
           {
            "marker": {
             "pattern": {
              "fillmode": "overlay",
              "size": 10,
              "solidity": 0.2
             }
            },
            "type": "histogram"
           }
          ],
          "histogram2d": [
           {
            "colorbar": {
             "outlinewidth": 0,
             "ticks": ""
            },
            "colorscale": [
             [
              0,
              "#0d0887"
             ],
             [
              0.1111111111111111,
              "#46039f"
             ],
             [
              0.2222222222222222,
              "#7201a8"
             ],
             [
              0.3333333333333333,
              "#9c179e"
             ],
             [
              0.4444444444444444,
              "#bd3786"
             ],
             [
              0.5555555555555556,
              "#d8576b"
             ],
             [
              0.6666666666666666,
              "#ed7953"
             ],
             [
              0.7777777777777778,
              "#fb9f3a"
             ],
             [
              0.8888888888888888,
              "#fdca26"
             ],
             [
              1,
              "#f0f921"
             ]
            ],
            "type": "histogram2d"
           }
          ],
          "histogram2dcontour": [
           {
            "colorbar": {
             "outlinewidth": 0,
             "ticks": ""
            },
            "colorscale": [
             [
              0,
              "#0d0887"
             ],
             [
              0.1111111111111111,
              "#46039f"
             ],
             [
              0.2222222222222222,
              "#7201a8"
             ],
             [
              0.3333333333333333,
              "#9c179e"
             ],
             [
              0.4444444444444444,
              "#bd3786"
             ],
             [
              0.5555555555555556,
              "#d8576b"
             ],
             [
              0.6666666666666666,
              "#ed7953"
             ],
             [
              0.7777777777777778,
              "#fb9f3a"
             ],
             [
              0.8888888888888888,
              "#fdca26"
             ],
             [
              1,
              "#f0f921"
             ]
            ],
            "type": "histogram2dcontour"
           }
          ],
          "mesh3d": [
           {
            "colorbar": {
             "outlinewidth": 0,
             "ticks": ""
            },
            "type": "mesh3d"
           }
          ],
          "parcoords": [
           {
            "line": {
             "colorbar": {
              "outlinewidth": 0,
              "ticks": ""
             }
            },
            "type": "parcoords"
           }
          ],
          "pie": [
           {
            "automargin": true,
            "type": "pie"
           }
          ],
          "scatter": [
           {
            "fillpattern": {
             "fillmode": "overlay",
             "size": 10,
             "solidity": 0.2
            },
            "type": "scatter"
           }
          ],
          "scatter3d": [
           {
            "line": {
             "colorbar": {
              "outlinewidth": 0,
              "ticks": ""
             }
            },
            "marker": {
             "colorbar": {
              "outlinewidth": 0,
              "ticks": ""
             }
            },
            "type": "scatter3d"
           }
          ],
          "scattercarpet": [
           {
            "marker": {
             "colorbar": {
              "outlinewidth": 0,
              "ticks": ""
             }
            },
            "type": "scattercarpet"
           }
          ],
          "scattergeo": [
           {
            "marker": {
             "colorbar": {
              "outlinewidth": 0,
              "ticks": ""
             }
            },
            "type": "scattergeo"
           }
          ],
          "scattergl": [
           {
            "marker": {
             "colorbar": {
              "outlinewidth": 0,
              "ticks": ""
             }
            },
            "type": "scattergl"
           }
          ],
          "scattermap": [
           {
            "marker": {
             "colorbar": {
              "outlinewidth": 0,
              "ticks": ""
             }
            },
            "type": "scattermap"
           }
          ],
          "scattermapbox": [
           {
            "marker": {
             "colorbar": {
              "outlinewidth": 0,
              "ticks": ""
             }
            },
            "type": "scattermapbox"
           }
          ],
          "scatterpolar": [
           {
            "marker": {
             "colorbar": {
              "outlinewidth": 0,
              "ticks": ""
             }
            },
            "type": "scatterpolar"
           }
          ],
          "scatterpolargl": [
           {
            "marker": {
             "colorbar": {
              "outlinewidth": 0,
              "ticks": ""
             }
            },
            "type": "scatterpolargl"
           }
          ],
          "scatterternary": [
           {
            "marker": {
             "colorbar": {
              "outlinewidth": 0,
              "ticks": ""
             }
            },
            "type": "scatterternary"
           }
          ],
          "surface": [
           {
            "colorbar": {
             "outlinewidth": 0,
             "ticks": ""
            },
            "colorscale": [
             [
              0,
              "#0d0887"
             ],
             [
              0.1111111111111111,
              "#46039f"
             ],
             [
              0.2222222222222222,
              "#7201a8"
             ],
             [
              0.3333333333333333,
              "#9c179e"
             ],
             [
              0.4444444444444444,
              "#bd3786"
             ],
             [
              0.5555555555555556,
              "#d8576b"
             ],
             [
              0.6666666666666666,
              "#ed7953"
             ],
             [
              0.7777777777777778,
              "#fb9f3a"
             ],
             [
              0.8888888888888888,
              "#fdca26"
             ],
             [
              1,
              "#f0f921"
             ]
            ],
            "type": "surface"
           }
          ],
          "table": [
           {
            "cells": {
             "fill": {
              "color": "#EBF0F8"
             },
             "line": {
              "color": "white"
             }
            },
            "header": {
             "fill": {
              "color": "#C8D4E3"
             },
             "line": {
              "color": "white"
             }
            },
            "type": "table"
           }
          ]
         },
         "layout": {
          "annotationdefaults": {
           "arrowcolor": "#2a3f5f",
           "arrowhead": 0,
           "arrowwidth": 1
          },
          "autotypenumbers": "strict",
          "coloraxis": {
           "colorbar": {
            "outlinewidth": 0,
            "ticks": ""
           }
          },
          "colorscale": {
           "diverging": [
            [
             0,
             "#8e0152"
            ],
            [
             0.1,
             "#c51b7d"
            ],
            [
             0.2,
             "#de77ae"
            ],
            [
             0.3,
             "#f1b6da"
            ],
            [
             0.4,
             "#fde0ef"
            ],
            [
             0.5,
             "#f7f7f7"
            ],
            [
             0.6,
             "#e6f5d0"
            ],
            [
             0.7,
             "#b8e186"
            ],
            [
             0.8,
             "#7fbc41"
            ],
            [
             0.9,
             "#4d9221"
            ],
            [
             1,
             "#276419"
            ]
           ],
           "sequential": [
            [
             0,
             "#0d0887"
            ],
            [
             0.1111111111111111,
             "#46039f"
            ],
            [
             0.2222222222222222,
             "#7201a8"
            ],
            [
             0.3333333333333333,
             "#9c179e"
            ],
            [
             0.4444444444444444,
             "#bd3786"
            ],
            [
             0.5555555555555556,
             "#d8576b"
            ],
            [
             0.6666666666666666,
             "#ed7953"
            ],
            [
             0.7777777777777778,
             "#fb9f3a"
            ],
            [
             0.8888888888888888,
             "#fdca26"
            ],
            [
             1,
             "#f0f921"
            ]
           ],
           "sequentialminus": [
            [
             0,
             "#0d0887"
            ],
            [
             0.1111111111111111,
             "#46039f"
            ],
            [
             0.2222222222222222,
             "#7201a8"
            ],
            [
             0.3333333333333333,
             "#9c179e"
            ],
            [
             0.4444444444444444,
             "#bd3786"
            ],
            [
             0.5555555555555556,
             "#d8576b"
            ],
            [
             0.6666666666666666,
             "#ed7953"
            ],
            [
             0.7777777777777778,
             "#fb9f3a"
            ],
            [
             0.8888888888888888,
             "#fdca26"
            ],
            [
             1,
             "#f0f921"
            ]
           ]
          },
          "colorway": [
           "#636efa",
           "#EF553B",
           "#00cc96",
           "#ab63fa",
           "#FFA15A",
           "#19d3f3",
           "#FF6692",
           "#B6E880",
           "#FF97FF",
           "#FECB52"
          ],
          "font": {
           "color": "#2a3f5f"
          },
          "geo": {
           "bgcolor": "white",
           "lakecolor": "white",
           "landcolor": "#E5ECF6",
           "showlakes": true,
           "showland": true,
           "subunitcolor": "white"
          },
          "hoverlabel": {
           "align": "left"
          },
          "hovermode": "closest",
          "mapbox": {
           "style": "light"
          },
          "paper_bgcolor": "white",
          "plot_bgcolor": "#E5ECF6",
          "polar": {
           "angularaxis": {
            "gridcolor": "white",
            "linecolor": "white",
            "ticks": ""
           },
           "bgcolor": "#E5ECF6",
           "radialaxis": {
            "gridcolor": "white",
            "linecolor": "white",
            "ticks": ""
           }
          },
          "scene": {
           "xaxis": {
            "backgroundcolor": "#E5ECF6",
            "gridcolor": "white",
            "gridwidth": 2,
            "linecolor": "white",
            "showbackground": true,
            "ticks": "",
            "zerolinecolor": "white"
           },
           "yaxis": {
            "backgroundcolor": "#E5ECF6",
            "gridcolor": "white",
            "gridwidth": 2,
            "linecolor": "white",
            "showbackground": true,
            "ticks": "",
            "zerolinecolor": "white"
           },
           "zaxis": {
            "backgroundcolor": "#E5ECF6",
            "gridcolor": "white",
            "gridwidth": 2,
            "linecolor": "white",
            "showbackground": true,
            "ticks": "",
            "zerolinecolor": "white"
           }
          },
          "shapedefaults": {
           "line": {
            "color": "#2a3f5f"
           }
          },
          "ternary": {
           "aaxis": {
            "gridcolor": "white",
            "linecolor": "white",
            "ticks": ""
           },
           "baxis": {
            "gridcolor": "white",
            "linecolor": "white",
            "ticks": ""
           },
           "bgcolor": "#E5ECF6",
           "caxis": {
            "gridcolor": "white",
            "linecolor": "white",
            "ticks": ""
           }
          },
          "title": {
           "x": 0.05
          },
          "xaxis": {
           "automargin": true,
           "gridcolor": "white",
           "linecolor": "white",
           "ticks": "",
           "title": {
            "standoff": 15
           },
           "zerolinecolor": "white",
           "zerolinewidth": 2
          },
          "yaxis": {
           "automargin": true,
           "gridcolor": "white",
           "linecolor": "white",
           "ticks": "",
           "title": {
            "standoff": 15
           },
           "zerolinecolor": "white",
           "zerolinewidth": 2
          }
         }
        },
        "title": {
         "text": "Optimization History Plot"
        },
        "xaxis": {
         "title": {
          "text": "Trial"
         }
        },
        "yaxis": {
         "title": {
          "text": "Objective Value"
         }
        }
       }
      }
     },
     "metadata": {},
     "output_type": "display_data"
    }
   ],
   "source": [
    "vis.plot_optimization_history(study).show()"
   ]
  },
  {
   "cell_type": "code",
   "execution_count": 30,
   "metadata": {},
   "outputs": [
    {
     "data": {
      "application/vnd.plotly.v1+json": {
       "config": {
        "plotlyServerURL": "https://plot.ly"
       },
       "data": [
        {
         "cliponaxis": false,
         "hovertemplate": [
          "n_estimators (IntDistribution): 0.07629212122965547<extra></extra>",
          "colsample_bytree (FloatDistribution): 0.09171230594654242<extra></extra>",
          "learning_rate (FloatDistribution): 0.1155192430206047<extra></extra>",
          "reg_alpha (FloatDistribution): 0.13809145747787005<extra></extra>",
          "max_depth (IntDistribution): 0.1870441369076305<extra></extra>",
          "reg_lambda (FloatDistribution): 0.39134073541769676<extra></extra>"
         ],
         "name": "Objective Value",
         "orientation": "h",
         "text": [
          "0.08",
          "0.09",
          "0.12",
          "0.14",
          "0.19",
          "0.39"
         ],
         "textposition": "outside",
         "type": "bar",
         "x": [
          0.07629212122965547,
          0.09171230594654242,
          0.1155192430206047,
          0.13809145747787005,
          0.1870441369076305,
          0.39134073541769676
         ],
         "y": [
          "n_estimators",
          "colsample_bytree",
          "learning_rate",
          "reg_alpha",
          "max_depth",
          "reg_lambda"
         ]
        }
       ],
       "layout": {
        "template": {
         "data": {
          "bar": [
           {
            "error_x": {
             "color": "#2a3f5f"
            },
            "error_y": {
             "color": "#2a3f5f"
            },
            "marker": {
             "line": {
              "color": "#E5ECF6",
              "width": 0.5
             },
             "pattern": {
              "fillmode": "overlay",
              "size": 10,
              "solidity": 0.2
             }
            },
            "type": "bar"
           }
          ],
          "barpolar": [
           {
            "marker": {
             "line": {
              "color": "#E5ECF6",
              "width": 0.5
             },
             "pattern": {
              "fillmode": "overlay",
              "size": 10,
              "solidity": 0.2
             }
            },
            "type": "barpolar"
           }
          ],
          "carpet": [
           {
            "aaxis": {
             "endlinecolor": "#2a3f5f",
             "gridcolor": "white",
             "linecolor": "white",
             "minorgridcolor": "white",
             "startlinecolor": "#2a3f5f"
            },
            "baxis": {
             "endlinecolor": "#2a3f5f",
             "gridcolor": "white",
             "linecolor": "white",
             "minorgridcolor": "white",
             "startlinecolor": "#2a3f5f"
            },
            "type": "carpet"
           }
          ],
          "choropleth": [
           {
            "colorbar": {
             "outlinewidth": 0,
             "ticks": ""
            },
            "type": "choropleth"
           }
          ],
          "contour": [
           {
            "colorbar": {
             "outlinewidth": 0,
             "ticks": ""
            },
            "colorscale": [
             [
              0,
              "#0d0887"
             ],
             [
              0.1111111111111111,
              "#46039f"
             ],
             [
              0.2222222222222222,
              "#7201a8"
             ],
             [
              0.3333333333333333,
              "#9c179e"
             ],
             [
              0.4444444444444444,
              "#bd3786"
             ],
             [
              0.5555555555555556,
              "#d8576b"
             ],
             [
              0.6666666666666666,
              "#ed7953"
             ],
             [
              0.7777777777777778,
              "#fb9f3a"
             ],
             [
              0.8888888888888888,
              "#fdca26"
             ],
             [
              1,
              "#f0f921"
             ]
            ],
            "type": "contour"
           }
          ],
          "contourcarpet": [
           {
            "colorbar": {
             "outlinewidth": 0,
             "ticks": ""
            },
            "type": "contourcarpet"
           }
          ],
          "heatmap": [
           {
            "colorbar": {
             "outlinewidth": 0,
             "ticks": ""
            },
            "colorscale": [
             [
              0,
              "#0d0887"
             ],
             [
              0.1111111111111111,
              "#46039f"
             ],
             [
              0.2222222222222222,
              "#7201a8"
             ],
             [
              0.3333333333333333,
              "#9c179e"
             ],
             [
              0.4444444444444444,
              "#bd3786"
             ],
             [
              0.5555555555555556,
              "#d8576b"
             ],
             [
              0.6666666666666666,
              "#ed7953"
             ],
             [
              0.7777777777777778,
              "#fb9f3a"
             ],
             [
              0.8888888888888888,
              "#fdca26"
             ],
             [
              1,
              "#f0f921"
             ]
            ],
            "type": "heatmap"
           }
          ],
          "histogram": [
           {
            "marker": {
             "pattern": {
              "fillmode": "overlay",
              "size": 10,
              "solidity": 0.2
             }
            },
            "type": "histogram"
           }
          ],
          "histogram2d": [
           {
            "colorbar": {
             "outlinewidth": 0,
             "ticks": ""
            },
            "colorscale": [
             [
              0,
              "#0d0887"
             ],
             [
              0.1111111111111111,
              "#46039f"
             ],
             [
              0.2222222222222222,
              "#7201a8"
             ],
             [
              0.3333333333333333,
              "#9c179e"
             ],
             [
              0.4444444444444444,
              "#bd3786"
             ],
             [
              0.5555555555555556,
              "#d8576b"
             ],
             [
              0.6666666666666666,
              "#ed7953"
             ],
             [
              0.7777777777777778,
              "#fb9f3a"
             ],
             [
              0.8888888888888888,
              "#fdca26"
             ],
             [
              1,
              "#f0f921"
             ]
            ],
            "type": "histogram2d"
           }
          ],
          "histogram2dcontour": [
           {
            "colorbar": {
             "outlinewidth": 0,
             "ticks": ""
            },
            "colorscale": [
             [
              0,
              "#0d0887"
             ],
             [
              0.1111111111111111,
              "#46039f"
             ],
             [
              0.2222222222222222,
              "#7201a8"
             ],
             [
              0.3333333333333333,
              "#9c179e"
             ],
             [
              0.4444444444444444,
              "#bd3786"
             ],
             [
              0.5555555555555556,
              "#d8576b"
             ],
             [
              0.6666666666666666,
              "#ed7953"
             ],
             [
              0.7777777777777778,
              "#fb9f3a"
             ],
             [
              0.8888888888888888,
              "#fdca26"
             ],
             [
              1,
              "#f0f921"
             ]
            ],
            "type": "histogram2dcontour"
           }
          ],
          "mesh3d": [
           {
            "colorbar": {
             "outlinewidth": 0,
             "ticks": ""
            },
            "type": "mesh3d"
           }
          ],
          "parcoords": [
           {
            "line": {
             "colorbar": {
              "outlinewidth": 0,
              "ticks": ""
             }
            },
            "type": "parcoords"
           }
          ],
          "pie": [
           {
            "automargin": true,
            "type": "pie"
           }
          ],
          "scatter": [
           {
            "fillpattern": {
             "fillmode": "overlay",
             "size": 10,
             "solidity": 0.2
            },
            "type": "scatter"
           }
          ],
          "scatter3d": [
           {
            "line": {
             "colorbar": {
              "outlinewidth": 0,
              "ticks": ""
             }
            },
            "marker": {
             "colorbar": {
              "outlinewidth": 0,
              "ticks": ""
             }
            },
            "type": "scatter3d"
           }
          ],
          "scattercarpet": [
           {
            "marker": {
             "colorbar": {
              "outlinewidth": 0,
              "ticks": ""
             }
            },
            "type": "scattercarpet"
           }
          ],
          "scattergeo": [
           {
            "marker": {
             "colorbar": {
              "outlinewidth": 0,
              "ticks": ""
             }
            },
            "type": "scattergeo"
           }
          ],
          "scattergl": [
           {
            "marker": {
             "colorbar": {
              "outlinewidth": 0,
              "ticks": ""
             }
            },
            "type": "scattergl"
           }
          ],
          "scattermap": [
           {
            "marker": {
             "colorbar": {
              "outlinewidth": 0,
              "ticks": ""
             }
            },
            "type": "scattermap"
           }
          ],
          "scattermapbox": [
           {
            "marker": {
             "colorbar": {
              "outlinewidth": 0,
              "ticks": ""
             }
            },
            "type": "scattermapbox"
           }
          ],
          "scatterpolar": [
           {
            "marker": {
             "colorbar": {
              "outlinewidth": 0,
              "ticks": ""
             }
            },
            "type": "scatterpolar"
           }
          ],
          "scatterpolargl": [
           {
            "marker": {
             "colorbar": {
              "outlinewidth": 0,
              "ticks": ""
             }
            },
            "type": "scatterpolargl"
           }
          ],
          "scatterternary": [
           {
            "marker": {
             "colorbar": {
              "outlinewidth": 0,
              "ticks": ""
             }
            },
            "type": "scatterternary"
           }
          ],
          "surface": [
           {
            "colorbar": {
             "outlinewidth": 0,
             "ticks": ""
            },
            "colorscale": [
             [
              0,
              "#0d0887"
             ],
             [
              0.1111111111111111,
              "#46039f"
             ],
             [
              0.2222222222222222,
              "#7201a8"
             ],
             [
              0.3333333333333333,
              "#9c179e"
             ],
             [
              0.4444444444444444,
              "#bd3786"
             ],
             [
              0.5555555555555556,
              "#d8576b"
             ],
             [
              0.6666666666666666,
              "#ed7953"
             ],
             [
              0.7777777777777778,
              "#fb9f3a"
             ],
             [
              0.8888888888888888,
              "#fdca26"
             ],
             [
              1,
              "#f0f921"
             ]
            ],
            "type": "surface"
           }
          ],
          "table": [
           {
            "cells": {
             "fill": {
              "color": "#EBF0F8"
             },
             "line": {
              "color": "white"
             }
            },
            "header": {
             "fill": {
              "color": "#C8D4E3"
             },
             "line": {
              "color": "white"
             }
            },
            "type": "table"
           }
          ]
         },
         "layout": {
          "annotationdefaults": {
           "arrowcolor": "#2a3f5f",
           "arrowhead": 0,
           "arrowwidth": 1
          },
          "autotypenumbers": "strict",
          "coloraxis": {
           "colorbar": {
            "outlinewidth": 0,
            "ticks": ""
           }
          },
          "colorscale": {
           "diverging": [
            [
             0,
             "#8e0152"
            ],
            [
             0.1,
             "#c51b7d"
            ],
            [
             0.2,
             "#de77ae"
            ],
            [
             0.3,
             "#f1b6da"
            ],
            [
             0.4,
             "#fde0ef"
            ],
            [
             0.5,
             "#f7f7f7"
            ],
            [
             0.6,
             "#e6f5d0"
            ],
            [
             0.7,
             "#b8e186"
            ],
            [
             0.8,
             "#7fbc41"
            ],
            [
             0.9,
             "#4d9221"
            ],
            [
             1,
             "#276419"
            ]
           ],
           "sequential": [
            [
             0,
             "#0d0887"
            ],
            [
             0.1111111111111111,
             "#46039f"
            ],
            [
             0.2222222222222222,
             "#7201a8"
            ],
            [
             0.3333333333333333,
             "#9c179e"
            ],
            [
             0.4444444444444444,
             "#bd3786"
            ],
            [
             0.5555555555555556,
             "#d8576b"
            ],
            [
             0.6666666666666666,
             "#ed7953"
            ],
            [
             0.7777777777777778,
             "#fb9f3a"
            ],
            [
             0.8888888888888888,
             "#fdca26"
            ],
            [
             1,
             "#f0f921"
            ]
           ],
           "sequentialminus": [
            [
             0,
             "#0d0887"
            ],
            [
             0.1111111111111111,
             "#46039f"
            ],
            [
             0.2222222222222222,
             "#7201a8"
            ],
            [
             0.3333333333333333,
             "#9c179e"
            ],
            [
             0.4444444444444444,
             "#bd3786"
            ],
            [
             0.5555555555555556,
             "#d8576b"
            ],
            [
             0.6666666666666666,
             "#ed7953"
            ],
            [
             0.7777777777777778,
             "#fb9f3a"
            ],
            [
             0.8888888888888888,
             "#fdca26"
            ],
            [
             1,
             "#f0f921"
            ]
           ]
          },
          "colorway": [
           "#636efa",
           "#EF553B",
           "#00cc96",
           "#ab63fa",
           "#FFA15A",
           "#19d3f3",
           "#FF6692",
           "#B6E880",
           "#FF97FF",
           "#FECB52"
          ],
          "font": {
           "color": "#2a3f5f"
          },
          "geo": {
           "bgcolor": "white",
           "lakecolor": "white",
           "landcolor": "#E5ECF6",
           "showlakes": true,
           "showland": true,
           "subunitcolor": "white"
          },
          "hoverlabel": {
           "align": "left"
          },
          "hovermode": "closest",
          "mapbox": {
           "style": "light"
          },
          "paper_bgcolor": "white",
          "plot_bgcolor": "#E5ECF6",
          "polar": {
           "angularaxis": {
            "gridcolor": "white",
            "linecolor": "white",
            "ticks": ""
           },
           "bgcolor": "#E5ECF6",
           "radialaxis": {
            "gridcolor": "white",
            "linecolor": "white",
            "ticks": ""
           }
          },
          "scene": {
           "xaxis": {
            "backgroundcolor": "#E5ECF6",
            "gridcolor": "white",
            "gridwidth": 2,
            "linecolor": "white",
            "showbackground": true,
            "ticks": "",
            "zerolinecolor": "white"
           },
           "yaxis": {
            "backgroundcolor": "#E5ECF6",
            "gridcolor": "white",
            "gridwidth": 2,
            "linecolor": "white",
            "showbackground": true,
            "ticks": "",
            "zerolinecolor": "white"
           },
           "zaxis": {
            "backgroundcolor": "#E5ECF6",
            "gridcolor": "white",
            "gridwidth": 2,
            "linecolor": "white",
            "showbackground": true,
            "ticks": "",
            "zerolinecolor": "white"
           }
          },
          "shapedefaults": {
           "line": {
            "color": "#2a3f5f"
           }
          },
          "ternary": {
           "aaxis": {
            "gridcolor": "white",
            "linecolor": "white",
            "ticks": ""
           },
           "baxis": {
            "gridcolor": "white",
            "linecolor": "white",
            "ticks": ""
           },
           "bgcolor": "#E5ECF6",
           "caxis": {
            "gridcolor": "white",
            "linecolor": "white",
            "ticks": ""
           }
          },
          "title": {
           "x": 0.05
          },
          "xaxis": {
           "automargin": true,
           "gridcolor": "white",
           "linecolor": "white",
           "ticks": "",
           "title": {
            "standoff": 15
           },
           "zerolinecolor": "white",
           "zerolinewidth": 2
          },
          "yaxis": {
           "automargin": true,
           "gridcolor": "white",
           "linecolor": "white",
           "ticks": "",
           "title": {
            "standoff": 15
           },
           "zerolinecolor": "white",
           "zerolinewidth": 2
          }
         }
        },
        "title": {
         "text": "Hyperparameter Importances"
        },
        "xaxis": {
         "title": {
          "text": "Hyperparameter Importance"
         }
        },
        "yaxis": {
         "title": {
          "text": "Hyperparameter"
         }
        }
       }
      }
     },
     "metadata": {},
     "output_type": "display_data"
    }
   ],
   "source": [
    "vis.plot_param_importances(study).show()"
   ]
  },
  {
   "cell_type": "code",
   "execution_count": 31,
   "metadata": {},
   "outputs": [
    {
     "data": {
      "application/vnd.plotly.v1+json": {
       "config": {
        "plotlyServerURL": "https://plot.ly"
       },
       "data": [
        {
         "dimensions": [
          {
           "label": "Objective Value",
           "range": [
            0.8444269839488158,
            1
           ],
           "values": [
            0.9693817737369202,
            1,
            0.8444269839488158,
            1,
            0.8639328519225253,
            0.9120489891620209,
            1,
            1,
            1,
            1
           ]
          },
          {
           "label": "colsample_bytree",
           "range": [
            0.7138673818512156,
            0.8874140474126018
           ],
           "values": [
            0.788094272478499,
            0.7381510595414473,
            0.7452451185686357,
            0.8269534690095595,
            0.7138673818512156,
            0.72571368875338,
            0.8874140474126018,
            0.7675154540824162,
            0.8483708673933111,
            0.7204773542362881
           ]
          },
          {
           "label": "learning_rate",
           "range": [
            -3.9905022573454616,
            -0.5823254877609071
           ],
           "ticktext": [
            "0.000102",
            "0.001",
            "0.01",
            "0.1",
            "0.262"
           ],
           "tickvals": [
            -3.9905022573454616,
            -3,
            -2,
            -1,
            -0.5823254877609071
           ],
           "values": [
            -2.207051632299672,
            -0.8091570145114225,
            -3.9905022573454616,
            -2.662641920028048,
            -3.243249573410853,
            -2.262566251285092,
            -2.246395989942637,
            -0.9758829754178773,
            -2.580096556879111,
            -0.5823254877609071
           ]
          },
          {
           "label": "max_depth",
           "range": [
            3,
            15
           ],
           "values": [
            7,
            12,
            4,
            9,
            4,
            3,
            10,
            4,
            8,
            15
           ]
          },
          {
           "label": "n_estimators",
           "range": [
            146,
            990
           ],
           "values": [
            150,
            379,
            990,
            895,
            550,
            605,
            786,
            285,
            833,
            146
           ]
          },
          {
           "label": "reg_alpha",
           "range": [
            0.16667920803668626,
            0.9740421254028344
           ],
           "values": [
            0.9246110238175279,
            0.6812914666932334,
            0.21431332843583462,
            0.9740421254028344,
            0.16667920803668626,
            0.9687214446231727,
            0.6175374719725247,
            0.5371141322053321,
            0.1998620175606426,
            0.20271844097262048
           ]
          },
          {
           "label": "reg_lambda",
           "range": [
            0.1569547843554635,
            0.9556242027560381
           ],
           "values": [
            0.6345759178016177,
            0.1569547843554635,
            0.9556242027560381,
            0.7077149914867462,
            0.5461382937612906,
            0.8416438161685801,
            0.3008126081967367,
            0.40503772734525223,
            0.28582884706003264,
            0.41134666910989526
           ]
          }
         ],
         "labelangle": 30,
         "labelside": "bottom",
         "line": {
          "color": [
           0.9693817737369202,
           1,
           0.8444269839488158,
           1,
           0.8639328519225253,
           0.9120489891620209,
           1,
           1,
           1,
           1
          ],
          "colorbar": {
           "title": {
            "text": "Objective Value"
           }
          },
          "colorscale": [
           [
            0,
            "rgb(247,251,255)"
           ],
           [
            0.125,
            "rgb(222,235,247)"
           ],
           [
            0.25,
            "rgb(198,219,239)"
           ],
           [
            0.375,
            "rgb(158,202,225)"
           ],
           [
            0.5,
            "rgb(107,174,214)"
           ],
           [
            0.625,
            "rgb(66,146,198)"
           ],
           [
            0.75,
            "rgb(33,113,181)"
           ],
           [
            0.875,
            "rgb(8,81,156)"
           ],
           [
            1,
            "rgb(8,48,107)"
           ]
          ],
          "reversescale": false,
          "showscale": true
         },
         "type": "parcoords"
        }
       ],
       "layout": {
        "template": {
         "data": {
          "bar": [
           {
            "error_x": {
             "color": "#2a3f5f"
            },
            "error_y": {
             "color": "#2a3f5f"
            },
            "marker": {
             "line": {
              "color": "#E5ECF6",
              "width": 0.5
             },
             "pattern": {
              "fillmode": "overlay",
              "size": 10,
              "solidity": 0.2
             }
            },
            "type": "bar"
           }
          ],
          "barpolar": [
           {
            "marker": {
             "line": {
              "color": "#E5ECF6",
              "width": 0.5
             },
             "pattern": {
              "fillmode": "overlay",
              "size": 10,
              "solidity": 0.2
             }
            },
            "type": "barpolar"
           }
          ],
          "carpet": [
           {
            "aaxis": {
             "endlinecolor": "#2a3f5f",
             "gridcolor": "white",
             "linecolor": "white",
             "minorgridcolor": "white",
             "startlinecolor": "#2a3f5f"
            },
            "baxis": {
             "endlinecolor": "#2a3f5f",
             "gridcolor": "white",
             "linecolor": "white",
             "minorgridcolor": "white",
             "startlinecolor": "#2a3f5f"
            },
            "type": "carpet"
           }
          ],
          "choropleth": [
           {
            "colorbar": {
             "outlinewidth": 0,
             "ticks": ""
            },
            "type": "choropleth"
           }
          ],
          "contour": [
           {
            "colorbar": {
             "outlinewidth": 0,
             "ticks": ""
            },
            "colorscale": [
             [
              0,
              "#0d0887"
             ],
             [
              0.1111111111111111,
              "#46039f"
             ],
             [
              0.2222222222222222,
              "#7201a8"
             ],
             [
              0.3333333333333333,
              "#9c179e"
             ],
             [
              0.4444444444444444,
              "#bd3786"
             ],
             [
              0.5555555555555556,
              "#d8576b"
             ],
             [
              0.6666666666666666,
              "#ed7953"
             ],
             [
              0.7777777777777778,
              "#fb9f3a"
             ],
             [
              0.8888888888888888,
              "#fdca26"
             ],
             [
              1,
              "#f0f921"
             ]
            ],
            "type": "contour"
           }
          ],
          "contourcarpet": [
           {
            "colorbar": {
             "outlinewidth": 0,
             "ticks": ""
            },
            "type": "contourcarpet"
           }
          ],
          "heatmap": [
           {
            "colorbar": {
             "outlinewidth": 0,
             "ticks": ""
            },
            "colorscale": [
             [
              0,
              "#0d0887"
             ],
             [
              0.1111111111111111,
              "#46039f"
             ],
             [
              0.2222222222222222,
              "#7201a8"
             ],
             [
              0.3333333333333333,
              "#9c179e"
             ],
             [
              0.4444444444444444,
              "#bd3786"
             ],
             [
              0.5555555555555556,
              "#d8576b"
             ],
             [
              0.6666666666666666,
              "#ed7953"
             ],
             [
              0.7777777777777778,
              "#fb9f3a"
             ],
             [
              0.8888888888888888,
              "#fdca26"
             ],
             [
              1,
              "#f0f921"
             ]
            ],
            "type": "heatmap"
           }
          ],
          "histogram": [
           {
            "marker": {
             "pattern": {
              "fillmode": "overlay",
              "size": 10,
              "solidity": 0.2
             }
            },
            "type": "histogram"
           }
          ],
          "histogram2d": [
           {
            "colorbar": {
             "outlinewidth": 0,
             "ticks": ""
            },
            "colorscale": [
             [
              0,
              "#0d0887"
             ],
             [
              0.1111111111111111,
              "#46039f"
             ],
             [
              0.2222222222222222,
              "#7201a8"
             ],
             [
              0.3333333333333333,
              "#9c179e"
             ],
             [
              0.4444444444444444,
              "#bd3786"
             ],
             [
              0.5555555555555556,
              "#d8576b"
             ],
             [
              0.6666666666666666,
              "#ed7953"
             ],
             [
              0.7777777777777778,
              "#fb9f3a"
             ],
             [
              0.8888888888888888,
              "#fdca26"
             ],
             [
              1,
              "#f0f921"
             ]
            ],
            "type": "histogram2d"
           }
          ],
          "histogram2dcontour": [
           {
            "colorbar": {
             "outlinewidth": 0,
             "ticks": ""
            },
            "colorscale": [
             [
              0,
              "#0d0887"
             ],
             [
              0.1111111111111111,
              "#46039f"
             ],
             [
              0.2222222222222222,
              "#7201a8"
             ],
             [
              0.3333333333333333,
              "#9c179e"
             ],
             [
              0.4444444444444444,
              "#bd3786"
             ],
             [
              0.5555555555555556,
              "#d8576b"
             ],
             [
              0.6666666666666666,
              "#ed7953"
             ],
             [
              0.7777777777777778,
              "#fb9f3a"
             ],
             [
              0.8888888888888888,
              "#fdca26"
             ],
             [
              1,
              "#f0f921"
             ]
            ],
            "type": "histogram2dcontour"
           }
          ],
          "mesh3d": [
           {
            "colorbar": {
             "outlinewidth": 0,
             "ticks": ""
            },
            "type": "mesh3d"
           }
          ],
          "parcoords": [
           {
            "line": {
             "colorbar": {
              "outlinewidth": 0,
              "ticks": ""
             }
            },
            "type": "parcoords"
           }
          ],
          "pie": [
           {
            "automargin": true,
            "type": "pie"
           }
          ],
          "scatter": [
           {
            "fillpattern": {
             "fillmode": "overlay",
             "size": 10,
             "solidity": 0.2
            },
            "type": "scatter"
           }
          ],
          "scatter3d": [
           {
            "line": {
             "colorbar": {
              "outlinewidth": 0,
              "ticks": ""
             }
            },
            "marker": {
             "colorbar": {
              "outlinewidth": 0,
              "ticks": ""
             }
            },
            "type": "scatter3d"
           }
          ],
          "scattercarpet": [
           {
            "marker": {
             "colorbar": {
              "outlinewidth": 0,
              "ticks": ""
             }
            },
            "type": "scattercarpet"
           }
          ],
          "scattergeo": [
           {
            "marker": {
             "colorbar": {
              "outlinewidth": 0,
              "ticks": ""
             }
            },
            "type": "scattergeo"
           }
          ],
          "scattergl": [
           {
            "marker": {
             "colorbar": {
              "outlinewidth": 0,
              "ticks": ""
             }
            },
            "type": "scattergl"
           }
          ],
          "scattermap": [
           {
            "marker": {
             "colorbar": {
              "outlinewidth": 0,
              "ticks": ""
             }
            },
            "type": "scattermap"
           }
          ],
          "scattermapbox": [
           {
            "marker": {
             "colorbar": {
              "outlinewidth": 0,
              "ticks": ""
             }
            },
            "type": "scattermapbox"
           }
          ],
          "scatterpolar": [
           {
            "marker": {
             "colorbar": {
              "outlinewidth": 0,
              "ticks": ""
             }
            },
            "type": "scatterpolar"
           }
          ],
          "scatterpolargl": [
           {
            "marker": {
             "colorbar": {
              "outlinewidth": 0,
              "ticks": ""
             }
            },
            "type": "scatterpolargl"
           }
          ],
          "scatterternary": [
           {
            "marker": {
             "colorbar": {
              "outlinewidth": 0,
              "ticks": ""
             }
            },
            "type": "scatterternary"
           }
          ],
          "surface": [
           {
            "colorbar": {
             "outlinewidth": 0,
             "ticks": ""
            },
            "colorscale": [
             [
              0,
              "#0d0887"
             ],
             [
              0.1111111111111111,
              "#46039f"
             ],
             [
              0.2222222222222222,
              "#7201a8"
             ],
             [
              0.3333333333333333,
              "#9c179e"
             ],
             [
              0.4444444444444444,
              "#bd3786"
             ],
             [
              0.5555555555555556,
              "#d8576b"
             ],
             [
              0.6666666666666666,
              "#ed7953"
             ],
             [
              0.7777777777777778,
              "#fb9f3a"
             ],
             [
              0.8888888888888888,
              "#fdca26"
             ],
             [
              1,
              "#f0f921"
             ]
            ],
            "type": "surface"
           }
          ],
          "table": [
           {
            "cells": {
             "fill": {
              "color": "#EBF0F8"
             },
             "line": {
              "color": "white"
             }
            },
            "header": {
             "fill": {
              "color": "#C8D4E3"
             },
             "line": {
              "color": "white"
             }
            },
            "type": "table"
           }
          ]
         },
         "layout": {
          "annotationdefaults": {
           "arrowcolor": "#2a3f5f",
           "arrowhead": 0,
           "arrowwidth": 1
          },
          "autotypenumbers": "strict",
          "coloraxis": {
           "colorbar": {
            "outlinewidth": 0,
            "ticks": ""
           }
          },
          "colorscale": {
           "diverging": [
            [
             0,
             "#8e0152"
            ],
            [
             0.1,
             "#c51b7d"
            ],
            [
             0.2,
             "#de77ae"
            ],
            [
             0.3,
             "#f1b6da"
            ],
            [
             0.4,
             "#fde0ef"
            ],
            [
             0.5,
             "#f7f7f7"
            ],
            [
             0.6,
             "#e6f5d0"
            ],
            [
             0.7,
             "#b8e186"
            ],
            [
             0.8,
             "#7fbc41"
            ],
            [
             0.9,
             "#4d9221"
            ],
            [
             1,
             "#276419"
            ]
           ],
           "sequential": [
            [
             0,
             "#0d0887"
            ],
            [
             0.1111111111111111,
             "#46039f"
            ],
            [
             0.2222222222222222,
             "#7201a8"
            ],
            [
             0.3333333333333333,
             "#9c179e"
            ],
            [
             0.4444444444444444,
             "#bd3786"
            ],
            [
             0.5555555555555556,
             "#d8576b"
            ],
            [
             0.6666666666666666,
             "#ed7953"
            ],
            [
             0.7777777777777778,
             "#fb9f3a"
            ],
            [
             0.8888888888888888,
             "#fdca26"
            ],
            [
             1,
             "#f0f921"
            ]
           ],
           "sequentialminus": [
            [
             0,
             "#0d0887"
            ],
            [
             0.1111111111111111,
             "#46039f"
            ],
            [
             0.2222222222222222,
             "#7201a8"
            ],
            [
             0.3333333333333333,
             "#9c179e"
            ],
            [
             0.4444444444444444,
             "#bd3786"
            ],
            [
             0.5555555555555556,
             "#d8576b"
            ],
            [
             0.6666666666666666,
             "#ed7953"
            ],
            [
             0.7777777777777778,
             "#fb9f3a"
            ],
            [
             0.8888888888888888,
             "#fdca26"
            ],
            [
             1,
             "#f0f921"
            ]
           ]
          },
          "colorway": [
           "#636efa",
           "#EF553B",
           "#00cc96",
           "#ab63fa",
           "#FFA15A",
           "#19d3f3",
           "#FF6692",
           "#B6E880",
           "#FF97FF",
           "#FECB52"
          ],
          "font": {
           "color": "#2a3f5f"
          },
          "geo": {
           "bgcolor": "white",
           "lakecolor": "white",
           "landcolor": "#E5ECF6",
           "showlakes": true,
           "showland": true,
           "subunitcolor": "white"
          },
          "hoverlabel": {
           "align": "left"
          },
          "hovermode": "closest",
          "mapbox": {
           "style": "light"
          },
          "paper_bgcolor": "white",
          "plot_bgcolor": "#E5ECF6",
          "polar": {
           "angularaxis": {
            "gridcolor": "white",
            "linecolor": "white",
            "ticks": ""
           },
           "bgcolor": "#E5ECF6",
           "radialaxis": {
            "gridcolor": "white",
            "linecolor": "white",
            "ticks": ""
           }
          },
          "scene": {
           "xaxis": {
            "backgroundcolor": "#E5ECF6",
            "gridcolor": "white",
            "gridwidth": 2,
            "linecolor": "white",
            "showbackground": true,
            "ticks": "",
            "zerolinecolor": "white"
           },
           "yaxis": {
            "backgroundcolor": "#E5ECF6",
            "gridcolor": "white",
            "gridwidth": 2,
            "linecolor": "white",
            "showbackground": true,
            "ticks": "",
            "zerolinecolor": "white"
           },
           "zaxis": {
            "backgroundcolor": "#E5ECF6",
            "gridcolor": "white",
            "gridwidth": 2,
            "linecolor": "white",
            "showbackground": true,
            "ticks": "",
            "zerolinecolor": "white"
           }
          },
          "shapedefaults": {
           "line": {
            "color": "#2a3f5f"
           }
          },
          "ternary": {
           "aaxis": {
            "gridcolor": "white",
            "linecolor": "white",
            "ticks": ""
           },
           "baxis": {
            "gridcolor": "white",
            "linecolor": "white",
            "ticks": ""
           },
           "bgcolor": "#E5ECF6",
           "caxis": {
            "gridcolor": "white",
            "linecolor": "white",
            "ticks": ""
           }
          },
          "title": {
           "x": 0.05
          },
          "xaxis": {
           "automargin": true,
           "gridcolor": "white",
           "linecolor": "white",
           "ticks": "",
           "title": {
            "standoff": 15
           },
           "zerolinecolor": "white",
           "zerolinewidth": 2
          },
          "yaxis": {
           "automargin": true,
           "gridcolor": "white",
           "linecolor": "white",
           "ticks": "",
           "title": {
            "standoff": 15
           },
           "zerolinecolor": "white",
           "zerolinewidth": 2
          }
         }
        },
        "title": {
         "text": "Parallel Coordinate Plot"
        }
       }
      }
     },
     "metadata": {},
     "output_type": "display_data"
    }
   ],
   "source": [
    "vis.plot_parallel_coordinate(study).show()"
   ]
  },
  {
   "cell_type": "code",
   "execution_count": 32,
   "metadata": {},
   "outputs": [
    {
     "data": {
      "text/html": [
       "<style>#sk-container-id-2 {\n",
       "  /* Definition of color scheme common for light and dark mode */\n",
       "  --sklearn-color-text: #000;\n",
       "  --sklearn-color-text-muted: #666;\n",
       "  --sklearn-color-line: gray;\n",
       "  /* Definition of color scheme for unfitted estimators */\n",
       "  --sklearn-color-unfitted-level-0: #fff5e6;\n",
       "  --sklearn-color-unfitted-level-1: #f6e4d2;\n",
       "  --sklearn-color-unfitted-level-2: #ffe0b3;\n",
       "  --sklearn-color-unfitted-level-3: chocolate;\n",
       "  /* Definition of color scheme for fitted estimators */\n",
       "  --sklearn-color-fitted-level-0: #f0f8ff;\n",
       "  --sklearn-color-fitted-level-1: #d4ebff;\n",
       "  --sklearn-color-fitted-level-2: #b3dbfd;\n",
       "  --sklearn-color-fitted-level-3: cornflowerblue;\n",
       "\n",
       "  /* Specific color for light theme */\n",
       "  --sklearn-color-text-on-default-background: var(--sg-text-color, var(--theme-code-foreground, var(--jp-content-font-color1, black)));\n",
       "  --sklearn-color-background: var(--sg-background-color, var(--theme-background, var(--jp-layout-color0, white)));\n",
       "  --sklearn-color-border-box: var(--sg-text-color, var(--theme-code-foreground, var(--jp-content-font-color1, black)));\n",
       "  --sklearn-color-icon: #696969;\n",
       "\n",
       "  @media (prefers-color-scheme: dark) {\n",
       "    /* Redefinition of color scheme for dark theme */\n",
       "    --sklearn-color-text-on-default-background: var(--sg-text-color, var(--theme-code-foreground, var(--jp-content-font-color1, white)));\n",
       "    --sklearn-color-background: var(--sg-background-color, var(--theme-background, var(--jp-layout-color0, #111)));\n",
       "    --sklearn-color-border-box: var(--sg-text-color, var(--theme-code-foreground, var(--jp-content-font-color1, white)));\n",
       "    --sklearn-color-icon: #878787;\n",
       "  }\n",
       "}\n",
       "\n",
       "#sk-container-id-2 {\n",
       "  color: var(--sklearn-color-text);\n",
       "}\n",
       "\n",
       "#sk-container-id-2 pre {\n",
       "  padding: 0;\n",
       "}\n",
       "\n",
       "#sk-container-id-2 input.sk-hidden--visually {\n",
       "  border: 0;\n",
       "  clip: rect(1px 1px 1px 1px);\n",
       "  clip: rect(1px, 1px, 1px, 1px);\n",
       "  height: 1px;\n",
       "  margin: -1px;\n",
       "  overflow: hidden;\n",
       "  padding: 0;\n",
       "  position: absolute;\n",
       "  width: 1px;\n",
       "}\n",
       "\n",
       "#sk-container-id-2 div.sk-dashed-wrapped {\n",
       "  border: 1px dashed var(--sklearn-color-line);\n",
       "  margin: 0 0.4em 0.5em 0.4em;\n",
       "  box-sizing: border-box;\n",
       "  padding-bottom: 0.4em;\n",
       "  background-color: var(--sklearn-color-background);\n",
       "}\n",
       "\n",
       "#sk-container-id-2 div.sk-container {\n",
       "  /* jupyter's `normalize.less` sets `[hidden] { display: none; }`\n",
       "     but bootstrap.min.css set `[hidden] { display: none !important; }`\n",
       "     so we also need the `!important` here to be able to override the\n",
       "     default hidden behavior on the sphinx rendered scikit-learn.org.\n",
       "     See: https://github.com/scikit-learn/scikit-learn/issues/21755 */\n",
       "  display: inline-block !important;\n",
       "  position: relative;\n",
       "}\n",
       "\n",
       "#sk-container-id-2 div.sk-text-repr-fallback {\n",
       "  display: none;\n",
       "}\n",
       "\n",
       "div.sk-parallel-item,\n",
       "div.sk-serial,\n",
       "div.sk-item {\n",
       "  /* draw centered vertical line to link estimators */\n",
       "  background-image: linear-gradient(var(--sklearn-color-text-on-default-background), var(--sklearn-color-text-on-default-background));\n",
       "  background-size: 2px 100%;\n",
       "  background-repeat: no-repeat;\n",
       "  background-position: center center;\n",
       "}\n",
       "\n",
       "/* Parallel-specific style estimator block */\n",
       "\n",
       "#sk-container-id-2 div.sk-parallel-item::after {\n",
       "  content: \"\";\n",
       "  width: 100%;\n",
       "  border-bottom: 2px solid var(--sklearn-color-text-on-default-background);\n",
       "  flex-grow: 1;\n",
       "}\n",
       "\n",
       "#sk-container-id-2 div.sk-parallel {\n",
       "  display: flex;\n",
       "  align-items: stretch;\n",
       "  justify-content: center;\n",
       "  background-color: var(--sklearn-color-background);\n",
       "  position: relative;\n",
       "}\n",
       "\n",
       "#sk-container-id-2 div.sk-parallel-item {\n",
       "  display: flex;\n",
       "  flex-direction: column;\n",
       "}\n",
       "\n",
       "#sk-container-id-2 div.sk-parallel-item:first-child::after {\n",
       "  align-self: flex-end;\n",
       "  width: 50%;\n",
       "}\n",
       "\n",
       "#sk-container-id-2 div.sk-parallel-item:last-child::after {\n",
       "  align-self: flex-start;\n",
       "  width: 50%;\n",
       "}\n",
       "\n",
       "#sk-container-id-2 div.sk-parallel-item:only-child::after {\n",
       "  width: 0;\n",
       "}\n",
       "\n",
       "/* Serial-specific style estimator block */\n",
       "\n",
       "#sk-container-id-2 div.sk-serial {\n",
       "  display: flex;\n",
       "  flex-direction: column;\n",
       "  align-items: center;\n",
       "  background-color: var(--sklearn-color-background);\n",
       "  padding-right: 1em;\n",
       "  padding-left: 1em;\n",
       "}\n",
       "\n",
       "\n",
       "/* Toggleable style: style used for estimator/Pipeline/ColumnTransformer box that is\n",
       "clickable and can be expanded/collapsed.\n",
       "- Pipeline and ColumnTransformer use this feature and define the default style\n",
       "- Estimators will overwrite some part of the style using the `sk-estimator` class\n",
       "*/\n",
       "\n",
       "/* Pipeline and ColumnTransformer style (default) */\n",
       "\n",
       "#sk-container-id-2 div.sk-toggleable {\n",
       "  /* Default theme specific background. It is overwritten whether we have a\n",
       "  specific estimator or a Pipeline/ColumnTransformer */\n",
       "  background-color: var(--sklearn-color-background);\n",
       "}\n",
       "\n",
       "/* Toggleable label */\n",
       "#sk-container-id-2 label.sk-toggleable__label {\n",
       "  cursor: pointer;\n",
       "  display: flex;\n",
       "  width: 100%;\n",
       "  margin-bottom: 0;\n",
       "  padding: 0.5em;\n",
       "  box-sizing: border-box;\n",
       "  text-align: center;\n",
       "  align-items: start;\n",
       "  justify-content: space-between;\n",
       "  gap: 0.5em;\n",
       "}\n",
       "\n",
       "#sk-container-id-2 label.sk-toggleable__label .caption {\n",
       "  font-size: 0.6rem;\n",
       "  font-weight: lighter;\n",
       "  color: var(--sklearn-color-text-muted);\n",
       "}\n",
       "\n",
       "#sk-container-id-2 label.sk-toggleable__label-arrow:before {\n",
       "  /* Arrow on the left of the label */\n",
       "  content: \"▸\";\n",
       "  float: left;\n",
       "  margin-right: 0.25em;\n",
       "  color: var(--sklearn-color-icon);\n",
       "}\n",
       "\n",
       "#sk-container-id-2 label.sk-toggleable__label-arrow:hover:before {\n",
       "  color: var(--sklearn-color-text);\n",
       "}\n",
       "\n",
       "/* Toggleable content - dropdown */\n",
       "\n",
       "#sk-container-id-2 div.sk-toggleable__content {\n",
       "  max-height: 0;\n",
       "  max-width: 0;\n",
       "  overflow: hidden;\n",
       "  text-align: left;\n",
       "  /* unfitted */\n",
       "  background-color: var(--sklearn-color-unfitted-level-0);\n",
       "}\n",
       "\n",
       "#sk-container-id-2 div.sk-toggleable__content.fitted {\n",
       "  /* fitted */\n",
       "  background-color: var(--sklearn-color-fitted-level-0);\n",
       "}\n",
       "\n",
       "#sk-container-id-2 div.sk-toggleable__content pre {\n",
       "  margin: 0.2em;\n",
       "  border-radius: 0.25em;\n",
       "  color: var(--sklearn-color-text);\n",
       "  /* unfitted */\n",
       "  background-color: var(--sklearn-color-unfitted-level-0);\n",
       "}\n",
       "\n",
       "#sk-container-id-2 div.sk-toggleable__content.fitted pre {\n",
       "  /* unfitted */\n",
       "  background-color: var(--sklearn-color-fitted-level-0);\n",
       "}\n",
       "\n",
       "#sk-container-id-2 input.sk-toggleable__control:checked~div.sk-toggleable__content {\n",
       "  /* Expand drop-down */\n",
       "  max-height: 200px;\n",
       "  max-width: 100%;\n",
       "  overflow: auto;\n",
       "}\n",
       "\n",
       "#sk-container-id-2 input.sk-toggleable__control:checked~label.sk-toggleable__label-arrow:before {\n",
       "  content: \"▾\";\n",
       "}\n",
       "\n",
       "/* Pipeline/ColumnTransformer-specific style */\n",
       "\n",
       "#sk-container-id-2 div.sk-label input.sk-toggleable__control:checked~label.sk-toggleable__label {\n",
       "  color: var(--sklearn-color-text);\n",
       "  background-color: var(--sklearn-color-unfitted-level-2);\n",
       "}\n",
       "\n",
       "#sk-container-id-2 div.sk-label.fitted input.sk-toggleable__control:checked~label.sk-toggleable__label {\n",
       "  background-color: var(--sklearn-color-fitted-level-2);\n",
       "}\n",
       "\n",
       "/* Estimator-specific style */\n",
       "\n",
       "/* Colorize estimator box */\n",
       "#sk-container-id-2 div.sk-estimator input.sk-toggleable__control:checked~label.sk-toggleable__label {\n",
       "  /* unfitted */\n",
       "  background-color: var(--sklearn-color-unfitted-level-2);\n",
       "}\n",
       "\n",
       "#sk-container-id-2 div.sk-estimator.fitted input.sk-toggleable__control:checked~label.sk-toggleable__label {\n",
       "  /* fitted */\n",
       "  background-color: var(--sklearn-color-fitted-level-2);\n",
       "}\n",
       "\n",
       "#sk-container-id-2 div.sk-label label.sk-toggleable__label,\n",
       "#sk-container-id-2 div.sk-label label {\n",
       "  /* The background is the default theme color */\n",
       "  color: var(--sklearn-color-text-on-default-background);\n",
       "}\n",
       "\n",
       "/* On hover, darken the color of the background */\n",
       "#sk-container-id-2 div.sk-label:hover label.sk-toggleable__label {\n",
       "  color: var(--sklearn-color-text);\n",
       "  background-color: var(--sklearn-color-unfitted-level-2);\n",
       "}\n",
       "\n",
       "/* Label box, darken color on hover, fitted */\n",
       "#sk-container-id-2 div.sk-label.fitted:hover label.sk-toggleable__label.fitted {\n",
       "  color: var(--sklearn-color-text);\n",
       "  background-color: var(--sklearn-color-fitted-level-2);\n",
       "}\n",
       "\n",
       "/* Estimator label */\n",
       "\n",
       "#sk-container-id-2 div.sk-label label {\n",
       "  font-family: monospace;\n",
       "  font-weight: bold;\n",
       "  display: inline-block;\n",
       "  line-height: 1.2em;\n",
       "}\n",
       "\n",
       "#sk-container-id-2 div.sk-label-container {\n",
       "  text-align: center;\n",
       "}\n",
       "\n",
       "/* Estimator-specific */\n",
       "#sk-container-id-2 div.sk-estimator {\n",
       "  font-family: monospace;\n",
       "  border: 1px dotted var(--sklearn-color-border-box);\n",
       "  border-radius: 0.25em;\n",
       "  box-sizing: border-box;\n",
       "  margin-bottom: 0.5em;\n",
       "  /* unfitted */\n",
       "  background-color: var(--sklearn-color-unfitted-level-0);\n",
       "}\n",
       "\n",
       "#sk-container-id-2 div.sk-estimator.fitted {\n",
       "  /* fitted */\n",
       "  background-color: var(--sklearn-color-fitted-level-0);\n",
       "}\n",
       "\n",
       "/* on hover */\n",
       "#sk-container-id-2 div.sk-estimator:hover {\n",
       "  /* unfitted */\n",
       "  background-color: var(--sklearn-color-unfitted-level-2);\n",
       "}\n",
       "\n",
       "#sk-container-id-2 div.sk-estimator.fitted:hover {\n",
       "  /* fitted */\n",
       "  background-color: var(--sklearn-color-fitted-level-2);\n",
       "}\n",
       "\n",
       "/* Specification for estimator info (e.g. \"i\" and \"?\") */\n",
       "\n",
       "/* Common style for \"i\" and \"?\" */\n",
       "\n",
       ".sk-estimator-doc-link,\n",
       "a:link.sk-estimator-doc-link,\n",
       "a:visited.sk-estimator-doc-link {\n",
       "  float: right;\n",
       "  font-size: smaller;\n",
       "  line-height: 1em;\n",
       "  font-family: monospace;\n",
       "  background-color: var(--sklearn-color-background);\n",
       "  border-radius: 1em;\n",
       "  height: 1em;\n",
       "  width: 1em;\n",
       "  text-decoration: none !important;\n",
       "  margin-left: 0.5em;\n",
       "  text-align: center;\n",
       "  /* unfitted */\n",
       "  border: var(--sklearn-color-unfitted-level-1) 1pt solid;\n",
       "  color: var(--sklearn-color-unfitted-level-1);\n",
       "}\n",
       "\n",
       ".sk-estimator-doc-link.fitted,\n",
       "a:link.sk-estimator-doc-link.fitted,\n",
       "a:visited.sk-estimator-doc-link.fitted {\n",
       "  /* fitted */\n",
       "  border: var(--sklearn-color-fitted-level-1) 1pt solid;\n",
       "  color: var(--sklearn-color-fitted-level-1);\n",
       "}\n",
       "\n",
       "/* On hover */\n",
       "div.sk-estimator:hover .sk-estimator-doc-link:hover,\n",
       ".sk-estimator-doc-link:hover,\n",
       "div.sk-label-container:hover .sk-estimator-doc-link:hover,\n",
       ".sk-estimator-doc-link:hover {\n",
       "  /* unfitted */\n",
       "  background-color: var(--sklearn-color-unfitted-level-3);\n",
       "  color: var(--sklearn-color-background);\n",
       "  text-decoration: none;\n",
       "}\n",
       "\n",
       "div.sk-estimator.fitted:hover .sk-estimator-doc-link.fitted:hover,\n",
       ".sk-estimator-doc-link.fitted:hover,\n",
       "div.sk-label-container:hover .sk-estimator-doc-link.fitted:hover,\n",
       ".sk-estimator-doc-link.fitted:hover {\n",
       "  /* fitted */\n",
       "  background-color: var(--sklearn-color-fitted-level-3);\n",
       "  color: var(--sklearn-color-background);\n",
       "  text-decoration: none;\n",
       "}\n",
       "\n",
       "/* Span, style for the box shown on hovering the info icon */\n",
       ".sk-estimator-doc-link span {\n",
       "  display: none;\n",
       "  z-index: 9999;\n",
       "  position: relative;\n",
       "  font-weight: normal;\n",
       "  right: .2ex;\n",
       "  padding: .5ex;\n",
       "  margin: .5ex;\n",
       "  width: min-content;\n",
       "  min-width: 20ex;\n",
       "  max-width: 50ex;\n",
       "  color: var(--sklearn-color-text);\n",
       "  box-shadow: 2pt 2pt 4pt #999;\n",
       "  /* unfitted */\n",
       "  background: var(--sklearn-color-unfitted-level-0);\n",
       "  border: .5pt solid var(--sklearn-color-unfitted-level-3);\n",
       "}\n",
       "\n",
       ".sk-estimator-doc-link.fitted span {\n",
       "  /* fitted */\n",
       "  background: var(--sklearn-color-fitted-level-0);\n",
       "  border: var(--sklearn-color-fitted-level-3);\n",
       "}\n",
       "\n",
       ".sk-estimator-doc-link:hover span {\n",
       "  display: block;\n",
       "}\n",
       "\n",
       "/* \"?\"-specific style due to the `<a>` HTML tag */\n",
       "\n",
       "#sk-container-id-2 a.estimator_doc_link {\n",
       "  float: right;\n",
       "  font-size: 1rem;\n",
       "  line-height: 1em;\n",
       "  font-family: monospace;\n",
       "  background-color: var(--sklearn-color-background);\n",
       "  border-radius: 1rem;\n",
       "  height: 1rem;\n",
       "  width: 1rem;\n",
       "  text-decoration: none;\n",
       "  /* unfitted */\n",
       "  color: var(--sklearn-color-unfitted-level-1);\n",
       "  border: var(--sklearn-color-unfitted-level-1) 1pt solid;\n",
       "}\n",
       "\n",
       "#sk-container-id-2 a.estimator_doc_link.fitted {\n",
       "  /* fitted */\n",
       "  border: var(--sklearn-color-fitted-level-1) 1pt solid;\n",
       "  color: var(--sklearn-color-fitted-level-1);\n",
       "}\n",
       "\n",
       "/* On hover */\n",
       "#sk-container-id-2 a.estimator_doc_link:hover {\n",
       "  /* unfitted */\n",
       "  background-color: var(--sklearn-color-unfitted-level-3);\n",
       "  color: var(--sklearn-color-background);\n",
       "  text-decoration: none;\n",
       "}\n",
       "\n",
       "#sk-container-id-2 a.estimator_doc_link.fitted:hover {\n",
       "  /* fitted */\n",
       "  background-color: var(--sklearn-color-fitted-level-3);\n",
       "}\n",
       "</style><div id=\"sk-container-id-2\" class=\"sk-top-container\"><div class=\"sk-text-repr-fallback\"><pre>XGBClassifier(base_score=None, booster=None, callbacks=None,\n",
       "              colsample_bylevel=None, colsample_bynode=None,\n",
       "              colsample_bytree=0.7381510595414473, device=&#x27;cuda&#x27;,\n",
       "              early_stopping_rounds=None, enable_categorical=False,\n",
       "              eval_metric=None, feature_types=None, feature_weights=None,\n",
       "              gamma=None, grow_policy=None, importance_type=None,\n",
       "              interaction_constraints=None, learning_rate=0.1551825862531018,\n",
       "              max_bin=None, max_cat_threshold=None, max_cat_to_onehot=None,\n",
       "              max_delta_step=None, max_depth=12, max_leaves=None,\n",
       "              min_child_weight=None, missing=nan, monotone_constraints=None,\n",
       "              multi_strategy=None, n_estimators=379, n_jobs=None,\n",
       "              num_parallel_tree=None, ...)</pre><b>In a Jupyter environment, please rerun this cell to show the HTML representation or trust the notebook. <br />On GitHub, the HTML representation is unable to render, please try loading this page with nbviewer.org.</b></div><div class=\"sk-container\" hidden><div class=\"sk-item\"><div class=\"sk-estimator fitted sk-toggleable\"><input class=\"sk-toggleable__control sk-hidden--visually\" id=\"sk-estimator-id-2\" type=\"checkbox\" checked><label for=\"sk-estimator-id-2\" class=\"sk-toggleable__label fitted sk-toggleable__label-arrow\"><div><div>XGBClassifier</div></div><div><a class=\"sk-estimator-doc-link fitted\" rel=\"noreferrer\" target=\"_blank\" href=\"https://xgboost.readthedocs.io/en/release_3.0.0/python/python_api.html#xgboost.XGBClassifier\">?<span>Documentation for XGBClassifier</span></a><span class=\"sk-estimator-doc-link fitted\">i<span>Fitted</span></span></div></label><div class=\"sk-toggleable__content fitted\"><pre>XGBClassifier(base_score=None, booster=None, callbacks=None,\n",
       "              colsample_bylevel=None, colsample_bynode=None,\n",
       "              colsample_bytree=0.7381510595414473, device=&#x27;cuda&#x27;,\n",
       "              early_stopping_rounds=None, enable_categorical=False,\n",
       "              eval_metric=None, feature_types=None, feature_weights=None,\n",
       "              gamma=None, grow_policy=None, importance_type=None,\n",
       "              interaction_constraints=None, learning_rate=0.1551825862531018,\n",
       "              max_bin=None, max_cat_threshold=None, max_cat_to_onehot=None,\n",
       "              max_delta_step=None, max_depth=12, max_leaves=None,\n",
       "              min_child_weight=None, missing=nan, monotone_constraints=None,\n",
       "              multi_strategy=None, n_estimators=379, n_jobs=None,\n",
       "              num_parallel_tree=None, ...)</pre></div> </div></div></div></div>"
      ],
      "text/plain": [
       "XGBClassifier(base_score=None, booster=None, callbacks=None,\n",
       "              colsample_bylevel=None, colsample_bynode=None,\n",
       "              colsample_bytree=0.7381510595414473, device='cuda',\n",
       "              early_stopping_rounds=None, enable_categorical=False,\n",
       "              eval_metric=None, feature_types=None, feature_weights=None,\n",
       "              gamma=None, grow_policy=None, importance_type=None,\n",
       "              interaction_constraints=None, learning_rate=0.1551825862531018,\n",
       "              max_bin=None, max_cat_threshold=None, max_cat_to_onehot=None,\n",
       "              max_delta_step=None, max_depth=12, max_leaves=None,\n",
       "              min_child_weight=None, missing=nan, monotone_constraints=None,\n",
       "              multi_strategy=None, n_estimators=379, n_jobs=None,\n",
       "              num_parallel_tree=None, ...)"
      ]
     },
     "execution_count": 32,
     "metadata": {},
     "output_type": "execute_result"
    }
   ],
   "source": [
    "params = {'objective': 'binary:logistic', \n",
    "          'tree_method': 'hist', \n",
    "          'device': 'cuda',\n",
    "          'n_estimators': 379, \n",
    "          'max_depth': 12, \n",
    "          'learning_rate': 0.1551825862531018, \n",
    "          'colsample_bytree': 0.7381510595414473, \n",
    "          'reg_alpha': 0.6812914666932334, \n",
    "          'reg_lambda': 0.1569547843554635}\n",
    "\n",
    "xgb = XGBClassifier(**params)\n",
    "xgb.fit(x_train, y_train)"
   ]
  },
  {
   "cell_type": "code",
   "execution_count": 33,
   "metadata": {},
   "outputs": [
    {
     "name": "stdout",
     "output_type": "stream",
     "text": [
      "Accuracy: 0.999856489483175\n",
      "Recall: 1.0\n",
      "Precision: 0.9997132312602862\n",
      "ROC_AUC 0.9998564043653073\n"
     ]
    }
   ],
   "source": [
    "val_predictions_xgb = xgb.predict(x_val)\n",
    "\n",
    "print('Accuracy:', accuracy_score(y_val, val_predictions_xgb))\n",
    "print('Recall:', recall_score(y_val, val_predictions_xgb))\n",
    "print('Precision:', precision_score(y_val, val_predictions_xgb))\n",
    "print('ROC_AUC',roc_auc_score(y_val, val_predictions_xgb))"
   ]
  },
  {
   "cell_type": "code",
   "execution_count": 34,
   "metadata": {},
   "outputs": [
    {
     "data": {
      "text/plain": [
       "array([[9.9999750e-01, 2.5083243e-06],\n",
       "       [9.9999577e-01, 4.2093639e-06],\n",
       "       [9.9997830e-01, 2.1691958e-05]], dtype=float32)"
      ]
     },
     "execution_count": 34,
     "metadata": {},
     "output_type": "execute_result"
    }
   ],
   "source": [
    "predictions_xgb = xgb.predict_proba(test_data)\n",
    "predictions_xgb"
   ]
  },
  {
   "cell_type": "markdown",
   "metadata": {},
   "source": [
    "## **LGBM**"
   ]
  },
  {
   "cell_type": "code",
   "execution_count": 35,
   "metadata": {},
   "outputs": [
    {
     "name": "stderr",
     "output_type": "stream",
     "text": [
      "[I 2025-05-08 00:40:49,543] A new study created in memory with name: no-name-f11b8e5c-0c30-4b48-bbb4-bdfbe0800bd2\n",
      "c:\\Users\\LENOVO\\AppData\\Local\\Programs\\Python\\Python311\\Lib\\site-packages\\sklearn\\utils\\validation.py:2739: UserWarning:\n",
      "\n",
      "X does not have valid feature names, but LGBMClassifier was fitted with feature names\n",
      "\n",
      "[I 2025-05-08 00:41:37,514] Trial 0 finished with value: 1.0 and parameters: {'learning_rate': 0.009646282271546798, 'num_leaves': 981, 'max_depth': 7, 'min_child_samples': 18, 'colsample_bytree': 0.7630572019109578, 'reg_alpha': 2.501382048184091, 'reg_lambda': 0.0003483839539085421, 'n_estimators': 1287}. Best is trial 0 with value: 1.0.\n",
      "c:\\Users\\LENOVO\\AppData\\Local\\Programs\\Python\\Python311\\Lib\\site-packages\\sklearn\\utils\\validation.py:2739: UserWarning:\n",
      "\n",
      "X does not have valid feature names, but LGBMClassifier was fitted with feature names\n",
      "\n",
      "[I 2025-05-08 00:42:12,327] Trial 1 finished with value: 1.0 and parameters: {'learning_rate': 0.11033743485992598, 'num_leaves': 580, 'max_depth': 9, 'min_child_samples': 38, 'colsample_bytree': 0.8750910140671364, 'reg_alpha': 0.0013363100841437354, 'reg_lambda': 0.000524587150535519, 'n_estimators': 1327}. Best is trial 0 with value: 1.0.\n",
      "c:\\Users\\LENOVO\\AppData\\Local\\Programs\\Python\\Python311\\Lib\\site-packages\\sklearn\\utils\\validation.py:2739: UserWarning:\n",
      "\n",
      "X does not have valid feature names, but LGBMClassifier was fitted with feature names\n",
      "\n",
      "[I 2025-05-08 00:42:29,945] Trial 2 finished with value: 1.0 and parameters: {'learning_rate': 0.013290870519211833, 'num_leaves': 271, 'max_depth': 5, 'min_child_samples': 112, 'colsample_bytree': 0.6063083664112349, 'reg_alpha': 0.23010913935506644, 'reg_lambda': 3.3225008354690266, 'n_estimators': 792}. Best is trial 0 with value: 1.0.\n",
      "c:\\Users\\LENOVO\\AppData\\Local\\Programs\\Python\\Python311\\Lib\\site-packages\\sklearn\\utils\\validation.py:2739: UserWarning:\n",
      "\n",
      "X does not have valid feature names, but LGBMClassifier was fitted with feature names\n",
      "\n",
      "[I 2025-05-08 00:43:33,205] Trial 3 finished with value: 1.0 and parameters: {'learning_rate': 0.037861843465558355, 'num_leaves': 762, 'max_depth': 12, 'min_child_samples': 153, 'colsample_bytree': 0.8257045397099664, 'reg_alpha': 0.000532045924769979, 'reg_lambda': 0.05237800330238841, 'n_estimators': 594}. Best is trial 0 with value: 1.0.\n",
      "c:\\Users\\LENOVO\\AppData\\Local\\Programs\\Python\\Python311\\Lib\\site-packages\\sklearn\\utils\\validation.py:2739: UserWarning:\n",
      "\n",
      "X does not have valid feature names, but LGBMClassifier was fitted with feature names\n",
      "\n",
      "[I 2025-05-08 00:43:43,822] Trial 4 finished with value: 1.0 and parameters: {'learning_rate': 0.01417369780761636, 'num_leaves': 727, 'max_depth': 5, 'min_child_samples': 107, 'colsample_bytree': 0.6809024704411513, 'reg_alpha': 0.00014123865651916677, 'reg_lambda': 8.014463250280386, 'n_estimators': 704}. Best is trial 0 with value: 1.0.\n",
      "c:\\Users\\LENOVO\\AppData\\Local\\Programs\\Python\\Python311\\Lib\\site-packages\\sklearn\\utils\\validation.py:2739: UserWarning:\n",
      "\n",
      "X does not have valid feature names, but LGBMClassifier was fitted with feature names\n",
      "\n",
      "[I 2025-05-08 00:44:52,659] Trial 5 finished with value: 1.0 and parameters: {'learning_rate': 0.007036011237179941, 'num_leaves': 148, 'max_depth': 14, 'min_child_samples': 101, 'colsample_bytree': 0.727382234984226, 'reg_alpha': 0.09408846102623974, 'reg_lambda': 0.17276942475019869, 'n_estimators': 751}. Best is trial 0 with value: 1.0.\n",
      "c:\\Users\\LENOVO\\AppData\\Local\\Programs\\Python\\Python311\\Lib\\site-packages\\sklearn\\utils\\validation.py:2739: UserWarning:\n",
      "\n",
      "X does not have valid feature names, but LGBMClassifier was fitted with feature names\n",
      "\n",
      "[I 2025-05-08 00:45:17,455] Trial 6 finished with value: 1.0 and parameters: {'learning_rate': 0.05231510945292816, 'num_leaves': 630, 'max_depth': 8, 'min_child_samples': 57, 'colsample_bytree': 0.6398839006115368, 'reg_alpha': 6.023060546531338, 'reg_lambda': 0.21228753980818812, 'n_estimators': 830}. Best is trial 0 with value: 1.0.\n",
      "c:\\Users\\LENOVO\\AppData\\Local\\Programs\\Python\\Python311\\Lib\\site-packages\\sklearn\\utils\\validation.py:2739: UserWarning:\n",
      "\n",
      "X does not have valid feature names, but LGBMClassifier was fitted with feature names\n",
      "\n",
      "[I 2025-05-08 00:45:21,600] Trial 7 finished with value: 0.964043850787593 and parameters: {'learning_rate': 0.007324098578745909, 'num_leaves': 882, 'max_depth': 7, 'min_child_samples': 248, 'colsample_bytree': 0.9300870986565206, 'reg_alpha': 0.00026189201123831356, 'reg_lambda': 5.425764219879226, 'n_estimators': 102}. Best is trial 0 with value: 1.0.\n",
      "c:\\Users\\LENOVO\\AppData\\Local\\Programs\\Python\\Python311\\Lib\\site-packages\\sklearn\\utils\\validation.py:2739: UserWarning:\n",
      "\n",
      "X does not have valid feature names, but LGBMClassifier was fitted with feature names\n",
      "\n",
      "[I 2025-05-08 00:45:32,763] Trial 8 finished with value: 1.0 and parameters: {'learning_rate': 0.07859986024715011, 'num_leaves': 81, 'max_depth': 15, 'min_child_samples': 90, 'colsample_bytree': 0.9990574616819439, 'reg_alpha': 0.0009345615598027047, 'reg_lambda': 0.0019384682829115874, 'n_estimators': 305}. Best is trial 0 with value: 1.0.\n",
      "c:\\Users\\LENOVO\\AppData\\Local\\Programs\\Python\\Python311\\Lib\\site-packages\\sklearn\\utils\\validation.py:2739: UserWarning:\n",
      "\n",
      "X does not have valid feature names, but LGBMClassifier was fitted with feature names\n",
      "\n",
      "[I 2025-05-08 00:46:20,957] Trial 9 finished with value: 1.0 and parameters: {'learning_rate': 0.13353092630950505, 'num_leaves': 599, 'max_depth': 13, 'min_child_samples': 169, 'colsample_bytree': 0.7906203172279785, 'reg_alpha': 0.05943025140031517, 'reg_lambda': 2.6757376638976513, 'n_estimators': 902}. Best is trial 0 with value: 1.0.\n"
     ]
    },
    {
     "name": "stdout",
     "output_type": "stream",
     "text": [
      "Best params: {'learning_rate': 0.009646282271546798, 'num_leaves': 981, 'max_depth': 7, 'min_child_samples': 18, 'colsample_bytree': 0.7630572019109578, 'reg_alpha': 2.501382048184091, 'reg_lambda': 0.0003483839539085421, 'n_estimators': 1287}\n",
      "Best Recall: 1.0\n"
     ]
    }
   ],
   "source": [
    "def objective(trial):\n",
    "    param = {\n",
    "        'objective': 'binary',\n",
    "        'boosting_type': 'gbdt',\n",
    "        'device': 'gpu', \n",
    "        'verbosity': -1,\n",
    "        'max_bin':255,\n",
    "        'learning_rate': trial.suggest_float('learning_rate', 5e-3, 5e-1, log=True),\n",
    "        'num_leaves': trial.suggest_int('num_leaves', 16, 1024),\n",
    "        'max_depth': trial.suggest_int('max_depth', 3, 15),\n",
    "        'min_child_samples': trial.suggest_int('min_child_samples', 5, 250),\n",
    "        'colsample_bytree': trial.suggest_float('colsample_bytree', 0.6, 1.0),\n",
    "        'reg_alpha': trial.suggest_float('reg_alpha', 1e-4, 10.0, log=True),\n",
    "        'reg_lambda': trial.suggest_float('reg_lambda', 1e-4, 10.0, log=True),\n",
    "        'n_estimators': trial.suggest_int('n_estimators', 100, 1500),\n",
    "    }\n",
    "    \n",
    "    model = LGBMClassifier(**param)\n",
    "        \n",
    "    model.fit(np.array(x_train), np.array(y_train))\n",
    "\n",
    "    y_pred = model.predict(np.array(x_val))\n",
    "    return recall_score(y_val, y_pred, average='binary')\n",
    "     \n",
    "\n",
    "study = optuna.create_study(direction=\"maximize\")  \n",
    "study.optimize(objective, n_trials=10)  \n",
    "\n",
    "print(\"Best params:\", study.best_params)\n",
    "print(\"Best Recall:\", study.best_value)\n"
   ]
  },
  {
   "cell_type": "code",
   "execution_count": 37,
   "metadata": {},
   "outputs": [
    {
     "data": {
      "application/vnd.plotly.v1+json": {
       "config": {
        "plotlyServerURL": "https://plot.ly"
       },
       "data": [
        {
         "mode": "markers",
         "name": "Objective Value",
         "type": "scatter",
         "x": [
          0,
          1,
          2,
          3,
          4,
          5,
          6,
          7,
          8,
          9
         ],
         "y": [
          1,
          1,
          1,
          1,
          1,
          1,
          1,
          0.964043850787593,
          1,
          1
         ]
        },
        {
         "mode": "lines",
         "name": "Best Value",
         "type": "scatter",
         "x": [
          0,
          1,
          2,
          3,
          4,
          5,
          6,
          7,
          8,
          9
         ],
         "y": [
          1,
          1,
          1,
          1,
          1,
          1,
          1,
          1,
          1,
          1
         ]
        },
        {
         "marker": {
          "color": "#cccccc"
         },
         "mode": "markers",
         "name": "Infeasible Trial",
         "showlegend": false,
         "type": "scatter",
         "x": [],
         "y": []
        }
       ],
       "layout": {
        "template": {
         "data": {
          "bar": [
           {
            "error_x": {
             "color": "#2a3f5f"
            },
            "error_y": {
             "color": "#2a3f5f"
            },
            "marker": {
             "line": {
              "color": "#E5ECF6",
              "width": 0.5
             },
             "pattern": {
              "fillmode": "overlay",
              "size": 10,
              "solidity": 0.2
             }
            },
            "type": "bar"
           }
          ],
          "barpolar": [
           {
            "marker": {
             "line": {
              "color": "#E5ECF6",
              "width": 0.5
             },
             "pattern": {
              "fillmode": "overlay",
              "size": 10,
              "solidity": 0.2
             }
            },
            "type": "barpolar"
           }
          ],
          "carpet": [
           {
            "aaxis": {
             "endlinecolor": "#2a3f5f",
             "gridcolor": "white",
             "linecolor": "white",
             "minorgridcolor": "white",
             "startlinecolor": "#2a3f5f"
            },
            "baxis": {
             "endlinecolor": "#2a3f5f",
             "gridcolor": "white",
             "linecolor": "white",
             "minorgridcolor": "white",
             "startlinecolor": "#2a3f5f"
            },
            "type": "carpet"
           }
          ],
          "choropleth": [
           {
            "colorbar": {
             "outlinewidth": 0,
             "ticks": ""
            },
            "type": "choropleth"
           }
          ],
          "contour": [
           {
            "colorbar": {
             "outlinewidth": 0,
             "ticks": ""
            },
            "colorscale": [
             [
              0,
              "#0d0887"
             ],
             [
              0.1111111111111111,
              "#46039f"
             ],
             [
              0.2222222222222222,
              "#7201a8"
             ],
             [
              0.3333333333333333,
              "#9c179e"
             ],
             [
              0.4444444444444444,
              "#bd3786"
             ],
             [
              0.5555555555555556,
              "#d8576b"
             ],
             [
              0.6666666666666666,
              "#ed7953"
             ],
             [
              0.7777777777777778,
              "#fb9f3a"
             ],
             [
              0.8888888888888888,
              "#fdca26"
             ],
             [
              1,
              "#f0f921"
             ]
            ],
            "type": "contour"
           }
          ],
          "contourcarpet": [
           {
            "colorbar": {
             "outlinewidth": 0,
             "ticks": ""
            },
            "type": "contourcarpet"
           }
          ],
          "heatmap": [
           {
            "colorbar": {
             "outlinewidth": 0,
             "ticks": ""
            },
            "colorscale": [
             [
              0,
              "#0d0887"
             ],
             [
              0.1111111111111111,
              "#46039f"
             ],
             [
              0.2222222222222222,
              "#7201a8"
             ],
             [
              0.3333333333333333,
              "#9c179e"
             ],
             [
              0.4444444444444444,
              "#bd3786"
             ],
             [
              0.5555555555555556,
              "#d8576b"
             ],
             [
              0.6666666666666666,
              "#ed7953"
             ],
             [
              0.7777777777777778,
              "#fb9f3a"
             ],
             [
              0.8888888888888888,
              "#fdca26"
             ],
             [
              1,
              "#f0f921"
             ]
            ],
            "type": "heatmap"
           }
          ],
          "histogram": [
           {
            "marker": {
             "pattern": {
              "fillmode": "overlay",
              "size": 10,
              "solidity": 0.2
             }
            },
            "type": "histogram"
           }
          ],
          "histogram2d": [
           {
            "colorbar": {
             "outlinewidth": 0,
             "ticks": ""
            },
            "colorscale": [
             [
              0,
              "#0d0887"
             ],
             [
              0.1111111111111111,
              "#46039f"
             ],
             [
              0.2222222222222222,
              "#7201a8"
             ],
             [
              0.3333333333333333,
              "#9c179e"
             ],
             [
              0.4444444444444444,
              "#bd3786"
             ],
             [
              0.5555555555555556,
              "#d8576b"
             ],
             [
              0.6666666666666666,
              "#ed7953"
             ],
             [
              0.7777777777777778,
              "#fb9f3a"
             ],
             [
              0.8888888888888888,
              "#fdca26"
             ],
             [
              1,
              "#f0f921"
             ]
            ],
            "type": "histogram2d"
           }
          ],
          "histogram2dcontour": [
           {
            "colorbar": {
             "outlinewidth": 0,
             "ticks": ""
            },
            "colorscale": [
             [
              0,
              "#0d0887"
             ],
             [
              0.1111111111111111,
              "#46039f"
             ],
             [
              0.2222222222222222,
              "#7201a8"
             ],
             [
              0.3333333333333333,
              "#9c179e"
             ],
             [
              0.4444444444444444,
              "#bd3786"
             ],
             [
              0.5555555555555556,
              "#d8576b"
             ],
             [
              0.6666666666666666,
              "#ed7953"
             ],
             [
              0.7777777777777778,
              "#fb9f3a"
             ],
             [
              0.8888888888888888,
              "#fdca26"
             ],
             [
              1,
              "#f0f921"
             ]
            ],
            "type": "histogram2dcontour"
           }
          ],
          "mesh3d": [
           {
            "colorbar": {
             "outlinewidth": 0,
             "ticks": ""
            },
            "type": "mesh3d"
           }
          ],
          "parcoords": [
           {
            "line": {
             "colorbar": {
              "outlinewidth": 0,
              "ticks": ""
             }
            },
            "type": "parcoords"
           }
          ],
          "pie": [
           {
            "automargin": true,
            "type": "pie"
           }
          ],
          "scatter": [
           {
            "fillpattern": {
             "fillmode": "overlay",
             "size": 10,
             "solidity": 0.2
            },
            "type": "scatter"
           }
          ],
          "scatter3d": [
           {
            "line": {
             "colorbar": {
              "outlinewidth": 0,
              "ticks": ""
             }
            },
            "marker": {
             "colorbar": {
              "outlinewidth": 0,
              "ticks": ""
             }
            },
            "type": "scatter3d"
           }
          ],
          "scattercarpet": [
           {
            "marker": {
             "colorbar": {
              "outlinewidth": 0,
              "ticks": ""
             }
            },
            "type": "scattercarpet"
           }
          ],
          "scattergeo": [
           {
            "marker": {
             "colorbar": {
              "outlinewidth": 0,
              "ticks": ""
             }
            },
            "type": "scattergeo"
           }
          ],
          "scattergl": [
           {
            "marker": {
             "colorbar": {
              "outlinewidth": 0,
              "ticks": ""
             }
            },
            "type": "scattergl"
           }
          ],
          "scattermap": [
           {
            "marker": {
             "colorbar": {
              "outlinewidth": 0,
              "ticks": ""
             }
            },
            "type": "scattermap"
           }
          ],
          "scattermapbox": [
           {
            "marker": {
             "colorbar": {
              "outlinewidth": 0,
              "ticks": ""
             }
            },
            "type": "scattermapbox"
           }
          ],
          "scatterpolar": [
           {
            "marker": {
             "colorbar": {
              "outlinewidth": 0,
              "ticks": ""
             }
            },
            "type": "scatterpolar"
           }
          ],
          "scatterpolargl": [
           {
            "marker": {
             "colorbar": {
              "outlinewidth": 0,
              "ticks": ""
             }
            },
            "type": "scatterpolargl"
           }
          ],
          "scatterternary": [
           {
            "marker": {
             "colorbar": {
              "outlinewidth": 0,
              "ticks": ""
             }
            },
            "type": "scatterternary"
           }
          ],
          "surface": [
           {
            "colorbar": {
             "outlinewidth": 0,
             "ticks": ""
            },
            "colorscale": [
             [
              0,
              "#0d0887"
             ],
             [
              0.1111111111111111,
              "#46039f"
             ],
             [
              0.2222222222222222,
              "#7201a8"
             ],
             [
              0.3333333333333333,
              "#9c179e"
             ],
             [
              0.4444444444444444,
              "#bd3786"
             ],
             [
              0.5555555555555556,
              "#d8576b"
             ],
             [
              0.6666666666666666,
              "#ed7953"
             ],
             [
              0.7777777777777778,
              "#fb9f3a"
             ],
             [
              0.8888888888888888,
              "#fdca26"
             ],
             [
              1,
              "#f0f921"
             ]
            ],
            "type": "surface"
           }
          ],
          "table": [
           {
            "cells": {
             "fill": {
              "color": "#EBF0F8"
             },
             "line": {
              "color": "white"
             }
            },
            "header": {
             "fill": {
              "color": "#C8D4E3"
             },
             "line": {
              "color": "white"
             }
            },
            "type": "table"
           }
          ]
         },
         "layout": {
          "annotationdefaults": {
           "arrowcolor": "#2a3f5f",
           "arrowhead": 0,
           "arrowwidth": 1
          },
          "autotypenumbers": "strict",
          "coloraxis": {
           "colorbar": {
            "outlinewidth": 0,
            "ticks": ""
           }
          },
          "colorscale": {
           "diverging": [
            [
             0,
             "#8e0152"
            ],
            [
             0.1,
             "#c51b7d"
            ],
            [
             0.2,
             "#de77ae"
            ],
            [
             0.3,
             "#f1b6da"
            ],
            [
             0.4,
             "#fde0ef"
            ],
            [
             0.5,
             "#f7f7f7"
            ],
            [
             0.6,
             "#e6f5d0"
            ],
            [
             0.7,
             "#b8e186"
            ],
            [
             0.8,
             "#7fbc41"
            ],
            [
             0.9,
             "#4d9221"
            ],
            [
             1,
             "#276419"
            ]
           ],
           "sequential": [
            [
             0,
             "#0d0887"
            ],
            [
             0.1111111111111111,
             "#46039f"
            ],
            [
             0.2222222222222222,
             "#7201a8"
            ],
            [
             0.3333333333333333,
             "#9c179e"
            ],
            [
             0.4444444444444444,
             "#bd3786"
            ],
            [
             0.5555555555555556,
             "#d8576b"
            ],
            [
             0.6666666666666666,
             "#ed7953"
            ],
            [
             0.7777777777777778,
             "#fb9f3a"
            ],
            [
             0.8888888888888888,
             "#fdca26"
            ],
            [
             1,
             "#f0f921"
            ]
           ],
           "sequentialminus": [
            [
             0,
             "#0d0887"
            ],
            [
             0.1111111111111111,
             "#46039f"
            ],
            [
             0.2222222222222222,
             "#7201a8"
            ],
            [
             0.3333333333333333,
             "#9c179e"
            ],
            [
             0.4444444444444444,
             "#bd3786"
            ],
            [
             0.5555555555555556,
             "#d8576b"
            ],
            [
             0.6666666666666666,
             "#ed7953"
            ],
            [
             0.7777777777777778,
             "#fb9f3a"
            ],
            [
             0.8888888888888888,
             "#fdca26"
            ],
            [
             1,
             "#f0f921"
            ]
           ]
          },
          "colorway": [
           "#636efa",
           "#EF553B",
           "#00cc96",
           "#ab63fa",
           "#FFA15A",
           "#19d3f3",
           "#FF6692",
           "#B6E880",
           "#FF97FF",
           "#FECB52"
          ],
          "font": {
           "color": "#2a3f5f"
          },
          "geo": {
           "bgcolor": "white",
           "lakecolor": "white",
           "landcolor": "#E5ECF6",
           "showlakes": true,
           "showland": true,
           "subunitcolor": "white"
          },
          "hoverlabel": {
           "align": "left"
          },
          "hovermode": "closest",
          "mapbox": {
           "style": "light"
          },
          "paper_bgcolor": "white",
          "plot_bgcolor": "#E5ECF6",
          "polar": {
           "angularaxis": {
            "gridcolor": "white",
            "linecolor": "white",
            "ticks": ""
           },
           "bgcolor": "#E5ECF6",
           "radialaxis": {
            "gridcolor": "white",
            "linecolor": "white",
            "ticks": ""
           }
          },
          "scene": {
           "xaxis": {
            "backgroundcolor": "#E5ECF6",
            "gridcolor": "white",
            "gridwidth": 2,
            "linecolor": "white",
            "showbackground": true,
            "ticks": "",
            "zerolinecolor": "white"
           },
           "yaxis": {
            "backgroundcolor": "#E5ECF6",
            "gridcolor": "white",
            "gridwidth": 2,
            "linecolor": "white",
            "showbackground": true,
            "ticks": "",
            "zerolinecolor": "white"
           },
           "zaxis": {
            "backgroundcolor": "#E5ECF6",
            "gridcolor": "white",
            "gridwidth": 2,
            "linecolor": "white",
            "showbackground": true,
            "ticks": "",
            "zerolinecolor": "white"
           }
          },
          "shapedefaults": {
           "line": {
            "color": "#2a3f5f"
           }
          },
          "ternary": {
           "aaxis": {
            "gridcolor": "white",
            "linecolor": "white",
            "ticks": ""
           },
           "baxis": {
            "gridcolor": "white",
            "linecolor": "white",
            "ticks": ""
           },
           "bgcolor": "#E5ECF6",
           "caxis": {
            "gridcolor": "white",
            "linecolor": "white",
            "ticks": ""
           }
          },
          "title": {
           "x": 0.05
          },
          "xaxis": {
           "automargin": true,
           "gridcolor": "white",
           "linecolor": "white",
           "ticks": "",
           "title": {
            "standoff": 15
           },
           "zerolinecolor": "white",
           "zerolinewidth": 2
          },
          "yaxis": {
           "automargin": true,
           "gridcolor": "white",
           "linecolor": "white",
           "ticks": "",
           "title": {
            "standoff": 15
           },
           "zerolinecolor": "white",
           "zerolinewidth": 2
          }
         }
        },
        "title": {
         "text": "Optimization History Plot"
        },
        "xaxis": {
         "title": {
          "text": "Trial"
         }
        },
        "yaxis": {
         "title": {
          "text": "Objective Value"
         }
        }
       }
      }
     },
     "metadata": {},
     "output_type": "display_data"
    },
    {
     "data": {
      "application/vnd.plotly.v1+json": {
       "config": {
        "plotlyServerURL": "https://plot.ly"
       },
       "data": [
        {
         "cliponaxis": false,
         "hovertemplate": [
          "max_depth (IntDistribution): 0.0<extra></extra>",
          "n_estimators (IntDistribution): 2.644433143839151e-30<extra></extra>",
          "learning_rate (FloatDistribution): 3.990294295249097e-30<extra></extra>",
          "reg_alpha (FloatDistribution): 0.029411764705882353<extra></extra>",
          "num_leaves (IntDistribution): 0.11764705882352941<extra></extra>",
          "reg_lambda (FloatDistribution): 0.14705882352941177<extra></extra>",
          "colsample_bytree (FloatDistribution): 0.17647058823529413<extra></extra>",
          "min_child_samples (IntDistribution): 0.5294117647058824<extra></extra>"
         ],
         "name": "Objective Value",
         "orientation": "h",
         "text": [
          "<0.01",
          "<0.01",
          "<0.01",
          "0.03",
          "0.12",
          "0.15",
          "0.18",
          "0.53"
         ],
         "textposition": "outside",
         "type": "bar",
         "x": [
          0,
          2.644433143839151e-30,
          3.990294295249097e-30,
          0.029411764705882353,
          0.11764705882352941,
          0.14705882352941177,
          0.17647058823529413,
          0.5294117647058824
         ],
         "y": [
          "max_depth",
          "n_estimators",
          "learning_rate",
          "reg_alpha",
          "num_leaves",
          "reg_lambda",
          "colsample_bytree",
          "min_child_samples"
         ]
        }
       ],
       "layout": {
        "template": {
         "data": {
          "bar": [
           {
            "error_x": {
             "color": "#2a3f5f"
            },
            "error_y": {
             "color": "#2a3f5f"
            },
            "marker": {
             "line": {
              "color": "#E5ECF6",
              "width": 0.5
             },
             "pattern": {
              "fillmode": "overlay",
              "size": 10,
              "solidity": 0.2
             }
            },
            "type": "bar"
           }
          ],
          "barpolar": [
           {
            "marker": {
             "line": {
              "color": "#E5ECF6",
              "width": 0.5
             },
             "pattern": {
              "fillmode": "overlay",
              "size": 10,
              "solidity": 0.2
             }
            },
            "type": "barpolar"
           }
          ],
          "carpet": [
           {
            "aaxis": {
             "endlinecolor": "#2a3f5f",
             "gridcolor": "white",
             "linecolor": "white",
             "minorgridcolor": "white",
             "startlinecolor": "#2a3f5f"
            },
            "baxis": {
             "endlinecolor": "#2a3f5f",
             "gridcolor": "white",
             "linecolor": "white",
             "minorgridcolor": "white",
             "startlinecolor": "#2a3f5f"
            },
            "type": "carpet"
           }
          ],
          "choropleth": [
           {
            "colorbar": {
             "outlinewidth": 0,
             "ticks": ""
            },
            "type": "choropleth"
           }
          ],
          "contour": [
           {
            "colorbar": {
             "outlinewidth": 0,
             "ticks": ""
            },
            "colorscale": [
             [
              0,
              "#0d0887"
             ],
             [
              0.1111111111111111,
              "#46039f"
             ],
             [
              0.2222222222222222,
              "#7201a8"
             ],
             [
              0.3333333333333333,
              "#9c179e"
             ],
             [
              0.4444444444444444,
              "#bd3786"
             ],
             [
              0.5555555555555556,
              "#d8576b"
             ],
             [
              0.6666666666666666,
              "#ed7953"
             ],
             [
              0.7777777777777778,
              "#fb9f3a"
             ],
             [
              0.8888888888888888,
              "#fdca26"
             ],
             [
              1,
              "#f0f921"
             ]
            ],
            "type": "contour"
           }
          ],
          "contourcarpet": [
           {
            "colorbar": {
             "outlinewidth": 0,
             "ticks": ""
            },
            "type": "contourcarpet"
           }
          ],
          "heatmap": [
           {
            "colorbar": {
             "outlinewidth": 0,
             "ticks": ""
            },
            "colorscale": [
             [
              0,
              "#0d0887"
             ],
             [
              0.1111111111111111,
              "#46039f"
             ],
             [
              0.2222222222222222,
              "#7201a8"
             ],
             [
              0.3333333333333333,
              "#9c179e"
             ],
             [
              0.4444444444444444,
              "#bd3786"
             ],
             [
              0.5555555555555556,
              "#d8576b"
             ],
             [
              0.6666666666666666,
              "#ed7953"
             ],
             [
              0.7777777777777778,
              "#fb9f3a"
             ],
             [
              0.8888888888888888,
              "#fdca26"
             ],
             [
              1,
              "#f0f921"
             ]
            ],
            "type": "heatmap"
           }
          ],
          "histogram": [
           {
            "marker": {
             "pattern": {
              "fillmode": "overlay",
              "size": 10,
              "solidity": 0.2
             }
            },
            "type": "histogram"
           }
          ],
          "histogram2d": [
           {
            "colorbar": {
             "outlinewidth": 0,
             "ticks": ""
            },
            "colorscale": [
             [
              0,
              "#0d0887"
             ],
             [
              0.1111111111111111,
              "#46039f"
             ],
             [
              0.2222222222222222,
              "#7201a8"
             ],
             [
              0.3333333333333333,
              "#9c179e"
             ],
             [
              0.4444444444444444,
              "#bd3786"
             ],
             [
              0.5555555555555556,
              "#d8576b"
             ],
             [
              0.6666666666666666,
              "#ed7953"
             ],
             [
              0.7777777777777778,
              "#fb9f3a"
             ],
             [
              0.8888888888888888,
              "#fdca26"
             ],
             [
              1,
              "#f0f921"
             ]
            ],
            "type": "histogram2d"
           }
          ],
          "histogram2dcontour": [
           {
            "colorbar": {
             "outlinewidth": 0,
             "ticks": ""
            },
            "colorscale": [
             [
              0,
              "#0d0887"
             ],
             [
              0.1111111111111111,
              "#46039f"
             ],
             [
              0.2222222222222222,
              "#7201a8"
             ],
             [
              0.3333333333333333,
              "#9c179e"
             ],
             [
              0.4444444444444444,
              "#bd3786"
             ],
             [
              0.5555555555555556,
              "#d8576b"
             ],
             [
              0.6666666666666666,
              "#ed7953"
             ],
             [
              0.7777777777777778,
              "#fb9f3a"
             ],
             [
              0.8888888888888888,
              "#fdca26"
             ],
             [
              1,
              "#f0f921"
             ]
            ],
            "type": "histogram2dcontour"
           }
          ],
          "mesh3d": [
           {
            "colorbar": {
             "outlinewidth": 0,
             "ticks": ""
            },
            "type": "mesh3d"
           }
          ],
          "parcoords": [
           {
            "line": {
             "colorbar": {
              "outlinewidth": 0,
              "ticks": ""
             }
            },
            "type": "parcoords"
           }
          ],
          "pie": [
           {
            "automargin": true,
            "type": "pie"
           }
          ],
          "scatter": [
           {
            "fillpattern": {
             "fillmode": "overlay",
             "size": 10,
             "solidity": 0.2
            },
            "type": "scatter"
           }
          ],
          "scatter3d": [
           {
            "line": {
             "colorbar": {
              "outlinewidth": 0,
              "ticks": ""
             }
            },
            "marker": {
             "colorbar": {
              "outlinewidth": 0,
              "ticks": ""
             }
            },
            "type": "scatter3d"
           }
          ],
          "scattercarpet": [
           {
            "marker": {
             "colorbar": {
              "outlinewidth": 0,
              "ticks": ""
             }
            },
            "type": "scattercarpet"
           }
          ],
          "scattergeo": [
           {
            "marker": {
             "colorbar": {
              "outlinewidth": 0,
              "ticks": ""
             }
            },
            "type": "scattergeo"
           }
          ],
          "scattergl": [
           {
            "marker": {
             "colorbar": {
              "outlinewidth": 0,
              "ticks": ""
             }
            },
            "type": "scattergl"
           }
          ],
          "scattermap": [
           {
            "marker": {
             "colorbar": {
              "outlinewidth": 0,
              "ticks": ""
             }
            },
            "type": "scattermap"
           }
          ],
          "scattermapbox": [
           {
            "marker": {
             "colorbar": {
              "outlinewidth": 0,
              "ticks": ""
             }
            },
            "type": "scattermapbox"
           }
          ],
          "scatterpolar": [
           {
            "marker": {
             "colorbar": {
              "outlinewidth": 0,
              "ticks": ""
             }
            },
            "type": "scatterpolar"
           }
          ],
          "scatterpolargl": [
           {
            "marker": {
             "colorbar": {
              "outlinewidth": 0,
              "ticks": ""
             }
            },
            "type": "scatterpolargl"
           }
          ],
          "scatterternary": [
           {
            "marker": {
             "colorbar": {
              "outlinewidth": 0,
              "ticks": ""
             }
            },
            "type": "scatterternary"
           }
          ],
          "surface": [
           {
            "colorbar": {
             "outlinewidth": 0,
             "ticks": ""
            },
            "colorscale": [
             [
              0,
              "#0d0887"
             ],
             [
              0.1111111111111111,
              "#46039f"
             ],
             [
              0.2222222222222222,
              "#7201a8"
             ],
             [
              0.3333333333333333,
              "#9c179e"
             ],
             [
              0.4444444444444444,
              "#bd3786"
             ],
             [
              0.5555555555555556,
              "#d8576b"
             ],
             [
              0.6666666666666666,
              "#ed7953"
             ],
             [
              0.7777777777777778,
              "#fb9f3a"
             ],
             [
              0.8888888888888888,
              "#fdca26"
             ],
             [
              1,
              "#f0f921"
             ]
            ],
            "type": "surface"
           }
          ],
          "table": [
           {
            "cells": {
             "fill": {
              "color": "#EBF0F8"
             },
             "line": {
              "color": "white"
             }
            },
            "header": {
             "fill": {
              "color": "#C8D4E3"
             },
             "line": {
              "color": "white"
             }
            },
            "type": "table"
           }
          ]
         },
         "layout": {
          "annotationdefaults": {
           "arrowcolor": "#2a3f5f",
           "arrowhead": 0,
           "arrowwidth": 1
          },
          "autotypenumbers": "strict",
          "coloraxis": {
           "colorbar": {
            "outlinewidth": 0,
            "ticks": ""
           }
          },
          "colorscale": {
           "diverging": [
            [
             0,
             "#8e0152"
            ],
            [
             0.1,
             "#c51b7d"
            ],
            [
             0.2,
             "#de77ae"
            ],
            [
             0.3,
             "#f1b6da"
            ],
            [
             0.4,
             "#fde0ef"
            ],
            [
             0.5,
             "#f7f7f7"
            ],
            [
             0.6,
             "#e6f5d0"
            ],
            [
             0.7,
             "#b8e186"
            ],
            [
             0.8,
             "#7fbc41"
            ],
            [
             0.9,
             "#4d9221"
            ],
            [
             1,
             "#276419"
            ]
           ],
           "sequential": [
            [
             0,
             "#0d0887"
            ],
            [
             0.1111111111111111,
             "#46039f"
            ],
            [
             0.2222222222222222,
             "#7201a8"
            ],
            [
             0.3333333333333333,
             "#9c179e"
            ],
            [
             0.4444444444444444,
             "#bd3786"
            ],
            [
             0.5555555555555556,
             "#d8576b"
            ],
            [
             0.6666666666666666,
             "#ed7953"
            ],
            [
             0.7777777777777778,
             "#fb9f3a"
            ],
            [
             0.8888888888888888,
             "#fdca26"
            ],
            [
             1,
             "#f0f921"
            ]
           ],
           "sequentialminus": [
            [
             0,
             "#0d0887"
            ],
            [
             0.1111111111111111,
             "#46039f"
            ],
            [
             0.2222222222222222,
             "#7201a8"
            ],
            [
             0.3333333333333333,
             "#9c179e"
            ],
            [
             0.4444444444444444,
             "#bd3786"
            ],
            [
             0.5555555555555556,
             "#d8576b"
            ],
            [
             0.6666666666666666,
             "#ed7953"
            ],
            [
             0.7777777777777778,
             "#fb9f3a"
            ],
            [
             0.8888888888888888,
             "#fdca26"
            ],
            [
             1,
             "#f0f921"
            ]
           ]
          },
          "colorway": [
           "#636efa",
           "#EF553B",
           "#00cc96",
           "#ab63fa",
           "#FFA15A",
           "#19d3f3",
           "#FF6692",
           "#B6E880",
           "#FF97FF",
           "#FECB52"
          ],
          "font": {
           "color": "#2a3f5f"
          },
          "geo": {
           "bgcolor": "white",
           "lakecolor": "white",
           "landcolor": "#E5ECF6",
           "showlakes": true,
           "showland": true,
           "subunitcolor": "white"
          },
          "hoverlabel": {
           "align": "left"
          },
          "hovermode": "closest",
          "mapbox": {
           "style": "light"
          },
          "paper_bgcolor": "white",
          "plot_bgcolor": "#E5ECF6",
          "polar": {
           "angularaxis": {
            "gridcolor": "white",
            "linecolor": "white",
            "ticks": ""
           },
           "bgcolor": "#E5ECF6",
           "radialaxis": {
            "gridcolor": "white",
            "linecolor": "white",
            "ticks": ""
           }
          },
          "scene": {
           "xaxis": {
            "backgroundcolor": "#E5ECF6",
            "gridcolor": "white",
            "gridwidth": 2,
            "linecolor": "white",
            "showbackground": true,
            "ticks": "",
            "zerolinecolor": "white"
           },
           "yaxis": {
            "backgroundcolor": "#E5ECF6",
            "gridcolor": "white",
            "gridwidth": 2,
            "linecolor": "white",
            "showbackground": true,
            "ticks": "",
            "zerolinecolor": "white"
           },
           "zaxis": {
            "backgroundcolor": "#E5ECF6",
            "gridcolor": "white",
            "gridwidth": 2,
            "linecolor": "white",
            "showbackground": true,
            "ticks": "",
            "zerolinecolor": "white"
           }
          },
          "shapedefaults": {
           "line": {
            "color": "#2a3f5f"
           }
          },
          "ternary": {
           "aaxis": {
            "gridcolor": "white",
            "linecolor": "white",
            "ticks": ""
           },
           "baxis": {
            "gridcolor": "white",
            "linecolor": "white",
            "ticks": ""
           },
           "bgcolor": "#E5ECF6",
           "caxis": {
            "gridcolor": "white",
            "linecolor": "white",
            "ticks": ""
           }
          },
          "title": {
           "x": 0.05
          },
          "xaxis": {
           "automargin": true,
           "gridcolor": "white",
           "linecolor": "white",
           "ticks": "",
           "title": {
            "standoff": 15
           },
           "zerolinecolor": "white",
           "zerolinewidth": 2
          },
          "yaxis": {
           "automargin": true,
           "gridcolor": "white",
           "linecolor": "white",
           "ticks": "",
           "title": {
            "standoff": 15
           },
           "zerolinecolor": "white",
           "zerolinewidth": 2
          }
         }
        },
        "title": {
         "text": "Hyperparameter Importances"
        },
        "xaxis": {
         "title": {
          "text": "Hyperparameter Importance"
         }
        },
        "yaxis": {
         "title": {
          "text": "Hyperparameter"
         }
        }
       }
      }
     },
     "metadata": {},
     "output_type": "display_data"
    },
    {
     "data": {
      "application/vnd.plotly.v1+json": {
       "config": {
        "plotlyServerURL": "https://plot.ly"
       },
       "data": [
        {
         "dimensions": [
          {
           "label": "Objective Value",
           "range": [
            0.964043850787593,
            1
           ],
           "values": [
            1,
            1,
            1,
            1,
            1,
            1,
            1,
            0.964043850787593,
            1,
            1
           ]
          },
          {
           "label": "colsample_bytree",
           "range": [
            0.6063083664112349,
            0.9990574616819439
           ],
           "values": [
            0.7630572019109578,
            0.8750910140671364,
            0.6063083664112349,
            0.8257045397099664,
            0.6809024704411513,
            0.727382234984226,
            0.6398839006115368,
            0.9300870986565206,
            0.9990574616819439,
            0.7906203172279785
           ]
          },
          {
           "label": "learning_rate",
           "range": [
            -2.15267347560438,
            -0.8744181382687563
           ],
           "ticktext": [
            "0.00704",
            "0.01",
            "0.1",
            "0.134"
           ],
           "tickvals": [
            -2.15267347560438,
            -2,
            -1,
            -0.8744181382687563
           ],
           "values": [
            -2.015640033811447,
            -0.9572771167996028,
            -1.876446572909129,
            -1.4217982443756882,
            -1.8485168309144024,
            -2.15267347560438,
            -1.281372861718942,
            -2.1352458189419874,
            -1.1045782261481938,
            -0.8744181382687563
           ]
          },
          {
           "label": "max_depth",
           "range": [
            5,
            15
           ],
           "values": [
            7,
            9,
            5,
            12,
            5,
            14,
            8,
            7,
            15,
            13
           ]
          },
          {
           "label": "min_child_samples",
           "range": [
            18,
            248
           ],
           "values": [
            18,
            38,
            112,
            153,
            107,
            101,
            57,
            248,
            90,
            169
           ]
          },
          {
           "label": "n_estimators",
           "range": [
            102,
            1327
           ],
           "values": [
            1287,
            1327,
            792,
            594,
            704,
            751,
            830,
            102,
            305,
            902
           ]
          },
          {
           "label": "num_leaves",
           "range": [
            81,
            981
           ],
           "values": [
            981,
            580,
            271,
            762,
            727,
            148,
            630,
            882,
            81,
            599
           ]
          },
          {
           "label": "reg_alpha",
           "range": [
            -3.850046422156005,
            0.779817228917267
           ],
           "ticktext": [
            "0.000141",
            "0.001",
            "0.01",
            "0.1",
            "1",
            "6.02"
           ],
           "tickvals": [
            -3.850046422156005,
            -3,
            -2,
            -1,
            0,
            0.779817228917267
           ],
           "values": [
            0.39818002869433144,
            -2.8740927542805035,
            -0.6380661319065425,
            -3.2740508789580236,
            -3.850046422156005,
            -1.0264636350202574,
            0.779817228917267,
            -3.5818777491044878,
            -3.0293920862572423,
            -1.2259924325965996
           ]
          },
          {
           "label": "reg_lambda",
           "range": [
            -3.4579418562173565,
            0.9038744418184073
           ],
           "ticktext": [
            "0.000348",
            "0.001",
            "0.01",
            "0.1",
            "1",
            "8.01"
           ],
           "tickvals": [
            -3.4579418562173565,
            -3,
            -2,
            -1,
            0,
            0.9038744418184073
           ],
           "values": [
            -3.4579418562173565,
            -3.2801823514121997,
            0.5214650988215543,
            -1.2808510612999218,
            0.9038744418184073,
            -0.7625331127666976,
            -0.6730754959487198,
            0.7344609172858337,
            -2.712541300495909,
            0.42744353185119677
           ]
          }
         ],
         "labelangle": 30,
         "labelside": "bottom",
         "line": {
          "color": [
           1,
           1,
           1,
           1,
           1,
           1,
           1,
           0.964043850787593,
           1,
           1
          ],
          "colorbar": {
           "title": {
            "text": "Objective Value"
           }
          },
          "colorscale": [
           [
            0,
            "rgb(247,251,255)"
           ],
           [
            0.125,
            "rgb(222,235,247)"
           ],
           [
            0.25,
            "rgb(198,219,239)"
           ],
           [
            0.375,
            "rgb(158,202,225)"
           ],
           [
            0.5,
            "rgb(107,174,214)"
           ],
           [
            0.625,
            "rgb(66,146,198)"
           ],
           [
            0.75,
            "rgb(33,113,181)"
           ],
           [
            0.875,
            "rgb(8,81,156)"
           ],
           [
            1,
            "rgb(8,48,107)"
           ]
          ],
          "reversescale": false,
          "showscale": true
         },
         "type": "parcoords"
        }
       ],
       "layout": {
        "template": {
         "data": {
          "bar": [
           {
            "error_x": {
             "color": "#2a3f5f"
            },
            "error_y": {
             "color": "#2a3f5f"
            },
            "marker": {
             "line": {
              "color": "#E5ECF6",
              "width": 0.5
             },
             "pattern": {
              "fillmode": "overlay",
              "size": 10,
              "solidity": 0.2
             }
            },
            "type": "bar"
           }
          ],
          "barpolar": [
           {
            "marker": {
             "line": {
              "color": "#E5ECF6",
              "width": 0.5
             },
             "pattern": {
              "fillmode": "overlay",
              "size": 10,
              "solidity": 0.2
             }
            },
            "type": "barpolar"
           }
          ],
          "carpet": [
           {
            "aaxis": {
             "endlinecolor": "#2a3f5f",
             "gridcolor": "white",
             "linecolor": "white",
             "minorgridcolor": "white",
             "startlinecolor": "#2a3f5f"
            },
            "baxis": {
             "endlinecolor": "#2a3f5f",
             "gridcolor": "white",
             "linecolor": "white",
             "minorgridcolor": "white",
             "startlinecolor": "#2a3f5f"
            },
            "type": "carpet"
           }
          ],
          "choropleth": [
           {
            "colorbar": {
             "outlinewidth": 0,
             "ticks": ""
            },
            "type": "choropleth"
           }
          ],
          "contour": [
           {
            "colorbar": {
             "outlinewidth": 0,
             "ticks": ""
            },
            "colorscale": [
             [
              0,
              "#0d0887"
             ],
             [
              0.1111111111111111,
              "#46039f"
             ],
             [
              0.2222222222222222,
              "#7201a8"
             ],
             [
              0.3333333333333333,
              "#9c179e"
             ],
             [
              0.4444444444444444,
              "#bd3786"
             ],
             [
              0.5555555555555556,
              "#d8576b"
             ],
             [
              0.6666666666666666,
              "#ed7953"
             ],
             [
              0.7777777777777778,
              "#fb9f3a"
             ],
             [
              0.8888888888888888,
              "#fdca26"
             ],
             [
              1,
              "#f0f921"
             ]
            ],
            "type": "contour"
           }
          ],
          "contourcarpet": [
           {
            "colorbar": {
             "outlinewidth": 0,
             "ticks": ""
            },
            "type": "contourcarpet"
           }
          ],
          "heatmap": [
           {
            "colorbar": {
             "outlinewidth": 0,
             "ticks": ""
            },
            "colorscale": [
             [
              0,
              "#0d0887"
             ],
             [
              0.1111111111111111,
              "#46039f"
             ],
             [
              0.2222222222222222,
              "#7201a8"
             ],
             [
              0.3333333333333333,
              "#9c179e"
             ],
             [
              0.4444444444444444,
              "#bd3786"
             ],
             [
              0.5555555555555556,
              "#d8576b"
             ],
             [
              0.6666666666666666,
              "#ed7953"
             ],
             [
              0.7777777777777778,
              "#fb9f3a"
             ],
             [
              0.8888888888888888,
              "#fdca26"
             ],
             [
              1,
              "#f0f921"
             ]
            ],
            "type": "heatmap"
           }
          ],
          "histogram": [
           {
            "marker": {
             "pattern": {
              "fillmode": "overlay",
              "size": 10,
              "solidity": 0.2
             }
            },
            "type": "histogram"
           }
          ],
          "histogram2d": [
           {
            "colorbar": {
             "outlinewidth": 0,
             "ticks": ""
            },
            "colorscale": [
             [
              0,
              "#0d0887"
             ],
             [
              0.1111111111111111,
              "#46039f"
             ],
             [
              0.2222222222222222,
              "#7201a8"
             ],
             [
              0.3333333333333333,
              "#9c179e"
             ],
             [
              0.4444444444444444,
              "#bd3786"
             ],
             [
              0.5555555555555556,
              "#d8576b"
             ],
             [
              0.6666666666666666,
              "#ed7953"
             ],
             [
              0.7777777777777778,
              "#fb9f3a"
             ],
             [
              0.8888888888888888,
              "#fdca26"
             ],
             [
              1,
              "#f0f921"
             ]
            ],
            "type": "histogram2d"
           }
          ],
          "histogram2dcontour": [
           {
            "colorbar": {
             "outlinewidth": 0,
             "ticks": ""
            },
            "colorscale": [
             [
              0,
              "#0d0887"
             ],
             [
              0.1111111111111111,
              "#46039f"
             ],
             [
              0.2222222222222222,
              "#7201a8"
             ],
             [
              0.3333333333333333,
              "#9c179e"
             ],
             [
              0.4444444444444444,
              "#bd3786"
             ],
             [
              0.5555555555555556,
              "#d8576b"
             ],
             [
              0.6666666666666666,
              "#ed7953"
             ],
             [
              0.7777777777777778,
              "#fb9f3a"
             ],
             [
              0.8888888888888888,
              "#fdca26"
             ],
             [
              1,
              "#f0f921"
             ]
            ],
            "type": "histogram2dcontour"
           }
          ],
          "mesh3d": [
           {
            "colorbar": {
             "outlinewidth": 0,
             "ticks": ""
            },
            "type": "mesh3d"
           }
          ],
          "parcoords": [
           {
            "line": {
             "colorbar": {
              "outlinewidth": 0,
              "ticks": ""
             }
            },
            "type": "parcoords"
           }
          ],
          "pie": [
           {
            "automargin": true,
            "type": "pie"
           }
          ],
          "scatter": [
           {
            "fillpattern": {
             "fillmode": "overlay",
             "size": 10,
             "solidity": 0.2
            },
            "type": "scatter"
           }
          ],
          "scatter3d": [
           {
            "line": {
             "colorbar": {
              "outlinewidth": 0,
              "ticks": ""
             }
            },
            "marker": {
             "colorbar": {
              "outlinewidth": 0,
              "ticks": ""
             }
            },
            "type": "scatter3d"
           }
          ],
          "scattercarpet": [
           {
            "marker": {
             "colorbar": {
              "outlinewidth": 0,
              "ticks": ""
             }
            },
            "type": "scattercarpet"
           }
          ],
          "scattergeo": [
           {
            "marker": {
             "colorbar": {
              "outlinewidth": 0,
              "ticks": ""
             }
            },
            "type": "scattergeo"
           }
          ],
          "scattergl": [
           {
            "marker": {
             "colorbar": {
              "outlinewidth": 0,
              "ticks": ""
             }
            },
            "type": "scattergl"
           }
          ],
          "scattermap": [
           {
            "marker": {
             "colorbar": {
              "outlinewidth": 0,
              "ticks": ""
             }
            },
            "type": "scattermap"
           }
          ],
          "scattermapbox": [
           {
            "marker": {
             "colorbar": {
              "outlinewidth": 0,
              "ticks": ""
             }
            },
            "type": "scattermapbox"
           }
          ],
          "scatterpolar": [
           {
            "marker": {
             "colorbar": {
              "outlinewidth": 0,
              "ticks": ""
             }
            },
            "type": "scatterpolar"
           }
          ],
          "scatterpolargl": [
           {
            "marker": {
             "colorbar": {
              "outlinewidth": 0,
              "ticks": ""
             }
            },
            "type": "scatterpolargl"
           }
          ],
          "scatterternary": [
           {
            "marker": {
             "colorbar": {
              "outlinewidth": 0,
              "ticks": ""
             }
            },
            "type": "scatterternary"
           }
          ],
          "surface": [
           {
            "colorbar": {
             "outlinewidth": 0,
             "ticks": ""
            },
            "colorscale": [
             [
              0,
              "#0d0887"
             ],
             [
              0.1111111111111111,
              "#46039f"
             ],
             [
              0.2222222222222222,
              "#7201a8"
             ],
             [
              0.3333333333333333,
              "#9c179e"
             ],
             [
              0.4444444444444444,
              "#bd3786"
             ],
             [
              0.5555555555555556,
              "#d8576b"
             ],
             [
              0.6666666666666666,
              "#ed7953"
             ],
             [
              0.7777777777777778,
              "#fb9f3a"
             ],
             [
              0.8888888888888888,
              "#fdca26"
             ],
             [
              1,
              "#f0f921"
             ]
            ],
            "type": "surface"
           }
          ],
          "table": [
           {
            "cells": {
             "fill": {
              "color": "#EBF0F8"
             },
             "line": {
              "color": "white"
             }
            },
            "header": {
             "fill": {
              "color": "#C8D4E3"
             },
             "line": {
              "color": "white"
             }
            },
            "type": "table"
           }
          ]
         },
         "layout": {
          "annotationdefaults": {
           "arrowcolor": "#2a3f5f",
           "arrowhead": 0,
           "arrowwidth": 1
          },
          "autotypenumbers": "strict",
          "coloraxis": {
           "colorbar": {
            "outlinewidth": 0,
            "ticks": ""
           }
          },
          "colorscale": {
           "diverging": [
            [
             0,
             "#8e0152"
            ],
            [
             0.1,
             "#c51b7d"
            ],
            [
             0.2,
             "#de77ae"
            ],
            [
             0.3,
             "#f1b6da"
            ],
            [
             0.4,
             "#fde0ef"
            ],
            [
             0.5,
             "#f7f7f7"
            ],
            [
             0.6,
             "#e6f5d0"
            ],
            [
             0.7,
             "#b8e186"
            ],
            [
             0.8,
             "#7fbc41"
            ],
            [
             0.9,
             "#4d9221"
            ],
            [
             1,
             "#276419"
            ]
           ],
           "sequential": [
            [
             0,
             "#0d0887"
            ],
            [
             0.1111111111111111,
             "#46039f"
            ],
            [
             0.2222222222222222,
             "#7201a8"
            ],
            [
             0.3333333333333333,
             "#9c179e"
            ],
            [
             0.4444444444444444,
             "#bd3786"
            ],
            [
             0.5555555555555556,
             "#d8576b"
            ],
            [
             0.6666666666666666,
             "#ed7953"
            ],
            [
             0.7777777777777778,
             "#fb9f3a"
            ],
            [
             0.8888888888888888,
             "#fdca26"
            ],
            [
             1,
             "#f0f921"
            ]
           ],
           "sequentialminus": [
            [
             0,
             "#0d0887"
            ],
            [
             0.1111111111111111,
             "#46039f"
            ],
            [
             0.2222222222222222,
             "#7201a8"
            ],
            [
             0.3333333333333333,
             "#9c179e"
            ],
            [
             0.4444444444444444,
             "#bd3786"
            ],
            [
             0.5555555555555556,
             "#d8576b"
            ],
            [
             0.6666666666666666,
             "#ed7953"
            ],
            [
             0.7777777777777778,
             "#fb9f3a"
            ],
            [
             0.8888888888888888,
             "#fdca26"
            ],
            [
             1,
             "#f0f921"
            ]
           ]
          },
          "colorway": [
           "#636efa",
           "#EF553B",
           "#00cc96",
           "#ab63fa",
           "#FFA15A",
           "#19d3f3",
           "#FF6692",
           "#B6E880",
           "#FF97FF",
           "#FECB52"
          ],
          "font": {
           "color": "#2a3f5f"
          },
          "geo": {
           "bgcolor": "white",
           "lakecolor": "white",
           "landcolor": "#E5ECF6",
           "showlakes": true,
           "showland": true,
           "subunitcolor": "white"
          },
          "hoverlabel": {
           "align": "left"
          },
          "hovermode": "closest",
          "mapbox": {
           "style": "light"
          },
          "paper_bgcolor": "white",
          "plot_bgcolor": "#E5ECF6",
          "polar": {
           "angularaxis": {
            "gridcolor": "white",
            "linecolor": "white",
            "ticks": ""
           },
           "bgcolor": "#E5ECF6",
           "radialaxis": {
            "gridcolor": "white",
            "linecolor": "white",
            "ticks": ""
           }
          },
          "scene": {
           "xaxis": {
            "backgroundcolor": "#E5ECF6",
            "gridcolor": "white",
            "gridwidth": 2,
            "linecolor": "white",
            "showbackground": true,
            "ticks": "",
            "zerolinecolor": "white"
           },
           "yaxis": {
            "backgroundcolor": "#E5ECF6",
            "gridcolor": "white",
            "gridwidth": 2,
            "linecolor": "white",
            "showbackground": true,
            "ticks": "",
            "zerolinecolor": "white"
           },
           "zaxis": {
            "backgroundcolor": "#E5ECF6",
            "gridcolor": "white",
            "gridwidth": 2,
            "linecolor": "white",
            "showbackground": true,
            "ticks": "",
            "zerolinecolor": "white"
           }
          },
          "shapedefaults": {
           "line": {
            "color": "#2a3f5f"
           }
          },
          "ternary": {
           "aaxis": {
            "gridcolor": "white",
            "linecolor": "white",
            "ticks": ""
           },
           "baxis": {
            "gridcolor": "white",
            "linecolor": "white",
            "ticks": ""
           },
           "bgcolor": "#E5ECF6",
           "caxis": {
            "gridcolor": "white",
            "linecolor": "white",
            "ticks": ""
           }
          },
          "title": {
           "x": 0.05
          },
          "xaxis": {
           "automargin": true,
           "gridcolor": "white",
           "linecolor": "white",
           "ticks": "",
           "title": {
            "standoff": 15
           },
           "zerolinecolor": "white",
           "zerolinewidth": 2
          },
          "yaxis": {
           "automargin": true,
           "gridcolor": "white",
           "linecolor": "white",
           "ticks": "",
           "title": {
            "standoff": 15
           },
           "zerolinecolor": "white",
           "zerolinewidth": 2
          }
         }
        },
        "title": {
         "text": "Parallel Coordinate Plot"
        }
       }
      }
     },
     "metadata": {},
     "output_type": "display_data"
    }
   ],
   "source": [
    "vis.plot_optimization_history(study).show()\n",
    "vis.plot_param_importances(study).show()\n",
    "vis.plot_parallel_coordinate(study).show()"
   ]
  },
  {
   "cell_type": "code",
   "execution_count": 38,
   "metadata": {},
   "outputs": [
    {
     "data": {
      "text/html": [
       "<style>#sk-container-id-4 {\n",
       "  /* Definition of color scheme common for light and dark mode */\n",
       "  --sklearn-color-text: #000;\n",
       "  --sklearn-color-text-muted: #666;\n",
       "  --sklearn-color-line: gray;\n",
       "  /* Definition of color scheme for unfitted estimators */\n",
       "  --sklearn-color-unfitted-level-0: #fff5e6;\n",
       "  --sklearn-color-unfitted-level-1: #f6e4d2;\n",
       "  --sklearn-color-unfitted-level-2: #ffe0b3;\n",
       "  --sklearn-color-unfitted-level-3: chocolate;\n",
       "  /* Definition of color scheme for fitted estimators */\n",
       "  --sklearn-color-fitted-level-0: #f0f8ff;\n",
       "  --sklearn-color-fitted-level-1: #d4ebff;\n",
       "  --sklearn-color-fitted-level-2: #b3dbfd;\n",
       "  --sklearn-color-fitted-level-3: cornflowerblue;\n",
       "\n",
       "  /* Specific color for light theme */\n",
       "  --sklearn-color-text-on-default-background: var(--sg-text-color, var(--theme-code-foreground, var(--jp-content-font-color1, black)));\n",
       "  --sklearn-color-background: var(--sg-background-color, var(--theme-background, var(--jp-layout-color0, white)));\n",
       "  --sklearn-color-border-box: var(--sg-text-color, var(--theme-code-foreground, var(--jp-content-font-color1, black)));\n",
       "  --sklearn-color-icon: #696969;\n",
       "\n",
       "  @media (prefers-color-scheme: dark) {\n",
       "    /* Redefinition of color scheme for dark theme */\n",
       "    --sklearn-color-text-on-default-background: var(--sg-text-color, var(--theme-code-foreground, var(--jp-content-font-color1, white)));\n",
       "    --sklearn-color-background: var(--sg-background-color, var(--theme-background, var(--jp-layout-color0, #111)));\n",
       "    --sklearn-color-border-box: var(--sg-text-color, var(--theme-code-foreground, var(--jp-content-font-color1, white)));\n",
       "    --sklearn-color-icon: #878787;\n",
       "  }\n",
       "}\n",
       "\n",
       "#sk-container-id-4 {\n",
       "  color: var(--sklearn-color-text);\n",
       "}\n",
       "\n",
       "#sk-container-id-4 pre {\n",
       "  padding: 0;\n",
       "}\n",
       "\n",
       "#sk-container-id-4 input.sk-hidden--visually {\n",
       "  border: 0;\n",
       "  clip: rect(1px 1px 1px 1px);\n",
       "  clip: rect(1px, 1px, 1px, 1px);\n",
       "  height: 1px;\n",
       "  margin: -1px;\n",
       "  overflow: hidden;\n",
       "  padding: 0;\n",
       "  position: absolute;\n",
       "  width: 1px;\n",
       "}\n",
       "\n",
       "#sk-container-id-4 div.sk-dashed-wrapped {\n",
       "  border: 1px dashed var(--sklearn-color-line);\n",
       "  margin: 0 0.4em 0.5em 0.4em;\n",
       "  box-sizing: border-box;\n",
       "  padding-bottom: 0.4em;\n",
       "  background-color: var(--sklearn-color-background);\n",
       "}\n",
       "\n",
       "#sk-container-id-4 div.sk-container {\n",
       "  /* jupyter's `normalize.less` sets `[hidden] { display: none; }`\n",
       "     but bootstrap.min.css set `[hidden] { display: none !important; }`\n",
       "     so we also need the `!important` here to be able to override the\n",
       "     default hidden behavior on the sphinx rendered scikit-learn.org.\n",
       "     See: https://github.com/scikit-learn/scikit-learn/issues/21755 */\n",
       "  display: inline-block !important;\n",
       "  position: relative;\n",
       "}\n",
       "\n",
       "#sk-container-id-4 div.sk-text-repr-fallback {\n",
       "  display: none;\n",
       "}\n",
       "\n",
       "div.sk-parallel-item,\n",
       "div.sk-serial,\n",
       "div.sk-item {\n",
       "  /* draw centered vertical line to link estimators */\n",
       "  background-image: linear-gradient(var(--sklearn-color-text-on-default-background), var(--sklearn-color-text-on-default-background));\n",
       "  background-size: 2px 100%;\n",
       "  background-repeat: no-repeat;\n",
       "  background-position: center center;\n",
       "}\n",
       "\n",
       "/* Parallel-specific style estimator block */\n",
       "\n",
       "#sk-container-id-4 div.sk-parallel-item::after {\n",
       "  content: \"\";\n",
       "  width: 100%;\n",
       "  border-bottom: 2px solid var(--sklearn-color-text-on-default-background);\n",
       "  flex-grow: 1;\n",
       "}\n",
       "\n",
       "#sk-container-id-4 div.sk-parallel {\n",
       "  display: flex;\n",
       "  align-items: stretch;\n",
       "  justify-content: center;\n",
       "  background-color: var(--sklearn-color-background);\n",
       "  position: relative;\n",
       "}\n",
       "\n",
       "#sk-container-id-4 div.sk-parallel-item {\n",
       "  display: flex;\n",
       "  flex-direction: column;\n",
       "}\n",
       "\n",
       "#sk-container-id-4 div.sk-parallel-item:first-child::after {\n",
       "  align-self: flex-end;\n",
       "  width: 50%;\n",
       "}\n",
       "\n",
       "#sk-container-id-4 div.sk-parallel-item:last-child::after {\n",
       "  align-self: flex-start;\n",
       "  width: 50%;\n",
       "}\n",
       "\n",
       "#sk-container-id-4 div.sk-parallel-item:only-child::after {\n",
       "  width: 0;\n",
       "}\n",
       "\n",
       "/* Serial-specific style estimator block */\n",
       "\n",
       "#sk-container-id-4 div.sk-serial {\n",
       "  display: flex;\n",
       "  flex-direction: column;\n",
       "  align-items: center;\n",
       "  background-color: var(--sklearn-color-background);\n",
       "  padding-right: 1em;\n",
       "  padding-left: 1em;\n",
       "}\n",
       "\n",
       "\n",
       "/* Toggleable style: style used for estimator/Pipeline/ColumnTransformer box that is\n",
       "clickable and can be expanded/collapsed.\n",
       "- Pipeline and ColumnTransformer use this feature and define the default style\n",
       "- Estimators will overwrite some part of the style using the `sk-estimator` class\n",
       "*/\n",
       "\n",
       "/* Pipeline and ColumnTransformer style (default) */\n",
       "\n",
       "#sk-container-id-4 div.sk-toggleable {\n",
       "  /* Default theme specific background. It is overwritten whether we have a\n",
       "  specific estimator or a Pipeline/ColumnTransformer */\n",
       "  background-color: var(--sklearn-color-background);\n",
       "}\n",
       "\n",
       "/* Toggleable label */\n",
       "#sk-container-id-4 label.sk-toggleable__label {\n",
       "  cursor: pointer;\n",
       "  display: flex;\n",
       "  width: 100%;\n",
       "  margin-bottom: 0;\n",
       "  padding: 0.5em;\n",
       "  box-sizing: border-box;\n",
       "  text-align: center;\n",
       "  align-items: start;\n",
       "  justify-content: space-between;\n",
       "  gap: 0.5em;\n",
       "}\n",
       "\n",
       "#sk-container-id-4 label.sk-toggleable__label .caption {\n",
       "  font-size: 0.6rem;\n",
       "  font-weight: lighter;\n",
       "  color: var(--sklearn-color-text-muted);\n",
       "}\n",
       "\n",
       "#sk-container-id-4 label.sk-toggleable__label-arrow:before {\n",
       "  /* Arrow on the left of the label */\n",
       "  content: \"▸\";\n",
       "  float: left;\n",
       "  margin-right: 0.25em;\n",
       "  color: var(--sklearn-color-icon);\n",
       "}\n",
       "\n",
       "#sk-container-id-4 label.sk-toggleable__label-arrow:hover:before {\n",
       "  color: var(--sklearn-color-text);\n",
       "}\n",
       "\n",
       "/* Toggleable content - dropdown */\n",
       "\n",
       "#sk-container-id-4 div.sk-toggleable__content {\n",
       "  max-height: 0;\n",
       "  max-width: 0;\n",
       "  overflow: hidden;\n",
       "  text-align: left;\n",
       "  /* unfitted */\n",
       "  background-color: var(--sklearn-color-unfitted-level-0);\n",
       "}\n",
       "\n",
       "#sk-container-id-4 div.sk-toggleable__content.fitted {\n",
       "  /* fitted */\n",
       "  background-color: var(--sklearn-color-fitted-level-0);\n",
       "}\n",
       "\n",
       "#sk-container-id-4 div.sk-toggleable__content pre {\n",
       "  margin: 0.2em;\n",
       "  border-radius: 0.25em;\n",
       "  color: var(--sklearn-color-text);\n",
       "  /* unfitted */\n",
       "  background-color: var(--sklearn-color-unfitted-level-0);\n",
       "}\n",
       "\n",
       "#sk-container-id-4 div.sk-toggleable__content.fitted pre {\n",
       "  /* unfitted */\n",
       "  background-color: var(--sklearn-color-fitted-level-0);\n",
       "}\n",
       "\n",
       "#sk-container-id-4 input.sk-toggleable__control:checked~div.sk-toggleable__content {\n",
       "  /* Expand drop-down */\n",
       "  max-height: 200px;\n",
       "  max-width: 100%;\n",
       "  overflow: auto;\n",
       "}\n",
       "\n",
       "#sk-container-id-4 input.sk-toggleable__control:checked~label.sk-toggleable__label-arrow:before {\n",
       "  content: \"▾\";\n",
       "}\n",
       "\n",
       "/* Pipeline/ColumnTransformer-specific style */\n",
       "\n",
       "#sk-container-id-4 div.sk-label input.sk-toggleable__control:checked~label.sk-toggleable__label {\n",
       "  color: var(--sklearn-color-text);\n",
       "  background-color: var(--sklearn-color-unfitted-level-2);\n",
       "}\n",
       "\n",
       "#sk-container-id-4 div.sk-label.fitted input.sk-toggleable__control:checked~label.sk-toggleable__label {\n",
       "  background-color: var(--sklearn-color-fitted-level-2);\n",
       "}\n",
       "\n",
       "/* Estimator-specific style */\n",
       "\n",
       "/* Colorize estimator box */\n",
       "#sk-container-id-4 div.sk-estimator input.sk-toggleable__control:checked~label.sk-toggleable__label {\n",
       "  /* unfitted */\n",
       "  background-color: var(--sklearn-color-unfitted-level-2);\n",
       "}\n",
       "\n",
       "#sk-container-id-4 div.sk-estimator.fitted input.sk-toggleable__control:checked~label.sk-toggleable__label {\n",
       "  /* fitted */\n",
       "  background-color: var(--sklearn-color-fitted-level-2);\n",
       "}\n",
       "\n",
       "#sk-container-id-4 div.sk-label label.sk-toggleable__label,\n",
       "#sk-container-id-4 div.sk-label label {\n",
       "  /* The background is the default theme color */\n",
       "  color: var(--sklearn-color-text-on-default-background);\n",
       "}\n",
       "\n",
       "/* On hover, darken the color of the background */\n",
       "#sk-container-id-4 div.sk-label:hover label.sk-toggleable__label {\n",
       "  color: var(--sklearn-color-text);\n",
       "  background-color: var(--sklearn-color-unfitted-level-2);\n",
       "}\n",
       "\n",
       "/* Label box, darken color on hover, fitted */\n",
       "#sk-container-id-4 div.sk-label.fitted:hover label.sk-toggleable__label.fitted {\n",
       "  color: var(--sklearn-color-text);\n",
       "  background-color: var(--sklearn-color-fitted-level-2);\n",
       "}\n",
       "\n",
       "/* Estimator label */\n",
       "\n",
       "#sk-container-id-4 div.sk-label label {\n",
       "  font-family: monospace;\n",
       "  font-weight: bold;\n",
       "  display: inline-block;\n",
       "  line-height: 1.2em;\n",
       "}\n",
       "\n",
       "#sk-container-id-4 div.sk-label-container {\n",
       "  text-align: center;\n",
       "}\n",
       "\n",
       "/* Estimator-specific */\n",
       "#sk-container-id-4 div.sk-estimator {\n",
       "  font-family: monospace;\n",
       "  border: 1px dotted var(--sklearn-color-border-box);\n",
       "  border-radius: 0.25em;\n",
       "  box-sizing: border-box;\n",
       "  margin-bottom: 0.5em;\n",
       "  /* unfitted */\n",
       "  background-color: var(--sklearn-color-unfitted-level-0);\n",
       "}\n",
       "\n",
       "#sk-container-id-4 div.sk-estimator.fitted {\n",
       "  /* fitted */\n",
       "  background-color: var(--sklearn-color-fitted-level-0);\n",
       "}\n",
       "\n",
       "/* on hover */\n",
       "#sk-container-id-4 div.sk-estimator:hover {\n",
       "  /* unfitted */\n",
       "  background-color: var(--sklearn-color-unfitted-level-2);\n",
       "}\n",
       "\n",
       "#sk-container-id-4 div.sk-estimator.fitted:hover {\n",
       "  /* fitted */\n",
       "  background-color: var(--sklearn-color-fitted-level-2);\n",
       "}\n",
       "\n",
       "/* Specification for estimator info (e.g. \"i\" and \"?\") */\n",
       "\n",
       "/* Common style for \"i\" and \"?\" */\n",
       "\n",
       ".sk-estimator-doc-link,\n",
       "a:link.sk-estimator-doc-link,\n",
       "a:visited.sk-estimator-doc-link {\n",
       "  float: right;\n",
       "  font-size: smaller;\n",
       "  line-height: 1em;\n",
       "  font-family: monospace;\n",
       "  background-color: var(--sklearn-color-background);\n",
       "  border-radius: 1em;\n",
       "  height: 1em;\n",
       "  width: 1em;\n",
       "  text-decoration: none !important;\n",
       "  margin-left: 0.5em;\n",
       "  text-align: center;\n",
       "  /* unfitted */\n",
       "  border: var(--sklearn-color-unfitted-level-1) 1pt solid;\n",
       "  color: var(--sklearn-color-unfitted-level-1);\n",
       "}\n",
       "\n",
       ".sk-estimator-doc-link.fitted,\n",
       "a:link.sk-estimator-doc-link.fitted,\n",
       "a:visited.sk-estimator-doc-link.fitted {\n",
       "  /* fitted */\n",
       "  border: var(--sklearn-color-fitted-level-1) 1pt solid;\n",
       "  color: var(--sklearn-color-fitted-level-1);\n",
       "}\n",
       "\n",
       "/* On hover */\n",
       "div.sk-estimator:hover .sk-estimator-doc-link:hover,\n",
       ".sk-estimator-doc-link:hover,\n",
       "div.sk-label-container:hover .sk-estimator-doc-link:hover,\n",
       ".sk-estimator-doc-link:hover {\n",
       "  /* unfitted */\n",
       "  background-color: var(--sklearn-color-unfitted-level-3);\n",
       "  color: var(--sklearn-color-background);\n",
       "  text-decoration: none;\n",
       "}\n",
       "\n",
       "div.sk-estimator.fitted:hover .sk-estimator-doc-link.fitted:hover,\n",
       ".sk-estimator-doc-link.fitted:hover,\n",
       "div.sk-label-container:hover .sk-estimator-doc-link.fitted:hover,\n",
       ".sk-estimator-doc-link.fitted:hover {\n",
       "  /* fitted */\n",
       "  background-color: var(--sklearn-color-fitted-level-3);\n",
       "  color: var(--sklearn-color-background);\n",
       "  text-decoration: none;\n",
       "}\n",
       "\n",
       "/* Span, style for the box shown on hovering the info icon */\n",
       ".sk-estimator-doc-link span {\n",
       "  display: none;\n",
       "  z-index: 9999;\n",
       "  position: relative;\n",
       "  font-weight: normal;\n",
       "  right: .2ex;\n",
       "  padding: .5ex;\n",
       "  margin: .5ex;\n",
       "  width: min-content;\n",
       "  min-width: 20ex;\n",
       "  max-width: 50ex;\n",
       "  color: var(--sklearn-color-text);\n",
       "  box-shadow: 2pt 2pt 4pt #999;\n",
       "  /* unfitted */\n",
       "  background: var(--sklearn-color-unfitted-level-0);\n",
       "  border: .5pt solid var(--sklearn-color-unfitted-level-3);\n",
       "}\n",
       "\n",
       ".sk-estimator-doc-link.fitted span {\n",
       "  /* fitted */\n",
       "  background: var(--sklearn-color-fitted-level-0);\n",
       "  border: var(--sklearn-color-fitted-level-3);\n",
       "}\n",
       "\n",
       ".sk-estimator-doc-link:hover span {\n",
       "  display: block;\n",
       "}\n",
       "\n",
       "/* \"?\"-specific style due to the `<a>` HTML tag */\n",
       "\n",
       "#sk-container-id-4 a.estimator_doc_link {\n",
       "  float: right;\n",
       "  font-size: 1rem;\n",
       "  line-height: 1em;\n",
       "  font-family: monospace;\n",
       "  background-color: var(--sklearn-color-background);\n",
       "  border-radius: 1rem;\n",
       "  height: 1rem;\n",
       "  width: 1rem;\n",
       "  text-decoration: none;\n",
       "  /* unfitted */\n",
       "  color: var(--sklearn-color-unfitted-level-1);\n",
       "  border: var(--sklearn-color-unfitted-level-1) 1pt solid;\n",
       "}\n",
       "\n",
       "#sk-container-id-4 a.estimator_doc_link.fitted {\n",
       "  /* fitted */\n",
       "  border: var(--sklearn-color-fitted-level-1) 1pt solid;\n",
       "  color: var(--sklearn-color-fitted-level-1);\n",
       "}\n",
       "\n",
       "/* On hover */\n",
       "#sk-container-id-4 a.estimator_doc_link:hover {\n",
       "  /* unfitted */\n",
       "  background-color: var(--sklearn-color-unfitted-level-3);\n",
       "  color: var(--sklearn-color-background);\n",
       "  text-decoration: none;\n",
       "}\n",
       "\n",
       "#sk-container-id-4 a.estimator_doc_link.fitted:hover {\n",
       "  /* fitted */\n",
       "  background-color: var(--sklearn-color-fitted-level-3);\n",
       "}\n",
       "</style><div id=\"sk-container-id-4\" class=\"sk-top-container\"><div class=\"sk-text-repr-fallback\"><pre>LGBMClassifier(colsample_bytree=0.7630572019109578, device=&#x27;gpu&#x27;,\n",
       "               learning_rate=0.009646282271546798, max_bin=255, max_depth=7,\n",
       "               min_child_samples=18, n_estimators=1287, num_leaves=981,\n",
       "               objective=&#x27;binary&#x27;, reg_alpha=2.501382048184091,\n",
       "               reg_lambda=0.0003483839539085421, verbosity=-1)</pre><b>In a Jupyter environment, please rerun this cell to show the HTML representation or trust the notebook. <br />On GitHub, the HTML representation is unable to render, please try loading this page with nbviewer.org.</b></div><div class=\"sk-container\" hidden><div class=\"sk-item\"><div class=\"sk-estimator fitted sk-toggleable\"><input class=\"sk-toggleable__control sk-hidden--visually\" id=\"sk-estimator-id-4\" type=\"checkbox\" checked><label for=\"sk-estimator-id-4\" class=\"sk-toggleable__label fitted sk-toggleable__label-arrow\"><div><div>LGBMClassifier</div></div><div><span class=\"sk-estimator-doc-link fitted\">i<span>Fitted</span></span></div></label><div class=\"sk-toggleable__content fitted\"><pre>LGBMClassifier(colsample_bytree=0.7630572019109578, device=&#x27;gpu&#x27;,\n",
       "               learning_rate=0.009646282271546798, max_bin=255, max_depth=7,\n",
       "               min_child_samples=18, n_estimators=1287, num_leaves=981,\n",
       "               objective=&#x27;binary&#x27;, reg_alpha=2.501382048184091,\n",
       "               reg_lambda=0.0003483839539085421, verbosity=-1)</pre></div> </div></div></div></div>"
      ],
      "text/plain": [
       "LGBMClassifier(colsample_bytree=0.7630572019109578, device='gpu',\n",
       "               learning_rate=0.009646282271546798, max_bin=255, max_depth=7,\n",
       "               min_child_samples=18, n_estimators=1287, num_leaves=981,\n",
       "               objective='binary', reg_alpha=2.501382048184091,\n",
       "               reg_lambda=0.0003483839539085421, verbosity=-1)"
      ]
     },
     "execution_count": 38,
     "metadata": {},
     "output_type": "execute_result"
    }
   ],
   "source": [
    "params = {'objective': 'binary',\n",
    "          'boosting_type': 'gbdt',\n",
    "          'device': 'gpu', \n",
    "          'verbosity': -1,\n",
    "          'max_bin':255,\n",
    "          'learning_rate': 0.009646282271546798, \n",
    "          'num_leaves': 981, \n",
    "          'max_depth': 7, \n",
    "          'min_child_samples': 18, \n",
    "          'colsample_bytree': 0.7630572019109578, \n",
    "          'reg_alpha': 2.501382048184091, \n",
    "          'reg_lambda': 0.0003483839539085421, \n",
    "          'n_estimators': 1287}\n",
    "\n",
    "\n",
    "lgb = LGBMClassifier(**params)\n",
    "lgb.fit(x_train, y_train)"
   ]
  },
  {
   "cell_type": "code",
   "execution_count": 39,
   "metadata": {},
   "outputs": [
    {
     "name": "stderr",
     "output_type": "stream",
     "text": [
      "c:\\Users\\LENOVO\\AppData\\Local\\Programs\\Python\\Python311\\Lib\\site-packages\\sklearn\\utils\\validation.py:2739: UserWarning:\n",
      "\n",
      "X does not have valid feature names, but LGBMClassifier was fitted with feature names\n",
      "\n"
     ]
    },
    {
     "name": "stdout",
     "output_type": "stream",
     "text": [
      "Accuracy: 0.9978473422476243\n",
      "Recall: 1.0\n",
      "Precision: 0.9957156694732137\n",
      "ROC_AUC 0.9978460654796094\n"
     ]
    }
   ],
   "source": [
    "val_predictions_lgb = lgb.predict(x_val)\n",
    "\n",
    "print('Accuracy:', accuracy_score(y_val, val_predictions_lgb))\n",
    "print('Recall:', recall_score(y_val, val_predictions_lgb))\n",
    "print('Precision:', precision_score(y_val, val_predictions_lgb))\n",
    "print('ROC_AUC',roc_auc_score(y_val, val_predictions_lgb))"
   ]
  },
  {
   "cell_type": "code",
   "execution_count": 40,
   "metadata": {},
   "outputs": [
    {
     "name": "stderr",
     "output_type": "stream",
     "text": [
      "c:\\Users\\LENOVO\\AppData\\Local\\Programs\\Python\\Python311\\Lib\\site-packages\\sklearn\\utils\\validation.py:2739: UserWarning:\n",
      "\n",
      "X does not have valid feature names, but LGBMClassifier was fitted with feature names\n",
      "\n"
     ]
    },
    {
     "data": {
      "text/plain": [
       "array([[9.99448023e-01, 5.51977297e-04],\n",
       "       [9.99898189e-01, 1.01810956e-04],\n",
       "       [9.93792550e-01, 6.20744958e-03]])"
      ]
     },
     "execution_count": 40,
     "metadata": {},
     "output_type": "execute_result"
    }
   ],
   "source": [
    "predictions_lgb = lgb.predict_proba(test_data)\n",
    "predictions_lgb"
   ]
  },
  {
   "cell_type": "code",
   "execution_count": 44,
   "metadata": {},
   "outputs": [
    {
     "name": "stderr",
     "output_type": "stream",
     "text": [
      "[I 2025-05-08 00:58:59,082] A new study created in memory with name: no-name-fa84d9c2-062f-4d48-a326-5169fb2f3a8a\n",
      "[I 2025-05-08 01:00:29,752] Trial 0 finished with value: 1.0 and parameters: {'num_layers': 5, 'num_units_0': 104, 'num_units_1': 204, 'num_units_2': 193, 'num_units_3': 170, 'num_units_4': 230, 'dropout_rate': 0.4256062425873889, 'learning_rate': 0.00011025607615807657, 'batch_size': 339}. Best is trial 0 with value: 1.0.\n",
      "[I 2025-05-08 01:01:48,829] Trial 1 finished with value: 1.0 and parameters: {'num_layers': 5, 'num_units_0': 170, 'num_units_1': 95, 'num_units_2': 153, 'num_units_3': 179, 'num_units_4': 142, 'dropout_rate': 0.24835772783539814, 'learning_rate': 0.00068870185565164, 'batch_size': 317}. Best is trial 0 with value: 1.0.\n",
      "[I 2025-05-08 01:03:01,014] Trial 2 finished with value: 1.0 and parameters: {'num_layers': 3, 'num_units_0': 155, 'num_units_1': 134, 'num_units_2': 112, 'dropout_rate': 0.24664550920262754, 'learning_rate': 0.009448766511165175, 'batch_size': 197}. Best is trial 0 with value: 1.0.\n",
      "[I 2025-05-08 01:03:41,349] Trial 3 finished with value: 0.9974308013916016 and parameters: {'num_layers': 2, 'num_units_0': 211, 'num_units_1': 141, 'dropout_rate': 0.45964717994435994, 'learning_rate': 0.0016265696197189361, 'batch_size': 490}. Best is trial 0 with value: 1.0.\n",
      "[I 2025-05-08 01:06:13,215] Trial 4 finished with value: 1.0 and parameters: {'num_layers': 1, 'num_units_0': 196, 'dropout_rate': 0.23353040516034929, 'learning_rate': 0.004399021127986384, 'batch_size': 58}. Best is trial 0 with value: 1.0.\n",
      "[I 2025-05-08 01:08:22,070] Trial 5 finished with value: 0.9974557757377625 and parameters: {'num_layers': 4, 'num_units_0': 70, 'num_units_1': 214, 'num_units_2': 147, 'num_units_3': 210, 'dropout_rate': 0.2869079347414868, 'learning_rate': 0.009942576547776895, 'batch_size': 96}. Best is trial 0 with value: 1.0.\n",
      "[I 2025-05-08 01:08:53,999] Trial 6 finished with value: 0.9288235306739807 and parameters: {'num_layers': 1, 'num_units_0': 76, 'dropout_rate': 0.4270069003209946, 'learning_rate': 0.00011440581067231897, 'batch_size': 285}. Best is trial 0 with value: 1.0.\n",
      "[I 2025-05-08 01:10:15,368] Trial 7 finished with value: 1.0 and parameters: {'num_layers': 5, 'num_units_0': 175, 'num_units_1': 241, 'num_units_2': 185, 'num_units_3': 256, 'num_units_4': 181, 'dropout_rate': 0.39212969748479476, 'learning_rate': 4.7944784464009024e-05, 'batch_size': 411}. Best is trial 0 with value: 1.0.\n",
      "[I 2025-05-08 01:10:46,955] Trial 8 finished with value: 0.786395788192749 and parameters: {'num_layers': 1, 'num_units_0': 170, 'dropout_rate': 0.24754385495943215, 'learning_rate': 1.1934561626143315e-05, 'batch_size': 436}. Best is trial 0 with value: 1.0.\n",
      "[I 2025-05-08 01:12:02,623] Trial 9 finished with value: 1.0 and parameters: {'num_layers': 4, 'num_units_0': 251, 'num_units_1': 190, 'num_units_2': 248, 'num_units_3': 124, 'dropout_rate': 0.26066604952724903, 'learning_rate': 1.1450493132826542e-05, 'batch_size': 451}. Best is trial 0 with value: 1.0.\n"
     ]
    },
    {
     "name": "stdout",
     "output_type": "stream",
     "text": [
      "Best hyperparameters: {'num_layers': 5, 'num_units_0': 104, 'num_units_1': 204, 'num_units_2': 193, 'num_units_3': 170, 'num_units_4': 230, 'dropout_rate': 0.4256062425873889, 'learning_rate': 0.00011025607615807657, 'batch_size': 339}\n"
     ]
    }
   ],
   "source": [
    "def create_model(trial):\n",
    "    model = tf.keras.models.Sequential()\n",
    "    \n",
    "    num_layers = trial.suggest_int(\"num_layers\", 1, 5)\n",
    "    \n",
    "    for i in range(num_layers):\n",
    "        num_units = trial.suggest_int(f\"num_units_{i}\", 64, 256)\n",
    "        model.add(tf.keras.layers.Dense(num_units, activation=\"relu\"))\n",
    "    \n",
    "    dropout_rate = trial.suggest_float(\"dropout_rate\", 0.2, 0.5)\n",
    "    model.add(tf.keras.layers.Dropout(dropout_rate))\n",
    "    \n",
    "    model.add(tf.keras.layers.Dense(1, activation=\"sigmoid\"))\n",
    "    \n",
    "    model.compile(\n",
    "        loss=\"binary_crossentropy\",\n",
    "        optimizer=tf.keras.optimizers.Adam(learning_rate=trial.suggest_float(\"learning_rate\", 1e-5, 1e-2, log=True)),\n",
    "        metrics=[\"accuracy\", \"recall\"]\n",
    "    )\n",
    "    \n",
    "    return model\n",
    "\n",
    "def objective(trial):\n",
    "    model = create_model(trial)\n",
    "    \n",
    "    history = model.fit(x_train, y_train, \n",
    "                        epochs=10, \n",
    "                        batch_size=trial.suggest_int(\"batch_size\", 32, 512),\n",
    "                        validation_data=(x_val, y_val),\n",
    "                        verbose=0)\n",
    "    \n",
    "    return history.history[\"val_recall\"][-1]\n",
    "\n",
    "study = optuna.create_study(direction=\"maximize\")  \n",
    "study.optimize(objective, n_trials=10)\n",
    "\n",
    "print(\"Best hyperparameters:\", study.best_params)"
   ]
  },
  {
   "cell_type": "code",
   "execution_count": 45,
   "metadata": {},
   "outputs": [
    {
     "data": {
      "application/vnd.plotly.v1+json": {
       "config": {
        "plotlyServerURL": "https://plot.ly"
       },
       "data": [
        {
         "mode": "markers",
         "name": "Objective Value",
         "type": "scatter",
         "x": [
          0,
          1,
          2,
          3,
          4,
          5,
          6,
          7,
          8,
          9
         ],
         "y": [
          1,
          1,
          1,
          0.9974308013916016,
          1,
          0.9974557757377625,
          0.9288235306739807,
          1,
          0.786395788192749,
          1
         ]
        },
        {
         "mode": "lines",
         "name": "Best Value",
         "type": "scatter",
         "x": [
          0,
          1,
          2,
          3,
          4,
          5,
          6,
          7,
          8,
          9
         ],
         "y": [
          1,
          1,
          1,
          1,
          1,
          1,
          1,
          1,
          1,
          1
         ]
        },
        {
         "marker": {
          "color": "#cccccc"
         },
         "mode": "markers",
         "name": "Infeasible Trial",
         "showlegend": false,
         "type": "scatter",
         "x": [],
         "y": []
        }
       ],
       "layout": {
        "template": {
         "data": {
          "bar": [
           {
            "error_x": {
             "color": "#2a3f5f"
            },
            "error_y": {
             "color": "#2a3f5f"
            },
            "marker": {
             "line": {
              "color": "#E5ECF6",
              "width": 0.5
             },
             "pattern": {
              "fillmode": "overlay",
              "size": 10,
              "solidity": 0.2
             }
            },
            "type": "bar"
           }
          ],
          "barpolar": [
           {
            "marker": {
             "line": {
              "color": "#E5ECF6",
              "width": 0.5
             },
             "pattern": {
              "fillmode": "overlay",
              "size": 10,
              "solidity": 0.2
             }
            },
            "type": "barpolar"
           }
          ],
          "carpet": [
           {
            "aaxis": {
             "endlinecolor": "#2a3f5f",
             "gridcolor": "white",
             "linecolor": "white",
             "minorgridcolor": "white",
             "startlinecolor": "#2a3f5f"
            },
            "baxis": {
             "endlinecolor": "#2a3f5f",
             "gridcolor": "white",
             "linecolor": "white",
             "minorgridcolor": "white",
             "startlinecolor": "#2a3f5f"
            },
            "type": "carpet"
           }
          ],
          "choropleth": [
           {
            "colorbar": {
             "outlinewidth": 0,
             "ticks": ""
            },
            "type": "choropleth"
           }
          ],
          "contour": [
           {
            "colorbar": {
             "outlinewidth": 0,
             "ticks": ""
            },
            "colorscale": [
             [
              0,
              "#0d0887"
             ],
             [
              0.1111111111111111,
              "#46039f"
             ],
             [
              0.2222222222222222,
              "#7201a8"
             ],
             [
              0.3333333333333333,
              "#9c179e"
             ],
             [
              0.4444444444444444,
              "#bd3786"
             ],
             [
              0.5555555555555556,
              "#d8576b"
             ],
             [
              0.6666666666666666,
              "#ed7953"
             ],
             [
              0.7777777777777778,
              "#fb9f3a"
             ],
             [
              0.8888888888888888,
              "#fdca26"
             ],
             [
              1,
              "#f0f921"
             ]
            ],
            "type": "contour"
           }
          ],
          "contourcarpet": [
           {
            "colorbar": {
             "outlinewidth": 0,
             "ticks": ""
            },
            "type": "contourcarpet"
           }
          ],
          "heatmap": [
           {
            "colorbar": {
             "outlinewidth": 0,
             "ticks": ""
            },
            "colorscale": [
             [
              0,
              "#0d0887"
             ],
             [
              0.1111111111111111,
              "#46039f"
             ],
             [
              0.2222222222222222,
              "#7201a8"
             ],
             [
              0.3333333333333333,
              "#9c179e"
             ],
             [
              0.4444444444444444,
              "#bd3786"
             ],
             [
              0.5555555555555556,
              "#d8576b"
             ],
             [
              0.6666666666666666,
              "#ed7953"
             ],
             [
              0.7777777777777778,
              "#fb9f3a"
             ],
             [
              0.8888888888888888,
              "#fdca26"
             ],
             [
              1,
              "#f0f921"
             ]
            ],
            "type": "heatmap"
           }
          ],
          "histogram": [
           {
            "marker": {
             "pattern": {
              "fillmode": "overlay",
              "size": 10,
              "solidity": 0.2
             }
            },
            "type": "histogram"
           }
          ],
          "histogram2d": [
           {
            "colorbar": {
             "outlinewidth": 0,
             "ticks": ""
            },
            "colorscale": [
             [
              0,
              "#0d0887"
             ],
             [
              0.1111111111111111,
              "#46039f"
             ],
             [
              0.2222222222222222,
              "#7201a8"
             ],
             [
              0.3333333333333333,
              "#9c179e"
             ],
             [
              0.4444444444444444,
              "#bd3786"
             ],
             [
              0.5555555555555556,
              "#d8576b"
             ],
             [
              0.6666666666666666,
              "#ed7953"
             ],
             [
              0.7777777777777778,
              "#fb9f3a"
             ],
             [
              0.8888888888888888,
              "#fdca26"
             ],
             [
              1,
              "#f0f921"
             ]
            ],
            "type": "histogram2d"
           }
          ],
          "histogram2dcontour": [
           {
            "colorbar": {
             "outlinewidth": 0,
             "ticks": ""
            },
            "colorscale": [
             [
              0,
              "#0d0887"
             ],
             [
              0.1111111111111111,
              "#46039f"
             ],
             [
              0.2222222222222222,
              "#7201a8"
             ],
             [
              0.3333333333333333,
              "#9c179e"
             ],
             [
              0.4444444444444444,
              "#bd3786"
             ],
             [
              0.5555555555555556,
              "#d8576b"
             ],
             [
              0.6666666666666666,
              "#ed7953"
             ],
             [
              0.7777777777777778,
              "#fb9f3a"
             ],
             [
              0.8888888888888888,
              "#fdca26"
             ],
             [
              1,
              "#f0f921"
             ]
            ],
            "type": "histogram2dcontour"
           }
          ],
          "mesh3d": [
           {
            "colorbar": {
             "outlinewidth": 0,
             "ticks": ""
            },
            "type": "mesh3d"
           }
          ],
          "parcoords": [
           {
            "line": {
             "colorbar": {
              "outlinewidth": 0,
              "ticks": ""
             }
            },
            "type": "parcoords"
           }
          ],
          "pie": [
           {
            "automargin": true,
            "type": "pie"
           }
          ],
          "scatter": [
           {
            "fillpattern": {
             "fillmode": "overlay",
             "size": 10,
             "solidity": 0.2
            },
            "type": "scatter"
           }
          ],
          "scatter3d": [
           {
            "line": {
             "colorbar": {
              "outlinewidth": 0,
              "ticks": ""
             }
            },
            "marker": {
             "colorbar": {
              "outlinewidth": 0,
              "ticks": ""
             }
            },
            "type": "scatter3d"
           }
          ],
          "scattercarpet": [
           {
            "marker": {
             "colorbar": {
              "outlinewidth": 0,
              "ticks": ""
             }
            },
            "type": "scattercarpet"
           }
          ],
          "scattergeo": [
           {
            "marker": {
             "colorbar": {
              "outlinewidth": 0,
              "ticks": ""
             }
            },
            "type": "scattergeo"
           }
          ],
          "scattergl": [
           {
            "marker": {
             "colorbar": {
              "outlinewidth": 0,
              "ticks": ""
             }
            },
            "type": "scattergl"
           }
          ],
          "scattermap": [
           {
            "marker": {
             "colorbar": {
              "outlinewidth": 0,
              "ticks": ""
             }
            },
            "type": "scattermap"
           }
          ],
          "scattermapbox": [
           {
            "marker": {
             "colorbar": {
              "outlinewidth": 0,
              "ticks": ""
             }
            },
            "type": "scattermapbox"
           }
          ],
          "scatterpolar": [
           {
            "marker": {
             "colorbar": {
              "outlinewidth": 0,
              "ticks": ""
             }
            },
            "type": "scatterpolar"
           }
          ],
          "scatterpolargl": [
           {
            "marker": {
             "colorbar": {
              "outlinewidth": 0,
              "ticks": ""
             }
            },
            "type": "scatterpolargl"
           }
          ],
          "scatterternary": [
           {
            "marker": {
             "colorbar": {
              "outlinewidth": 0,
              "ticks": ""
             }
            },
            "type": "scatterternary"
           }
          ],
          "surface": [
           {
            "colorbar": {
             "outlinewidth": 0,
             "ticks": ""
            },
            "colorscale": [
             [
              0,
              "#0d0887"
             ],
             [
              0.1111111111111111,
              "#46039f"
             ],
             [
              0.2222222222222222,
              "#7201a8"
             ],
             [
              0.3333333333333333,
              "#9c179e"
             ],
             [
              0.4444444444444444,
              "#bd3786"
             ],
             [
              0.5555555555555556,
              "#d8576b"
             ],
             [
              0.6666666666666666,
              "#ed7953"
             ],
             [
              0.7777777777777778,
              "#fb9f3a"
             ],
             [
              0.8888888888888888,
              "#fdca26"
             ],
             [
              1,
              "#f0f921"
             ]
            ],
            "type": "surface"
           }
          ],
          "table": [
           {
            "cells": {
             "fill": {
              "color": "#EBF0F8"
             },
             "line": {
              "color": "white"
             }
            },
            "header": {
             "fill": {
              "color": "#C8D4E3"
             },
             "line": {
              "color": "white"
             }
            },
            "type": "table"
           }
          ]
         },
         "layout": {
          "annotationdefaults": {
           "arrowcolor": "#2a3f5f",
           "arrowhead": 0,
           "arrowwidth": 1
          },
          "autotypenumbers": "strict",
          "coloraxis": {
           "colorbar": {
            "outlinewidth": 0,
            "ticks": ""
           }
          },
          "colorscale": {
           "diverging": [
            [
             0,
             "#8e0152"
            ],
            [
             0.1,
             "#c51b7d"
            ],
            [
             0.2,
             "#de77ae"
            ],
            [
             0.3,
             "#f1b6da"
            ],
            [
             0.4,
             "#fde0ef"
            ],
            [
             0.5,
             "#f7f7f7"
            ],
            [
             0.6,
             "#e6f5d0"
            ],
            [
             0.7,
             "#b8e186"
            ],
            [
             0.8,
             "#7fbc41"
            ],
            [
             0.9,
             "#4d9221"
            ],
            [
             1,
             "#276419"
            ]
           ],
           "sequential": [
            [
             0,
             "#0d0887"
            ],
            [
             0.1111111111111111,
             "#46039f"
            ],
            [
             0.2222222222222222,
             "#7201a8"
            ],
            [
             0.3333333333333333,
             "#9c179e"
            ],
            [
             0.4444444444444444,
             "#bd3786"
            ],
            [
             0.5555555555555556,
             "#d8576b"
            ],
            [
             0.6666666666666666,
             "#ed7953"
            ],
            [
             0.7777777777777778,
             "#fb9f3a"
            ],
            [
             0.8888888888888888,
             "#fdca26"
            ],
            [
             1,
             "#f0f921"
            ]
           ],
           "sequentialminus": [
            [
             0,
             "#0d0887"
            ],
            [
             0.1111111111111111,
             "#46039f"
            ],
            [
             0.2222222222222222,
             "#7201a8"
            ],
            [
             0.3333333333333333,
             "#9c179e"
            ],
            [
             0.4444444444444444,
             "#bd3786"
            ],
            [
             0.5555555555555556,
             "#d8576b"
            ],
            [
             0.6666666666666666,
             "#ed7953"
            ],
            [
             0.7777777777777778,
             "#fb9f3a"
            ],
            [
             0.8888888888888888,
             "#fdca26"
            ],
            [
             1,
             "#f0f921"
            ]
           ]
          },
          "colorway": [
           "#636efa",
           "#EF553B",
           "#00cc96",
           "#ab63fa",
           "#FFA15A",
           "#19d3f3",
           "#FF6692",
           "#B6E880",
           "#FF97FF",
           "#FECB52"
          ],
          "font": {
           "color": "#2a3f5f"
          },
          "geo": {
           "bgcolor": "white",
           "lakecolor": "white",
           "landcolor": "#E5ECF6",
           "showlakes": true,
           "showland": true,
           "subunitcolor": "white"
          },
          "hoverlabel": {
           "align": "left"
          },
          "hovermode": "closest",
          "mapbox": {
           "style": "light"
          },
          "paper_bgcolor": "white",
          "plot_bgcolor": "#E5ECF6",
          "polar": {
           "angularaxis": {
            "gridcolor": "white",
            "linecolor": "white",
            "ticks": ""
           },
           "bgcolor": "#E5ECF6",
           "radialaxis": {
            "gridcolor": "white",
            "linecolor": "white",
            "ticks": ""
           }
          },
          "scene": {
           "xaxis": {
            "backgroundcolor": "#E5ECF6",
            "gridcolor": "white",
            "gridwidth": 2,
            "linecolor": "white",
            "showbackground": true,
            "ticks": "",
            "zerolinecolor": "white"
           },
           "yaxis": {
            "backgroundcolor": "#E5ECF6",
            "gridcolor": "white",
            "gridwidth": 2,
            "linecolor": "white",
            "showbackground": true,
            "ticks": "",
            "zerolinecolor": "white"
           },
           "zaxis": {
            "backgroundcolor": "#E5ECF6",
            "gridcolor": "white",
            "gridwidth": 2,
            "linecolor": "white",
            "showbackground": true,
            "ticks": "",
            "zerolinecolor": "white"
           }
          },
          "shapedefaults": {
           "line": {
            "color": "#2a3f5f"
           }
          },
          "ternary": {
           "aaxis": {
            "gridcolor": "white",
            "linecolor": "white",
            "ticks": ""
           },
           "baxis": {
            "gridcolor": "white",
            "linecolor": "white",
            "ticks": ""
           },
           "bgcolor": "#E5ECF6",
           "caxis": {
            "gridcolor": "white",
            "linecolor": "white",
            "ticks": ""
           }
          },
          "title": {
           "x": 0.05
          },
          "xaxis": {
           "automargin": true,
           "gridcolor": "white",
           "linecolor": "white",
           "ticks": "",
           "title": {
            "standoff": 15
           },
           "zerolinecolor": "white",
           "zerolinewidth": 2
          },
          "yaxis": {
           "automargin": true,
           "gridcolor": "white",
           "linecolor": "white",
           "ticks": "",
           "title": {
            "standoff": 15
           },
           "zerolinecolor": "white",
           "zerolinewidth": 2
          }
         }
        },
        "title": {
         "text": "Optimization History Plot"
        },
        "xaxis": {
         "title": {
          "text": "Trial"
         }
        },
        "yaxis": {
         "title": {
          "text": "Objective Value"
         }
        }
       }
      }
     },
     "metadata": {},
     "output_type": "display_data"
    },
    {
     "data": {
      "application/vnd.plotly.v1+json": {
       "config": {
        "plotlyServerURL": "https://plot.ly"
       },
       "data": [
        {
         "cliponaxis": false,
         "hovertemplate": [
          "batch_size (IntDistribution): 0.11857799765908779<extra></extra>",
          "num_units_0 (IntDistribution): 0.1881320147649811<extra></extra>",
          "learning_rate (FloatDistribution): 0.1902105540696874<extra></extra>",
          "dropout_rate (FloatDistribution): 0.196381738412176<extra></extra>",
          "num_layers (IntDistribution): 0.3066976950940678<extra></extra>"
         ],
         "name": "Objective Value",
         "orientation": "h",
         "text": [
          "0.12",
          "0.19",
          "0.19",
          "0.20",
          "0.31"
         ],
         "textposition": "outside",
         "type": "bar",
         "x": [
          0.11857799765908779,
          0.1881320147649811,
          0.1902105540696874,
          0.196381738412176,
          0.3066976950940678
         ],
         "y": [
          "batch_size",
          "num_units_0",
          "learning_rate",
          "dropout_rate",
          "num_layers"
         ]
        }
       ],
       "layout": {
        "template": {
         "data": {
          "bar": [
           {
            "error_x": {
             "color": "#2a3f5f"
            },
            "error_y": {
             "color": "#2a3f5f"
            },
            "marker": {
             "line": {
              "color": "#E5ECF6",
              "width": 0.5
             },
             "pattern": {
              "fillmode": "overlay",
              "size": 10,
              "solidity": 0.2
             }
            },
            "type": "bar"
           }
          ],
          "barpolar": [
           {
            "marker": {
             "line": {
              "color": "#E5ECF6",
              "width": 0.5
             },
             "pattern": {
              "fillmode": "overlay",
              "size": 10,
              "solidity": 0.2
             }
            },
            "type": "barpolar"
           }
          ],
          "carpet": [
           {
            "aaxis": {
             "endlinecolor": "#2a3f5f",
             "gridcolor": "white",
             "linecolor": "white",
             "minorgridcolor": "white",
             "startlinecolor": "#2a3f5f"
            },
            "baxis": {
             "endlinecolor": "#2a3f5f",
             "gridcolor": "white",
             "linecolor": "white",
             "minorgridcolor": "white",
             "startlinecolor": "#2a3f5f"
            },
            "type": "carpet"
           }
          ],
          "choropleth": [
           {
            "colorbar": {
             "outlinewidth": 0,
             "ticks": ""
            },
            "type": "choropleth"
           }
          ],
          "contour": [
           {
            "colorbar": {
             "outlinewidth": 0,
             "ticks": ""
            },
            "colorscale": [
             [
              0,
              "#0d0887"
             ],
             [
              0.1111111111111111,
              "#46039f"
             ],
             [
              0.2222222222222222,
              "#7201a8"
             ],
             [
              0.3333333333333333,
              "#9c179e"
             ],
             [
              0.4444444444444444,
              "#bd3786"
             ],
             [
              0.5555555555555556,
              "#d8576b"
             ],
             [
              0.6666666666666666,
              "#ed7953"
             ],
             [
              0.7777777777777778,
              "#fb9f3a"
             ],
             [
              0.8888888888888888,
              "#fdca26"
             ],
             [
              1,
              "#f0f921"
             ]
            ],
            "type": "contour"
           }
          ],
          "contourcarpet": [
           {
            "colorbar": {
             "outlinewidth": 0,
             "ticks": ""
            },
            "type": "contourcarpet"
           }
          ],
          "heatmap": [
           {
            "colorbar": {
             "outlinewidth": 0,
             "ticks": ""
            },
            "colorscale": [
             [
              0,
              "#0d0887"
             ],
             [
              0.1111111111111111,
              "#46039f"
             ],
             [
              0.2222222222222222,
              "#7201a8"
             ],
             [
              0.3333333333333333,
              "#9c179e"
             ],
             [
              0.4444444444444444,
              "#bd3786"
             ],
             [
              0.5555555555555556,
              "#d8576b"
             ],
             [
              0.6666666666666666,
              "#ed7953"
             ],
             [
              0.7777777777777778,
              "#fb9f3a"
             ],
             [
              0.8888888888888888,
              "#fdca26"
             ],
             [
              1,
              "#f0f921"
             ]
            ],
            "type": "heatmap"
           }
          ],
          "histogram": [
           {
            "marker": {
             "pattern": {
              "fillmode": "overlay",
              "size": 10,
              "solidity": 0.2
             }
            },
            "type": "histogram"
           }
          ],
          "histogram2d": [
           {
            "colorbar": {
             "outlinewidth": 0,
             "ticks": ""
            },
            "colorscale": [
             [
              0,
              "#0d0887"
             ],
             [
              0.1111111111111111,
              "#46039f"
             ],
             [
              0.2222222222222222,
              "#7201a8"
             ],
             [
              0.3333333333333333,
              "#9c179e"
             ],
             [
              0.4444444444444444,
              "#bd3786"
             ],
             [
              0.5555555555555556,
              "#d8576b"
             ],
             [
              0.6666666666666666,
              "#ed7953"
             ],
             [
              0.7777777777777778,
              "#fb9f3a"
             ],
             [
              0.8888888888888888,
              "#fdca26"
             ],
             [
              1,
              "#f0f921"
             ]
            ],
            "type": "histogram2d"
           }
          ],
          "histogram2dcontour": [
           {
            "colorbar": {
             "outlinewidth": 0,
             "ticks": ""
            },
            "colorscale": [
             [
              0,
              "#0d0887"
             ],
             [
              0.1111111111111111,
              "#46039f"
             ],
             [
              0.2222222222222222,
              "#7201a8"
             ],
             [
              0.3333333333333333,
              "#9c179e"
             ],
             [
              0.4444444444444444,
              "#bd3786"
             ],
             [
              0.5555555555555556,
              "#d8576b"
             ],
             [
              0.6666666666666666,
              "#ed7953"
             ],
             [
              0.7777777777777778,
              "#fb9f3a"
             ],
             [
              0.8888888888888888,
              "#fdca26"
             ],
             [
              1,
              "#f0f921"
             ]
            ],
            "type": "histogram2dcontour"
           }
          ],
          "mesh3d": [
           {
            "colorbar": {
             "outlinewidth": 0,
             "ticks": ""
            },
            "type": "mesh3d"
           }
          ],
          "parcoords": [
           {
            "line": {
             "colorbar": {
              "outlinewidth": 0,
              "ticks": ""
             }
            },
            "type": "parcoords"
           }
          ],
          "pie": [
           {
            "automargin": true,
            "type": "pie"
           }
          ],
          "scatter": [
           {
            "fillpattern": {
             "fillmode": "overlay",
             "size": 10,
             "solidity": 0.2
            },
            "type": "scatter"
           }
          ],
          "scatter3d": [
           {
            "line": {
             "colorbar": {
              "outlinewidth": 0,
              "ticks": ""
             }
            },
            "marker": {
             "colorbar": {
              "outlinewidth": 0,
              "ticks": ""
             }
            },
            "type": "scatter3d"
           }
          ],
          "scattercarpet": [
           {
            "marker": {
             "colorbar": {
              "outlinewidth": 0,
              "ticks": ""
             }
            },
            "type": "scattercarpet"
           }
          ],
          "scattergeo": [
           {
            "marker": {
             "colorbar": {
              "outlinewidth": 0,
              "ticks": ""
             }
            },
            "type": "scattergeo"
           }
          ],
          "scattergl": [
           {
            "marker": {
             "colorbar": {
              "outlinewidth": 0,
              "ticks": ""
             }
            },
            "type": "scattergl"
           }
          ],
          "scattermap": [
           {
            "marker": {
             "colorbar": {
              "outlinewidth": 0,
              "ticks": ""
             }
            },
            "type": "scattermap"
           }
          ],
          "scattermapbox": [
           {
            "marker": {
             "colorbar": {
              "outlinewidth": 0,
              "ticks": ""
             }
            },
            "type": "scattermapbox"
           }
          ],
          "scatterpolar": [
           {
            "marker": {
             "colorbar": {
              "outlinewidth": 0,
              "ticks": ""
             }
            },
            "type": "scatterpolar"
           }
          ],
          "scatterpolargl": [
           {
            "marker": {
             "colorbar": {
              "outlinewidth": 0,
              "ticks": ""
             }
            },
            "type": "scatterpolargl"
           }
          ],
          "scatterternary": [
           {
            "marker": {
             "colorbar": {
              "outlinewidth": 0,
              "ticks": ""
             }
            },
            "type": "scatterternary"
           }
          ],
          "surface": [
           {
            "colorbar": {
             "outlinewidth": 0,
             "ticks": ""
            },
            "colorscale": [
             [
              0,
              "#0d0887"
             ],
             [
              0.1111111111111111,
              "#46039f"
             ],
             [
              0.2222222222222222,
              "#7201a8"
             ],
             [
              0.3333333333333333,
              "#9c179e"
             ],
             [
              0.4444444444444444,
              "#bd3786"
             ],
             [
              0.5555555555555556,
              "#d8576b"
             ],
             [
              0.6666666666666666,
              "#ed7953"
             ],
             [
              0.7777777777777778,
              "#fb9f3a"
             ],
             [
              0.8888888888888888,
              "#fdca26"
             ],
             [
              1,
              "#f0f921"
             ]
            ],
            "type": "surface"
           }
          ],
          "table": [
           {
            "cells": {
             "fill": {
              "color": "#EBF0F8"
             },
             "line": {
              "color": "white"
             }
            },
            "header": {
             "fill": {
              "color": "#C8D4E3"
             },
             "line": {
              "color": "white"
             }
            },
            "type": "table"
           }
          ]
         },
         "layout": {
          "annotationdefaults": {
           "arrowcolor": "#2a3f5f",
           "arrowhead": 0,
           "arrowwidth": 1
          },
          "autotypenumbers": "strict",
          "coloraxis": {
           "colorbar": {
            "outlinewidth": 0,
            "ticks": ""
           }
          },
          "colorscale": {
           "diverging": [
            [
             0,
             "#8e0152"
            ],
            [
             0.1,
             "#c51b7d"
            ],
            [
             0.2,
             "#de77ae"
            ],
            [
             0.3,
             "#f1b6da"
            ],
            [
             0.4,
             "#fde0ef"
            ],
            [
             0.5,
             "#f7f7f7"
            ],
            [
             0.6,
             "#e6f5d0"
            ],
            [
             0.7,
             "#b8e186"
            ],
            [
             0.8,
             "#7fbc41"
            ],
            [
             0.9,
             "#4d9221"
            ],
            [
             1,
             "#276419"
            ]
           ],
           "sequential": [
            [
             0,
             "#0d0887"
            ],
            [
             0.1111111111111111,
             "#46039f"
            ],
            [
             0.2222222222222222,
             "#7201a8"
            ],
            [
             0.3333333333333333,
             "#9c179e"
            ],
            [
             0.4444444444444444,
             "#bd3786"
            ],
            [
             0.5555555555555556,
             "#d8576b"
            ],
            [
             0.6666666666666666,
             "#ed7953"
            ],
            [
             0.7777777777777778,
             "#fb9f3a"
            ],
            [
             0.8888888888888888,
             "#fdca26"
            ],
            [
             1,
             "#f0f921"
            ]
           ],
           "sequentialminus": [
            [
             0,
             "#0d0887"
            ],
            [
             0.1111111111111111,
             "#46039f"
            ],
            [
             0.2222222222222222,
             "#7201a8"
            ],
            [
             0.3333333333333333,
             "#9c179e"
            ],
            [
             0.4444444444444444,
             "#bd3786"
            ],
            [
             0.5555555555555556,
             "#d8576b"
            ],
            [
             0.6666666666666666,
             "#ed7953"
            ],
            [
             0.7777777777777778,
             "#fb9f3a"
            ],
            [
             0.8888888888888888,
             "#fdca26"
            ],
            [
             1,
             "#f0f921"
            ]
           ]
          },
          "colorway": [
           "#636efa",
           "#EF553B",
           "#00cc96",
           "#ab63fa",
           "#FFA15A",
           "#19d3f3",
           "#FF6692",
           "#B6E880",
           "#FF97FF",
           "#FECB52"
          ],
          "font": {
           "color": "#2a3f5f"
          },
          "geo": {
           "bgcolor": "white",
           "lakecolor": "white",
           "landcolor": "#E5ECF6",
           "showlakes": true,
           "showland": true,
           "subunitcolor": "white"
          },
          "hoverlabel": {
           "align": "left"
          },
          "hovermode": "closest",
          "mapbox": {
           "style": "light"
          },
          "paper_bgcolor": "white",
          "plot_bgcolor": "#E5ECF6",
          "polar": {
           "angularaxis": {
            "gridcolor": "white",
            "linecolor": "white",
            "ticks": ""
           },
           "bgcolor": "#E5ECF6",
           "radialaxis": {
            "gridcolor": "white",
            "linecolor": "white",
            "ticks": ""
           }
          },
          "scene": {
           "xaxis": {
            "backgroundcolor": "#E5ECF6",
            "gridcolor": "white",
            "gridwidth": 2,
            "linecolor": "white",
            "showbackground": true,
            "ticks": "",
            "zerolinecolor": "white"
           },
           "yaxis": {
            "backgroundcolor": "#E5ECF6",
            "gridcolor": "white",
            "gridwidth": 2,
            "linecolor": "white",
            "showbackground": true,
            "ticks": "",
            "zerolinecolor": "white"
           },
           "zaxis": {
            "backgroundcolor": "#E5ECF6",
            "gridcolor": "white",
            "gridwidth": 2,
            "linecolor": "white",
            "showbackground": true,
            "ticks": "",
            "zerolinecolor": "white"
           }
          },
          "shapedefaults": {
           "line": {
            "color": "#2a3f5f"
           }
          },
          "ternary": {
           "aaxis": {
            "gridcolor": "white",
            "linecolor": "white",
            "ticks": ""
           },
           "baxis": {
            "gridcolor": "white",
            "linecolor": "white",
            "ticks": ""
           },
           "bgcolor": "#E5ECF6",
           "caxis": {
            "gridcolor": "white",
            "linecolor": "white",
            "ticks": ""
           }
          },
          "title": {
           "x": 0.05
          },
          "xaxis": {
           "automargin": true,
           "gridcolor": "white",
           "linecolor": "white",
           "ticks": "",
           "title": {
            "standoff": 15
           },
           "zerolinecolor": "white",
           "zerolinewidth": 2
          },
          "yaxis": {
           "automargin": true,
           "gridcolor": "white",
           "linecolor": "white",
           "ticks": "",
           "title": {
            "standoff": 15
           },
           "zerolinecolor": "white",
           "zerolinewidth": 2
          }
         }
        },
        "title": {
         "text": "Hyperparameter Importances"
        },
        "xaxis": {
         "title": {
          "text": "Hyperparameter Importance"
         }
        },
        "yaxis": {
         "title": {
          "text": "Hyperparameter"
         }
        }
       }
      }
     },
     "metadata": {},
     "output_type": "display_data"
    },
    {
     "data": {
      "application/vnd.plotly.v1+json": {
       "config": {
        "plotlyServerURL": "https://plot.ly"
       },
       "data": [
        {
         "dimensions": [
          {
           "label": "Objective Value",
           "range": [
            1,
            1
           ],
           "values": [
            1,
            1,
            1
           ]
          },
          {
           "label": "batch_size",
           "range": [
            317,
            411
           ],
           "values": [
            339,
            317,
            411
           ]
          },
          {
           "label": "dropout_rate",
           "range": [
            0.24835772783539814,
            0.4256062425873889
           ],
           "values": [
            0.4256062425873889,
            0.24835772783539814,
            0.39212969748479476
           ]
          },
          {
           "label": "learning_rate",
           "range": [
            -4.319258629404613,
            -3.1619687468416267
           ],
           "ticktext": [
            "4.79e-05",
            "0.0001",
            "0.000689"
           ],
           "tickvals": [
            -4.319258629404613,
            -4,
            -3.1619687468416267
           ],
           "values": [
            -3.957597467445522,
            -3.1619687468416267,
            -4.319258629404613
           ]
          },
          {
           "label": "num_layers",
           "range": [
            5,
            5
           ],
           "values": [
            5,
            5,
            5
           ]
          },
          {
           "label": "num_units_0",
           "range": [
            104,
            175
           ],
           "values": [
            104,
            170,
            175
           ]
          },
          {
           "label": "num_units_1",
           "range": [
            95,
            241
           ],
           "values": [
            204,
            95,
            241
           ]
          },
          {
           "label": "num_units_2",
           "range": [
            153,
            193
           ],
           "values": [
            193,
            153,
            185
           ]
          },
          {
           "label": "num_units_3",
           "range": [
            170,
            256
           ],
           "values": [
            170,
            179,
            256
           ]
          },
          {
           "label": "num_units_4",
           "range": [
            142,
            230
           ],
           "values": [
            230,
            142,
            181
           ]
          }
         ],
         "labelangle": 30,
         "labelside": "bottom",
         "line": {
          "color": [
           1,
           1,
           1
          ],
          "colorbar": {
           "title": {
            "text": "Objective Value"
           }
          },
          "colorscale": [
           [
            0,
            "rgb(247,251,255)"
           ],
           [
            0.125,
            "rgb(222,235,247)"
           ],
           [
            0.25,
            "rgb(198,219,239)"
           ],
           [
            0.375,
            "rgb(158,202,225)"
           ],
           [
            0.5,
            "rgb(107,174,214)"
           ],
           [
            0.625,
            "rgb(66,146,198)"
           ],
           [
            0.75,
            "rgb(33,113,181)"
           ],
           [
            0.875,
            "rgb(8,81,156)"
           ],
           [
            1,
            "rgb(8,48,107)"
           ]
          ],
          "reversescale": false,
          "showscale": true
         },
         "type": "parcoords"
        }
       ],
       "layout": {
        "template": {
         "data": {
          "bar": [
           {
            "error_x": {
             "color": "#2a3f5f"
            },
            "error_y": {
             "color": "#2a3f5f"
            },
            "marker": {
             "line": {
              "color": "#E5ECF6",
              "width": 0.5
             },
             "pattern": {
              "fillmode": "overlay",
              "size": 10,
              "solidity": 0.2
             }
            },
            "type": "bar"
           }
          ],
          "barpolar": [
           {
            "marker": {
             "line": {
              "color": "#E5ECF6",
              "width": 0.5
             },
             "pattern": {
              "fillmode": "overlay",
              "size": 10,
              "solidity": 0.2
             }
            },
            "type": "barpolar"
           }
          ],
          "carpet": [
           {
            "aaxis": {
             "endlinecolor": "#2a3f5f",
             "gridcolor": "white",
             "linecolor": "white",
             "minorgridcolor": "white",
             "startlinecolor": "#2a3f5f"
            },
            "baxis": {
             "endlinecolor": "#2a3f5f",
             "gridcolor": "white",
             "linecolor": "white",
             "minorgridcolor": "white",
             "startlinecolor": "#2a3f5f"
            },
            "type": "carpet"
           }
          ],
          "choropleth": [
           {
            "colorbar": {
             "outlinewidth": 0,
             "ticks": ""
            },
            "type": "choropleth"
           }
          ],
          "contour": [
           {
            "colorbar": {
             "outlinewidth": 0,
             "ticks": ""
            },
            "colorscale": [
             [
              0,
              "#0d0887"
             ],
             [
              0.1111111111111111,
              "#46039f"
             ],
             [
              0.2222222222222222,
              "#7201a8"
             ],
             [
              0.3333333333333333,
              "#9c179e"
             ],
             [
              0.4444444444444444,
              "#bd3786"
             ],
             [
              0.5555555555555556,
              "#d8576b"
             ],
             [
              0.6666666666666666,
              "#ed7953"
             ],
             [
              0.7777777777777778,
              "#fb9f3a"
             ],
             [
              0.8888888888888888,
              "#fdca26"
             ],
             [
              1,
              "#f0f921"
             ]
            ],
            "type": "contour"
           }
          ],
          "contourcarpet": [
           {
            "colorbar": {
             "outlinewidth": 0,
             "ticks": ""
            },
            "type": "contourcarpet"
           }
          ],
          "heatmap": [
           {
            "colorbar": {
             "outlinewidth": 0,
             "ticks": ""
            },
            "colorscale": [
             [
              0,
              "#0d0887"
             ],
             [
              0.1111111111111111,
              "#46039f"
             ],
             [
              0.2222222222222222,
              "#7201a8"
             ],
             [
              0.3333333333333333,
              "#9c179e"
             ],
             [
              0.4444444444444444,
              "#bd3786"
             ],
             [
              0.5555555555555556,
              "#d8576b"
             ],
             [
              0.6666666666666666,
              "#ed7953"
             ],
             [
              0.7777777777777778,
              "#fb9f3a"
             ],
             [
              0.8888888888888888,
              "#fdca26"
             ],
             [
              1,
              "#f0f921"
             ]
            ],
            "type": "heatmap"
           }
          ],
          "histogram": [
           {
            "marker": {
             "pattern": {
              "fillmode": "overlay",
              "size": 10,
              "solidity": 0.2
             }
            },
            "type": "histogram"
           }
          ],
          "histogram2d": [
           {
            "colorbar": {
             "outlinewidth": 0,
             "ticks": ""
            },
            "colorscale": [
             [
              0,
              "#0d0887"
             ],
             [
              0.1111111111111111,
              "#46039f"
             ],
             [
              0.2222222222222222,
              "#7201a8"
             ],
             [
              0.3333333333333333,
              "#9c179e"
             ],
             [
              0.4444444444444444,
              "#bd3786"
             ],
             [
              0.5555555555555556,
              "#d8576b"
             ],
             [
              0.6666666666666666,
              "#ed7953"
             ],
             [
              0.7777777777777778,
              "#fb9f3a"
             ],
             [
              0.8888888888888888,
              "#fdca26"
             ],
             [
              1,
              "#f0f921"
             ]
            ],
            "type": "histogram2d"
           }
          ],
          "histogram2dcontour": [
           {
            "colorbar": {
             "outlinewidth": 0,
             "ticks": ""
            },
            "colorscale": [
             [
              0,
              "#0d0887"
             ],
             [
              0.1111111111111111,
              "#46039f"
             ],
             [
              0.2222222222222222,
              "#7201a8"
             ],
             [
              0.3333333333333333,
              "#9c179e"
             ],
             [
              0.4444444444444444,
              "#bd3786"
             ],
             [
              0.5555555555555556,
              "#d8576b"
             ],
             [
              0.6666666666666666,
              "#ed7953"
             ],
             [
              0.7777777777777778,
              "#fb9f3a"
             ],
             [
              0.8888888888888888,
              "#fdca26"
             ],
             [
              1,
              "#f0f921"
             ]
            ],
            "type": "histogram2dcontour"
           }
          ],
          "mesh3d": [
           {
            "colorbar": {
             "outlinewidth": 0,
             "ticks": ""
            },
            "type": "mesh3d"
           }
          ],
          "parcoords": [
           {
            "line": {
             "colorbar": {
              "outlinewidth": 0,
              "ticks": ""
             }
            },
            "type": "parcoords"
           }
          ],
          "pie": [
           {
            "automargin": true,
            "type": "pie"
           }
          ],
          "scatter": [
           {
            "fillpattern": {
             "fillmode": "overlay",
             "size": 10,
             "solidity": 0.2
            },
            "type": "scatter"
           }
          ],
          "scatter3d": [
           {
            "line": {
             "colorbar": {
              "outlinewidth": 0,
              "ticks": ""
             }
            },
            "marker": {
             "colorbar": {
              "outlinewidth": 0,
              "ticks": ""
             }
            },
            "type": "scatter3d"
           }
          ],
          "scattercarpet": [
           {
            "marker": {
             "colorbar": {
              "outlinewidth": 0,
              "ticks": ""
             }
            },
            "type": "scattercarpet"
           }
          ],
          "scattergeo": [
           {
            "marker": {
             "colorbar": {
              "outlinewidth": 0,
              "ticks": ""
             }
            },
            "type": "scattergeo"
           }
          ],
          "scattergl": [
           {
            "marker": {
             "colorbar": {
              "outlinewidth": 0,
              "ticks": ""
             }
            },
            "type": "scattergl"
           }
          ],
          "scattermap": [
           {
            "marker": {
             "colorbar": {
              "outlinewidth": 0,
              "ticks": ""
             }
            },
            "type": "scattermap"
           }
          ],
          "scattermapbox": [
           {
            "marker": {
             "colorbar": {
              "outlinewidth": 0,
              "ticks": ""
             }
            },
            "type": "scattermapbox"
           }
          ],
          "scatterpolar": [
           {
            "marker": {
             "colorbar": {
              "outlinewidth": 0,
              "ticks": ""
             }
            },
            "type": "scatterpolar"
           }
          ],
          "scatterpolargl": [
           {
            "marker": {
             "colorbar": {
              "outlinewidth": 0,
              "ticks": ""
             }
            },
            "type": "scatterpolargl"
           }
          ],
          "scatterternary": [
           {
            "marker": {
             "colorbar": {
              "outlinewidth": 0,
              "ticks": ""
             }
            },
            "type": "scatterternary"
           }
          ],
          "surface": [
           {
            "colorbar": {
             "outlinewidth": 0,
             "ticks": ""
            },
            "colorscale": [
             [
              0,
              "#0d0887"
             ],
             [
              0.1111111111111111,
              "#46039f"
             ],
             [
              0.2222222222222222,
              "#7201a8"
             ],
             [
              0.3333333333333333,
              "#9c179e"
             ],
             [
              0.4444444444444444,
              "#bd3786"
             ],
             [
              0.5555555555555556,
              "#d8576b"
             ],
             [
              0.6666666666666666,
              "#ed7953"
             ],
             [
              0.7777777777777778,
              "#fb9f3a"
             ],
             [
              0.8888888888888888,
              "#fdca26"
             ],
             [
              1,
              "#f0f921"
             ]
            ],
            "type": "surface"
           }
          ],
          "table": [
           {
            "cells": {
             "fill": {
              "color": "#EBF0F8"
             },
             "line": {
              "color": "white"
             }
            },
            "header": {
             "fill": {
              "color": "#C8D4E3"
             },
             "line": {
              "color": "white"
             }
            },
            "type": "table"
           }
          ]
         },
         "layout": {
          "annotationdefaults": {
           "arrowcolor": "#2a3f5f",
           "arrowhead": 0,
           "arrowwidth": 1
          },
          "autotypenumbers": "strict",
          "coloraxis": {
           "colorbar": {
            "outlinewidth": 0,
            "ticks": ""
           }
          },
          "colorscale": {
           "diverging": [
            [
             0,
             "#8e0152"
            ],
            [
             0.1,
             "#c51b7d"
            ],
            [
             0.2,
             "#de77ae"
            ],
            [
             0.3,
             "#f1b6da"
            ],
            [
             0.4,
             "#fde0ef"
            ],
            [
             0.5,
             "#f7f7f7"
            ],
            [
             0.6,
             "#e6f5d0"
            ],
            [
             0.7,
             "#b8e186"
            ],
            [
             0.8,
             "#7fbc41"
            ],
            [
             0.9,
             "#4d9221"
            ],
            [
             1,
             "#276419"
            ]
           ],
           "sequential": [
            [
             0,
             "#0d0887"
            ],
            [
             0.1111111111111111,
             "#46039f"
            ],
            [
             0.2222222222222222,
             "#7201a8"
            ],
            [
             0.3333333333333333,
             "#9c179e"
            ],
            [
             0.4444444444444444,
             "#bd3786"
            ],
            [
             0.5555555555555556,
             "#d8576b"
            ],
            [
             0.6666666666666666,
             "#ed7953"
            ],
            [
             0.7777777777777778,
             "#fb9f3a"
            ],
            [
             0.8888888888888888,
             "#fdca26"
            ],
            [
             1,
             "#f0f921"
            ]
           ],
           "sequentialminus": [
            [
             0,
             "#0d0887"
            ],
            [
             0.1111111111111111,
             "#46039f"
            ],
            [
             0.2222222222222222,
             "#7201a8"
            ],
            [
             0.3333333333333333,
             "#9c179e"
            ],
            [
             0.4444444444444444,
             "#bd3786"
            ],
            [
             0.5555555555555556,
             "#d8576b"
            ],
            [
             0.6666666666666666,
             "#ed7953"
            ],
            [
             0.7777777777777778,
             "#fb9f3a"
            ],
            [
             0.8888888888888888,
             "#fdca26"
            ],
            [
             1,
             "#f0f921"
            ]
           ]
          },
          "colorway": [
           "#636efa",
           "#EF553B",
           "#00cc96",
           "#ab63fa",
           "#FFA15A",
           "#19d3f3",
           "#FF6692",
           "#B6E880",
           "#FF97FF",
           "#FECB52"
          ],
          "font": {
           "color": "#2a3f5f"
          },
          "geo": {
           "bgcolor": "white",
           "lakecolor": "white",
           "landcolor": "#E5ECF6",
           "showlakes": true,
           "showland": true,
           "subunitcolor": "white"
          },
          "hoverlabel": {
           "align": "left"
          },
          "hovermode": "closest",
          "mapbox": {
           "style": "light"
          },
          "paper_bgcolor": "white",
          "plot_bgcolor": "#E5ECF6",
          "polar": {
           "angularaxis": {
            "gridcolor": "white",
            "linecolor": "white",
            "ticks": ""
           },
           "bgcolor": "#E5ECF6",
           "radialaxis": {
            "gridcolor": "white",
            "linecolor": "white",
            "ticks": ""
           }
          },
          "scene": {
           "xaxis": {
            "backgroundcolor": "#E5ECF6",
            "gridcolor": "white",
            "gridwidth": 2,
            "linecolor": "white",
            "showbackground": true,
            "ticks": "",
            "zerolinecolor": "white"
           },
           "yaxis": {
            "backgroundcolor": "#E5ECF6",
            "gridcolor": "white",
            "gridwidth": 2,
            "linecolor": "white",
            "showbackground": true,
            "ticks": "",
            "zerolinecolor": "white"
           },
           "zaxis": {
            "backgroundcolor": "#E5ECF6",
            "gridcolor": "white",
            "gridwidth": 2,
            "linecolor": "white",
            "showbackground": true,
            "ticks": "",
            "zerolinecolor": "white"
           }
          },
          "shapedefaults": {
           "line": {
            "color": "#2a3f5f"
           }
          },
          "ternary": {
           "aaxis": {
            "gridcolor": "white",
            "linecolor": "white",
            "ticks": ""
           },
           "baxis": {
            "gridcolor": "white",
            "linecolor": "white",
            "ticks": ""
           },
           "bgcolor": "#E5ECF6",
           "caxis": {
            "gridcolor": "white",
            "linecolor": "white",
            "ticks": ""
           }
          },
          "title": {
           "x": 0.05
          },
          "xaxis": {
           "automargin": true,
           "gridcolor": "white",
           "linecolor": "white",
           "ticks": "",
           "title": {
            "standoff": 15
           },
           "zerolinecolor": "white",
           "zerolinewidth": 2
          },
          "yaxis": {
           "automargin": true,
           "gridcolor": "white",
           "linecolor": "white",
           "ticks": "",
           "title": {
            "standoff": 15
           },
           "zerolinecolor": "white",
           "zerolinewidth": 2
          }
         }
        },
        "title": {
         "text": "Parallel Coordinate Plot"
        }
       }
      }
     },
     "metadata": {},
     "output_type": "display_data"
    }
   ],
   "source": [
    "vis.plot_optimization_history(study).show()\n",
    "vis.plot_param_importances(study).show()\n",
    "vis.plot_parallel_coordinate(study).show()"
   ]
  },
  {
   "cell_type": "code",
   "execution_count": 46,
   "metadata": {},
   "outputs": [],
   "source": [
    "model = tf.keras.models.Sequential([\n",
    "    tf.keras.layers.Dense(104, activation='relu'),\n",
    "    tf.keras.layers.Dense(204, activation='relu',kernel_regularizer=tf.keras.regularizers.L2(0.001)),\n",
    "    tf.keras.layers.Dense(193, activation='relu',kernel_regularizer=tf.keras.regularizers.L2(0.001)),\n",
    "    tf.keras.layers.Dense(170, activation='relu',kernel_regularizer=tf.keras.regularizers.L2(0.001)),\n",
    "    tf.keras.layers.Dense(230, activation='relu'),\n",
    "    tf.keras.layers.Dropout(0.4256062425873889),\n",
    "    tf.keras.layers.Dense(1, activation='linear'),\n",
    "])\n",
    "\n",
    "model.compile(loss=tf.keras.losses.BinaryCrossentropy(from_logits=True),\n",
    "              optimizer=tf.keras.optimizers.Adam(learning_rate=0.00011025607615807657),\n",
    "              metrics=[\"recall\", \"accuracy\", \"precision\"])"
   ]
  },
  {
   "cell_type": "code",
   "execution_count": 48,
   "metadata": {},
   "outputs": [
    {
     "name": "stdout",
     "output_type": "stream",
     "text": [
      "Epoch 1/10\n",
      "\u001b[1m1253/1253\u001b[0m \u001b[32m━━━━━━━━━━━━━━━━━━━━\u001b[0m\u001b[37m\u001b[0m \u001b[1m10s\u001b[0m 6ms/step - accuracy: 0.7788 - loss: 0.7610 - precision: 0.8739 - recall: 0.6301 - val_accuracy: 0.9656 - val_loss: 0.3231 - val_precision: 0.9402 - val_recall: 0.9945\n",
      "Epoch 2/10\n",
      "\u001b[1m1253/1253\u001b[0m \u001b[32m━━━━━━━━━━━━━━━━━━━━\u001b[0m\u001b[37m\u001b[0m \u001b[1m8s\u001b[0m 6ms/step - accuracy: 0.9774 - loss: 0.2831 - precision: 0.9635 - recall: 0.9924 - val_accuracy: 0.9882 - val_loss: 0.2222 - val_precision: 0.9770 - val_recall: 1.0000\n",
      "Epoch 3/10\n",
      "\u001b[1m1253/1253\u001b[0m \u001b[32m━━━━━━━━━━━━━━━━━━━━\u001b[0m\u001b[37m\u001b[0m \u001b[1m6s\u001b[0m 5ms/step - accuracy: 0.9899 - loss: 0.2131 - precision: 0.9809 - recall: 0.9991 - val_accuracy: 0.9907 - val_loss: 0.2006 - val_precision: 0.9913 - val_recall: 0.9902\n",
      "Epoch 4/10\n",
      "\u001b[1m1253/1253\u001b[0m \u001b[32m━━━━━━━━━━━━━━━━━━━━\u001b[0m\u001b[37m\u001b[0m \u001b[1m6s\u001b[0m 5ms/step - accuracy: 0.9927 - loss: 0.1815 - precision: 0.9866 - recall: 0.9988 - val_accuracy: 0.9862 - val_loss: 0.1721 - val_precision: 0.9910 - val_recall: 0.9813\n",
      "Epoch 5/10\n",
      "\u001b[1m1253/1253\u001b[0m \u001b[32m━━━━━━━━━━━━━━━━━━━━\u001b[0m\u001b[37m\u001b[0m \u001b[1m6s\u001b[0m 5ms/step - accuracy: 0.9937 - loss: 0.1622 - precision: 0.9887 - recall: 0.9988 - val_accuracy: 0.9950 - val_loss: 0.1475 - val_precision: 0.9901 - val_recall: 1.0000\n",
      "Epoch 6/10\n",
      "\u001b[1m1253/1253\u001b[0m \u001b[32m━━━━━━━━━━━━━━━━━━━━\u001b[0m\u001b[37m\u001b[0m \u001b[1m6s\u001b[0m 5ms/step - accuracy: 0.9952 - loss: 0.1451 - precision: 0.9911 - recall: 0.9994 - val_accuracy: 0.9970 - val_loss: 0.1332 - val_precision: 0.9940 - val_recall: 1.0000\n",
      "Epoch 7/10\n",
      "\u001b[1m1253/1253\u001b[0m \u001b[32m━━━━━━━━━━━━━━━━━━━━\u001b[0m\u001b[37m\u001b[0m \u001b[1m6s\u001b[0m 5ms/step - accuracy: 0.9962 - loss: 0.1325 - precision: 0.9930 - recall: 0.9995 - val_accuracy: 0.9944 - val_loss: 0.1316 - val_precision: 0.9890 - val_recall: 1.0000\n",
      "Epoch 8/10\n",
      "\u001b[1m1253/1253\u001b[0m \u001b[32m━━━━━━━━━━━━━━━━━━━━\u001b[0m\u001b[37m\u001b[0m \u001b[1m6s\u001b[0m 5ms/step - accuracy: 0.9960 - loss: 0.1247 - precision: 0.9930 - recall: 0.9991 - val_accuracy: 0.9971 - val_loss: 0.1172 - val_precision: 0.9942 - val_recall: 1.0000\n",
      "Epoch 9/10\n",
      "\u001b[1m1253/1253\u001b[0m \u001b[32m━━━━━━━━━━━━━━━━━━━━\u001b[0m\u001b[37m\u001b[0m \u001b[1m7s\u001b[0m 5ms/step - accuracy: 0.9968 - loss: 0.1153 - precision: 0.9941 - recall: 0.9997 - val_accuracy: 0.9976 - val_loss: 0.1074 - val_precision: 0.9951 - val_recall: 1.0000\n",
      "Epoch 10/10\n",
      "\u001b[1m1253/1253\u001b[0m \u001b[32m━━━━━━━━━━━━━━━━━━━━\u001b[0m\u001b[37m\u001b[0m \u001b[1m7s\u001b[0m 5ms/step - accuracy: 0.9966 - loss: 0.1092 - precision: 0.9942 - recall: 0.9991 - val_accuracy: 0.9982 - val_loss: 0.1050 - val_precision: 0.9964 - val_recall: 1.0000\n"
     ]
    },
    {
     "data": {
      "text/plain": [
       "<keras.src.callbacks.history.History at 0x17bcb033290>"
      ]
     },
     "execution_count": 48,
     "metadata": {},
     "output_type": "execute_result"
    }
   ],
   "source": [
    "model.fit(x_train,\n",
    "          y_train,\n",
    "          validation_data=(x_val, y_val),\n",
    "          epochs=10,\n",
    "          batch_size=512)"
   ]
  },
  {
   "cell_type": "code",
   "execution_count": 51,
   "metadata": {},
   "outputs": [
    {
     "name": "stdout",
     "output_type": "stream",
     "text": [
      "\u001b[1m1/1\u001b[0m \u001b[32m━━━━━━━━━━━━━━━━━━━━\u001b[0m\u001b[37m\u001b[0m \u001b[1m0s\u001b[0m 26ms/step\n"
     ]
    },
    {
     "data": {
      "text/plain": [
       "array([[-18.917912],\n",
       "       [-56.400898],\n",
       "       [-17.129515]], dtype=float32)"
      ]
     },
     "execution_count": 51,
     "metadata": {},
     "output_type": "execute_result"
    }
   ],
   "source": [
    "predictions_nn = model.predict(test_data)\n",
    "predictions_nn"
   ]
  },
  {
   "cell_type": "code",
   "execution_count": 52,
   "metadata": {},
   "outputs": [
    {
     "data": {
      "text/plain": [
       "array([[6.0821259e-09],\n",
       "       [3.2018518e-25],\n",
       "       [3.6370249e-08]], dtype=float32)"
      ]
     },
     "execution_count": 52,
     "metadata": {},
     "output_type": "execute_result"
    }
   ],
   "source": [
    "predictions_nn = 1/(1 + np.exp(-predictions_nn))\n",
    "predictions_nn"
   ]
  },
  {
   "cell_type": "code",
   "execution_count": 55,
   "metadata": {},
   "outputs": [],
   "source": [
    "model.save('DataframeModel.keras')\n",
    "xgb.save_model('DataframeXGB.json')"
   ]
  }
 ],
 "metadata": {
  "kernelspec": {
   "display_name": "Python 3",
   "language": "python",
   "name": "python3"
  },
  "language_info": {
   "codemirror_mode": {
    "name": "ipython",
    "version": 3
   },
   "file_extension": ".py",
   "mimetype": "text/x-python",
   "name": "python",
   "nbconvert_exporter": "python",
   "pygments_lexer": "ipython3",
   "version": "3.11.9"
  }
 },
 "nbformat": 4,
 "nbformat_minor": 2
}
